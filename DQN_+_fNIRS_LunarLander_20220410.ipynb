{
  "cells": [
    {
      "cell_type": "markdown",
      "metadata": {
        "id": "lsaQlK8fFQqH"
      },
      "source": [
        "## Introduction\n"
      ]
    },
    {
      "cell_type": "markdown",
      "metadata": {
        "id": "CJZ8q5KTjkIk"
      },
      "source": [
        "# Train a Deep Q Network with fNIRS data\n"
      ]
    },
    {
      "cell_type": "markdown",
      "metadata": {
        "id": "1u9QVVsShC9X"
      },
      "source": [
        "## Setup"
      ]
    },
    {
      "cell_type": "code",
      "execution_count": 45,
      "metadata": {
        "id": "5WNzwRqUg-yd"
      },
      "outputs": [],
      "source": [
        "# !python --version\n",
        "# #3.7.11\n",
        "\n",
        "# #install python 3.8\n",
        "# !sudo apt-get update -y\n",
        "# !sudo apt-get install python3.8\n",
        "\n",
        "# #change alternatives\n",
        "# !sudo update-alternatives --install /usr/bin/python3 python3 /usr/bin/python3.7 1\n",
        "# !sudo update-alternatives --install /usr/bin/python3 python3 /usr/bin/python3.8 2\n",
        "\n",
        "# #check python version\n",
        "# !python --version\n",
        "# #3.8.13\n",
        "\n",
        "# #If nothing changed after installation, use this command to select python version manually\n",
        "# #after running, enter the row number of the python version you want.\n",
        "# # !sudo update-alternatives --config python3\n",
        "\n",
        "\n",
        "# # to install pip\n",
        "# !wget https://bootstrap.pypa.io/get-pip.py\n",
        "# # If you get an error like No module named 'distutils.util' when you run python3.8 get-pip.py, \n",
        "# # and you are on a Debian-based Linux distribution, run\n",
        "# !sudo apt install python3.8-distutils\n",
        "# !python3.8 get-pip.py\n",
        "# # It is important you use python3.9 instead of just python3, to ensure pip is installed for python 3.8.\n",
        "\n",
        "# # If you see any permissions errors, you may need to use\n",
        "# # !python3.8 get-pip.py --user\n",
        "\n"
      ]
    },
    {
      "cell_type": "markdown",
      "metadata": {
        "id": "kNrNXKI7bINP"
      },
      "source": [
        "If you haven't installed the following dependencies, run:"
      ]
    },
    {
      "cell_type": "code",
      "execution_count": 46,
      "metadata": {
        "colab": {
          "base_uri": "https://localhost:8080/"
        },
        "id": "_HBNhlw1ycdY",
        "outputId": "ffe6484a-4d33-434a-9eec-57c9b8350be2"
      },
      "outputs": [
        {
          "name": "stdout",
          "output_type": "stream",
          "text": [
            "Python 3.9.9\n"
          ]
        }
      ],
      "source": [
        "!python --version"
      ]
    },
    {
      "cell_type": "code",
      "execution_count": 47,
      "metadata": {
        "colab": {
          "base_uri": "https://localhost:8080/"
        },
        "id": "KEHR2Ui-lo8O",
        "outputId": "b5fd3c9d-d180-401e-f686-38699954fffc"
      },
      "outputs": [],
      "source": [
        "# !sudo apt-get update\n",
        "# !sudo apt-get install -y xvfb ffmpeg freeglut3-dev\n",
        "# !pip install --upgrade pip\n",
        "# !pip install 'numpy>=1.21.0'\n",
        "# !pip install 'imageio==2.4.0'\n",
        "# !pip install pyvirtualdisplay\n",
        "# !pip install \"tf-agents[reverb]==0.12.0\"\n",
        "# !pip install pyglet\n",
        "# !pip install box2d-py\n",
        "# # for the atari games, make sure you install gym with atari and accept-rom-license\n",
        "# # options to import ROMs. For this, make sure version 0.21.0 is installed\n",
        "# !pip install gym[Box_2D]"
      ]
    },
    {
      "cell_type": "code",
      "execution_count": 48,
      "metadata": {
        "id": "sMitx5qSgJk1"
      },
      "outputs": [],
      "source": [
        "import base64\n",
        "import imageio\n",
        "import IPython\n",
        "import matplotlib\n",
        "import matplotlib.pyplot as plt\n",
        "import numpy as np\n",
        "import PIL.Image\n",
        "import pyvirtualdisplay\n",
        "import reverb\n",
        "import gym\n",
        "\n",
        "import tensorflow as tf\n",
        "from functools import partial\n",
        "\n",
        "from tf_agents.agents.dqn import dqn_agent\n",
        "from tf_agents.drivers import py_driver\n",
        "from tf_agents.environments import suite_gym\n",
        "from tf_agents.environments import tf_py_environment\n",
        "\n",
        "from tf_agents.environments import atari_wrappers\n",
        "from tf_agents.environments import py_environment\n",
        "\n",
        "from tf_agents.eval import metric_utils\n",
        "from tf_agents.metrics import tf_metrics\n",
        "from tf_agents.networks import sequential\n",
        "from tf_agents.networks import q_network\n",
        "from tf_agents.policies import py_tf_eager_policy\n",
        "from tf_agents.policies import random_tf_policy\n",
        "from tf_agents.policies import epsilon_greedy_policy\n",
        "from tf_agents.replay_buffers import reverb_replay_buffer\n",
        "from tf_agents.replay_buffers import reverb_utils\n",
        "from tf_agents.trajectories import trajectory\n",
        "from tf_agents.specs import tensor_spec\n",
        "from tf_agents.utils import common\n",
        "from tf_agents.train.utils import train_utils\n",
        "\n"
      ]
    },
    {
      "cell_type": "code",
      "execution_count": 49,
      "metadata": {
        "id": "J6HsdS5GbSjd"
      },
      "outputs": [],
      "source": [
        "# Set up a virtual display for rendering OpenAI gym environments.\n",
        "display = pyvirtualdisplay.Display(visible=0, size=(1400, 900)).start()"
      ]
    },
    {
      "cell_type": "markdown",
      "metadata": {
        "id": "LmC0NDhdLIKY"
      },
      "source": [
        "## Hyperparameters"
      ]
    },
    {
      "cell_type": "code",
      "execution_count": 50,
      "metadata": {
        "id": "HC1kNrOsLSIZ"
      },
      "outputs": [],
      "source": [
        "num_iterations = 100000 # @param {type:\"integer\"}\n",
        "\n",
        "initial_collect_steps = 100  # @param {type:\"integer\"}\n",
        "collect_steps_per_iteration =   1# @param {type:\"integer\"}\n",
        "replay_buffer_max_length = 1000  # @param {type:\"integer\"}\n",
        "\n",
        "batch_size = 64  # @param {type:\"integer\"}\n",
        "learning_rate = 25e-5  # @param {type:\"number\"}\n",
        "log_interval = 200  # @param {type:\"integer\"}\n",
        "\n",
        "num_eval_episodes = 10  # @param {type:\"integer\"}\n",
        "eval_interval = 1000  # @param {type:\"integer\"}"
      ]
    },
    {
      "cell_type": "markdown",
      "metadata": {
        "id": "VMsJC3DEgI0x"
      },
      "source": [
        "## Environment\n",
        "\n",
        "In Reinforcement Learning (RL), an environment represents the task or problem to be solved. Standard environments can be created in TF-Agents using `tf_agents.environments` suites. TF-Agents has suites for loading environments from sources such as the OpenAI Gym, Atari, and DM Control.\n",
        "\n",
        "Load the PacMan environment from the OpenAI Gym suite. "
      ]
    },
    {
      "cell_type": "code",
      "execution_count": 51,
      "metadata": {
        "id": "pYEz-S9gEv2-"
      },
      "outputs": [],
      "source": [
        "from gym import wrappers\n",
        "env_name = \"LunarLander-v2\"\n",
        "\n",
        "#initial environment\n",
        "env = suite_gym.load(env_name)"
      ]
    },
    {
      "cell_type": "markdown",
      "metadata": {
        "id": "IIHYVBkuvPNw"
      },
      "source": [
        "You can render this environment to see how it looks. A free-swinging pole is attached to a cart.  The goal is to move the cart right or left in order to keep the pole pointing up."
      ]
    },
    {
      "cell_type": "code",
      "execution_count": 52,
      "metadata": {
        "colab": {
          "base_uri": "https://localhost:8080/",
          "height": 417
        },
        "id": "RlO7WIQHu_7D",
        "outputId": "c94ab4f0-eeb1-4f7c-9463-b9ced06634e9"
      },
      "outputs": [
        {
          "data": {
            "image/png": "[encoded data removed]",
            "text/plain": [
              "<PIL.Image.Image image mode=RGB size=600x400 at 0x7F7D5C65BC10>"
            ]
          },
          "execution_count": 52,
          "metadata": {},
          "output_type": "execute_result"
        }
      ],
      "source": [
        "#@test {\"skip\": true}\n",
        "env.reset()\n",
        "PIL.Image.fromarray(env.render())"
      ]
    },
    {
      "cell_type": "markdown",
      "metadata": {
        "id": "B9_lskPOey18"
      },
      "source": [
        "The `environment.step` method takes an `action` in the environment and returns a `TimeStep` tuple containing the next observation of the environment and the reward for the action.\n",
        "\n",
        "The `time_step_spec()` method returns the specification for the `TimeStep` tuple. Its `observation` attribute shows the shape of observations, the data types, and the ranges of allowed values. The `reward` attribute shows the same details for the reward.\n"
      ]
    },
    {
      "cell_type": "code",
      "execution_count": 53,
      "metadata": {
        "colab": {
          "base_uri": "https://localhost:8080/"
        },
        "id": "exDv57iHfwQV",
        "outputId": "f6f731c7-6cd4-4479-c23a-0f09902ee4ea"
      },
      "outputs": [
        {
          "name": "stdout",
          "output_type": "stream",
          "text": [
            "Observation Spec:\n",
            "BoundedArraySpec(shape=(8,), dtype=dtype('float32'), name='observation', minimum=-3.4028234663852886e+38, maximum=3.4028234663852886e+38)\n"
          ]
        }
      ],
      "source": [
        "print('Observation Spec:')\n",
        "print(env.time_step_spec().observation)"
      ]
    },
    {
      "cell_type": "code",
      "execution_count": 54,
      "metadata": {
        "colab": {
          "base_uri": "https://localhost:8080/"
        },
        "id": "UxiSyCbBUQPi",
        "outputId": "75ba1dd1-e413-44d7-fe26-78cf6bfd0371"
      },
      "outputs": [
        {
          "name": "stdout",
          "output_type": "stream",
          "text": [
            "Reward Spec:\n",
            "ArraySpec(shape=(), dtype=dtype('float32'), name='reward')\n"
          ]
        }
      ],
      "source": [
        "print('Reward Spec:')\n",
        "print(env.time_step_spec().reward)"
      ]
    },
    {
      "cell_type": "markdown",
      "metadata": {
        "id": "b_lHcIcqUaqB"
      },
      "source": [
        "The `action_spec()` method returns the shape, data types, and allowed values of valid actions."
      ]
    },
    {
      "cell_type": "code",
      "execution_count": 55,
      "metadata": {
        "colab": {
          "base_uri": "https://localhost:8080/"
        },
        "id": "bttJ4uxZUQBr",
        "outputId": "6934b620-876c-4dae-94a8-5ed374f112f6"
      },
      "outputs": [
        {
          "name": "stdout",
          "output_type": "stream",
          "text": [
            "Action Spec:\n",
            "BoundedArraySpec(shape=(), dtype=dtype('int64'), name='action', minimum=0, maximum=3)\n"
          ]
        }
      ],
      "source": [
        "print('Action Spec:')\n",
        "print(env.action_spec())"
      ]
    },
    {
      "cell_type": "markdown",
      "metadata": {
        "id": "eJCgJnx3g0yY"
      },
      "source": [
        "In the PacMan environment:\n",
        "\n",
        "-   `observation` is an RGB picture of size $210\\times160$. Each frame represents: \n",
        "    -   the position of the PacMan and ghosts\n",
        "    -   the position of rewards and goals \n",
        "-   `reward` is a scalar float value\n",
        "-   `action` is a scalar integer with only 9 possible values:\n",
        "    -   `0` — \"no move\"\n",
        "    -   `1` — \"move right\"\n",
        "    -   `2` — \"move right\"\n",
        "    -   `3` — \"move left\"\n",
        "    -   `4` — \"move down\"\n",
        "    -   `5` — \"move upright\"\n",
        "    -   `6` — \"move upleft\"\n",
        "    -   `7` — \"move downright\"\n",
        "    -   `8` — \"move downleft\"\n",
        "\n"
      ]
    },
    {
      "cell_type": "code",
      "execution_count": 56,
      "metadata": {
        "colab": {
          "base_uri": "https://localhost:8080/",
          "height": 452
        },
        "id": "V2UGR5t_iZX-",
        "outputId": "444984d7-4da6-4433-d4d0-a8d147157643"
      },
      "outputs": [
        {
          "name": "stdout",
          "output_type": "stream",
          "text": [
            "Time step:\n",
            "Next time step:\n"
          ]
        },
        {
          "data": {
            "image/png": "[encoded data removed]",
            "text/plain": [
              "<PIL.Image.Image image mode=RGB size=600x400 at 0x7F7D5C661C10>"
            ]
          },
          "execution_count": 56,
          "metadata": {},
          "output_type": "execute_result"
        }
      ],
      "source": [
        "time_step = env.reset()\n",
        "print('Time step:')\n",
        "PIL.Image.fromarray(env.render())\n",
        "\n",
        "action = np.array(2, dtype=np.int32)\n",
        "next_time_step = env.step(action)\n",
        "print('Next time step:')\n",
        "PIL.Image.fromarray(env.render())"
      ]
    },
    {
      "cell_type": "code",
      "execution_count": 57,
      "metadata": {
        "colab": {
          "base_uri": "https://localhost:8080/"
        },
        "id": "qiK4SWUT-n6t",
        "outputId": "63417a5c-9373-4dcc-98a2-29818cbd48c4"
      },
      "outputs": [
        {
          "data": {
            "text/plain": [
              "(8,)"
            ]
          },
          "execution_count": 57,
          "metadata": {},
          "output_type": "execute_result"
        }
      ],
      "source": [
        "env.observation_spec().shape"
      ]
    },
    {
      "cell_type": "markdown",
      "metadata": {
        "id": "4JSc9GviWUBK"
      },
      "source": [
        "Usually two environments are instantiated: one for training and one for evaluation. "
      ]
    },
    {
      "cell_type": "code",
      "execution_count": 58,
      "metadata": {
        "id": "N7brXNIGWXjC"
      },
      "outputs": [],
      "source": [
        "train_py_env = suite_gym.load(env_name)\n",
        "eval_py_env = suite_gym.load(env_name)"
      ]
    },
    {
      "cell_type": "markdown",
      "metadata": {
        "id": "zuUqXAVmecTU"
      },
      "source": [
        "The Pacman environment, like most environments, is written in pure Python. This is converted to TensorFlow using the `TFPyEnvironment` wrapper.\n",
        "\n",
        "The original environment's API uses Numpy arrays. The `TFPyEnvironment` converts these to `Tensors` to make it compatible with Tensorflow agents and policies.\n"
      ]
    },
    {
      "cell_type": "code",
      "execution_count": 59,
      "metadata": {
        "id": "Xp-Y4mD6eDhF"
      },
      "outputs": [],
      "source": [
        "train_env = tf_py_environment.TFPyEnvironment(train_py_env)\n",
        "eval_env = tf_py_environment.TFPyEnvironment(eval_py_env)"
      ]
    },
    {
      "cell_type": "markdown",
      "metadata": {
        "id": "E9lW_OZYFR8A"
      },
      "source": [
        "## Agent\n",
        "\n",
        "The algorithm used to solve an RL problem is represented by a   [DQN](https://storage.googleapis.com/deepmind-media/dqn/DQNNaturePaper.pdf) `Agent`. The DQN agent can be used in any environment which has a discrete action space.\n",
        "\n",
        "At the heart of a DQN Agent is a `QNetwork`, a neural network model that can learn to predict `QValues` (expected returns) for all actions, given an observation from the environment.\n",
        "\n",
        "The `QNetwork` will consist of a sequence of `tf.keras.layers.Dense` layers, where the final layer will have 1 output for each possible action."
      ]
    },
    {
      "cell_type": "code",
      "execution_count": 60,
      "metadata": {
        "id": "_faXFJIZjukS"
      },
      "outputs": [],
      "source": [
        "from tf_agents.networks import encoding_network\n",
        "\n",
        "np.random.seed(42)\n",
        "tf.random.set_seed(42)\n",
        "\n",
        "n_inputs = env.observation_space.shape[0] # (8,)\n",
        "n_outputs = env.action_space.n            # 4\n",
        "\n",
        "fc_layer_params = [64,128,64]\n",
        "weight_decay_params = [0.0001] * 3\n",
        "class qNet(q_network.QNetwork):\n",
        "    def __init__(self, input_tensor_spec, action_spec, **kwargs):\n",
        "        super().__init__(input_tensor_spec, action_spec, **kwargs)\n",
        "\n",
        "        self._encoder = encoding_network.EncodingNetwork(\n",
        "            input_tensor_spec,\n",
        "            fc_layer_params=fc_layer_params,\n",
        "            weight_decay_params=weight_decay_params)\n",
        "\n",
        "    \n",
        "\n",
        "# q_net = q_network.QNetwork(\n",
        "q_net = qNet(\n",
        "    train_env.observation_spec(),\n",
        "    train_env.action_spec(),\n",
        "    fc_layer_params=fc_layer_params,\n",
        "    name='QNetwork')\n",
        "update_period = 4\n",
        "epsilon_fn  = tf.optimizers.schedules.PolynomialDecay(\n",
        "                  initial_learning_rate = 0.1,\n",
        "                  decay_steps = 250000//update_period,\n",
        "                  end_learning_rate = 0.01\n",
        "                  )\n",
        "\n",
        "optimizer = tf.optimizers.Adam(learning_rate=learning_rate)\n",
        "global_step = train_utils.create_train_step()\n",
        "\n",
        "#########################################################################\n",
        "agent = dqn_agent.DqnAgent(\n",
        "    train_env.time_step_spec(),\n",
        "    train_env.action_spec(),\n",
        "    q_network=q_net,\n",
        "    optimizer=optimizer,\n",
        "    target_update_period=2000,\n",
        "    td_errors_loss_fn=tf.keras.losses.Huber(reduction='none'),\n",
        "    gamma=0.99,\n",
        "    train_step_counter=global_step,\n",
        "    epsilon_greedy=lambda:epsilon_fn(global_step),\n",
        "    gradient_clipping=None,\n",
        "    summarize_grads_and_vars=True,\n",
        "    debug_summaries=True)\n",
        "\n",
        "agent.initialize()"
      ]
    },
    {
      "cell_type": "markdown",
      "metadata": {
        "id": "z62u55hSmviJ"
      },
      "source": [
        "Now use `tf_agents.agents.dqn.dqn_agent` to instantiate a `DqnAgent`. In addition to the `time_step_spec`, `action_spec` and the QNetwork, the agent constructor also requires an optimizer (in this case, `AdamOptimizer`), a loss function, and an integer step counter."
      ]
    },
    {
      "cell_type": "code",
      "execution_count": 61,
      "metadata": {
        "colab": {
          "base_uri": "https://localhost:8080/"
        },
        "id": "1n-tFo5hJstF",
        "outputId": "43daf4af-118d-4a93-fea1-a4a10523ffb0"
      },
      "outputs": [
        {
          "name": "stdout",
          "output_type": "stream",
          "text": [
            "Model: \"QNetwork\"\n",
            "_________________________________________________________________\n",
            "Layer (type)                 Output Shape              Param #   \n",
            "=================================================================\n",
            "dense_29 (Dense)             multiple                  260       \n",
            "_________________________________________________________________\n",
            "EncodingNetwork (EncodingNet multiple                  17152     \n",
            "=================================================================\n",
            "Total params: 17,412\n",
            "Trainable params: 17,412\n",
            "Non-trainable params: 0\n",
            "_________________________________________________________________\n"
          ]
        }
      ],
      "source": [
        "q_net.summary()"
      ]
    },
    {
      "cell_type": "markdown",
      "metadata": {
        "id": "I0KLrEPwkn5x"
      },
      "source": [
        "## Policies\n",
        "\n",
        "A policy defines the way an agent acts in an environment. Typically, the goal of reinforcement learning is to train the underlying model until the policy produces the desired outcome.\n",
        "\n",
        "In this tutorial:\n",
        "\n",
        "-   The desired outcome is keeping the pole balanced upright over the cart.\n",
        "-   The policy returns an action (left or right) for each `time_step` observation.\n",
        "\n",
        "Agents contain two policies: \n",
        "\n",
        "-   `agent.policy` — The main policy that is used for evaluation and deployment.\n",
        "-   `agent.collect_policy` — A second policy that is used for data collection.\n"
      ]
    },
    {
      "cell_type": "code",
      "execution_count": 62,
      "metadata": {
        "id": "BwY7StuMkuV4"
      },
      "outputs": [],
      "source": [
        "eval_policy = agent.policy\n",
        "collect_policy = agent.collect_policy"
      ]
    },
    {
      "cell_type": "markdown",
      "metadata": {
        "id": "2Qs1Fl3dV0ae"
      },
      "source": [
        "Policies can be created independently of agents. For example, use `tf_agents.policies.random_tf_policy` to create a policy which will randomly select an action for each `time_step`."
      ]
    },
    {
      "cell_type": "code",
      "execution_count": 63,
      "metadata": {
        "id": "HE37-UCIrE69"
      },
      "outputs": [],
      "source": [
        "random_policy = random_tf_policy.RandomTFPolicy(train_env.time_step_spec(),\n",
        "                                                train_env.action_spec())"
      ]
    },
    {
      "cell_type": "markdown",
      "metadata": {
        "id": "dOlnlRRsUbxP"
      },
      "source": [
        "To get an action from a policy, call the `policy.action(time_step)` method. The `time_step` contains the observation from the environment. This method returns a `PolicyStep`, which is a named tuple with three components:\n",
        "\n",
        "-   `action` — the action to be taken (in this case, `0` or `1`)\n",
        "-   `state` — used for stateful (that is, RNN-based) policies\n",
        "-   `info` — auxiliary data, such as log probabilities of actions"
      ]
    },
    {
      "cell_type": "code",
      "execution_count": 64,
      "metadata": {
        "id": "5gCcpXswVAxk"
      },
      "outputs": [],
      "source": [
        "example_environment = tf_py_environment.TFPyEnvironment(\n",
        "    suite_gym.load(env_name))"
      ]
    },
    {
      "cell_type": "code",
      "execution_count": 65,
      "metadata": {
        "colab": {
          "base_uri": "https://localhost:8080/"
        },
        "id": "D4DHZtq3Ndis",
        "outputId": "5f98bb03-66af-4a1b-9102-0f6f0c03ec0c"
      },
      "outputs": [
        {
          "data": {
            "text/plain": [
              "TimeStep(\n",
              "{'discount': <tf.Tensor: shape=(1,), dtype=float32, numpy=array([1.], dtype=float32)>,\n",
              " 'observation': <tf.Tensor: shape=(1, 8), dtype=float32, numpy=\n",
              "array([[ 0.00363855,  1.4212785 ,  0.3685164 ,  0.46036536, -0.00420924,\n",
              "        -0.0834745 ,  0.        ,  0.        ]], dtype=float32)>,\n",
              " 'reward': <tf.Tensor: shape=(1,), dtype=float32, numpy=array([0.], dtype=float32)>,\n",
              " 'step_type': <tf.Tensor: shape=(1,), dtype=int32, numpy=array([0], dtype=int32)>})"
            ]
          },
          "execution_count": 65,
          "metadata": {},
          "output_type": "execute_result"
        }
      ],
      "source": [
        "time_step = example_environment.reset()\n",
        "time_step"
      ]
    },
    {
      "cell_type": "code",
      "execution_count": 66,
      "metadata": {
        "colab": {
          "base_uri": "https://localhost:8080/"
        },
        "id": "PRFqAUzpNaAW",
        "outputId": "7a631ebc-b0f8-4548-8aff-52ad7960a0d1"
      },
      "outputs": [
        {
          "data": {
            "text/plain": [
              "PolicyStep(action=<tf.Tensor: shape=(1,), dtype=int64, numpy=array([3])>, state=(), info=())"
            ]
          },
          "execution_count": 66,
          "metadata": {},
          "output_type": "execute_result"
        }
      ],
      "source": [
        "random_policy.action(time_step)"
      ]
    },
    {
      "cell_type": "markdown",
      "metadata": {
        "id": "94rCXQtbUbXv"
      },
      "source": [
        "## Metrics and Evaluation\n",
        "\n",
        "The most common metric used to evaluate a policy is the average return. The return is the sum of rewards obtained while running a policy in an environment for an episode. Several episodes are run, creating an average return.\n",
        "\n",
        "The following function computes the average return of a policy, given the policy, environment, and a number of episodes.\n"
      ]
    },
    {
      "cell_type": "code",
      "execution_count": 67,
      "metadata": {
        "id": "bitzHo5_UbXy"
      },
      "outputs": [],
      "source": [
        "#@test {\"skip\": true}\n",
        "def compute_avg_return(environment, policy, num_episodes=10):\n",
        "\n",
        "  total_return = 0.0\n",
        "  for _ in range(num_episodes):\n",
        "\n",
        "    time_step = environment.reset()\n",
        "    episode_return = 0.0\n",
        "\n",
        "    while not time_step.is_last():\n",
        "      action_step = policy.action(time_step)\n",
        "      time_step = environment.step(action_step.action)\n",
        "      episode_return += time_step.reward\n",
        "    total_return += episode_return\n",
        "\n",
        "  avg_return = total_return / num_episodes\n",
        "  return avg_return.numpy()[0]\n",
        "\n",
        "\n",
        "# See also the metrics module for standard implementations of different metrics.\n",
        "# https://github.com/tensorflow/agents/tree/master/tf_agents/metrics"
      ]
    },
    {
      "cell_type": "markdown",
      "metadata": {
        "id": "_snCVvq5Z8lJ"
      },
      "source": [
        "Running this computation on the `random_policy` shows a baseline performance in the environment."
      ]
    },
    {
      "cell_type": "code",
      "execution_count": 68,
      "metadata": {
        "colab": {
          "base_uri": "https://localhost:8080/"
        },
        "id": "9bgU6Q6BZ8Bp",
        "outputId": "d81bffc1-914c-4cad-cf92-f2265c813e55"
      },
      "outputs": [
        {
          "data": {
            "text/plain": [
              "-211.42363"
            ]
          },
          "execution_count": 68,
          "metadata": {},
          "output_type": "execute_result"
        }
      ],
      "source": [
        "compute_avg_return(eval_env, random_policy, num_eval_episodes)"
      ]
    },
    {
      "cell_type": "markdown",
      "metadata": {
        "id": "NLva6g2jdWgr"
      },
      "source": [
        "## Replay Buffer\n",
        "\n",
        "In order to keep track of the data collected from the environment, we will use [Reverb](https://deepmind.com/research/open-source/Reverb), an efficient, extensible, and easy-to-use replay system by Deepmind. It stores experience data when we collect trajectories and is consumed during training.\n",
        "\n",
        "This replay buffer is constructed using specs describing the tensors that are to be stored, which can be obtained from the agent using agent.collect_data_spec.\n"
      ]
    },
    {
      "cell_type": "code",
      "execution_count": 69,
      "metadata": {
        "colab": {
          "base_uri": "https://localhost:8080/",
          "height": 373
        },
        "id": "vX2zGUWJGWAl",
        "outputId": "9cf42bea-a7fc-4ffc-fa81-31b463136d2d"
      },
      "outputs": [
        {
          "name": "stderr",
          "output_type": "stream",
          "text": [
            "[reverb/cc/platform/tfrecord_checkpointer.cc:150]  Initializing TFRecordCheckpointer in /tmp/tmpplze93a9.\n",
            "[reverb/cc/platform/tfrecord_checkpointer.cc:386] Loading latest checkpoint from /tmp/tmpplze93a9\n",
            "[reverb/cc/platform/default/server.cc:71] Started replay server on port 19346\n"
          ]
        }
      ],
      "source": [
        "table_name = 'uniform_table'\n",
        "replay_buffer_signature = tensor_spec.from_spec(\n",
        "      agent.collect_data_spec)\n",
        "replay_buffer_signature = tensor_spec.add_outer_dim(\n",
        "    replay_buffer_signature)\n",
        "\n",
        "table = reverb.Table(\n",
        "    table_name,\n",
        "    max_size=replay_buffer_max_length,\n",
        "    sampler=reverb.selectors.Uniform(),\n",
        "    remover=reverb.selectors.Fifo(),\n",
        "    rate_limiter=reverb.rate_limiters.MinSize(1),\n",
        "    signature=replay_buffer_signature)\n",
        "\n",
        "reverb_server = reverb.Server([table])\n",
        "\n",
        "replay_buffer = reverb_replay_buffer.ReverbReplayBuffer(\n",
        "    agent.collect_data_spec,\n",
        "    table_name=table_name,\n",
        "    sequence_length=2,\n",
        "    local_server=reverb_server)\n",
        "\n",
        "rb_observer = reverb_utils.ReverbAddTrajectoryObserver(\n",
        "  replay_buffer.py_client,\n",
        "  table_name,\n",
        "  sequence_length=2)\n",
        "\n",
        "# from tf_agents.replay_buffers import tf_uniform_replay_buffer\n",
        " \n",
        "# replay_buffer = tf_uniform_replay_buffer.TFUniformReplayBuffer(\n",
        "#                                             data_spec = agent.collect_data_spec,\n",
        "#                                             batch_size = tf_env.batch_size,\n",
        "#                                             max_length = 100000 # # reduce if OOM error\n",
        "#                 )\n",
        "# replay_buffer_observer = replay_buffer.add_batch\n",
        "\n",
        "# rb_observer = replay_buffer.add_batch"
      ]
    },
    {
      "cell_type": "markdown",
      "metadata": {
        "id": "ZGNTDJpZs4NN"
      },
      "source": [
        "For most agents, `collect_data_spec` is a named tuple called `Trajectory`, containing the specs for observations, actions, rewards, and other items."
      ]
    },
    {
      "cell_type": "code",
      "execution_count": 70,
      "metadata": {
        "id": "_IZ-3HcqgE1z"
      },
      "outputs": [
        {
          "data": {
            "text/plain": [
              "Trajectory(\n",
              "{'action': BoundedTensorSpec(shape=(), dtype=tf.int64, name='action', minimum=array(0), maximum=array(3)),\n",
              " 'discount': BoundedTensorSpec(shape=(), dtype=tf.float32, name='discount', minimum=array(0., dtype=float32), maximum=array(1., dtype=float32)),\n",
              " 'next_step_type': TensorSpec(shape=(), dtype=tf.int32, name='step_type'),\n",
              " 'observation': BoundedTensorSpec(shape=(8,), dtype=tf.float32, name='observation', minimum=array(-3.4028235e+38, dtype=float32), maximum=array(3.4028235e+38, dtype=float32)),\n",
              " 'policy_info': (),\n",
              " 'reward': TensorSpec(shape=(), dtype=tf.float32, name='reward'),\n",
              " 'step_type': TensorSpec(shape=(), dtype=tf.int32, name='step_type')})"
            ]
          },
          "execution_count": 70,
          "metadata": {},
          "output_type": "execute_result"
        }
      ],
      "source": [
        "agent.collect_data_spec"
      ]
    },
    {
      "cell_type": "code",
      "execution_count": 71,
      "metadata": {
        "id": "sy6g1tGcfRlw"
      },
      "outputs": [
        {
          "data": {
            "text/plain": [
              "('step_type',\n",
              " 'observation',\n",
              " 'action',\n",
              " 'policy_info',\n",
              " 'next_step_type',\n",
              " 'reward',\n",
              " 'discount')"
            ]
          },
          "execution_count": 71,
          "metadata": {},
          "output_type": "execute_result"
        }
      ],
      "source": [
        "agent.collect_data_spec._fields"
      ]
    },
    {
      "cell_type": "markdown",
      "metadata": {
        "id": "rVD5nQ9ZGo8_"
      },
      "source": [
        "## Data Collection\n",
        "\n",
        "Now execute the random policy in the environment for a few steps, recording the data in the replay buffer.\n",
        "\n",
        "Here we are using 'PyDriver' to run the experience collecting loop. You can learn more about TF Agents driver in our [drivers tutorial](https://www.tensorflow.org/agents/tutorials/4_drivers_tutorial)."
      ]
    },
    {
      "cell_type": "code",
      "execution_count": 72,
      "metadata": {
        "id": "wr1KSAEGG4h9"
      },
      "outputs": [],
      "source": [
        "#@test {\"skip\": true}\n",
        "py_driver.PyDriver(\n",
        "    env,\n",
        "    py_tf_eager_policy.PyTFEagerPolicy(\n",
        "      random_policy, use_tf_function=True),\n",
        "    [rb_observer],\n",
        "    max_steps=initial_collect_steps).run(train_py_env.reset());"
      ]
    },
    {
      "cell_type": "markdown",
      "metadata": {
        "id": "84z5pQJdoKxo"
      },
      "source": [
        "The replay buffer is now a collection of Trajectories."
      ]
    },
    {
      "cell_type": "code",
      "execution_count": 73,
      "metadata": {
        "id": "4wZnLu2ViO4E"
      },
      "outputs": [
        {
          "data": {
            "text/plain": [
              "(Trajectory(\n",
              " {'action': <tf.Tensor: shape=(2,), dtype=int64, numpy=array([0, 3])>,\n",
              "  'discount': <tf.Tensor: shape=(2,), dtype=float32, numpy=array([1., 1.], dtype=float32)>,\n",
              "  'next_step_type': <tf.Tensor: shape=(2,), dtype=int32, numpy=array([1, 1], dtype=int32)>,\n",
              "  'observation': <tf.Tensor: shape=(2, 8), dtype=float32, numpy=\n",
              " array([[-0.46053475,  1.333678  , -0.85777104, -0.37836167,  0.42221865,\n",
              "          0.16145286,  0.        ,  0.        ],\n",
              "        [-0.469038  ,  1.3246156 , -0.85776776, -0.40503338,  0.43029127,\n",
              "          0.16145214,  0.        ,  0.        ]], dtype=float32)>,\n",
              "  'policy_info': (),\n",
              "  'reward': <tf.Tensor: shape=(2,), dtype=float32, numpy=array([-1.3400184 , -0.26673284], dtype=float32)>,\n",
              "  'step_type': <tf.Tensor: shape=(2,), dtype=int32, numpy=array([1, 1], dtype=int32)>}),\n",
              " SampleInfo(key=<tf.Tensor: shape=(2,), dtype=uint64, numpy=array([16171563789363169661, 16171563789363169661], dtype=uint64)>, probability=<tf.Tensor: shape=(2,), dtype=float64, numpy=array([0.01030928, 0.01030928])>, table_size=<tf.Tensor: shape=(2,), dtype=int64, numpy=array([97, 97])>, priority=<tf.Tensor: shape=(2,), dtype=float64, numpy=array([1., 1.])>))"
            ]
          },
          "execution_count": 73,
          "metadata": {},
          "output_type": "execute_result"
        }
      ],
      "source": [
        "# For the curious:\n",
        "# Uncomment to peel one of these off and inspect it.\n",
        "iter(replay_buffer.as_dataset()).next()"
      ]
    },
    {
      "cell_type": "markdown",
      "metadata": {
        "id": "TujU-PMUsKjS"
      },
      "source": [
        "The agent needs access to the replay buffer. This is provided by creating an iterable `tf.data.Dataset` pipeline which will feed data to the agent.\n",
        "\n",
        "Each row of the replay buffer only stores a single observation step. But since the DQN Agent needs both the current and next observation to compute the loss, the dataset pipeline will sample two adjacent rows for each item in the batch (`num_steps=2`).\n",
        "\n",
        "This dataset is also optimized by running parallel calls and prefetching data."
      ]
    },
    {
      "cell_type": "code",
      "execution_count": 74,
      "metadata": {
        "id": "ba7bilizt_qW"
      },
      "outputs": [],
      "source": [
        "# Dataset generates trajectories with shape [Bx2x...]\n",
        "dataset = replay_buffer.as_dataset(\n",
        "    num_parallel_calls=3,\n",
        "    sample_batch_size=batch_size,\n",
        "    num_steps=2).prefetch(3)"
      ]
    },
    {
      "cell_type": "code",
      "execution_count": 75,
      "metadata": {
        "id": "K13AST-2ppOq"
      },
      "outputs": [
        {
          "name": "stderr",
          "output_type": "stream",
          "text": [
            "[reverb/cc/platform/default/server.cc:84] Shutting down replay server\n"
          ]
        }
      ],
      "source": [
        "iterator = iter(dataset)\n",
        "# print(iterator)"
      ]
    },
    {
      "cell_type": "code",
      "execution_count": 76,
      "metadata": {
        "id": "Th5w5Sff0b16"
      },
      "outputs": [],
      "source": [
        "# For the curious:\n",
        "# Uncomment to see what the dataset iterator is feeding to the agent.\n",
        "# Compare this representation of replay data \n",
        "# to the collection of individual trajectories shown earlier.\n",
        "\n",
        "# iterator.next()"
      ]
    },
    {
      "cell_type": "markdown",
      "metadata": {
        "id": "hBc9lj9VWWtZ"
      },
      "source": [
        "## Training the agent\n",
        "\n",
        "Two things must happen during the training loop:\n",
        "\n",
        "-   collect data from the environment\n",
        "-   use that data to train the agent's neural network(s)\n",
        "\n",
        "This example also periodicially evaluates the policy and prints the current score.\n",
        "\n",
        "The following will take ~5 minutes to run."
      ]
    },
    {
      "cell_type": "code",
      "execution_count": 77,
      "metadata": {
        "id": "0pTbJ3PeyF-u"
      },
      "outputs": [
        {
          "name": "stderr",
          "output_type": "stream",
          "text": [
            "[reverb/cc/client.cc:163] Sampler and server are owned by the same process (3582799) so Table uniform_table is accessed directly without gRPC.\n"
          ]
        },
        {
          "name": "stdout",
          "output_type": "stream",
          "text": [
            "step = 200: loss = 2.3890857696533203\n",
            "step = 400: loss = 2.1662232875823975\n",
            "step = 600: loss = 1.1031970977783203\n",
            "step = 800: loss = 0.38126224279403687\n",
            "step = 1000: loss = 0.6506985425949097\n",
            "step = 1000: Average Return = -188.41439819335938\n",
            "step = 1200: loss = 0.5468297600746155\n",
            "step = 1400: loss = 0.6152358651161194\n",
            "step = 1600: loss = 0.6137257814407349\n",
            "step = 1800: loss = 2.465322971343994\n",
            "step = 2000: loss = 1.1572787761688232\n",
            "step = 2000: Average Return = -563.9483642578125\n",
            "step = 2200: loss = 0.9511843323707581\n",
            "step = 2400: loss = 1.278730034828186\n",
            "step = 2600: loss = 1.982263445854187\n",
            "step = 2800: loss = 1.6078832149505615\n",
            "step = 3000: loss = 1.5369770526885986\n",
            "step = 3000: Average Return = -69.49842071533203\n",
            "step = 3200: loss = 1.8372015953063965\n",
            "step = 3400: loss = 1.1284713745117188\n",
            "step = 3600: loss = 0.5741382241249084\n",
            "step = 3800: loss = 1.9801689386367798\n",
            "step = 4000: loss = 0.647993803024292\n",
            "step = 4000: Average Return = -36.944847106933594\n",
            "step = 4200: loss = 1.1462243795394897\n",
            "step = 4400: loss = 1.873932123184204\n",
            "step = 4600: loss = 0.7415447235107422\n",
            "step = 4800: loss = 1.81093430519104\n",
            "step = 5000: loss = 1.0812010765075684\n",
            "step = 5000: Average Return = -80.55509185791016\n",
            "step = 5200: loss = 1.3879226446151733\n",
            "step = 5400: loss = 0.3809734284877777\n",
            "step = 5600: loss = 2.201382875442505\n",
            "step = 5800: loss = 0.6781324148178101\n",
            "step = 6000: loss = 0.6784135103225708\n",
            "step = 6000: Average Return = -15.1907958984375\n",
            "step = 6200: loss = 2.6669673919677734\n",
            "step = 6400: loss = 1.087673306465149\n",
            "step = 6600: loss = 0.8438146710395813\n",
            "step = 6800: loss = 0.9505869150161743\n",
            "step = 7000: loss = 2.324347972869873\n",
            "step = 7000: Average Return = -81.02723693847656\n",
            "step = 7200: loss = 1.088658332824707\n",
            "step = 7400: loss = 0.27011752128601074\n",
            "step = 7600: loss = 0.5896186828613281\n",
            "step = 7800: loss = 0.3347407579421997\n",
            "step = 8000: loss = 0.3702775537967682\n",
            "step = 8000: Average Return = -12.460031509399414\n",
            "step = 8200: loss = 0.5744515061378479\n",
            "step = 8400: loss = 0.4025285542011261\n",
            "step = 8600: loss = 0.47039496898651123\n",
            "step = 8800: loss = 0.4285323917865753\n",
            "step = 9000: loss = 0.6136643886566162\n",
            "step = 9000: Average Return = -60.33601760864258\n",
            "step = 9200: loss = 0.4034651815891266\n",
            "step = 9400: loss = 0.4070533812046051\n",
            "step = 9600: loss = 0.36939361691474915\n",
            "step = 9800: loss = 0.42108678817749023\n",
            "step = 10000: loss = 0.4779038429260254\n",
            "step = 10000: Average Return = 45.757240295410156\n",
            "step = 10200: loss = 0.41073933243751526\n",
            "step = 10400: loss = 0.4204063415527344\n",
            "step = 10600: loss = 0.5424548983573914\n",
            "step = 10800: loss = 1.0770771503448486\n",
            "step = 11000: loss = 0.45086365938186646\n",
            "step = 11000: Average Return = 53.41472244262695\n",
            "step = 11200: loss = 1.0620206594467163\n",
            "step = 11400: loss = 0.3686997592449188\n",
            "step = 11600: loss = 0.35917162895202637\n",
            "step = 11800: loss = 0.8169819116592407\n",
            "step = 12000: loss = 2.79469895362854\n",
            "step = 12000: Average Return = 50.558631896972656\n",
            "step = 12200: loss = 0.3320865333080292\n",
            "step = 12400: loss = 0.34798958897590637\n",
            "step = 12600: loss = 0.3735606372356415\n",
            "step = 12800: loss = 0.5252665281295776\n",
            "step = 13000: loss = 0.5681708455085754\n",
            "step = 13000: Average Return = 6.524204254150391\n",
            "step = 13200: loss = 0.520288348197937\n",
            "step = 13400: loss = 0.4788042902946472\n",
            "step = 13600: loss = 2.1657021045684814\n",
            "step = 13800: loss = 0.7222031950950623\n",
            "step = 14000: loss = 0.40624281764030457\n",
            "step = 14000: Average Return = -41.041255950927734\n",
            "step = 14200: loss = 0.484937846660614\n",
            "step = 14400: loss = 0.4792497158050537\n",
            "step = 14600: loss = 0.3224678635597229\n",
            "step = 14800: loss = 0.2732323408126831\n",
            "step = 15000: loss = 0.32492098212242126\n",
            "step = 15000: Average Return = -82.60580444335938\n",
            "step = 15200: loss = 0.32568538188934326\n",
            "step = 15400: loss = 0.3663363456726074\n",
            "step = 15600: loss = 0.39529526233673096\n",
            "step = 15800: loss = 0.45537304878234863\n",
            "step = 16000: loss = 0.5550915002822876\n",
            "step = 16000: Average Return = -88.48764038085938\n",
            "step = 16200: loss = 0.359596848487854\n",
            "step = 16400: loss = 0.3806261718273163\n",
            "step = 16600: loss = 0.32316309213638306\n",
            "step = 16800: loss = 0.38894346356391907\n",
            "step = 17000: loss = 0.40404945611953735\n",
            "step = 17000: Average Return = -42.537166595458984\n",
            "step = 17200: loss = 0.40869516134262085\n",
            "step = 17400: loss = 0.3808947801589966\n",
            "step = 17600: loss = 0.40989407896995544\n",
            "step = 17800: loss = 0.28186488151550293\n",
            "step = 18000: loss = 0.3974025249481201\n",
            "step = 18000: Average Return = -71.27897644042969\n",
            "step = 18200: loss = 0.44116950035095215\n",
            "step = 18400: loss = 0.3151296377182007\n",
            "step = 18600: loss = 0.34053170680999756\n",
            "step = 18800: loss = 0.2757117748260498\n",
            "step = 19000: loss = 0.29820188879966736\n",
            "step = 19000: Average Return = -19.81460189819336\n",
            "step = 19200: loss = 0.43622899055480957\n",
            "step = 19400: loss = 0.39680957794189453\n",
            "step = 19600: loss = 0.24131940305233002\n",
            "step = 19800: loss = 0.3431001603603363\n",
            "step = 20000: loss = 0.38562265038490295\n",
            "step = 20000: Average Return = -112.6877212524414\n",
            "step = 20200: loss = 0.3623048663139343\n",
            "step = 20400: loss = 0.30690819025039673\n",
            "step = 20600: loss = 0.28341391682624817\n",
            "step = 20800: loss = 0.37895384430885315\n",
            "step = 21000: loss = 2.293858289718628\n",
            "step = 21000: Average Return = -116.7705078125\n",
            "step = 21200: loss = 0.22048334777355194\n",
            "step = 21400: loss = 0.30011600255966187\n",
            "step = 21600: loss = 2.323401927947998\n",
            "step = 21800: loss = 0.27400630712509155\n",
            "step = 22000: loss = 0.3267044126987457\n",
            "step = 22000: Average Return = -119.27693176269531\n",
            "step = 22200: loss = 0.3876712918281555\n",
            "step = 22400: loss = 0.44939813017845154\n",
            "step = 22600: loss = 0.37017789483070374\n",
            "step = 22800: loss = 0.5105293989181519\n",
            "step = 23000: loss = 0.3610529899597168\n",
            "step = 23000: Average Return = -86.31280517578125\n",
            "step = 23200: loss = 0.3736015558242798\n",
            "step = 23400: loss = 0.3129919767379761\n",
            "step = 23600: loss = 0.37027403712272644\n",
            "step = 23800: loss = 1.9820237159729004\n",
            "step = 24000: loss = 0.4008637070655823\n",
            "step = 24000: Average Return = -135.25180053710938\n",
            "step = 24200: loss = 1.8835784196853638\n",
            "step = 24400: loss = 2.622263193130493\n",
            "step = 24600: loss = 3.071866750717163\n",
            "step = 24800: loss = 2.7711803913116455\n",
            "step = 25000: loss = 3.280562162399292\n",
            "step = 25000: Average Return = -68.91807556152344\n",
            "step = 25200: loss = 1.9050925970077515\n",
            "step = 25400: loss = 0.8551051616668701\n",
            "step = 25600: loss = 0.47901487350463867\n",
            "step = 25800: loss = 0.4282432794570923\n",
            "step = 26000: loss = 0.36565515398979187\n",
            "step = 26000: Average Return = -102.00408172607422\n",
            "step = 26200: loss = 0.3829425871372223\n",
            "step = 26400: loss = 0.35612061619758606\n",
            "step = 26600: loss = 0.30112165212631226\n",
            "step = 26800: loss = 0.3108522295951843\n",
            "step = 27000: loss = 0.34254732728004456\n",
            "step = 27000: Average Return = -20.399715423583984\n",
            "step = 27200: loss = 0.41109123826026917\n",
            "step = 27400: loss = 0.2277815341949463\n",
            "step = 27600: loss = 0.28587907552719116\n",
            "step = 27800: loss = 0.5750367045402527\n",
            "step = 28000: loss = 0.17123547196388245\n",
            "step = 28000: Average Return = -31.003742218017578\n",
            "step = 28200: loss = 0.6512793898582458\n",
            "step = 28400: loss = 0.893592894077301\n",
            "step = 28600: loss = 1.9451061487197876\n",
            "step = 28800: loss = 0.26264315843582153\n",
            "step = 29000: loss = 1.6819376945495605\n",
            "step = 29000: Average Return = -10.05262565612793\n",
            "step = 29200: loss = 0.9082528948783875\n",
            "step = 29400: loss = 0.3897462785243988\n",
            "step = 29600: loss = 0.5189368724822998\n",
            "step = 29800: loss = 0.6053364872932434\n",
            "step = 30000: loss = 0.4478709101676941\n",
            "step = 30000: Average Return = -127.31202697753906\n",
            "step = 30200: loss = 0.3608783483505249\n",
            "step = 30400: loss = 0.3448801636695862\n",
            "step = 30600: loss = 0.4159398078918457\n",
            "step = 30800: loss = 0.39599645137786865\n",
            "step = 31000: loss = 0.37914109230041504\n",
            "step = 31000: Average Return = -57.2230339050293\n",
            "step = 31200: loss = 0.3833036422729492\n",
            "step = 31400: loss = 0.29103317856788635\n",
            "step = 31600: loss = 0.32313111424446106\n",
            "step = 31800: loss = 0.44797852635383606\n",
            "step = 32000: loss = 0.3035047948360443\n",
            "step = 32000: Average Return = -19.691761016845703\n",
            "step = 32200: loss = 0.25847190618515015\n",
            "step = 32400: loss = 0.3442879021167755\n",
            "step = 32600: loss = 0.21280580759048462\n",
            "step = 32800: loss = 0.2639475166797638\n",
            "step = 33000: loss = 0.27978086471557617\n",
            "step = 33000: Average Return = -23.85198974609375\n",
            "step = 33200: loss = 0.35634833574295044\n",
            "step = 33400: loss = 0.2489725649356842\n",
            "step = 33600: loss = 0.31158772110939026\n",
            "step = 33800: loss = 0.25434690713882446\n",
            "step = 34000: loss = 0.2947709560394287\n",
            "step = 34000: Average Return = 66.1087646484375\n",
            "step = 34200: loss = 0.26836323738098145\n",
            "step = 34400: loss = 0.32005953788757324\n",
            "step = 34600: loss = 0.2703934609889984\n",
            "step = 34800: loss = 0.2385636419057846\n",
            "step = 35000: loss = 0.41303887963294983\n",
            "step = 35000: Average Return = -57.6180534362793\n",
            "step = 35200: loss = 0.38508403301239014\n",
            "step = 35400: loss = 0.32705795764923096\n",
            "step = 35600: loss = 0.3955414593219757\n",
            "step = 35800: loss = 0.28222090005874634\n",
            "step = 36000: loss = 0.25304633378982544\n",
            "step = 36000: Average Return = -83.27320861816406\n",
            "step = 36200: loss = 0.3641955554485321\n",
            "step = 36400: loss = 0.22498656809329987\n",
            "step = 36600: loss = 0.23179587721824646\n",
            "step = 36800: loss = 0.5644049644470215\n",
            "step = 37000: loss = 0.24680103361606598\n",
            "step = 37000: Average Return = -21.84762954711914\n",
            "step = 37200: loss = 0.3001589775085449\n",
            "step = 37400: loss = 0.24408979713916779\n",
            "step = 37600: loss = 1.2675957679748535\n",
            "step = 37800: loss = 1.8037190437316895\n",
            "step = 38000: loss = 0.34969550371170044\n",
            "step = 38000: Average Return = 54.40302658081055\n",
            "step = 38200: loss = 0.42772090435028076\n",
            "step = 38400: loss = 1.8334063291549683\n",
            "step = 38600: loss = 0.5169324278831482\n",
            "step = 38800: loss = 0.27205973863601685\n",
            "step = 39000: loss = 0.35577499866485596\n",
            "step = 39000: Average Return = 77.6511001586914\n",
            "step = 39200: loss = 0.83683180809021\n",
            "step = 39400: loss = 0.2555549740791321\n",
            "step = 39600: loss = 0.25001996755599976\n",
            "step = 39800: loss = 0.21045997738838196\n",
            "step = 40000: loss = 0.5166022181510925\n",
            "step = 40000: Average Return = 73.37648010253906\n",
            "step = 40200: loss = 0.5102983117103577\n",
            "step = 40400: loss = 0.2821756601333618\n",
            "step = 40600: loss = 0.5246315002441406\n",
            "step = 40800: loss = 1.7432403564453125\n",
            "step = 41000: loss = 0.22233711183071136\n",
            "step = 41000: Average Return = 5.079165458679199\n",
            "step = 41200: loss = 0.22252747416496277\n",
            "step = 41400: loss = 0.24703633785247803\n",
            "step = 41600: loss = 0.5304654836654663\n",
            "step = 41800: loss = 0.17684975266456604\n",
            "step = 42000: loss = 0.18188901245594025\n",
            "step = 42000: Average Return = 80.11307525634766\n",
            "step = 42200: loss = 0.5634683966636658\n",
            "step = 42400: loss = 0.2082957923412323\n",
            "step = 42600: loss = 0.39200109243392944\n",
            "step = 42800: loss = 0.49856168031692505\n",
            "step = 43000: loss = 0.22531908750534058\n",
            "step = 43000: Average Return = -19.478252410888672\n",
            "step = 43200: loss = 0.1998792588710785\n",
            "step = 43400: loss = 0.7899438738822937\n",
            "step = 43600: loss = 0.25505906343460083\n",
            "step = 43800: loss = 0.255863219499588\n",
            "step = 44000: loss = 0.32823675870895386\n",
            "step = 44000: Average Return = -31.546493530273438\n",
            "step = 44200: loss = 0.34633588790893555\n",
            "step = 44400: loss = 1.8687658309936523\n",
            "step = 44600: loss = 1.78578782081604\n",
            "step = 44800: loss = 0.9788912534713745\n",
            "step = 45000: loss = 0.2036142349243164\n",
            "step = 45000: Average Return = 55.24011993408203\n",
            "step = 45200: loss = 0.17642873525619507\n",
            "step = 45400: loss = 0.8388946652412415\n",
            "step = 45600: loss = 0.7355589866638184\n",
            "step = 45800: loss = 0.23700381815433502\n",
            "step = 46000: loss = 0.41555121541023254\n",
            "step = 46000: Average Return = 58.863487243652344\n",
            "step = 46200: loss = 0.2563250660896301\n",
            "step = 46400: loss = 0.26672375202178955\n",
            "step = 46600: loss = 0.22208142280578613\n",
            "step = 46800: loss = 0.3716042637825012\n",
            "step = 47000: loss = 0.21256650984287262\n",
            "step = 47000: Average Return = 60.338653564453125\n",
            "step = 47200: loss = 0.4047054052352905\n",
            "step = 47400: loss = 0.493095338344574\n",
            "step = 47600: loss = 1.2879470586776733\n",
            "step = 47800: loss = 0.9834984540939331\n",
            "step = 48000: loss = 0.9006933569908142\n",
            "step = 48000: Average Return = 40.08417510986328\n",
            "step = 48200: loss = 0.41064223647117615\n",
            "step = 48400: loss = 1.9578005075454712\n",
            "step = 48600: loss = 0.21638542413711548\n",
            "step = 48800: loss = 0.20928865671157837\n",
            "step = 49000: loss = 0.35473716259002686\n",
            "step = 49000: Average Return = 92.66915893554688\n",
            "step = 49200: loss = 1.9065357446670532\n",
            "step = 49400: loss = 0.2191738486289978\n",
            "step = 49600: loss = 0.48548877239227295\n",
            "step = 49800: loss = 0.25929853320121765\n",
            "step = 50000: loss = 0.1704961359500885\n",
            "step = 50000: Average Return = 3.404458522796631\n",
            "step = 50200: loss = 0.34853535890579224\n",
            "step = 50400: loss = 0.2220253199338913\n",
            "step = 50600: loss = 0.548823356628418\n",
            "step = 50800: loss = 0.3251594603061676\n",
            "step = 51000: loss = 0.16981187462806702\n",
            "step = 51000: Average Return = 61.876609802246094\n",
            "step = 51200: loss = 0.17213258147239685\n",
            "step = 51400: loss = 1.2987388372421265\n",
            "step = 51600: loss = 0.1560843288898468\n",
            "step = 51800: loss = 0.1817922592163086\n",
            "step = 52000: loss = 0.14724412560462952\n",
            "step = 52000: Average Return = 52.193267822265625\n",
            "step = 52200: loss = 0.2280656397342682\n",
            "step = 52400: loss = 1.4177405834197998\n",
            "step = 52600: loss = 0.12964749336242676\n",
            "step = 52800: loss = 0.20115241408348083\n",
            "step = 53000: loss = 0.1601332426071167\n",
            "step = 53000: Average Return = 123.99687194824219\n",
            "step = 53200: loss = 1.4785716533660889\n",
            "step = 53400: loss = 0.14455869793891907\n",
            "step = 53600: loss = 0.3327280879020691\n",
            "step = 53800: loss = 0.09193345904350281\n",
            "step = 54000: loss = 0.3538926839828491\n",
            "step = 54000: Average Return = 115.73990631103516\n",
            "step = 54200: loss = 0.146725133061409\n",
            "step = 54400: loss = 1.820604681968689\n",
            "step = 54600: loss = 0.19152739644050598\n",
            "step = 54800: loss = 0.7175454497337341\n",
            "step = 55000: loss = 2.2650816440582275\n",
            "step = 55000: Average Return = 104.3289566040039\n",
            "step = 55200: loss = 0.5817298293113708\n",
            "step = 55400: loss = 1.270903468132019\n",
            "step = 55600: loss = 0.6737722158432007\n",
            "step = 55800: loss = 0.4711715877056122\n",
            "step = 56000: loss = 0.259750634431839\n",
            "step = 56000: Average Return = 180.3871612548828\n",
            "step = 56200: loss = 0.16338960826396942\n",
            "step = 56400: loss = 0.19318538904190063\n",
            "step = 56600: loss = 0.13364745676517487\n",
            "step = 56800: loss = 0.3196502923965454\n",
            "step = 57000: loss = 0.3144756555557251\n",
            "step = 57000: Average Return = 75.43408203125\n",
            "step = 57200: loss = 0.2082749605178833\n",
            "step = 57400: loss = 0.2782151997089386\n",
            "step = 57600: loss = 0.24952806532382965\n",
            "step = 57800: loss = 0.2092968076467514\n",
            "step = 58000: loss = 0.3332408666610718\n",
            "step = 58000: Average Return = 101.9458999633789\n",
            "step = 58200: loss = 1.3101481199264526\n",
            "step = 58400: loss = 0.19308167695999146\n",
            "step = 58600: loss = 1.5696284770965576\n",
            "step = 58800: loss = 0.16536489129066467\n",
            "step = 59000: loss = 0.713895857334137\n",
            "step = 59000: Average Return = 96.19282531738281\n",
            "step = 59200: loss = 1.6773948669433594\n",
            "step = 59400: loss = 1.9937931299209595\n",
            "step = 59600: loss = 4.033076763153076\n",
            "step = 59800: loss = 1.3602999448776245\n",
            "step = 60000: loss = 0.5464231967926025\n",
            "step = 60000: Average Return = 209.5244140625\n",
            "step = 60200: loss = 0.15606209635734558\n",
            "step = 60400: loss = 0.12336299568414688\n",
            "step = 60600: loss = 0.1068778857588768\n",
            "step = 60800: loss = 0.12282797694206238\n",
            "step = 61000: loss = 1.5940768718719482\n",
            "step = 61000: Average Return = 178.22689819335938\n",
            "step = 61200: loss = 0.6344326734542847\n",
            "step = 61400: loss = 0.2155136913061142\n",
            "step = 61600: loss = 0.15126200020313263\n",
            "step = 61800: loss = 0.14972500503063202\n",
            "step = 62000: loss = 0.18446694314479828\n",
            "step = 62000: Average Return = 181.45040893554688\n",
            "step = 62200: loss = 0.14094841480255127\n",
            "step = 62400: loss = 0.14140376448631287\n",
            "step = 62600: loss = 0.12583644688129425\n",
            "step = 62800: loss = 0.114971823990345\n",
            "step = 63000: loss = 0.12905356287956238\n",
            "step = 63000: Average Return = 217.8484649658203\n",
            "step = 63200: loss = 0.7048461437225342\n",
            "step = 63400: loss = 0.1305970698595047\n",
            "step = 63600: loss = 0.1952209174633026\n",
            "step = 63800: loss = 0.36761972308158875\n",
            "step = 64000: loss = 1.739192008972168\n",
            "step = 64000: Average Return = 162.53176879882812\n",
            "step = 64200: loss = 0.16748887300491333\n",
            "step = 64400: loss = 0.12144169956445694\n",
            "step = 64600: loss = 0.13876378536224365\n",
            "step = 64800: loss = 0.13264358043670654\n",
            "step = 65000: loss = 0.1446494460105896\n",
            "step = 65000: Average Return = 170.47140502929688\n",
            "step = 65200: loss = 0.5587466955184937\n",
            "step = 65400: loss = 0.13562873005867004\n",
            "step = 65600: loss = 0.1130899041891098\n",
            "step = 65800: loss = 0.19686926901340485\n",
            "step = 66000: loss = 0.12639451026916504\n",
            "step = 66000: Average Return = 146.3684844970703\n",
            "step = 66200: loss = 0.11403469741344452\n",
            "step = 66400: loss = 0.18622145056724548\n",
            "step = 66600: loss = 0.13487017154693604\n",
            "step = 66800: loss = 0.42905598878860474\n",
            "step = 67000: loss = 0.7304039597511292\n",
            "step = 67000: Average Return = 143.10028076171875\n",
            "step = 67200: loss = 0.5303442478179932\n",
            "step = 67400: loss = 0.29550033807754517\n",
            "step = 67600: loss = 0.1263384222984314\n",
            "step = 67800: loss = 0.10723667591810226\n",
            "step = 68000: loss = 0.2151959240436554\n",
            "step = 68000: Average Return = 96.93110656738281\n",
            "step = 68200: loss = 0.15972758829593658\n",
            "step = 68400: loss = 0.49357354640960693\n",
            "step = 68600: loss = 0.1197957992553711\n",
            "step = 68800: loss = 0.17284588515758514\n",
            "step = 69000: loss = 3.548494815826416\n",
            "step = 69000: Average Return = 210.5215301513672\n",
            "step = 69200: loss = 0.5453988909721375\n",
            "step = 69400: loss = 1.8113064765930176\n",
            "step = 69600: loss = 0.2233736217021942\n",
            "step = 69800: loss = 1.5342612266540527\n",
            "step = 70000: loss = 0.138128399848938\n",
            "step = 70000: Average Return = 145.1802215576172\n",
            "step = 70200: loss = 2.806480884552002\n",
            "step = 70400: loss = 1.544182300567627\n",
            "step = 70600: loss = 0.11583323776721954\n",
            "step = 70800: loss = 0.14217767119407654\n",
            "step = 71000: loss = 0.374703586101532\n",
            "step = 71000: Average Return = 128.04959106445312\n",
            "step = 71200: loss = 0.10369011759757996\n",
            "step = 71400: loss = 0.10033208876848221\n",
            "step = 71600: loss = 0.9175735116004944\n",
            "step = 71800: loss = 0.41409772634506226\n",
            "step = 72000: loss = 0.21003659069538116\n",
            "step = 72000: Average Return = 218.4077606201172\n",
            "step = 72200: loss = 0.13324503600597382\n",
            "step = 72400: loss = 0.5206100940704346\n",
            "step = 72600: loss = 0.3081250786781311\n",
            "step = 72800: loss = 0.6644237041473389\n",
            "step = 73000: loss = 0.5271347761154175\n",
            "step = 73000: Average Return = 54.73063278198242\n",
            "step = 73200: loss = 0.7274956107139587\n",
            "step = 73400: loss = 1.0376663208007812\n",
            "step = 73600: loss = 0.907524049282074\n",
            "step = 73800: loss = 1.0051838159561157\n",
            "step = 74000: loss = 0.16807395219802856\n",
            "step = 74000: Average Return = 133.81057739257812\n",
            "step = 74200: loss = 0.12506389617919922\n",
            "step = 74400: loss = 0.10682377964258194\n",
            "step = 74600: loss = 0.5500115752220154\n",
            "step = 74800: loss = 0.39560452103614807\n",
            "step = 75000: loss = 0.22254668176174164\n",
            "step = 75000: Average Return = 194.57275390625\n",
            "step = 75200: loss = 0.6456863284111023\n",
            "step = 75400: loss = 0.5869185924530029\n",
            "step = 75600: loss = 1.6677614450454712\n",
            "step = 75800: loss = 0.6155054569244385\n",
            "step = 76000: loss = 0.16693617403507233\n",
            "step = 76000: Average Return = 159.11013793945312\n",
            "step = 76200: loss = 0.12376637756824493\n",
            "step = 76400: loss = 0.16198039054870605\n",
            "step = 76600: loss = 0.24437429010868073\n",
            "step = 76800: loss = 0.27466335892677307\n",
            "step = 77000: loss = 0.18963241577148438\n",
            "step = 77000: Average Return = 179.05857849121094\n",
            "step = 77200: loss = 0.6601049304008484\n",
            "step = 77400: loss = 0.17045901715755463\n",
            "step = 77600: loss = 0.21880002319812775\n",
            "step = 77800: loss = 0.09713591635227203\n",
            "step = 78000: loss = 0.12195580452680588\n",
            "step = 78000: Average Return = 197.2583465576172\n",
            "step = 78200: loss = 0.402873694896698\n",
            "step = 78400: loss = 1.572550654411316\n",
            "step = 78600: loss = 1.5305718183517456\n",
            "step = 78800: loss = 0.303017795085907\n",
            "step = 79000: loss = 0.1185106411576271\n",
            "step = 79000: Average Return = 169.70883178710938\n",
            "step = 79200: loss = 0.13300582766532898\n",
            "step = 79400: loss = 0.19243277609348297\n",
            "step = 79600: loss = 0.16320966184139252\n",
            "step = 79800: loss = 2.3828723430633545\n",
            "step = 80000: loss = 1.577083706855774\n",
            "step = 80000: Average Return = 196.4741973876953\n",
            "step = 80200: loss = 0.16777098178863525\n",
            "step = 80400: loss = 0.25108593702316284\n",
            "step = 80600: loss = 0.4327095150947571\n",
            "step = 80800: loss = 0.15472352504730225\n",
            "step = 81000: loss = 0.10075035691261292\n",
            "step = 81000: Average Return = 202.1807098388672\n",
            "step = 81200: loss = 0.25605103373527527\n",
            "step = 81400: loss = 0.16650165617465973\n",
            "step = 81600: loss = 0.27581527829170227\n",
            "step = 81800: loss = 0.14999277889728546\n",
            "step = 82000: loss = 0.15342435240745544\n",
            "step = 82000: Average Return = 269.47027587890625\n",
            "step = 82200: loss = 0.14629757404327393\n",
            "step = 82400: loss = 0.1585851013660431\n",
            "step = 82600: loss = 1.5796208381652832\n",
            "step = 82800: loss = 0.39778655767440796\n",
            "step = 83000: loss = 0.3294016122817993\n",
            "step = 83000: Average Return = 188.47573852539062\n",
            "step = 83200: loss = 0.48183518648147583\n",
            "step = 83400: loss = 0.36287564039230347\n",
            "step = 83600: loss = 0.4961264133453369\n",
            "step = 83800: loss = 0.673281192779541\n",
            "step = 84000: loss = 1.605177879333496\n",
            "step = 84000: Average Return = 241.45578002929688\n",
            "step = 84200: loss = 1.6753485202789307\n",
            "step = 84400: loss = 0.0904313400387764\n",
            "step = 84600: loss = 0.17739185690879822\n",
            "step = 84800: loss = 0.14843468368053436\n",
            "step = 85000: loss = 3.0019583702087402\n",
            "step = 85000: Average Return = 234.40267944335938\n",
            "step = 85200: loss = 0.10798866301774979\n",
            "step = 85400: loss = 0.07462956011295319\n",
            "step = 85600: loss = 0.10199765861034393\n",
            "step = 85800: loss = 0.07865367084741592\n",
            "step = 86000: loss = 0.08883560448884964\n",
            "step = 86000: Average Return = 223.69448852539062\n",
            "step = 86200: loss = 0.10168635845184326\n",
            "step = 86400: loss = 0.12079446017742157\n",
            "step = 86600: loss = 0.13071832060813904\n",
            "step = 86800: loss = 0.14762639999389648\n",
            "step = 87000: loss = 0.14416152238845825\n",
            "step = 87000: Average Return = 222.03244018554688\n",
            "step = 87200: loss = 1.5330684185028076\n",
            "step = 87400: loss = 0.2860756814479828\n",
            "step = 87600: loss = 0.10524433851242065\n",
            "step = 87800: loss = 0.32468491792678833\n",
            "step = 88000: loss = 0.14359062910079956\n",
            "step = 88000: Average Return = 241.6901092529297\n",
            "step = 88200: loss = 0.10189210623502731\n",
            "step = 88400: loss = 0.2886035144329071\n",
            "step = 88600: loss = 1.5690585374832153\n",
            "step = 88800: loss = 0.11937375366687775\n",
            "step = 89000: loss = 0.9012972712516785\n",
            "step = 89000: Average Return = 246.07479858398438\n",
            "step = 89200: loss = 1.5833642482757568\n",
            "step = 89400: loss = 1.563719630241394\n",
            "step = 89600: loss = 0.27265214920043945\n",
            "step = 89800: loss = 0.1456640213727951\n",
            "step = 90000: loss = 0.14761888980865479\n",
            "step = 90000: Average Return = 247.3701629638672\n",
            "step = 90200: loss = 0.5630069375038147\n",
            "step = 90400: loss = 0.15203583240509033\n",
            "step = 90600: loss = 0.1563705950975418\n",
            "step = 90800: loss = 0.19256964325904846\n",
            "step = 91000: loss = 0.28800708055496216\n",
            "step = 91000: Average Return = 180.23313903808594\n",
            "step = 91200: loss = 0.19726553559303284\n",
            "step = 91400: loss = 0.11493711173534393\n",
            "step = 91600: loss = 0.13430826365947723\n",
            "step = 91800: loss = 0.35425373911857605\n",
            "step = 92000: loss = 0.47908419370651245\n",
            "step = 92000: Average Return = 236.71084594726562\n",
            "step = 92200: loss = 2.025848865509033\n",
            "step = 92400: loss = 0.3232252299785614\n",
            "step = 92600: loss = 0.20707203447818756\n",
            "step = 92800: loss = 0.2954777479171753\n",
            "step = 93000: loss = 1.67439603805542\n",
            "step = 93000: Average Return = 227.6828155517578\n",
            "step = 93200: loss = 0.26367223262786865\n",
            "step = 93400: loss = 0.14501234889030457\n",
            "step = 93600: loss = 1.6298975944519043\n",
            "step = 93800: loss = 2.214566469192505\n",
            "step = 94000: loss = 0.3786144554615021\n",
            "step = 94000: Average Return = 204.65512084960938\n",
            "step = 94200: loss = 0.6224073171615601\n",
            "step = 94400: loss = 0.7250933051109314\n",
            "step = 94600: loss = 0.46269330382347107\n",
            "step = 94800: loss = 0.5618810653686523\n",
            "step = 95000: loss = 0.16537174582481384\n",
            "step = 95000: Average Return = 200.8173370361328\n",
            "step = 95200: loss = 0.1524571180343628\n",
            "step = 95400: loss = 2.1751840114593506\n",
            "step = 95600: loss = 0.5182164907455444\n",
            "step = 95800: loss = 0.2977098822593689\n",
            "step = 96000: loss = 1.735183835029602\n",
            "step = 96000: Average Return = 128.94940185546875\n",
            "step = 96200: loss = 4.474966526031494\n",
            "step = 96400: loss = 0.17779695987701416\n",
            "step = 96600: loss = 4.163723468780518\n",
            "step = 96800: loss = 0.14405548572540283\n",
            "step = 97000: loss = 0.16194599866867065\n",
            "step = 97000: Average Return = 100.24171447753906\n",
            "step = 97200: loss = 0.13877509534358978\n",
            "step = 97400: loss = 0.12229518592357635\n",
            "step = 97600: loss = 0.12676581740379333\n",
            "step = 97800: loss = 0.16087350249290466\n",
            "step = 98000: loss = 0.13067398965358734\n",
            "step = 98000: Average Return = 196.3313751220703\n",
            "step = 98200: loss = 0.18885010480880737\n",
            "step = 98400: loss = 0.11781390756368637\n",
            "step = 98600: loss = 0.12250252068042755\n",
            "step = 98800: loss = 1.5308215618133545\n",
            "step = 99000: loss = 0.31133362650871277\n",
            "step = 99000: Average Return = 127.42704772949219\n",
            "step = 99200: loss = 0.09407706558704376\n",
            "step = 99400: loss = 0.2000393271446228\n",
            "step = 99600: loss = 2.401546001434326\n",
            "step = 99800: loss = 0.19994094967842102\n",
            "step = 100000: loss = 0.38553428649902344\n",
            "step = 100000: Average Return = 241.2519073486328\n"
          ]
        }
      ],
      "source": [
        "#@test {\"skip\": true}\n",
        "try:\n",
        "  %%time\n",
        "except:\n",
        "  pass\n",
        "\n",
        "# (Optional) Optimize by wrapping some of the code in a graph using TF function.\n",
        "agent.train = common.function(agent.train)\n",
        "\n",
        "# Reset the train step.\n",
        "agent.train_step_counter.assign(0)\n",
        "\n",
        "# Evaluate the agent's policy once before training.\n",
        "avg_return = compute_avg_return(eval_env, agent.policy, num_eval_episodes)\n",
        "returns = [avg_return]\n",
        "\n",
        "# Reset the environment.\n",
        "time_step = train_py_env.reset()\n",
        "\n",
        "# Create a driver to collect experience.\n",
        "collect_driver = py_driver.PyDriver(\n",
        "    env,\n",
        "    py_tf_eager_policy.PyTFEagerPolicy(\n",
        "      agent.collect_policy, use_tf_function=True),\n",
        "    [rb_observer],\n",
        "    max_steps=collect_steps_per_iteration)\n",
        "\n",
        "for episode in range(num_iterations):\n",
        "  # print('episode = ', episode)\n",
        "  # Collect a few steps and save to the replay buffer.\n",
        "  time_step, _ = collect_driver.run(time_step)\n",
        "\n",
        "  # Sample a batch of data from the buffer and update the agent's network.\n",
        "  experience, unused_info = next(iterator)\n",
        "  train_loss = agent.train(experience).loss\n",
        "\n",
        "  step = agent.train_step_counter.numpy()\n",
        "\n",
        "  if step % log_interval == 0:\n",
        "    print('step = {0}: loss = {1}'.format(step, train_loss))\n",
        "\n",
        "  if step % eval_interval == 0:\n",
        "    avg_return = compute_avg_return(eval_env, agent.policy, num_eval_episodes)\n",
        "    print('step = {0}: Average Return = {1}'.format(step, avg_return))\n",
        "    returns.append(avg_return)"
      ]
    },
    {
      "cell_type": "markdown",
      "metadata": {
        "id": "68jNcA_TiJDq"
      },
      "source": [
        "## Visualization\n"
      ]
    },
    {
      "cell_type": "markdown",
      "metadata": {
        "id": "aO-LWCdbbOIC"
      },
      "source": [
        "### Plots\n",
        "\n",
        "Use `matplotlib.pyplot` to chart how the policy improved during training."
      ]
    },
    {
      "cell_type": "code",
      "execution_count": 82,
      "metadata": {
        "id": "NxtL1mbOYCVO"
      },
      "outputs": [
        {
          "data": {
            "text/plain": [
              "(-605.6192962646485, 300.0)"
            ]
          },
          "execution_count": 82,
          "metadata": {},
          "output_type": "execute_result"
        },
        {
          "data": {
            "image/png": "[encoded data removed]",
            "text/plain": [
              "<Figure size 432x288 with 1 Axes>"
            ]
          },
          "metadata": {
            "needs_background": "light"
          },
          "output_type": "display_data"
        }
      ],
      "source": [
        "#@test {\"skip\": true}\n",
        "\n",
        "iterations = range(0, num_iterations + 1, eval_interval)\n",
        "plt.plot(iterations, returns)\n",
        "plt.ylabel('Average Return')\n",
        "plt.xlabel('Iterations')\n",
        "plt.ylim(top=300)"
      ]
    },
    {
      "cell_type": "markdown",
      "metadata": {
        "id": "M7-XpPP99Cy7"
      },
      "source": [
        "### Videos"
      ]
    },
    {
      "cell_type": "markdown",
      "metadata": {
        "id": "9pGfGxSH32gn"
      },
      "source": [
        "Charts are nice. But more exciting is seeing an agent actually performing a task in an environment. \n",
        "\n",
        "First, create a function to embed videos in the notebook."
      ]
    },
    {
      "cell_type": "code",
      "execution_count": 79,
      "metadata": {
        "id": "ULaGr8pvOKbl"
      },
      "outputs": [],
      "source": [
        "def embed_mp4(filename):\n",
        "  \"\"\"Embeds an mp4 file in the notebook.\"\"\"\n",
        "  video = open(filename,'rb').read()\n",
        "  b64 = base64.b64encode(video)\n",
        "  tag = '''\n",
        "  <video width=\"640\" height=\"480\" controls>\n",
        "    <source src=\"data:video/mp4;base64,{0}\" type=\"video/mp4\">\n",
        "  Your browser does not support the video tag.\n",
        "  </video>'''.format(b64.decode())\n",
        "\n",
        "  return IPython.display.HTML(tag)"
      ]
    },
    {
      "cell_type": "markdown",
      "metadata": {
        "id": "9c_PH-pX4Pr5"
      },
      "source": [
        "The underlying Python environment (the one \"inside\" the TensorFlow environment wrapper) provides a `render()` method, which outputs an image of the environment state. These can be collected into a video."
      ]
    },
    {
      "cell_type": "code",
      "execution_count": 80,
      "metadata": {
        "id": "owOVWB158NlF"
      },
      "outputs": [
        {
          "name": "stderr",
          "output_type": "stream",
          "text": [
            "WARNING:root:IMAGEIO FFMPEG_WRITER WARNING: input image is not divisible by macro_block_size=16, resizing from (400, 600) to (400, 608) to ensure video compatibility with most codecs and players. To prevent resizing, make your input image divisible by the macro_block_size or set the macro_block_size to None (risking incompatibility). You may also see a FFMPEG warning concerning speedloss due to data not being aligned.\n",
            "[swscaler @ 0x55b023b34d00] Warning: data is not aligned! This can lead to a speed loss\n"
          ]
        },
        {
          "data": {
            "text/html": [
              "\n",
              "  <video width=\"640\" height=\"480\" controls>\n",
              "    <source src=\"data:video/mp4;base64,AAAAIGZ0eXBpc29tAAACAGlzb21pc28yYXZjMW1wNDEAAAAIZnJlZQADKHdtZGF0AAACrwYF//+r3EXpvebZSLeWLNgg2SPu73gyNjQgLSBjb3JlIDE1NSByMjkxNyAwYTg0ZDk4IC0gSC4yNjQvTVBFRy00IEFWQyBjb2RlYyAtIENvcHlsZWZ0IDIwMDMtMjAxOCAtIGh0dHA6Ly93d3cudmlkZW9sYW4ub3JnL3gyNjQuaHRtbCAtIG9wdGlvbnM6IGNhYmFjPTEgcmVmPTMgZGVibG9jaz0xOjA6MCBhbmFseXNlPTB4MzoweDExMyBtZT1oZXggc3VibWU9NyBwc3k9MSBwc3lfcmQ9MS4wMDowLjAwIG1peGVkX3JlZj0xIG1lX3JhbmdlPTE2IGNocm9tYV9tZT0xIHRyZWxsaXM9MSA4eDhkY3Q9MSBjcW09MCBkZWFkem9uZT0yMSwxMSBmYXN0X3Bza2lwPTEgY2hyb21hX3FwX29mZnNldD0tMiB0aHJlYWRzPTEyIGxvb2thaGVhZF90aHJlYWRzPTIgc2xpY2VkX3RocmVhZHM9MCBucj0wIGRlY2ltYXRlPTEgaW50ZXJsYWNlZD0wIGJsdXJheV9jb21wYXQ9MCBjb25zdHJhaW5lZF9pbnRyYT0wIGJmcmFtZXM9MyBiX3B5cmFtaWQ9MiBiX2FkYXB0PTEgYl9iaWFzPTAgZGlyZWN0PTEgd2VpZ2h0Yj0xIG9wZW5fZ29wPTAgd2VpZ2h0cD0yIGtleWludD0yNTAga2V5aW50X21pbj0yNSBzY2VuZWN1dD00MCBpbnRyYV9yZWZyZXNoPTAgcmNfbG9va2FoZWFkPTQwIHJjPWNyZiBtYnRyZWU9MSBjcmY9MjUuMCBxY29tcD0wLjYwIHFwbWluPTAgcXBtYXg9NjkgcXBzdGVwPTQgaXBfcmF0aW89MS40MCBhcT0xOjEuMDAAgAAABi9liIQAN//+9q78yyt0fpUuHVl7s1Hy6Ely/YgwfWn8wtk22wtCABOPmBj2b3YDhasguLLDkwc35StRbBrWSbXXkxMqarMRt9dT5xwQYZ3A90bMr4U43+eYCY78AIcurOcPqAC6Xy8eDsFSosSShnZ4CGCowg/liSUrfyfuIGQL4mDbMB3OcctGGgOwwUj0AXy/sA/wKkLtQX4m7+uox6zzQZtCdVmfEAtMSc5GDJfKnWyZJo8z92E4T7FS7t463YoIyIlhIAAAAwACOsy7NrnVJM4+mG3UjXCcsgABvAjAthhIA7g7xDhTimkfI8Wo3S7AgakxsLTlSBlwzP5x6xlXBVHAxHlgHdWnJ/uDrNwQvZwp+98T2zkSWVBjb00jKqCWhnKzMjOQUV4tQNFRdu6KCqVvPt7K7irrvziPp8zD3Pq1JI2EmbTokWgSky0BzQiCKWgGA0ENaJZx6p4KV4MaijVLLJxZt99K1FayZXKPJOy9aQ1gJjQH8NU6hMI1qRsGcAPG+nNvi9MW+M02HJ/8XixKoYbfj2TzgXHSShQQLLkBc+PT/fTEdThkliJtUYftkKPBE3MzhwJAJWrDJZLJswcjC3BSM7pAWjRPrCEztcMubUjyyci0qHVfATL5MtjMp7WtysI9EboGBvLXLImMZ5gm1Gf1/DhKY6udhWMDO5nhl9ZlIdoTi94Stm3ywAbwrYErSDtUO1NNaCKAzDgXNSaNmOzRcxamDkPReqauGn5CUbbRppRo2aEcaLqHJU9tWPuluziSWPiipZIRKL6SjfVSM4JWynxhYkCuGVtEQfnV9ysWusGD6mpdVCEP/OaRLSKpYEQ/RDJT4B9pT72iBxCf1n6H9YiTQdH4FwxOudJvwrxG34VgaEU1Ht3BuStQQxhcgzvbzd9IreX5ibTGg7CaHgXwJOyjBlpIwaSeleSYMB4jQ++/DxujSPQCgb8vGKaV4wkZ+4vO9NxJT0xmicWZEv9Z8P/rYT1DzcMHHAUchHT4ZBHXAJGl41mY/OUnYZP5PjcOq+qHozWEpdvW+yCFg2xNTmh0URcbjs7OEa5pwstPauLeO1WddktbZdSJRtOHDr1+x0Twy3KYEWCxqLQi708xaO3lPEa0UVxOpz31nYnErOsqGQG9KXvh+tCbg8Jzr97Qv79WCRkS4W77YL802scH0mGrGvPgOGJ787obnkGZm1ol40BwXwI3mOaAPVLxQzX+jblQyERfPHpZBvDeicRQZr5zXRAelY2K3rokMuqDtKJtBUlHye5B6Kt9fXKF1raMRXZvUGl6KpxJr+TtUkN4x6ahR0Kv5IQtC8tev71YWRfqt3Xtcht6YpXVlftE0P3zCJ41HcdugVpOQie+dj1y1nvtWy5ogDmEC23XEsbE+aQQy+tqp4/ORafx0hYGm+wS7/NJ5MsggTixvAjKoFtevFeGd8L3eyhI4+cpd6Efi5pLcCUfnZyvOTaicbXtblC5pLNz7SGQQ2EOR1aVWoWXw023ARrs9bh/k94+FcvqhJdH2bq3iBga81igNs3VMRb+wAaR7c0rzPlVKtq9kg2J7ts4Dhtu38/xGTfJBQjjue/yjLEWOde28QR/UEfyTqZFlbxvjl++fDNSSPBCf+hEjc4PMQfTbn1LJ/PlE2GyamaIBoVaWqXTO1BXFiwdm+SU24Vki9uOPJ9Nbp8K4DT0jM9ah+0Nph6WcwI3W4/KJSqxM3QSmlPQZzscvrCXX+llDVyYl2jIJ2z6MLJf/QNLqbpa7Rgx94OsWiDF5MnxT0bFhXatvHf5FkRahc2BgmW470NWQ0MgZ3ihT//bA/EE5nB4WherVRt3MfhHraV/79blVviJ/4mTNZI/Af9GbVZK9X3iBYEUGNW9aXXG83y1aAZEqI5i//egaZC3rX1SQ/k4a92z0ObhEJFBb5slJWGZAvr+yFMBmkWf+K0m0n+E6reM1BuW0qE+XX6LF6kRqOES4h1U+cBQf5nmA3wpoXK0dfCLxZP6Im83zYXWWFE3oOP5Jb85aKLHvBKiit/9Fn10jy7jTcdwqQeHvbakUbT4nO5ZgywvuoXwn9SMNCVR2/cSgDcBbUZc9LeQA7IAAAMAAAMAAAMCAwAAAKlBmiNsQ3/+jMUKjp92jMAE4zU9S4VEzJfwxxGBN3fNr8+N2TNl1ePySSBwn70SiX1rwOKQufIf7m66sCPx+aGzUWnZ3UuOlEnbTt/RL+xWztTXAdmpzjjfbjIx3lJvcXjBHUX7ggNkql1Ftv0PmpoAKk9StxLi6kn+3ppAkE4QE28P9vxDJX96nmbIw8P26ZTFZCaf3KSR41U65TdwnqhbBXHJ26L7sFBAAAAANUGeQXiFfw9ox5WA5lWvYsMNxQvEUNAB+3iMdDwp0OyXr3KsLAAymYABVHpHBQa7LZl1rAelAAAANQGeYmpCfxK2xnkcK6Ugo/BFaXHmUAJMDcUSNZ8tdCr4tcvh2fn86r7gABPOf4HQuFJFuFNAAAAAkkGaZUmoQWiZTBTw3/6Mxi0VQfJ6D2ZAk9aDfEE8ACDf7bsXRIffWKO7Q60I2P1LC9uEeoZjO38w0v7xPnhz7Qf+AB020oXVEvILL4GLQgAAAwAOmv9EzCtUTHOwCVhgnay7xRIk26/j/d921TLir55nYuo1Noj3t5UbdRGcL27PFXlY6RM8Zp6H5a4tPS4NjRR3AAAAPQGehGpCfxLiCZ4cFoxrP/4gBL+oAIeWfshQ5nWNU27GPYxSzS6NL4EBMwAEAwRSP4+7NctGdWl+5gmXwfMAAACzQZqISeEKUmUwIb/+jMamX76WOl5q+AEu3OzMgixUk0k1olgCWTIrPdu0I/MF8mM3ZxA0YNeJAtJ1ljFtpJObGxxMJ9yqrbvEJh2R1Tw7zQP23DJXmHqiZM4AAAMAehvw+7XDxISDxrX3uxf/oZR+W00SKkCYtCnXBokRSkrMQjzFYm5h9t77talfocQ+iLwF2Omk0NpM/2zH5K0/HLqCoSshV0KttVDme1DV0QPtbeufYlkAAAA1QZ6mRTRMK/8N4pDf2lHLs9QMBS62aJhN9zoNx6Nsr4nGrFCW/WAAEWMdW35ZtHQ/nIf8Am8AAAA7AZ7HakJ/ExOxo4yGxCQAfYvLYrEbpCCvYbEfdt+uYm3bLMpkhPCVXodTdrzwk4AAo9tNBMOYOuK/BbQAAAC5QZrMSahBaJlMCGf//jhk2H8q80pZJiReEAHG7eP2NSLLuCbGrd8m5AcWRJPPw0wF9esY4BSXDqmrmwSCagAgIAAgI5ADOh+3Nb8lUX/xq5lUFlPABNTzd+Vy3P8/db3vqV18JlvFgi6QCdW7hUq2l75rlE6NaJ8t5hopvtgmG5OD1SZBMxKje97tqmgHf86zC7PjfImBfgiSekrulElmcmE1Eok6SklAv34aavjn6CrGqKIxymTkKUAAAABcQZ7qRREsK/8L3w0nZsgALYwim8VhPVhe1AJnSiZaB35iND9bh0u+I/qWP77RJ5F4rynpEOuviJyUK4H3kwo+Ugqwsn6D9VWTWtYAB2fMfT1iQOl4AEwDkq1QCDkAAABPAZ8JdEJ/EZltNOsALeER/K8RTU9cwaV1QXldD7KbghxyvQ72p5cOwo+9m8FSsPiLozB+LHpBds4ri6ioG6UkyTUv7QEGAAOmtsSdZmgKaAAAAEgBnwtqQn8RYFiMeOgBYHNP6NjZI3PpkDDITBVAm9pNA3tGxDJu0JbUtMGyjPt5/Girumu6wPRSHAAWu7AWKy4vJaLMoqAkytgAAADOQZsOSahBbJlMFEw3//6Munwzx3SG14AGqpZAbh4qP0EnI6L/zcl31C8z2/K17QxIiRmn52W0lsF3MfKojNt+si4Q4//A6pZurXr4igAGNlmx1RjtUPYxOfQ9tn1drm5aYxW+obyjylVITQ+B3Erng9El+GyFbtVWCuoIbFDcuHKtbK97tqmjouYPO7zX5+fLxE0Gy0yKJDHiGoO22VnHnzddxUEJBbL0h+dfkufnJCtF5tjJxk/07hvAQAf6zUqTypyAC3CQYkxnNhAikkEAAABQAZ8takJ/DyKakRjh277Zpf0wNTcK2gA/ZCxJsz+2z7Ebh4dls/wdQ1xURfJIiEMISMXGkYKwA8ReAAPKr25VflIa1hOHGsVUAoCCMgKcDAkAAADQQZsxSeEKUmUwIZ/+OFnEVMnVGKZUwHh9JCEP4nAEHyUK3NCNRDRpx3jXTg4rrLMKfrD++842wWopCpNsAAB8X/wYYf90SsrWWzVimLM3PKX2RQIvIIMdvfCsQtvmgeb1s3vu1qWswk/Pnu983Lb+aP2xHdBLUEho77X62jGAYED/1AyhkfJPzAPm4cKV0KX4H008hazfnaxU2aGDfcCFA4W/n/x4Vtdf1QwfH34rmsXmh/TJS9OQqUL1S6o9RiibYcoYg/6TF3s4P/ZUl0uFsQAAAFZBn09FNEwr/wtsHUSLzRbdyLPWMiPFY8qblO2M0h6zbVtQwRtDHeoVBTp34AN0+98p1rvgN2YNfZK9LK2MAAEFoX8eDub57cjO2krKvFDslP0ubJAHpAAAAEkBn3BqQn8P58N/XKeHKVcc3otPNCmX6seXX0QTh/Z7eVfjSr1mpRQPubL2wCe+k3y9U+jWsgAEF6cWZnjGlntxWv+hBNK8eYpeAAAAxUGbckmoQWiZTAhv//6MuZYqqbg5QwIw29AoAWUtDr2cG8+DCYOOa5Up6AAAbuuzgg9F2rku6S34y3U0r1Fx00kdQIremw0APz44p/nFBwlqlAsDk992tTA3Ou4ZCzEkVj+DfweHc2jRD18OSX0h6cJfwxy8BI9lgdZavoAMIeQLj0hjY4rqvUAkxxEzNuq4IxOnAo6yeucm7W2Np131eenFI/Gxw9bes5cnd+XVa8AgpspBYaIMZShC5PsuxNkelxjwgGLBAAABI0GblknhClJlMCG//oy6pN/q+POT0NQIB0LY1XWTjAjAAIUhbN6kuNvOXrP8eb2nhmstS6Jj7QwX5fmnGFyDRGsVndXQoXZX5rWtOCRWBdI//54/0jk8xWyA4x+4GSGycLcWN1jb+EY9suFeaWJ9JBhDfVtEGrxSH+YmiYwG5UByXvlf9E8oLmKY7NzAlfD4igyaczaxKSzfloeBfN5UQPob/bWKs+SLMcCiilU7tGUm6TUDIZID37o9bUOHke0SvuYnlpCQZ367U9EAQFkkudiO4V4JkUezQ9P46m2PUOp0ucu0dECrs+UuJ8jZOBGO9+AhXQqpit69pCON4m2m+J5ZouB3z0AuS/zQhHQ1H98buvZ5HDwwxS84OcrssdAF077aBgAAAMhBn7RFNEwr/wt3EwvAULebWguVoNuz4WPSKkyLep5W5y6f6/hPYXOKA4f3OZJ/Tfk3P+aIeKTAg8kKGJVcDBOBTVXHIO+TrM5wmow3V1BHP1yVpJem1O9g1nwS6KDmsSlnZP1cNjzBKp5doqPTF9fphTFSdi6wgkLSc3IRK1oFQ5k321tJl8qInHDQEbToMfkw9ydR7e7qjK8HGBOdKWTEB8Jj//Jersmo1F3hLesZY27cwtGv5hLzDC8sE1iVTXWFM3NBlwViPgAAAJoBn9N0Qn8P/Um4yQsUiBKfWY7jlcm4X8AEZECkBoP0fYO1ynqAwYyiphahu3Y2XcoAA3jQl6njPsEvFngBsxP5ZHppc7zvDhwloEXBHu1i9WZLtvGNPx7HQQkokxHFgNsrKUxkmJJ1gzGfiHUnHMN/IYCd8kVmBIe/12IZ5R5JU8A8V5DB5GdEnvu5AKT/WA9KCdEgAc0XEcZVAAAAlAGf1WpCfw61BcWSTV29GOEEmDxOKJBez5Js0VEtrrBPxd743NQCI3kWLl9J3ICMAAAk/hjKvTRlHqKwmIArH6CJKnfe9TgTFDf6IE3qQhMAax/2EnVyPIC6zuhckq4GnQp3PTW0UBV0dJ17S2Ga/r/rN2dPdj1WzL2q0bG/aV57xQLjowEU58YlFpTFAIgZgH0goIAAAAFMQZvZSahBaJlMCGf//jhAHbv9XHcDPn3tFikVS8/+xkq82x8AIgQiYFTTkMBB/ThYSzM2z3U0/eK9gCjw+DcwWpZU4J/efSP4naClnpZMiqAWjGvcl0RPUYmV/Xg0FMLjFsel0151sRpUvzhpnXVTe6GbMiQeoDq1bM0iV+Mpv0B+hmnlxfK4pNEmvNKVB30ITAolPFjdjLleegtXl+3Ti3pEkqd3eJnmHGr8SlOzX9eKLbJ0aEjROGJDAVbdbchcgap0hFNtkECwASmTJZzeOgdxSd+Iv7uN/T27sAG1FjqIepDZexHTzGBP4VrKRXw+zRqRGfGniLL5O99HhHxNsoyE99xl9IIkNNok8xzW/MncAwmlTGXTYZEeGBrO7tjxEjK7IJiqx5mPO+aWCBUefM70eSrttgjstOyuRQ35tF3Qg+wg1f5YN7rlDfMAAACUQZ/3RREsK/8CKv43OGaUOQoPW/w11ee41eHQs1IgLvkAQjdQGkubtiM794xeABc6Vbyg7D/lQgYza9LlKgqSFcvaaOLJv5qffaxxD9yQiOYcK5/GwYGyMAhpSKT0CJZNwkJgA3xwvWDN/pLCkpPolaadUwCvemfmq06IJUhkJdKyvMqQmAbSw0RRa7G1eeS/QWptAwAAAJ4BnhhqQn8DW6Q23BNHC3xDEbpa21u044u5J96uDiAmilNegA/r/d2u6ltbC3dEjKk+hrVwKpNr2PZrWgjjUVGIYzsUbWj7svtvTiQvg50MNOi1eI6kec+tzpHvddG8UaXg7godAjp+NKO8U9p9hlFF5PGz7pGeDXsYbopetEZ7A2uD7qELQqC6DoNp/s8X4M6YRpqU/Xd5O5L/9gAW0AAAAXRBmh1JqEFsmUwIV//94QBssnvPiDupiysAyrcnetMqz0DiWn/Xwar1bwocpa1w4wVbBHMrcXlAe3FoFct9bFWhgLZlW1PynlpYXXWxLWsahFXXHX8LQVNn6l0aG1Cde+6W9SuZMjEe9IgaXug8/uY2KHTnExEGqRjfKQ7RKKBLK1noOZQ7OJF4CMH/3to9gTx8/eyIHELFjMV56wYAy1lzS6BtoxlW7d1TOEK28UrqI4ghEV/j4prtuaWYvjl7AbT4KuU/oxzh7HjI3AJ3d1hY14lmfz9F6HC4u8byqKbwjJWNHE/yZOHskJ/qj7TAGgmLdp0jUCRnDnoitnGJFy7x3v++Aaqvsd/wioZE8Uly6r7I/cXqSPgNctkmDokvufZRdCitwr9LV6FcjSO/4W3Zb/rhTW+gGaobG/6kURtVmWWRRxs/batIEPPvmEfoxqusM/2WJ8Ewh0jhhIsrfDJSFw7pwNbeB4AbyagsLEGv7aWgCPkAAAD4QZ47RRUsK/8JT1viGDBe6274XtGT1hkfzVig/+EIKU9i2dJEwB8zKPA/hmBUE+XqlO9/wwz03WCtk73HHMJG4Mz4tDo0ZmT6qRI3T943c17w6bvMkyiJkcBTZqGBmJPJI8PmLG7SV7ONiexbt+I+UXLWV2lTGZ8tOlhUvml/6K6R/ivOShDBcuj12hUhJxQMcEzDZNYkyemw5sjuO2iksnzrKN0c0xdOmd1jXDCwcKOE4tPsHxrWY77m0Ppm0m8ebSB8IVH4JL6a62ONEOA0EMZE8ivMHdrfrZqUJ6vJquETeV6ZeOAr4JR9/XWRhqya6ynqOF/DASMAAACeAZ5adEJ/DaEzLV/lhmvAJcmwVCZv4MS1eRT6hQzABpAk5GgLGBEUHtZ1Q1vTVxj5eiIalHNx9CSefkmxN6DT83uwbUmSnfW2Q2UBCriq5LQTH1otDC+BpwC3ITbiZEJdsidEEJhH2inrOu12zfiaqsWHRsQnF7F4BYB50d+KLQAPtkyoyEWxH0KlvUyIErcLDNn1eRM4SxKXg9AJA7sAAAC5AZ5cakJ/DbdKpduzhquFfqMdgMZpTf6kmvXny2Ohq2UzLn/eC0Gjwf8AWHtJOBI4f1z8WMSaaCycXkT/wA2I8gucexeT/ZrASf0b8iQ7pWQB3IYb48s55Fx4m7s9eNdmV+u/OfzhdzSk7WB+OotjBCj7wmPo11pWnrDn7uc4E1iSxcn8odc2NVuL+d1YJp/zaVLbbLI3LnAmrB4jXVbyA/+G8AqXRHOSimDcIweRJaNaOqmG4XmYAf8AAAGjQZpBSahBbJlMCG///oywBzMJ0131CADon5PKgAqnBvkiIKuvXXlcx29hD3Ci18tqW8vxLg5ZRCZPzK6uhVMYCqsjZf3r7UYRM06nP24XxstyiZdIob3hYK+hI2w3d90m8XwikZi0JWrrgdT4sIzFCrt8lJH7vx1uGnj0mYyQ5Bni4e7sMFOs9r5ax+ufDcu/8KVgBFN2ef9JmzRpQdlSfORFPEBLPVmASxwev2t2OlCNOVbAoHETSQeIghmGQUEfBXFO2YGq1UDiPXYa99TDsPegE0SkGRfTIK7ztrxyCm9hhccEQQRn/ouZ5ZU1Zi2D1RuL5w934KeGmyFRn5komx147XfxFoUAKjcUOAjKjq3niG8gyKtwEBTt4oGxR7xhP0hrwklsG0M9/ebjavSWHKGXF/5Zsfc4U1GpJf6HqgiTNtcAtB7BMvbf6UxBNEWnplVaan0wDhB/N6pMuCsG9mIvLIreS6b7AbPxjwqAYKBqhkkP6zO+fQrNdmXcWSkrltKUsolpRO4qEeCN9koJzK3pFPc9VQnVbvywxOuEolwApIAAAAEYQZ5/RRUsK/8CFKJbrvJq4AKDYhCgQ36dyoa+z6RS3ot6FcVmfJgGjCtkqSQ9RuobiUpA2QIDmTXsVljnfwQ7EhkemEemCzbmPxdeE0wq3brrKHHFR5MhWUe9m90zJHK1lfoJkYKY/4sAG6qStTXdVeJwLYjfO61ZfwiKgJEcmqbItv/KAjwYBCo9KIky45wC1rzs2L8upQ7IOLfmSEk6Xt8VXjzaGN89MpINWH+IxrbUI5eQUwykJ6cNEJhxSqIty+I1it7BBpDvm4wkMmgtflw2g0BR2Hii35QW5Pe7rysGcoP2ij82s7A9piti/2KUjHAvFd/BbrUJLm1stEk5fdCRLtdN8pQlKylo+nXjhkLr+qtFQjgvYAAAAMIBnp50Qn8DW4F1RZBhl/j1yF7BP/7bafgybHF6wz6ADddipOtXKxHGHyva0iiZsOcvvvMBcmxGw2Y7vkvABzzOwQHYO4s+a9X6QYlSU9P5OMms3SIVQgVkDPKmwF+LxrqaTGom0T7APdzdGG4Ev8p1a04JcbNXTuGyaNVfi8quHXaiF0Vhn03IoJiE5NE0fsLulIo0U2ajDqPsXj7epGqbKxyfOJrHxwPrcoER6IuWuTwshkuMefCdxWqY1aJ3XoaxDwAAANMBnoBqQn8DXSueQtMHojCOiHxGjRjjNPW/hIAzttlvbzaDuvkd5DdU94ABcT4b5JW3JFM72fUviKY7uZ/4kKsD1OTMDBiNsnN4dam2WcSm0vZ5WpqIw6mFTs1iM3QM2GC/JN0NXckOz8btb9miA16JXXN+jlHDO3+5BSNV/7EMT8HDeP/YxALI7GKKEC3IXRZus20FSEmcTQvrQ/56AZj3MflRyBgW+zB8UiP8vPHCdUVdcoDn5e02o9MdzTc/Ah70VLInX2aeuPJj2KW5gbKU4DpgAAABP0GahUmoQWyZTAhn//44QAmqdxUe/Ym0BqPzIgAi9XImQD054l+0Om/eSjldawkFTtVfTiNJru0Tax2AA76UUm5o8rH3N8HADN5E00Zk/TNU03lkORarnh/GfbbAdlaNP5TsAVg7LNXlSWKyUWwWSehsDtGOzAZOYOxNbaV5Gpn8xaok+ICZARof3Oy+S3KVd0G18bLHFrFoZGQluxwLmra83eMyS7cnoqUiWSOUoL7X+7KSIZo/4kENmm1rXXMrdJ1+wtpkW4pzs0pcJWzGu9sDP5uRtjrrf/olwkbTOE1WNbS37HV7eBsojybvnBppf5Oe+SKJT+F036xFsMVQ5nNabUPJJ9NurryNFn92rJDY3ToD+CabFxXKWk+zPqG7aLU6FTSYKHw2C10qjmfFsz/ZmUjLjOrg40SQnVR1T4EAAADZQZ6jRRUsK/8CHFPm2lZTbQqx/yikZ1ErQ6yzGNaKSSOdwR9AAC6fJ5jhHtpxqPfWlAJuj8OdZfm6EFsbDPM6v+UsNep6h9drBsPbuKgKVzt6ketohrxAPA7uD5nkc/RKMw8XuEQpqBTGT4JF9bAEiVGlne0fi29W6e2FOBxe689c0bTfVs9x2SSze7+VEjLCbZz19cIoGxbGJUqiA9yxtn3u+Pj0PlzO2Pq9pDjE9J6lJndh7BRZjqvQ6UWVbYrxOaaVqumfcQQqVaeMaeEj2RdqoU+U9gzpgAAAAMEBnsJ0Qn8DW4Te49ciM5iAEytErEo2Y03CErV13rGq4N6R6kpDhaJkaAbTUqwuAg+vZibVe1uRpMhyYPij+OGzQJRl82x4sIRsfGEUijSgmPPDV6qboLDufTN+jbeZWgEpa9tZaHdEgLUeHAUh1UP7A8gSoijB4WTQ1pdgPmwlDjxDzX5hNzD4cBlM/8ShVFzHc5fFmSCk+FhamwLkRwj8aFhMLblF1rgiSpynIy5+7AbK64SRmPccaWVZSTjLtYK3AAAAyAGexGpCfwNdJ4BbgHx/tPtCh5YCNDglOHoIXUR6zVyuEHafgBnpSd4kD6yXIbIVJVK5j/n+sy8RgkRos+EPXvnMF81DG2IV/L5A1ivwC3tBaJxVtgFqCihQKGNfVKgvgMRZ3Gx9bD9NjVN7uonP45Jz7V4RuEQGynTXr6IH0tz4GjkIYpeudrvoYxXMvcXKlKF+N/o054eFzPJ5HwDjQq9RnGDSt9LaxI4Q7+Hkwn7/ViEhGOFVGbjMM/fEq+YzJRvugepuxB0xAAABWEGayEmoQWyZTAhf//3xABfuT7EEM/qF0EgAsNVeKSHsjZnggBUMe129SDALNKYUL2g8XW8uba4KFHTcUKwMkh7MMZONgRtTyZLA0JrJigZ++hTHaiP/o+T3W8LeRBbSsWTOGe0ocQpoBabOuDBPEUM9wrgTkI9C7Oay9E7zVm5ZnaXwwLd+TsH8nM7Pau/9ggwAOzDJ9a2RNGcycGnkzycUaG9kDMu0tf6aK5TBMudnRDeNrCGaG8yi/uGVvPi1JT2/wjWi+8+hMuAFJkE62BDDKVi3rAzG3sWPZCVdMhAbXpoy4hQR2w3XRRTmuR4/p+nspz5wn2h8nyGBdmyN6E5EKCNNoVrOlUtQnmgPwf6EAnwG7VcGFBq5vxUGgOHDt2mihhWiwm9U3E+LWHX38o4lR0+MWxPMzk2IZ+8pdkkT1P2nX7+7BuWsCdyJwpzSEPYHDLFG2VPBAAAA30Ge5kUVLCv/AhxUCEj9j245uRdCAs7Tctf2Yu5CAD8n13Taf6RgbmRzJtFS5xkZB/LJZslFlr2ZLvzlHMQ+Ow35KgAs42JWdI/15/gAUDLNOYVDlpt10M7aGKfu1kFjBIX028fuKIlTLglz6EoYNOS0VBbhclUxWuQjOKS2Cbfjc3T3vRuk2I0tWv7X2w8dYppxwEHKSr3rF3+2vFd1ZMfCKn08FPQMw5CUTzXYvXvzsP7uVyGRI+HJVXE7Rv4OchIzaTvoD+r6/IFKnuPqGsh+JCGKZ3bvtbBKd/CeBvUAAADoAZ8HakJ/A10nVbopQapw60h+55Lz7DXq95r15WWvzUCFUqv8q/hS5MB3MQar4AQpinrh5vS6mT/Pxx4aEzU3WpTufAPp7k8WQS/C8PFWE0MO0NL6X+mI1rcoPYMuYi4/wwi/Z8iyrscD3p7pHME+QAaqXvTvJ6l4rtp1QReCJNvoc/Qbm2jwSM/eUayOyJDfHtvPf4T2S5uEVQhftVv+62lI2LSp4kEGAwl98n0rKRxlGrTEivgDO3iwuahpU/l4/bqe64trsqN0VOygQ2GEDdcp6yyXuEHq0yRZZdyflo+LvWRG6PgCXgAAAXlBmwxJqEFsmUwIV//94QAkskVUB4/Hvo34YAXwNXskdsOMxnjLtdxCrq/hOwSRnI5J3Ezcmn9JswJo/oKOLosOxDMwUQzdZgv8basQt0Sy0oqwGaB6vrr5FWCwDPt3ySTEHRYscWAECQi9eDiBJ9X+8r9MuzhMpgTVlLNUD2kKel8aZyur93YGJSn9BgLQtgHmNv5fu5zBQJt7cfte4kDG67IrNoPjOIu4xyZAm+ogwSjGT/Gg9mZFvjB2btVlUunQNP7WKSyXOzSIqZJ2v6H4IHbHYSnFVimWgnZk9lBNS9yemiqo45VpyodEQGhC4+bhRhiiIE8a46QsSrTX8SWwaABZdPtUq5EIjNkwHgDzSjymckMJM+CKNNGgWqvI05+V52H/J+o2U3OxSTQZgw/vYYbCt5r7rdXqqUAPDziTzR42qXPUfzWmD+PhcG1RMyzy22mLypwMkCeK6Wnauqo9H+iKU8Z68/ffJKowyMHGDX/3EkOndhpooAAAAPZBnypFFSwr/wIcVOH3bjss/17ANhNKj66C2gK8p6UWEABc4HPmdyNCnxj/rqLSRdHdATq0NOhgBZ+X2oa7XiFDxf4II5yxx0b2pr1zOvXpXQAftjay4U+K+hbIOl1bsECUul+9LXFcb+w0ujOId5N6U2rNbTwqjlnD44v+laDZE9wVbwxa4n1hg337QHlMRGRhn+2DmzMEyaprkPhio/EXkM2ooDeC2n6baUDXimP7lQG6HWi/Dcb4VX1SejRyq2gs9AhBGQFQd2VHVcFIQ5LQjFukg5JuoE+FA1qsCbvH1yI/r9latjy0NrUzvFjpDcl4bdGAZ8EAAADGAZ9JdEJ/A1uJ9uNGhuG5tyP5HODg/b7YEAHSLacP/U4OsJAoikKREJwcHc/bdaGomnxEzzpZlhKPCzMEkg465CkRY1S9/K32RHOgv0JsuoL4acRvNteHl9XstdNJsFUaMAFSUm22MLr8XVcciW4e3dDILJkBrdrC595M0AeMoubo/UUBFT5QVabybcVehN5t7Nyi9IC0W48aIMznmIth1orwsTHOMv5Hj7lUJf8wjh8c+UWJAfy7RRORiUZcbtSvi5eHdoHXAAAA1AGfS2pCfwNdK6cRPYfet0zoQz/nPaz9++qKRbyyAFu4od8JY0FQpQ+LaeKhSJqwZhps/2RVyi5LG43SD+b8rKL/K5z3NNnVhepNmmxMLMBdx4QzGkWJWdku/GcUrLna4Dzyl20vE/z+fn7Rg45r4FiDDeCVb0SVDfl5t4NkGAMbUDNQI7NNtQI/EHChSTXCBROiTyhhLOyZG6c4xcBwTYZSC3WxAma+60+kh7uVZUpOVSBc5J+S5++WFpkFRVtPBbdLGxZSjJ763IsR83RkQQC0KDegAAABfEGbUEmoQWyZTAhv//6MsAJwhUGMGAKDHDce96AoENMmmlCrvsCMQPcVjfyH52jMbuH7CGBhLcrOpD6/+x4ZrMuep2/9U8voDWxwAWZ8BromSVWL54C7y7jzGfDmoauhe/tuNcLWubjvHVYmlVYecRoqRbooccYhBOpP3amCtvDhML3hM8pdVYmRgpFJGkpVCAsYsBSpbBtgba9fF7BzRBWvPn9M0TV2uWvcIRVHqy453D1n9P6/pDo92VjooQQp+dZpnmF1wNAlTyf9WfUl327ziloslv2OApp7J6OVOq1QycHQqKgLHgDZlqoCdkqgbYep9fsfGfVf2isdQQhuJ9Xv4ycHK6yiPHb5TqT9ybKyDOlRM3m9oSzGc442Z4qIULR3cMdiU7O9YclWkZIO1XFBbeBhlJRhM7vJ++mBN4fbZ1JH4Ga7tPzHUJddMs5098x8HVvLe9rG2nyYCfOahvCSFitP68XKLq5lcnP9N4GU1bVdXNtENiFGAAHdAAAAukGfbkUVLCv/AhxU7zoT1Wa8wa3lwmhSgCt9yMGczL8bIZmI4o0GmH9NbkqJzCzIoVrLF65CVEwguzvsLEHGrZEW1D7yfm3+ZGOHs+QSp7lpVK5n/t1VdF0WAkz/L4eBIqcHgBs9ooL5nSxEB8tGAAIA1+bvbIO18ImbgBHTf3JBW8iezVyvdMHHJo6zdXEu4G4qV+rnteAFX+TQ4wO/FOakAy/bfIqtMBNJH1fF2QsOdiwtd3NPqQwU0QAAAMUBn410Qn8DW4n240kuPkevYBotMS74fGWqACVHO5NUSlJK+4eqck1bS7HvQixRn3WwMfFlgPbKNndp7Rhc/M6rYBYO3oA8gu8Me6S6PBWgQYAbr0F7R6YS110DZ2YuHR0Nu7TRIkNviDRvMHXeOH+6mhQ41cMydXLiEvQmZtRuQnCoBZSI1bVREdutqyS+9j3gE2nIrr5zU+fd2sVSjwTz5ZjI+T2YLH2AO0dqMPt6v55YalktOWSjWGewGApPAAa1WwDPgQAAAMkBn49qQn8DXSunET2A6ROErr+VFMQw8XyC4ElU4oYoTmgAunjx5PLjKwuyPakJ4jHxTvPl9GvDmzsWLAZIwECwJY9saMzyiJXNlTCneshixXni6PKGLXvq5X37VJSJkqdXBBfbuZmUSROsq9AqA8m7wf5EnbrQ9dt7KBKw37D6ei97bbL/QyL0vssIIvVXIfFN0sy133qwgNuQOCk+t+qbO1Xs4pFiGb0WpFADd5A7mrBRbJ6YWQUrfjtdn/VHmGTLqUiGBtLUAZ8AAAEGQZuUSahBbJlMCG///oywAnPTeiLkHauvgATqyAE+RONR7xEIDdpPIjfaaqRSzOyGNmWOxNpLcbsHsvcliTpoh5Fi136IkvqSh5XoxdwL8UpRU7c5oR7/2nNI7V3nVZIbBWTxu5AnKO5+oVMMwoZj3yzwJ10DAu1GIyFUXaT5XRdh9/YnKgyu9Mz8278L/0pAlsGf6BTmZvQFkBL8VMpriTMiXO3X2v30TrxioLJ7P7dg+03E6KuuYvuIS2v5H1suHGcVmR6uf8YvWYkrsWOV30UAVgNJkpVadX72d9VuMBqFHvmky5oaeK5auqj0xNia7BFYoHxp6hV362ylTEBwDMjkdQADugAAAN1Bn7JFFSwr/wIcVO86FIHExoKkyC8oLqGEQyAO+ylAfNHGEzDuABHYD/8TYOImcFMKkvVMSPqr9pGJNFoeJJhWrscxajr3BZd6wwm9+reK4hNfCiL73q8/E+3GgrVZeJMnriWc8zO9GZPGcfDIi7ny80KCQgCOLjua1ilfemqpjAqZ11HMkFfCy7sUaabJq1l4gV1K7XYT2+YcO+W2Pix5hVyH0XFT6xZDCd1OSF1SEO+Z7O6Z9GXS0V9h3ZRJlOuJm1aOy8hJcHDtzLSZh0UuR9LrzqYYP1mhszA4IQAAAJwBn9F0Qn8DW4n240kgtT7Uo+9rnKaqIEcADjHYSWwxCmxE8OmW0SBLHkMMXcEo/N6XTdKjaSJHezO8ahDJeWNKDDFV9Xg0KPzCfh4bMqLnSk7hjL6Zi4g3XKnveIPhBSkMll4A1SkScT1lG3UvgHmoJ//n0wQn28ReFL8u3k1o6B9lmWnLEUSD1WPlYnftqVqbxByzMAWpkgUUkk4AAADTAZ/TakJ/A10rpxE2BTFhDoBwl+FhgA4LmVMey5K43XGxJoa36c2bUthADU7oPEIRluKj7Cb05xm1fmfoMiyEMc0VPHe4AyEFAShxBI8pmTCohYW0zdXJeXPx+lsaCfQp2cgHq/zUb6Ld4FV1ud0BsdBlInfHm7/uOI74VsjN+tbcjPUGImzcTjm+T77+bH5/iJyc0VhUOy/x0rlUDie6uQhBOCE3WLGkg7bKNcWxQytk3QvrEFRzghhdux/Hpc3sozjGX4RTq2YqMnCww+YALRIPSAAAARJBm9VJqEFsmUwIb//+jLACc9N6DZGfm30ALXkGFgpVto7yvRhk3C045hUZqbtwbDKfN6nxpAf4yng+Bo43JBPUd8QqYJHqZ2I0jsnu5mPXBl9VvYtundpATjkOxCZqiFaxkE4Dk4/4EAcQKpj5+G5AY0J6O9gdbhuv7u5CCY+4Iz8DlhkVGbzvWBXEg8/KEGMq2XEFg2yYxHxvv76BL13pMHNCORY11WQ0am1MJ654h7yFBRXoFskvbDsk/pf1X+sQOiKIpD+KGCbgCfeOexLR/PaK8ueSv+tSHty3SVNJ7EAp9PMjfC1m3uENBBux6JQXtdwGgOZ4wqvTlhdzLNaw5IqIEP4LKS9/dVTOHTQoFnpBAAABUUGb+UnhClJlMCG//oywAmBwuEWcud0Lp4/Ea4I5ZiH4QqdSiLoAWs+wtX9wuBcfLLXJ/aM9IF4eWz3py1P9dt6WggzRaHEUY1nTWIJ9jBNrKknVKFvspu0E6UKO4NULPuNB11BAGjTGMUFUGE8d9iGTWnnowZAFn8YyYj63XzIvD/R2QI/fvrhVinNPH2VRHJ9iVNHWKu2l13er/W2HqF8mJa0rYsE6RANQblStqKVRECg3Q5K48NhjM8SAZlWNtOVjFeSdvlUsQpKAbxF7wkzgNaskpXXci9bsCpBQO6voOmNCsbU2HQnt4P7O27GM17iPis+6SGXUJIOAIvAgsUiR7Z1ZsPld7SM6eM7iU6MLtP9INsvKgu1w6uJeag4Cp803S/QHIgBi0RBl350gdt2L2FsAete4yEIwKN/dCi7r81+dP86/NBoqKtkgrI7fm1AAAADsQZ4XRTRMK/8CHBVxGD5ljgGrjEex/y/6UHq5MA/NGHBkkx4NCYbxCoq2RnN7gMZUFIOkZqipHIlirLwlMT4Ed7Xp2k9puQzRHBVgwn42/IaRHY/w5tQKPu4ZMPq/mefFbVE0ct7fBCgF0DfO2p5FiHDA3qkDmviYyiOOGwJXsOBLjEFRKfbo1pZhR2Y8wFSdz+AMK+H6a475L2xSAThyNJq6fxx3v5erCMPIb6J5pO9vIQMvSlmgNBxxiN15rYMQ47GrwuC19PY0+C/flyrhJo0dZ2QKYcyP6rsFaBaZsuagDa1Mm0p4nCGEBK0AAAC6AZ42dEJ/A1uJ9uB/xd4mkhjkWdsAFsh6pp+w7kBiwthXeL7xboH6vkaYpGPig/nhwfNoFr7nls3g4Xeqzn6cT0DFsXEH8wxH9qSs4pGVJb3naatsIDmPfdxI7RcVNXsNtTDL5+/qDtQZteeAuqNw6IKxXCNF+jRDu7p2eSRRUa+Hxj730TFvoIvHL1cWg/tY0/K6vpJYnyLhigP0qMnLF2gMDBu+5GlI6p2tKcdBDaesbQAH5G31RhNxAAAAwAGeOGpCfwNdK6cQBhLpKzeJiIAV/61gZ4Qdhtef6xQv+0aiNhg3bNf2EPEYuccDyjkj8W6+Wcj939VwX7hgwQXrD2mUUL+RYftxKE3wN72nLzizwWu6rjT6mW8xKZ2arNULP9vK3BtW67IuVth7RMRiryjqnA5rCKQu9lYkG+8EuACw+Y74u2kuv8Bqe3TR9OQbX6V12KIqpl4R11e+w8mhyiLOFaaMgsXNGAABH3TUGhWlp3Cq05uQs+LwwxAA/wAAAVtBmj1JqEFomUwIb//+jLAA6RXDKf/iVYWgAaAgPK09YdMjKPcG8mEYUUBy/XV7Yhuk682ZFwPdxhHlG4ABzV/iOdRLl7rA0/SbCWtWIivIy4+cQavrBH6BVaK0Rfv5YF/UMhDsjjMejWnsZwHyVy3XJb35lOmd53GvsoHnB/zvbcCpiRudNVDylarviaNPGY6ZStzdmyun80jbQBXBQMldD97Pc4Dg/lOSTYVOc4ZV5oWepGWgqRy2MsL1S9zg9iZjL5I4GjprE/jcNHKCevbGaZzLZeFnCotYlvkNEkfRdLdr5fDvUnT3QIDvkzpiPCJ1wwWQy1ez+MglKYgn11sAbXNB+yWGYS8aXeJ7Oc9roPV6gqVSZCI3yKX9Fb5p+u6/fqd2qUvWIlc3Qvq6yBxo7ovfD8Kto9RdVfxJaWkn7cv0ng+DJz5sjVWKl1kSnu0FyDOGdlS+ejAg4QAAANxBnltFESwr/wIcVO86Bz0aTGVcxfg+nhYsHp2uvXyXldgDbybLwPP/X2/nSX4AugsycWe5E1fr+V5EjLXAcLPzu4+V5HZQyLMHLLvqAAVFkfB+K3f9bQPIkr9HLJQIhVamZi/pdwrDzCbruItGry7+yqIKk2iqbKsRGDH459GFw7Iwrhce4g47UvD4Mb948rst5zFUbfUt3ZJ19d4CapRIxwY7lyTnfh3zl4LuelGYgDnTgyLHuXHovJRFzGe2plDRKEycbrC/5HMUv5dtKlS95Fc+qH1BbhkhqIFlAAAApAGeenRCfwNbifbic+qhXHRIXrdTBTWDYx1eDtm1CAE+VMpH94jEqP9PHyh/nj7i7yAwFRDaN624+KO/g5tYL7FVObZCJoS1ahujnENxalJMKsLsvGocPn2YVHkPs8ZKPyH5bHhw4pc3X1aZEWpuZH2d2LvcF5HbxULidDwesgUovrZccpqiZt/1h7LiWc7QCifWIweIxd+DWO1HmbkM2ACBpDPhAAAA3AGefGpCfwNdK6cQrL3ARdGO3/W3X4JqnCpAVf91Jkz1QACdO97triC/vTFzrP2N3cZ/4F97LLta+aO56P+o2hupxTVKTkqbeJckgc5iKNNYptFslQJv/rBI+npgoPIFeoQImZ9mU2g5af+vzi5MMJRfU3x+ejQaC6AjD2T2s1Lpyv41WXtRvgTe7HpnaXE/40ypjjkfLpFaiuBKW2YyCb10cLXv57vV3J270ZRAaZvDJeqNo8ZpaJXayB/q45jmUa2JhvbFmIJKL3kn4UkjsO4Pq/x7FjH3PgSMuUkAAAFFQZp/SahBbJlMFEw3//6MsADqa0+Bp+l11KEyNlj2X69ihsZRAp651I64z6s91PIOfkFqX+s/10XgHht6NA4evHIZJUaiX12EZt9HWY3g8V6qYc9CACHdk/yIeResaKlvhWNKGgKWRL7WjJiKDaUFfElLowOlHcfMqbWAJxehMuasoWFkfhXfOZh9bb+eVoxSrNiPxaa1gST296T2v1QO0oBynqljPron59FFu4U0WkhBWMVyLinRZx4T4TZAYW4BfzrtjUWWC2oPhVnV+nxo41dppU4APz5HN4nHs1RAhbUdKi1soaCVPoBS3cIFzVoAjKPxmLkNvbVcaGlZ3lx8Z8fFVQQCDSny7bK37l97Vs6TVbBrOQmgohV23WLXsDoOAlrkF8LUy58yc+jmlDUIYkSZdI+Oex3dYELGLUsHIvxpIxFAaAAAANIBnp5qQn8DXeViqhjPTcG4wGrKZPO/jbnsYaNZhhgBbf4636eb8V7DiAOyyvfb6ag8QeYAAAeXVQLAz0hzXAQBq8SCtx3j/4Hw9EXwztU+JQcTJmC/t6xnnLMer39YY5iHqq25FvyWazX75ySw2y/1C5J8lB9vPdce9JRcRf3Ou/3gI4XxVfSWZXVmFol4NLngKzDzYjpww2h2axgIqZj2UXdlTxAscvQqoyBFocJaQqL6iuTQO4Y0C7FIjmqutlwxiOeauwbLqb6bbfg0LxMNYZUAAAFjQZqDSeEKUmUwIb/+jLAA6nCdNdUZJL2BaMvgOAAy71Dft1ppPYDeFrH/+JVXSF5dM2OpDzZckF56A6sGBsJ1Jiwl8x5/rs3w9eJRmo6LaLRHlObSOUiVFNTEsFKAkhuy7Ze8iN9bMyDH4z9KEBTSqhxu9oXGY2nWXBUO1X9tkGYADG5YJu7YIFPdKCSMCRar+d/5tPwG6JIJBsUzkj6bWARU6KijdF3HpEwZuXINdx+QQjhIQCD4sctNb5G8eHRVaLWgNvCrhAAWm7sOGdLCBC/du072MNDLFe/R8j4Nnm2Q1zMrrGxFp4Vax9kNm83Nhu1ijuPdeg7Uku8lApbQJx0NnnZj4LZHz4757j+Kd8TeNlG91muErQxhR3wxElKwdrTa62NOAR8DZpJ4LGYEc5y7o1XSlb1ZfIRX423ze2uhS5rn+U5GMwDy61TtQv4t+WQJm3Cjs6oNGgtOewqSmbuLBwAAAQRBnqFFNEwr/wIcFXEYQdBpPlewX9dadgxR/rgABzAZ1+aCe4hLUgt/U8KiflDynn0TyUtECqzVS9m4Q1gBl0NlXSUN/Y1g+XWNWKMFulGnKfUN7nAYOuYYOV95te4jejy13AFFQTR8MhsUJC8djnlamYfvZbwbkaQco1IX16qihmdpBdfdK6Nr7E/BXStmZpypURU9Edpzci57LgnDlMDoQ+iCVRim84f5yoKYdQ/JzW7nyDxPR3R08eh28ftkNNL3cOqVMyEsPfl+DvtaNK6OPwfXaFCzJ25as5C2mgZQh9ECVuB3vtY3j1m+s05tyd1UxdfIezrhps+UxpOxD+kwMoCkgAAAAOUBnsB0Qn8DW4n24nQ8gSG7XiHG4GPpX0zA+AG2fP3Ot7N499aCU/E/tm36Qe7lJ+l7btajtTiKkIO39WGCFIWf3u6RlrcMYMgTzMuHD7QwR6W3FQtpibY850kdQqRVTRDeBa29G/ed4uxIiUTyve1WpRGyyGrQNAdPZTvPJMh0DdiO2TjPP3YiaDn1wRhUaHtk3R/r6TtCXdlRVPfoZlsOTf/0m/KQbqLcNjZU1+Q82jyoDiV0qSaeMPxL4ziBSeEa1wJ3yN0lw6t9oZPyA8wZuHZU69DWITfOvATwGM3UG+GN9ELBAAABDgGewmpCfwNdK6cQqnowZ7xIA2jCTd4GXZsrPppI7LrdhmTHfm2sJgm1e6QrllqDCqPvjiTfcax9y6iYeI9nW496Mcjl1rArlwp39H8oSzNAO8PVCK3Nz9QYFal8p7hg6isJJF8BmDt64c9VKIRFXKPOt9LD4D8BvlTNFaTr3NFhY1nQZt8PTMiycyYmHeX+nBcB5JQLFFKX1whRG76PDblROKwunAH1YpN3ThBmlz+EuXWei7C1b7DSQG0OYxkolN6KGQz8ttZa4R3VkIMF3t2HRsEXluUv41z/OfdPz7HaNva6URm1cGn5RpHQfc8r5uY+lHNicIwScESglZyq+pRlB2jA+lAEIRECZexUwAAAAbFBmsdJqEFomUwIb//+jLAB9dafA0/QATgu5bhHcoEU//n7llA4xQhWv3SVI7e3pqzbEPAYsZc/A7IBJ60Rz9QrtWr7SJNo/1yXESRvoMYzpCIvqbdtzgXkxk+7WiqRJja7cawcquZTyWO4F+hrb5ETyuPuxJv9hEP8iClF9HXgjE7VpXvNTyNqu0d/3f6kZIbaeTIdJp/yebhu+We+vKCIdzfyM6ZzqxaxqmVS8+ZOG6S4klhyCZMQqGmMa4xkNNvl0DxKm0lrlSZqSo+mju8WXMiF4demtJKJF6bk5bD3zwl1jhEnsE/dwNw3hEkNQ4+CsAFPTRoCrLiN2UMaa+m/8W5WwaENrb9o9l8B+iRqIly9WYHeFsp0hE+3TAXcqsjDst3bydLCzflNkasCGu6LYHcMpeDWvX+1oLy+tnvgwYJ1Mscu0j7oM+B2VjFdW+n7sAC86cBd7cR2E7Pn9Jppa55ppevAO/cCDofM/YIY8v4ueJMouCCFAygQTVg5KLwsS4Dh1U3J2lQwE4BtVUylZhiOZ0YPbLHdaONv8zsOV7QtwZMvQhKyrIaGseUIvh/hAAABDkGe5UURLCv/AhxU7zoQTObYnBlwPTdAhpjf5OgALisSU8SuZEh2MkxZvPvIf9pqjtM4T+bPoC7LdsTj3Ys/Xi7qAKJqd5O5sJPKAIqf3oMX+NRECZsxNUDr71QW3MkAOz8nosu3iV/Kxghfz34zR0jz1Ud04FF7d9HiN/xvsw7jUPlhl4j9lmj+gr++Tk/oCNxJwjgBmEhGxgsCivFpAEaSo/XCju4pQvgNm3bncQRaF/9rgsEpRPZXCWD9+xhFo08S+3r9rnhvf+Y/WqMv4GmaCLLYTTeLlq1YZXqR1ctG0GzDstIMgEQqZMy6A3iI2DSqNGXY3Uq9G53SRjARCFk6DiOwTPyhQiiVv2wIOQAAAQkBnwR0Qn8DW4n24xUns4amvhieuG/cfABbOtPHC+ayImJbcPIEMt8cUiXu3qAWyOCp2LF/8uqi0x3hDwjEcXDpUVUgA1P/y11NMtofJadz6VU/7TLbIytMNWwbaMxG5ulSuSvnX8ZaoDPeBwUlSSG+H/2lSWTRt04Pxoapu3b+xeCGP3svnwrL7Yte1b+kgcJdGzMz9c9GyNbEw82kY2Bvzj8V5RaPSS2t3llL6TH3Rwx+aUDzVW1TExl4Jg/BgNQteJkyWTH2uLcMIprfYLaTUcNasHKjLpf7EJm97uovNTlyvIfhMlWdywAr3yXn0zWftUfJ9IePaT6kinocHP2v3i0laFxwQDAhAAABHgGfBmpCfwNdK6cRGdWs/gAKa7NY9ALeSlQ0m47v/oqmdP1p4J1whnZ6nr/3Ms3hfyMetPtz4XXuOGAsqaKn+eBv4gOGT9ZtVPAqYAXjeKZZ+vPNxoFChyM0ESyZcs4C/MFBVl78nNcYyEXpojVotUv73hyE4mGuTxnNwIGArQx/1pXRGKnb8rRoGDjNofGVLNxm14lmkGTaaLK+iRoUi6GyWtNnFW9IYEX7+ducy1By+55wu/guVqP5NKRMRWjwayAIwwKLBw1JQFy2IpIgYUKEipd+yIwDYRVU31/b11Kd3zp69fVAYNDmX81+T3ibDOkU3o1Vz7kVYgmwcjX9BoQbeua5n7MJoGZIe3Dm2dqSzdUXAl9P2zQOoOyV4uMAAAEnQZsKSahBbJlMCGf//jhAB5/UiWtiZbCafwYDo7CsMAgpF1fXjP4PMABfMa+5MKoyc3JRTpGQy4lVOyORuOpJk5UXTaEUc7Pg2qxsJMaf8tfEdbcWIMms7zvPYiFAOH9CdmTxsOvc8PHm13IliW9fgxPmvzQc9a8CQqKqvFgrvfT3xj9y6ae+CdSxR++EUcx4inf6dyULQ/QR/Svz3jrnpyvH7wvF98RSm9tM0gDjaBduyvma8mfG73b6Ydii8T8D+OExdWaE6iyoKCTmsuDzCOe8I6IhL1/QW6X1hn7ZRiMkSj970JHgKqPwLYjOyuaaFsspNILZBkHkB4d0YHzrtMc98zWwsMo0KtihGOs9vzi9b8qAgMevXmJdTl0PKcORwf9VhQaw/wAAAPFBnyhFFSwr/wIcVO86EERFwWg4/BmwAWCUaLxEMQ2nNe0kFDJKtOuz7pSZNY6EQcL5PEvU4NmChyn/U11CasVeOXB+7BSJlXGu/v8Kl8XjPHevoXfEAoZcTvnQXPHD3cq4/Pzj7PeSlTDZ4iK7h9WLwlXqTZZRhTRsAqbpTWuoJw7nMa5pLPcwN1n10MvKq69i9gVQUjDXHwm6IUNW+3Pev3x6s8SgEpVmEBEa+U38QJObCV1CFbulV2W57aOPYILkbkweNhUleRfiSO66wNXpOP0Zq7oJPkCZR7cT4lJMivobZ3O/bEAw2gKjdgRA3+WUAAABAwGfSWpCfwNdK6cQo+tK9UALDXuHoghH8RW6NJO9VxFHNUKtVhiGFBhMMhuaYoMbrY7zcX0ZPqrR0pqjh8ZyNWBtyXBRxCQGfKSqPic7LHegAeiZM0hWZbgpN4pgeMz2KhaRC+rh1FpzZbXN1y7gYWy1RDnSkKVhTkMO3b84lLv4rc1g2bvL31/iraUNoIejjgZXSwuzO8nZ1TzbqyzsQSiNqIqWiQlRDeEZAtsPo7O4+7iyRc5asAmJLiZf8F6viA3W/C7avPmZ3LK1jX1FA10sGkX9YjReJgptGjNDP1l5jYZpac2ObvQqeU4iwzrxjOlPtmdl7NPiC5B7iDwsGHigKCEAAAFEQZtOSahBbJlMCF///fEAB/fTe3P+ugR/bBy6KHhgSwGcAEXVYtTBqbRnvDG1IicTireBFuBuGqlaEp9sxIhkNpAXWA00BgH2ZtyGZ9T/MZsD90LCCE4w4Gq2/J0sePTF3wOWTNkVFfqBBcDSfrqQVVoNjjbisqUpkEENeO36xGnm9CCUu0jruf5XHg33x5LvPZjxNxtvW8xNaFBdrF4f9YddydaYMIaxlYaRw0+QlSGdD5lg22BZhyEGIIPvNI8kktgNpu0/WwUMCEjtfxVWnQYBJ3eBdfGqdzgu3kyIfnEuYI7DZcoP/nfqOKl369kcqRr5vUiMxkluKKuKO8TMFl5cq8isfL9mSUgh2T51g0P2n7tr1zOKzFMuAyc0NnwjUOogZ0cDB7KKC5LW4ZI4+jiq7HWx8KL2UPw7U2EXre4+KoFTAAABE0GfbEUVLCv/AhxU7zoGvfmfJ3I8W+bsolVoE5pfgAcGnwSHMA22f4cpft+/CYkbS7tS0teofpAy6rnSuQa/Dff9e0hrge2z/0l7M2w3uSugWHBXj/ZiVIGilq5y4lJLgfGkycMSxmhKe7gEFbqpqbNd4BAbaC5GJzwNeImf9jBUwc0bBaUzMpQ1OesgTN/eknwAKY7Coqzb6lszNXVPO7MTsItooZU/+o8cpvbVLEQpZYUj0HNXb+6pS2uo2ygjon2etQChK9xPpgFVNCOx3WWnU9Bx1XtOMxvZTaqntDHHJJrxPoOv1NpO0c9j0UNYoS2ZCZXW7VglvAfXPeTft1d8ng1pVLel+DHKgR0wIkS+fIPWAAAAyAGfi3RCfwNbifbia8iLOAcAEZR36vYf3COTYSpZdiIok6dPMRjlmvMf36uvRxG6jt0iEwkB9V10xwuHuYwEgrGqSZDyRfMx6X0XxqR8Q4eseVlPu80c0o0gnbd2mEpiFSPGOBk5OCWFQ+HUBlaimND7akVrxM4PAc77T8QnqKC6e2tXcnN4F0NMqqiDl0NcT7ywn7c6IT1OVPhW1hcwupc25DgAU85W8yGtd9TS9JN+pHhfC7KJ/0CYkfU4aIIcDfOigHAm0guJAAAAxQGfjWpCfwNdK6cQl3cLTuTEBmAJrjAULbwJh+JAEfT+/7ZDmmqVJgt2nYi3/R2rOF0JSYsx5wPS/lFVoG6rmhway5zzlwA0RHOFn/XhHVy6xYCqXavQtUjOoMp/RMJkxw/8yyY7WgYfmbbhv7WKmbJUwCkzyxhs75EPj53HuRybk+2r6iTwADyV85W74aJb3jEvA2PSg5Z9XTeelGUBrSeAL6JEiQ5PROVEcY/QhFOxL8OOE5BzIquIIp5qx90ceRbGvIQ9AAABR0GbkkmoQWyZTAhv//6MsABQvc03tTev+s1Bvg8OBNzDc+Nsdp4xugW+2gp5v+HOCpAvn/jJHs+PLbjKZrA4lVJJP+hs9dq/5wq1dzMgkAgLqs3/KtgrJTNFqeW4+sa6R6ud/PBxhq/cEmeNdUN9q1TMzg9R+wkGae42K1G88gnn/Sdh/1tYJIgmQnp6sj7ZLit8xJJJ8QjMZAqFQt51LF+BtYV8Gphv4L9Ei87NDu3p4zI+BtSPMoiCkLPhCcV0QU9YyLRXG5AMCgFACg+At2JvVzfqDjzWsUobyqN2n4+KnGtBMU3vFXY5aPb1XYG878ErJvO5aXiGkSIR9gMi0zU6dB8+zHWZ+yF0EkhIQ2Fy+KPKdoI3Omnejcq45ej5UxrGwisIJTyYZkWVaFP+2Al0hIi7B0WLnWlYycfs2V3Ef5UcAcg+4QAAALhBn7BFFSwr/wIcVO86An1QWYKlDsAHHqu8wRPjRhs8Fb3RqefhqTnniI0f+BQfd5GqGP5lW3pzCH11GWUlUfawDQpbuTV9X6Q1cxy+kBRfRJkEyNx9Oqm04fSir8lz2s7xv5M4M9UoOBo2jsndXWo2rdi3MdNZyL2AaqeIoSmGf/wrgqxFVbHRVfe9uvRtmRpETBwzSBy9lCIqpWf9dUkXbgw1gzIzergf+w6BAmN5iaoPol1NYNSAAAAAzwGfz3RCfwNbifbiJ65iRhOZvzOB6C8gU7wAFN67/DO5WDhPKkSCGkW3QvaQoYod9vwaYqy5Rf8t9htprYsSQ4U0Ag8iTJhWQcUhnLshnOIhUpdHSzhltSoQxMzto0MXhWIUwPysQngUi2525HMIrcfRRFnw5HRDxF9EijbxgM5EvdkCQgLv4g7wmXj2pQZTC/4GYfpN5/HTZqB5tHo/e7o7Yh6vBgJ8cx7b0h1z3mkUT8LDQVC7vjVjGhLzV9kz2mJeO5+8HX6F6XkuCLODPgAAAMQBn9FqQn8DXSunEHK8FGGW4NinZgBW+wCRjK6lXH1uXM6160JlMXqwH0kqf1+a+Zl2y+HZeNc5ZeKCT/FE6IdCkm3l7TAnf24qCSUXkiESlAiwHtdfOTJdtgukX4NDgxTW8iu8/Dhw6e8MtqESaixf8f5a8zF5zF6/lqCL26SoqP5FPAai7Y2W+K7oEOk5C9kyXdONXaeOzDAiGVr3iwIRt5dvRasJ/bCalfuFF5iEbIy87vAEEyIZejtbvaFhRFnirZj/AAABQkGb1kmoQWyZTAhv//6MsAAd/1u4KDgMqAr4KM+tPsPaH2ircWTQ4AATiOsI84FYBjEjtXQWOIzZCAcTokH5d/f8HgnG4rPpn3lge79xuDaWBxYUwQDk+k538VH00LnB2Ya5y3OpW+CT/ZbNmUpALtkBiV1wxFWXXO6bEqINwy38PkA5Ghy5YgUPHFUgIRfWi7c7ARBorkjUBMHnwa/DJ2NYlKg25A/uJ1bRHAjDSIPakug285zOi6zxl8z48gGMETWF/3nJS78FNcisUOCuWTvAbZnPAEAbezNnCA3mHRpk0AFm4s3zz1Oj9YLpdfYVzFq3pRJPz8eeNeY7YTRT8xixh1tcYgQjgacHfZHQovSOKMVxFQBZ7E4YzTHXmSIPSabmFvk7XD5nc+NnzMCa3wl41jvzgA2R6BS/rjWuvDKFDFgAAADPQZ/0RRUsK/8CHFTvOgJ9UBBZaCKE3uez0XJAD/ntZ1zYIbPjpzIyo191h9aGkjPdEdi88VmIPqX1kqYp9GnRCOreGkau/WFs9QCk1soMWSA9Y2m7+4DB31oaj1D7VQFfBidwCqALui2Gx+bGbdY0VZ8v81aIig0abDmEnFU9UIWuITRUkYudySkcJCSpUegXppbOeSMhrT/HDVCP2m6KxBFvLfvpT9PU1qqOz+Skf++PI6GGZbIiqyE18rVFuDpEjl2E0PIgFfZNl4OIvmG9AAAAvAGeE3RCfwNbifbiJ65ikwGgw6VxZ/AAQn02ceOK6t6KTqe3ul7k07sMMObLbQL1seCTAd+HZYrbIfP0PLZdUhw/9KaLm2N8Tm8xXX9CDsZRJ3/6gNcdYDUbrPIepLLldcjd/hzY52eDjsans/XC5G4DVAbOUST9Z3N5oZbE9d6ep+qpdvodJT43QglnK0dkLwD5jEC5kK7iV2aarucsthNn0z080cR7DX8eAH50IGhdrdFAysMiogCGJ8rZAAAA2gGeFWpCfwNdK6cQcrwUf86EkN88Sa2qh519Em0xezXbj/yPQAlj5lTHsuPnM1dcTYFFvGeGyOWXigk/RF9y9c6lymcC3d0ZhWHV2L3CIvNO57fldPMCSnboywsgsHEML6RuTpqFihJJiz/eR2FPn8TruVLoQRhC4Vunt6CEkVTr+GvKkUDsupTvDyCxo1nbBA33LxWTsvGa2ccZ7y+O+O+aIFpLsNZUXOnGnR32frxjj/EedKtLp/zy3JEvjivXseCj9s5AmQZ9n4zfxyqn6zqA39lQOAzLXGLaAAABK0GaGkmoQWyZTAhn//44QAAye/9KqAp4KRDoKGryeIWWrfpV8DlDZ9Zh8Qo+2ZDrpqcqEKkhAqiJ6CpVsN7A62b2sx8URwGpxyDF2g1KYOgFuoiQBSvI5lQo0zpL1NVEXhLKxv6DLHWKwFZ9SkD0RME3wFbmYi0M90aIczKZTsDRuv1wQZbsmYLwImRzPRJlR8WkpHN08of1ZR7xui4P1DI+uBJNRBNQWhZIFabbUKvw/yG0IMaZO2togo7KupfNnEXoFM6KLlSuBW7dwpM5le1POrI2Jnp70GF9L/UtPSHINA0NyEADZhugnMUELppH+Ikm3zn8hUr5+2pNYU1jpdgjvCdjPqhBU5fPVzcOq04CWsAihoGLLwld2S4Tro5sX+ofaSfYnixkUcpJAAAA7EGeOEUVLCv/AhxU7zoCfVBZmuk5mYiDGTeHrEkAEqQBL5fPkU7ZUTHHbftYAZcOI3NrgSYjlPGAtm82xq4vU+GmB7Gpkw5SW6pnCMW+qlmdOsl/TVk74Y2WvTh6VTCRTGMoQhOe9wMnXa0Czx1TZzcDQI6SxxDn5oFx8vpFvfDvXwMQHrGKsspBfcFspxUQT0/cN5HZqVZ87v3ndEkWdUh9Huhlea7jHhKnRutHn7Mvls2bTg+EjvrokxSMHGtqHz4OjktnQPfspCYz6+rpIVllQxwDl5zKjUKTSsWHP2kLwbH5JgeKIUkzoIOBAAAAvQGeV3RCfwNbifbiJ65iYmm5C1OdnQAmEf8/a+lPTcFxHRscrQG1+OEfca2V2l3eIq61RRUp9QUhiKA8tdpuHuQL5t8ZoHbR9nyZazL38A/bL/acoJ2DYB91CbSfcyuZW/BeWi+y6gjEAAyk4v3f1aRYzyeG7jHKSz1M0b3pZJaDaWMbWbsUjY6y11dpW4sk338ZFj4DCP0KEGG9ICBKQNTVw7geBvAs4JAUgu8segtriMk2YoAfrY2RWuQI+AAAANwBnllqQn8DXSunEHK8FGuBsKan7SRw6RVIAOkIf96A15qSo64CJtILQwPwV/LI5D6uyvfNGXAgLdxqWrtBub7vbmWBxRwAfQkuznTVvJOS0tTmRV9Sf6VdAYY4Tu1Pm3IPShjmdmx7DsZdD7RgANo5v6p+CcPkAHIp0m1Xpz27HaOA1azpQ1rVZBJBq/RKaMqcYSwTc0xNnpAhlpt+nIgvFwBmbSvjnnBcMmOnUQbYHeKhoWB5NWrICrZpr2BjpZHJFLqt3fqK3SnOGAxr/UTO3vDHiGXZthDdjoj5AAABBkGaXkmoQWyZTAhX//3hAACo8nw9Io2EWawCcBO6Ua+Dw4j9JHavEHMH3EkPWWGP62o+WOy769Gkcl10UiuIfKOU2ytzYZxq3FTSNMyxZDTVHQZdobEoD2KhLi4C+h+24op2JeleZpamYbaMpG3RF0c/iBKnK6nIdkADISh17CUO8iNGIy/+Ny1F68ulkEWN6i/m5ugP0+vlfs5ARcigJbtD12Jw8qg8jugB8EDfT8/5tj7KVbZ7TuXN9tTl2KBo0cqubYbC0/uxRSaBwZum1yDw6sLxh0ahen8/KmDCQCgopw/x5QPuBgGiBO8v5/1ho/cySbxxu9OohiqhZe2mT3TLeprAekAAAAD4QZ58RRUsK/8CHFTvOgJ9UFma0QTNVs3/YALZ1T2+MQ4rEfFx2KfckXvZmhjtU500VxxSQGJDZd/iD8/GD/XqnB8qZnVM1wkoIb8z5yIS5BmODNCgNeTHAH3EWTYXBSKtC4XhDWCijWf/vixXJyyeWcZ4A3m/xU+ZgKlTpttZZLtRDltkNoiyuszXfYb3u7S6Ue4JhT611jL61DGjZlW26dCs6mW+KTsI8ub7ceSqZQTMZN4LV5i3Zd5n8k2y9IYWYddJgLWydysfNS2oGigpNS+nYv3dSLs2hdO56DIXra+XOjEKfp5T69pDuRDQ9Qu2F7jw0+4eBrUAAAC7AZ6bdEJ/A1uJ9uInrmJiVlQckoQmrrV4ACMBSIgsbfpIy4iZId0LncCtsoWLHc8yw0Fo+7FqT5mlNcPNHX84YlLdk5I5WgMhbdu9gygI0kCJLPUERMCVWIJv6wdo5/pugElIEFWO230wRsgHf9k3pyY550KlPYUsdXM+n5S+Jf0kRGXq3fYFX8Sf3Zbtc9wDOu8YpdgVy5hRwuZFtckHLRdtb4X/lm+inLah4fgtaytZlPqT3uOOCGSNgQAAAMcBnp1qQn8DXSunEHK8FGt4mpCamUIAEe57xJZfu6p+bPea7zwIFg/shaY25L4XQuxoZV5QVYAEQjFBQrlo7M+/spqJDZrZVeU5xsehGMphgWndTrGvGTgLKbQ4t5BmFXwmzY05kUQ9u0iWlJPbYutNmPJXdF2LEJGhvWLBbc4sxzxVnMUOwhMWuIFSOMRIBBi3t4ebyAhgZY2ZSsL4fiz/JyY50zY9f/ErnOZOBCpX+CZdt8DmUjOwn7R7vR3lgbWuDTYTwCygAAABN0GagkmoQWyZTAhf//3xAAAucEjN1u3L0EVOf8aU6oOHcheQyiUUC5qUjWpuaOK6rhoWtL1Hd5InA6j8ixrDkkWWYyrPIw7MZBJLl1S+HpX2ukJLkuhjJfRCtIUGgIifoWcoHp22lCrDKj9C10FRvI634gP6xjFA9ZhgxpTLDJUjS026JEXXIiKt0NbsXl8rCrTo0I7xVwRPVIFkEbf4abWAsohtQQosJPpRslFggdo+tUkAnDOP4WgX8CqgBC+lz6/sinXZTk+R47Dvl3M6/2AKoC6HPyE18v9DMExn1pIJp82LoPiwesQDzQNXHgb44ztVw4cLLam6x5Q/aBBb2reuk+8mdlbO/+uPYv6+2Gv274kX9btoxUZVgp1WqN0shm82ZgPT3zf//xHBsi67oBCoRwdvIEHAAAAA9EGeoEUVLCv/AhxU7zoCfVBZmtEFqVFkS/fSBaxt6dgHLuKYDT//ogAHELIQqrAh1Nj6Q5weHCBSfEDTU3Wgy4nQ0HI9Jt88X88L39Y6IF0f1UprdB/Z0asX3ltUPLZsYwYJB5CB26BMiCf0EhWQU3ywKhb7AH7GcV2a0z4PNTHj5QU20D+hycFDjEZDJBlfMRCH4F61KBdhP6UM911V85ExvnyJEbMVEaJHhC0qiBISagy7jEPblY9P4YlvZtFY+bCVNrYKmfJzlMrOrZBfgflEA87T3a/EXqy2cTGicgLRxja+9HHLQfzM6k2KSRGzagcQaEEAAADRAZ7fdEJ/A1uJ9uInrmJiTI2148Y+wxSMfU7qKoemD3WLwAjIvVzEnWPF7XwruyHTMP9WIHkNtw6Y4jRjK6pGOD0ZZbgmuIHNlzL6jf5HoSCoTptNf72LuRiV6eB1+6LanV4+N9h7T5tbr0BxIqfcwWpQ6dBXZQYBKychyv1Bw1aLVZS8nwVZFNV0QawoiXog258PPTBchYX7g4fhnqHcEB+u1TSAfGenl8NAwOPq4SrViOiuhkcn4evN+APAVV5P2i58TrAPfjMkBq9jZqaAQcAAAADAAZ7BakJ/A10rpxByvBRrdCI0awl49DHgjBQYFzcximm6VPjd/B0BGxZnCW5gvOPEP8WIAS+QZSFASp/xGQSF8MH5sjtVq0MwRBPFZGyOLJQAPLTps0mko6e+w1WjzZjOYJruuPfOSFKFgxd8oCdykIRIJ953zsa3CiJ1Uw8KZV7TN2CBkaAIMQjXiNArOw5LDeigxSr7a14QfhVtHfZGwLpPthmo2/RAvCbRx61oBoSPe+H/fLCiWazX4eXKP4VNAAAA70GaxkmoQWyZTAhn//44QAAS7omy8LWytXpQmE0oAcYmmNAZw86o66h67qKDuVoIjjmUs1oM0gEsDKa7tJDRY/ewTPVShg9dPS7jhv8ZNJU6er564UBNnqOztduAzKFjuXSZfzl/saw/OwD4y0/9MnQYLoJt5rbaCXlj0iLmhitbxdXa8UcIkswov756l8c1YSErICDh/VhVAbW1xXP/a79l4aTk14qGXasvU6zxZP1YyFFEHRaMps4GtcAOcPJyPp+OutGQ768OZLlxun8vAfwzDo22wo9//SAQvbkMVlope9ZzQiqLmeE60mng/6ggAAAA20Ge5EUVLCv/AhxU7zoCfVBZmtEFqVFkI1FUIni0OBo7nExvAN1JUxxuDg0AEqsGdRGKBz+TBtN+N5lafyGalZsbI/NTwNg0q6PwR/nbPvLkBMjAUnXJp84tjxoG27cbTLozdgGdxBUNNnCdzydhPeHaUemBZEan0qDga3QaQ1/2W9Qldcfp9G0OwGvbE7UxcY6xGwculnmkgbLZwOhyIj8ut/mwoIb0a4i8A9Z7Md/rW/I+OgUm+2gRLQmZ4hU7PXQhJoSaoNxO7bP3mbzRODtYRAYuZbhzYJgN6QAAALUBnwN0Qn8DW4n24ieuYmJMjbXiLKcRRW8E4BrXPb2XrYqtKTCbyCoff0h28I+XxAAmtuIj+hQg+Gw+yFnQOCm7Mmp3KoLPHpqu3cdvmAIWDDkK2p4FjAjLnLvBOQB+mVk+A+q1PoRvDJza1fRgU4cy7skxHp5p0XaLlti06xw1j3aZD0gPCv4JcDUvkBNBO/tfGuI1PKxIZdXt+pZzaeo/zViNvszUeAkWRlGgzdSQwxetIIJfAAAAkgGfBWpCfwNdK6cQcrwUa3QiNFm0ai3xEM953K/nwR5k5J8iSaNcCiq5jAACU2rLiTj+/TeAsEwcvtaEzMByk5e+gb/JCKGYFsM3p+i6Ysdo1gpqSqavLdkdwEPmISPfzI7X7awY+x7ZoboN2tRjBrFSlKFj07JZh0eEhVXf4IuvOQCHfMqZowIuhOKh446f4H+BAAAA9kGbCkmoQWyZTAhX//3hAAAbqaU309KuzD+tNTBR/DryfMv51/AoftxaSNsPK2u7cu25YwAiYtA5UYyb16zp7fOseqGclLXo5aEnhjktEpjfulUtBgqDHKXzx9q/pHosIojHb9dVFu/ItTUvx2rARNskzbSsSCjULRfQ5g8j/wjl2dRY2+Jc3XH9JR17vGDwgvKrqADpo0YKrleFXI2zBHrpJ4OSO1YLgH/obYwL64AimOL0S8GH1seRI6UVoM+CgZW8AgAIwLFwhkm9IVjKwqgN1BibX/9zxqxpjAGskhwsakSQndOdVo2tXIM99fX4pjGeYsq+bwAAAKtBnyhFFSwr/wIcVO86An1QWZrRBalRUQPeQo9D2y/MKnHb7csF/bBsQAdCdIip5P/Hga2crHlVvp2wvy6PC/taJPyMYMsfKw6/T1QMjnh6lPIluMDIvIMpF1kWdpPFh2MzXnsZxhkp3GA+AXF9OLlhphwJDKrLjLOfrELSIPr+A0XtWsQhFTQHY0M239uXu/uiEgW6Be6COh6T4zX5NbBMmRIYzsDf2TNgAooAAACKAZ9HdEJ/A1uJ9uInrmJiTI21l02dCvig4y7oOtbDtrRxuNEr+84yZ3aWW+/G5U1Wzx3n40ZgWoAdIvSbvVEd1XyHsrgQPsvKOEnfKv2fUXc0tZHnl0i5d5RQRx8XMXE8e7SmsIsUHWjKA2szwkfo00adwpoBjtXQKf4Ex5Ta0yCR4KTLp26PpwQ8AAAAigGfSWpCfwNdK6cQcrwUa3QiNFm1FWWm3EQcgYOvXo5mLph4iXXQlh8Tdg2jr+pAAnG/IrfNZgdnSxTH7vc/zJO15X5oQoxWlE8e3O/cMomXgHdbD08ygRb6gAA8g6o+JGNk4HoI2W3I92Ns/uYfNhEWqWnznH1EThXgWy19K8dgGVylmriL0DAHpQAAAQtBm05JqEFsmUwIV//94QAAG73/aT/UJm8breuh/DKa4Ard+bmdBvnlvWzgYXZa/gOxMJwQQKjuCc7ny1Z5K8E0IXg8EmXW7NcaANAYEFbxgaBrhyFncXYGgnMVXw5UJq1kPoP/woIaqcVwXXQ/0hllGuq9nXnIjwyIW0RrtXCIgs87gVuQK/iDksi5VljCbIxAYZsO8zllzlSU+3tIjIbinVwT8AcxtXG7bUmaaAgVfBR2Ign5IGLNzDVS78vAL3nsdHOhoRdMj/fHdoFz0h6bjFi0HjKDdS/P1n+syMnmhwNRN/+jNx4YwmFkxcdh08kBJFUAeuZSOBZdNFSoNf1TJ+GYssxdTd5+H8IAAADXQZ9sRRUsK/8CHFTvOgJ9UFma0QWpUVEFuDDAPs3mkHFBLrTSMpDzyuPziesEcfRLo1yTgXi/r7YACdXy3gjEkn94TOL32y6oT9mZV4SMUTO5UYQiVw/V/8m8sZfFmOJv4Ip4Q0NoBt/Ac+9buMR4PpM2UNAVt3Az8/9A/Rc+8LMfNV2dfqZf2EIenELZXiaA5HKNzsULZoBHYAW+x/kIRo/boCGvGoWJvV85ohS04iQ2NtlEVZzhTNyAOgNRPPKVd8A9g0alX5dzaxdeqtqvWufXlKk0G9AAAACoAZ+LdEJ/A1uJ9uInrmJiTI21l2uHYAT7xzncgbixDpllh8X1itCI/3YoWiYKjpecXJ7h55H//+EL2NtULVMqrpnAoBFJE0rAc5FUnmdpR1ISebz+KnGdxTx4FfpnDuLMmCwU/zXg4rYcX0afJP+OqioDIeT51P+sr+UeZn6AAthHaBf1Pi2XWShouqykvovQCIFtjtrPXNvxFvfgvDyi1pAVCtZrPBZRAAAA1AGfjWpCfwNdK6cQcrwUa3QiNFl5yn5iJLuksXWjsOo4RveaNeEHO2VphO8wAtqlxG9yk1W1EWxUUPNblvPSpPQxBAAiORFyKsR0VvV7+joXyaG7XtfV57U0oBdKL/Z+0X1G2O504pqQzlQyiv6q5UNsmZM1eEI2oNXiohBKYhdrsESdHkO1r1C6p8NR8I9ORUTeP/hOkistg2YCXCW/AOHDUjfcCEpf/JC7tB7g15YvrkYUnuR+CDRzwVCVuL2fcadIc3EQ6sf3XcXvuaoWtpDJYiZhAAABREGbkkmoQWyZTAhX//3hAAAK1ye6whDXghIArBt42BxSiZ+ydreT5+9wPz5RiKAGp2WHybbIZujZBP6HALS9Xjihc5Wj7od8e+qPNNuvFSXY9AZXRv8rYrGrUXjw9Js/5j82xoxvkPFb1zlw7v89Cm7dN4jdqw+PbWLuhpK5eWRzlP6UBsEG0OalkG/x4aVZZRPW6oodDw02j0ks/4oL5nekQIpljfzUEpY4bz08uKZGw0KNhKhCajfG0TDiaeOrEkA+qXKggI1MFhTcRl5a3CluLZrNLSO8Lz12D12Wv7Z6d1an8oAFVVMGevi6cwP5r7mXbWxu3/8RkfZcmzxFpoVi6JtBOOXnsHvbjtC9svDm5euyfw5w/Mi8VZnJA5YlshtlcEb9bDW7AblzgP/Tu9zbTBohj6/nH5C0Fo92MrYCuhxLwQAAANlBn7BFFSwr/wIcVO86An1QWZrRBalRUOEbx7HXGRwwK64qaVorwHnHr4AACH5RdxUMuA8QesuVmXzP0vi6ujKJ+dG0voGsBaRaUtLolLe26JzmkCrkB28Thi2RBWMpj8EHJFEVqHJEB8GQ/u+Ps5I9FjFkCDCTQ42F+lMtfcKhZ0k8l/xFdeMJCOuT+do8LEtzJ9WoHZIK1MMGgmep8/m5KZLNAS98AAMHsse2lWfdDj1uHDXXHOlTSJAiG9hlB1D+qB6qKC1d655YbciAkbCcPBiiamqGchFJAAAAwwGfz3RCfwNbifbiJ65iYkyNtZZhLZim75zTT4iia3+iCU4pIAEpI43Y00drKpqYsBxk5sut2CSMeN9Q9BWGn9FRZqA7nIaO4ELKCcmA7z9ZmcUAkBMSwy8fwNX3kA92xxdzG4cstOlAcHcbuL9fNVPVGymCrt2QuTzpRzEK9TbO2NqyJ4agHBrEPl6Hiv95fLG9jqnC1LoJ2ndYOm819F+jrDHVHTOdgAm2xRVdXnjBuY5BmHmDzfDCZf42vP5jftZCmgAAANcBn9FqQn8DXSunEHK8FGt0IjRZecoraMhzaFJqeKqteheZ4ABpegBLVZ/AGsDi+Qilz+R/wsMHZh1ULHv5ebhJ9rEd7L5fJCnG3GoAcOCLzVtl5Y/zDTNSzE+7RfpJb8g3vCkNEnbWbJdiN1hcw9sw2U0z7QV0dFLR+79E0vCTMImsRI6Rt338hh3ac+f1fMXbBgj3SRcdiNOn9VQVjegtDZ8m9IKZZgaoGuiJT/ZjSE2UDEVGJuGARIGG5Z9hdimdSEPa80y5sLeRMnJQMzF04hU90HRUwQAAARZBm9ZJqEFsmUwIV//94QAACo8nwl/qR7U+5djJ2kZM7dntZpedWIknQgNWcfPHRgbd4AqBq2yN4hOqKEsdcff75TcTwYWLMg355jH2qr/fmR+6xI2rNK3NRcoVPbRlyQNgr0dzYVJeaEypyeGObXJDSVaHzrr38PfQjB8ba777kNKJKnvgBC+W6s7V7wVUu2udZroW2+/aoxTPMVJzNyJ+nqw/Hb/SP+8Obim2N+jx6qxURVjdNC1wyYYWJLrTsy3oOt+o1sG7PhczVShPXeFakjGpP3oJOZc6i+a3sIKdtY9s9DoNypUenEgropX5Gzb7kMJhTCd3EkTrNBqXNjddY9lspvSffYEGTlhgJ0wCEBmpCbKFZQAAAPRBn/RFFSwr/wIcVO86An1QWZrRBalRUOEbq7NESgQhTXxl1Fl5Zyq95ogBmqgIqBcwR9KQ1wAMwP8hrAKnu7v2iBTBC+Vm18snTnG9WCL3II/yN2x1T++pFIMD/RsMqjtVO94X+YoJgp/6R1TpWf/gEF/3CJ8M2KFsOGAFN9+2vixF096gyjtb78Znj1V8fxkN/jDPCc04Er3SRX/B4ngmAUnmKz29uIYqlooCepD56XxdjvuvVQoF0KvL8m9KajmyxRQBlx04y/iHMqtyAcLRNH70x3xoHq7DpinleYLrpGwTIhsDVZnlRCLJopO76GjykFBAAAAAsQGeE3RCfwNbifbiJ65iYkyNtZZhLB3cgvkw3Ewxpv71rpgAC8q06HSGaNN/zjIU6glcjlRvvjMW3wLZZwGLBC3r9mcgle09JiCum08CknJyv/xwGok+aPpJQaB1qUhsijP4W06hRioebZpjbAXi+H7/ymcv5tGDRujFvuXWduoy5n4VCeC2vkb2SlyhvDrcgzhQojPjua1gosuAGa/sQmyLYqHiuRkTnwhvBqrN1Tg7oQAAAK4BnhVqQn8DXSunEHK8FGt0IjRZecoqUoXQVtMXEAFMziO6q9WkDta2H8mnPC9OPlkxFxxsHR2KYTWaP6Sy8SrrFWDq54SOnVn+JJBzsfOM1WUY48BOZx4zXzaf3nL8fcGmQZFQrHli3mE7IlVsm54AUbatZXrbZhBzPo1OUP7gYNoY/esPHhGkrzakbr5HVbNjJJyMg/mpIpmhoS+OZqY5Svy4X/YQMlUfoiwAMWAAAADKQZoaSahBbJlMCFf//eEAAAMD30XYnYFDABsuvtvKrqBzkRO9KnAEIZJh3LcC/U1nWiUIUAK9t0ryuxJmtIMiNwbVME1jXa09P4KhbE5C0SfFOwT3C8srz7G/oL4LxpWoU9rbXaXER5YPDGWUG9HO5P1zcTGqyq1q3PGNBzzKiCFmzsWR9Vk50ZNKrE7f1NjNTQOZjjSJj2+pVRXS9d5B9825ewbXkWOckwzxoY/E1K893qTjzw/+zIJc1hXZVb1c0h0Un90T3ux9oQAAALVBnjhFFSwr/wIcVO86An1QWZrRBalRUOEba7mgT1GK5vqYp+4kOH3tNqwPFKH1wXCmXhrUAEinW37tqDp9AUSL/n2H+ZXPtoYbqCLabYevd7ASACB2iEy3FH0/4dmj9/LCwoSSaQeTVAX663/mCGLlneP2QAbROBstTsdcCJTypL/cK3CLNazBZ0YvXLSb5DKEL9cfQNF96NK3SKKLDdqKA/3M5ckk0baeDfi1PwYz0VrcNAfNAAAAmAGeV3RCfwNbifbiJ65iYkyNtZZhKBkcjA+VXx9zhXY6h5ajZsMA1gBbbd/zrKRpk1uOV722cVrKckthjWLKd9VN/s6tYI495+YfBNRqiXt9z53b66DHICqRhUQER2Sl6SJALSYHoZbL8CU9IUMdq+kZeqOi6bcSgvwc6CSmpfgWds9NqW2I/I89dX/Akh10zM/dwLUY/YKSAAAAjgGeWWpCfwNdK6cQcrwUa3QiNFl5yWobOKehIVzAmVnx+Cbgdyn20FPiHlRy8r6LH+2h3AhusJcPiEAJwSPQdsC+x9iBePNf/Kpcx2XRMtKKE2/AttAcVutddytnBCOgqRB/RUzWtWNG+D76zZIOxClo8rIcUYep079PmkYSmYa2e2nb14ZaN0dcQ4yADZkAAADyQZpeSahBbJlMCFf//eEAAAMD9k3T16B19oKmkE8a6ljR0qf2TuSjxRKR80afjo7ewy/ALqHnptUkD9rnnAT6jzG09ZxVt0DObrW1IAP98O72h9G0Pl3sACw0WUKrwFZ1TgYjPPtWteOW2m0lhrop5Dw2rBGFHw+E5LioaAXSx3pOIazTl/bbqNjuffQhSdGeU5yfAFYlOZzGECPBnk9IWGJZjfcSh0mu8hQRpnEbISS//gYMPaF3DODx8Pi9v/makqt7OC4scXcem3v7BuLu7lYcV3XHGHOWtZvUVo5uTuTbxdsFFrjQ6iR/eaCbVwTBYEAAAADHQZ58RRUsK/8CHFTvOgJ9UFma0QWpUVDhG2u5oMno2gvbrYxHuR57QX6gi7udzZUO8C4MZONXZGFWY4icatiAIeweH/OIgvrC6SU3/x9m8ivdv41ekHim1dfXKzfHc3327zsNokvklbuFWJFWgJ6rLiCY5OY0bytViCV2UFWlMcZ6vurbr+WmIx9HSP0v0GB5D4tuGrLXjzdrehwuW2Hlaf1Ub5F+Xfo5okEpWvDkz2tbcEmtqSQr2GWnWYaUw4aZYbS+v9MxNwAAAK8Bnpt0Qn8DW4n24ieuYmJMjbWWYSgZHKexs2DCnw2fkc/peBEAccm1U0AUkVEDDRUr7v0UPVS6OpSZ13MLXEOoUwYjTAamgb1eRaxCOY9eNZAW+Dgf/5HpA3oO22dbjcEM8qLvuD/T1WBRky6VDoR5bkgbtkN34t5IpItIcD8K9MIa93dhNVwY4qx6uGQwglWrmQ+znVKX31a8iZUu6bLb393oySLNXU8QysR/80Q9AAAApQGenWpCfwNdK6cQcrwUa3QiNFl5yWobQ+h8t0efahYuyNABbMtq7UTt7dVf+HCPIapFqBwIB28gDqNjKgWRItMnnRp6U4EXS9ajv8lOucjCGn/rkbmbHBev0m+SxvMF97s9u2soSe6v3qBWbdfLVMPDcoajwY+ZnRbHgMHv3xgocBLPGSMqLpmBD0AN9of0r43P9HemQnAidA7q6O44R3NlHVwOmAAAAPVBmoJJqEFsmUwIV//94QAAAwP7v+0nTX6lWePnRHt4IR4iSYn9HDp1YmjfeP0FSkawHIEAi3w6c8+gnCkgxP18+8NQqZ5tcmUxeIzr2CY/jHlQe4aq/hVFjnWWP2lxGSGENpiLjyh7oMNdFBY37G5vrC5ifRc1Fh/avxGFJBf9TOQhouBhMEmF1HNgI4zbXxJP1poG7vh8CLAd0suXCpgVic5XS3wDFh5D4gIFfT4tuy9s+YcrFpo0WXiZEoTFzPWGndlvOjTgsj55fghv9ofLJwPQV1pdd5srKumCCddXwoL52JNQs2eAZWnQs1LmVKbrdTX3hAAAAMNBnqBFFSwr/wIcVO86An1QWZrRBalRUOEba7mg3/OUU+Cym0ForMjl9WyTetX/wUjhYAPdh62oUXxoRZ06OyGsBtjKaeShW9vNWYjHR4fzadNcN7r4ItqR+gMf4gxQwR8QTVvrB4ni7tAs2AAIMH/GGtoeFyNI7MJoRYJW/quKBH13dB+HKMydjobg6X/GspTmyUYhRq7QGJgcp1Wit6TQEZXbV133e4Nu4Lofm+/NZbG6L3iSlLzIRDav+3Y0lsWmgk8AAACuAZ7fdEJ/A1uJ9uInrmJiTI21lmEoGRzgjzTJXkZ1AEPNPBMc4wM3EUqvJ0uLPKHRkMtx287ijyiLuNPUiWdS06BrY9PosdSYgLBRnzKHll6O5m1BpHtPyk4ByqdOBjsKrUmcr0PhTcM78wosgu3cnb8Tg+SV0gdOc7xxrgUbqAxR4txPKTdZ4ehzdZ0rYKvw0d2iedOcTHmDJz9loSH0SHeWn2AcUvFT1h1lyJeAAAAAtAGewWpCfwNdK6cQcrwUa3QiNFl5yWoami3DG4kACcCetAWnXjjENjpUj9m8sk/KcZ79gfGm4X4HMd6zCr62RNlo5diVh8jCDf5J5XmUNNCZEUrqZnsefILstqBWhHL48L0HqcDRTY6Nl34DX/ywaDttpormgeraLsywGXj4hjN+/59nibZvEjk9lvXkfT5Y+UOm1gJkFWuLz0Y8fvheAuOnUoYf0Tvay73Yx2fjUEuYDJCjUwAAAQhBmsZJqEFsmUwIV//94QAAAwGHGGz8X4BpvXxp2c6+tcBz7UwGWcSIXUhwREu8uftnGV5v0Mp9LYHiS0eLpM1hggfjIIaPmlwn43wYeENMsdd1wsQ7Zu/dYERY+XNr4OQS0D2xLJp4Rtf+TdiyCgY9cxZtiyXZNCYLGf3S6QZIF3qVTs5tdfA/joXwF+yhR+PkKuSA9HlkGxHyG4IL4MC5kAJ9AtRCx5pf+DiT91Pperwi7RgdZDZClUftl3Vkg9HxvwvplIaD2LMo2tQLvLZRuWf3wcvcsDIutEqbkvKxh4AmnYYjoNgK+LaPsOEvSozB7D6qt3IszJdCa6fBLT8kbXWBWWalQ/kAAACZQZ7kRRUsK/8CHFTvOgJ9UFma0QWpUVDhG2u5jOZyxvsRhgft1GoAcELDt8vv5/qUX7EDpYKHyI6oNQ9oVbbJzG+egDxlF9C68fvmASDAQ48MYxA45Oy1cY9/DSK6+agZ2OTD2KoFgcfLWz02UNxGV0qSlw658JtJwRQDbwvh6EUNQjh+RzQHv4XtBSVndOdOCupUHy868iThAAAAzgGfA3RCfwNbifbiJ65iYkyNtZZhKBkWnnHxE+gA/l8Fff9C5z72naMcE5rVbJMh9XTiHNNfgUrV0hnwHcD8IDblJAxZJPrAxIk9HOKMv8nSknMUetORYGNpCNvykvzDJS+hII32TGotjID6ELkYZDNfO5R13ROq9aJ6N/mSlS/yDJiW/EETYpzwUpdjAyoXmZ4veHvDLgDt2ZjG0liTrZWnunhEXZuKK79kUakOczZ4XtpK+M9vSr2PZWDHggFjTzy1d6vCfQFrQ2ob/QiZAAAAzgGfBWpCfwNdK6cQcrwUa3QiNFl5yWoamjr1NAA3d9SbgSsjfl9t3guK/tg68VLgxubBycLfjqYq8cxbJXo467n+c4rij92bY4wyFgapS1YAeAoTYLDydUv268p1vY0nxHisfBqP/cdyrcEIndVoDJS5ZKPlPb9QLG+DMnppaILghLS7CMuAox1VQiN0+0DSJ6YY3M938d1ITkQupVkoRh6qhq9BYK6AF3dDrrR+UIvLy6gW2nw3rhSubTKHar6BDZgser3zhqYGwZkHgB7RAAABOUGbCkmoQWyZTAhf//3xAAADAPP/TdBArbhw502ki3Q4O0aGsU7FBqlvFdyYcQ5L5IOWTlq5N/nsK2vAIQGY+g5nbSzsGBVne80SZHeXW5VwdvTY5fe3pyBYlmlgVEd9GbU428Ro8uotkl3yj7/jhqVpM9oYDyQa8Rriv6isEtJsV1N+0OF/FwlTmG+IWY1ydi/SLqeHXAJ2RJm6dPnlmeP5aqgJ7qrHOWOqPC3X60o976bjyMPOe5gMbPb0enLVbgYK1EAXtfuzWUrElqNSygn3fVS7Ea66pWlYPxy02BuSxiT93FGn2eJnD+PsTz73Ind95B7ogDRBPkjv7sK5WwHh4mrxTkQzZ+yCxVLHECaIuTpdeeCovbWoGYaWjvly7NFMrap5WxZ1x1lz9BNL8+7npTwYtvr670EAAAC0QZ8oRRUsK/8CHFTvOgJ9UFma0QWpUVDhG2u5jOZESIyf2bA19NBsYc2KMbOGd0hMByoz/+gsir3CsEEb4gAJ27xPasx5ggiOT5ys3LTiraeL22jPxrm5ZxXHDsfOoCIheK5pNxbAtvgX7sCj7DtWfqr+x3e3yxXPu3IcSKmTEM2vgGJfzd2Jktx+p/cLiw6MP+3Qqel/YRAHaH/upY7Yix3Pjlhoq8ity1EU9hytlZs/AIK2AAAAnwGfR3RCfwNbifbiJ65iYkyNtZZhKBkWnr1SNU/P8ZMK02eSM1vgBuzMiiLZ3vEcz+AAB/Odn7/AwITrqw5lCIvpkT0ZS9bL+fvdkxP/QEV+RV949wJsYIPy7sc2UMbAnnW2HZxaLdeTnfpNsikp62rjpCgPm1mopI6XrrcMW3UkyBZTJ6JbWBqXuIMAotByZk8PF78iR8/h11lM2lCXgAAAAIcBn0lqQn8DXSunEHK8FGt0IjRZeclqGpo199Pc3QRI177AmpOxTH7cayOgnkIAPMMarmDRPALhqNu5TrKinh+KbPH32Fvxdr3xq1rEGVN1U3GEOehnH4GXWSBPDbK3bvWeb/H/pRWNmGDyV3tzjFX0Iwwx4tE5kUEHAiyqCvZ4mrJ/aSBQA/0AAADcQZtOSahBbJlMCF///fEAAAMAXPdU+B+5LqMgAncgAimLgkt2M37jQvWgCO4jWfuiQd/w+SCpVmCkrtOy2c3pZt6PP6bBqjCdEHmjOC4IfM+GeWr9cJlOxGVFIJ7EghUFycIDG/TbJUj6FwzRrhfhoZN1dufKji7/xNPsy7InRtb3N5DwZaJ/oqqdGoosM2J9KytBSUWV/f74IIIj9qILlU6XtQLlHOwbGgpf91wWySZ/PHhP9etCLJLBnmp9LjvDuT5QLDi6yNSQnfVRzIwTVpRhGqeNePTTCWDZ8AAAAKxBn2xFFSwr/wIcVO86An1QWZrRBalRUOEba7mM1cDF7oOlEHl2AcnvSTifRta+pTi54q4Xeyj/HlQLfs9RCrXbrjpa1eL5sABa1BaEPjx7wkVwWiFtivQsjN3BJQpvIyzJBgLEMisVlrPyPmmbOdEWlcrdpmmnKos35vWqGmL18E1fvoVdhjgc6KYlZfxzHlSJyVYtcdLprEv/n5vjkk7KiSXM9TfAcYU2FQRcAAAAlAGfi3RCfwNbifbiJ65iYkyNtZZhKBkWlUHNOkiO/sXi/e43VpSv8ZBAqkGKtILX7Oe89xzzCHEQMVaoARkSiwDb/QC0KxW2//Xzq/3lo5tE+2lC5FPrdSWHZlWD8s8R0uSh2dmjHa/fTEx9ExPZt6n5uGbKR71EOOpFUUdgWJL8Aa5SCTHcAGxxkWCRKN+7+qeqBK0AAABvAZ+NakJ/A10rpxByvBRrdCI0WXnJahqZNo7SNOq4Fd7fWKSevakC36AE1W7DZfRj2qkxhWe0Zx6cc5vkJmeZSkCFF96j8+FRdEU8K/nE/O6YBFq9uGKSSDq6GIAFzLWHG7ifIhUwIAWL60lIAK2BAAAA2kGbkkmoQWyZTAhX//3hAAADAJLRHKr0/AJFBsfL3s+rMx9PSzk7uw1f+blDg1aCgObSLMIO6T340f/7DheUDMQii7K/W9llbBs71IVMyNF5ZATv0tqM9E3/wYrW2oLiYgFr9hj/SgwHGii6A6m31jaZVfnQx40QYgCi8bn2j1wo9W7OBkOCbCWXzevBjckqRLu8WEVR2Jat8m4NhQlg30JvMem3WImYAvM6C44TBwpz/6dp3IKy/fGCnO4Fq1FmPLrR3UBe3S4OsQZZvMujvk/xLWXWEjPQ1l0/AAAAmEGfsEUVLCv/AhxU7zoCfVBZmtEFqVFQ4RtruYzVvtByCaxwA0L8l2Q1xPHkuMjnEJb7aHlbQbAWJBxR2YAx/1jUOwQdDa6XXaPqyTKMC/P8OS5lCoXmJYUf1hAY9DcMTWRYX8LxOHVZe3Cnllqpj/xhKEH1oeTtMiL32TYS5PYFY1Os1pnwc/bhmdjTYMhNawv5WU/IACPgAAAAdQGfz3RCfwNbifbiJ65iYkyNtZZhKBkWlVD1bNx3fcsAST8zABOsG3i+p3HDBFaj03h7sqaYzTlfzu3YFaSn2D2axHadT1I//fjMqWbmkFV2pRvUGkYYXnYNjfoq03TghcNmSZen2mhaL11A+3HzBrXKrcD2gAAAAIsBn9FqQn8DXSunEHK8FGt0IjRZeclqGpk33TJ4Hcu38cjdX6yKard3GY19AoAP5z9F1ECREQUF7VN65pLXU9/KEM4hPs43b0g4nUq0/k4mKMfUs59NMEdp9SjhveUnLyqr83TXfy2auC6VntaOGAgLEC74a2H436x+MZm7/+ShfKOqDsA3NtlEEEfBAAAA2EGb1kmoQWyZTAhn//44QAAAJd/fAATQ6xrnkCSYUw7h9liySh+PYAKcQUnHTNqXx8aIVEDQT2osgeuPFVzT8Y5evnofZW016bhCliPQ5jzceJpd6XYbrKGmCDMskiQhzQHyVXqGVVKTsFwwU7vugmvfPP9Gr7h6dv93Vc/6vFMCi/FP4i1gYKvhuS5U8LT//qKdA1ybuE+C3AMXfuovsH9K/kZUQaGxmPDQf+cOTKLvu2ay5aIFG5Q1JUEeF8Cq+9wuT8Evpfu38s8stQts1iw5HY8oQgd6oAAAAKBBn/RFFSwr/wIcVO86An1QWZrRBalRUOEba7mM1axl9ObrQcSAphgLSjCphWK+sOD8m7rXUEuAD8LnhlQlPwiWDX9B1ACb8Sj5Yc+stpA4RcP7aZtRpFpaCCJsLSHTt9YzjLV/fdU1zS5MaWWrNycMGnDtH7J1niuAEdq6Lt1IMaghYwqEAsQmSW8mnNUkmtH77XtDAfwBgEsSqKakgAz4AAAAkwGeE3RCfwNbifbiJ65iYkyNtZZhKBkWlTqJew5LTlMAXoAO4Ixzm3LjYX7vXQacB3eOYdtthADI2DXESySg6oLxBUD1b/kShl07Wiqg9aqFhEIccVLoh59V38ukopyyl4lc7czhlAHHHvnshEbr8hm/CFUOk7mEcJs5OxOB+P3npuMxxX9IDxQykltWpVbgeFAQcQAAAJYBnhVqQn8DXSunEHK8FGt0IjRZeclqGpk1mBtERUgByKqdoyKToACv48SP4g/nqZdo8Ga+oFt2gx1RrJFRs+zM3b22f460UPjQnqkZCw/v3TvUVLU7TYpkISVFxSQak2C6nEG08yV0mxG4RCHeCCEtRVzUJuEQo3GZLEr0wprilSD+rpf7dGZqYS1faSnOqR3axAWA9IAAAADbQZoaSahBbJlMCF///fEAAAMAZ3U3BIbnAAjI6YHA6ulp0u2vBnCff/lLII5BoYO6/Umj5dJlicY3Ckho9G069LvBImXolMkqVs0iKqNpHXbZxnByatlWDh0zYucs40y50Hm0xSohAmMmRuX5a79KZoQsR+FX3uDbddTU6Vb3a/NPjbiRf+TRcC/78EkPNDsmDALKdo1vRYi7H0YeQnOxcv6ECKqqzGrboVJCwuAshSebkLdZYWgz1dWvc0IAWx2q/QukU5XZpN4P3dbgChPeRcNgeu6wdlvcUJQRAAAAqEGeOEUVLCv/AhxU7zoCfVBZmtEFqVFQ4RtruYzWRpoHbZX+bsfT1KHgA/ExdvXHwXorcvXzg31Z2Fg2eibq/UUHxFgkfNxyq5USUnUVRDg0Z2BbEMc60lceTUrK421YAEPPV4WiAaUDmuNGRWbBKFh+qbOgWwRlkjtwW/nLWhVZrQX6v1x6UZjKNVxD0SyhwElSgPyw7o475vix/CqIDADGBZt9AUAD5wAAAJ4Bnld0Qn8DW4n24ieuYmJMjbWWYSgZFpVlnsj1GZALOP98eAC4qwNx7VwrcPYEPyMKikvmIr6d/eylMBrneTXQyqiK3WFQ8RZrkRD117mZQEg0U/G8gODrI2ZkjEynMO80VpccxfcHZX6dwotGpfnz8fdRiY8LtFLEhp9c5HaeLR6DMb5ihZbjOuER0+wgthC8Crx54laWHLVsqBchNwAAAL0BnllqQn8DXSunEHK8FGt0IjRZeclqGpk+HEJoAX4QlLP/L7rkgRgdNDz4/6n1hLeK4UcH8vnwvhOL9OD3EQd90ztmAg3H0gn5VzzkVqdxIlqEgsXV+EUly7PMId8oo9YwLUyfxi0d1z0InJ1B8Dq31v3eiftAeh2NLE19IhBm21wfMit5jme1gU+DJEWHvSaI7daSJx+UKO6vTDmc44PZJSLDUJtqjMsEh6c4qD34I6WHa79EaIlCDoAIDjkAAAENQZpeSahBbJlMCG///oywAAAK77mheD6be0c/88AOLl1w+ESVk2277Y1lCvQEAJoUuTjHFoooLu3TDQF0uP6h6XurppPJCwZObn57XAJg9c8om0ChDFQ9cB0tCjxoPCs1TBNBcm7yYNHe0PLd2U1QTiAutEbLfM3T5hPrjENc+S92JEs0/fpBAxxJBJ4lyQr4FidzSP7JLRfN3yOHkMF9beRH7ZPdnnkprYxlikilCkDi/BGZqc3Fid4KL6OILSMFL+2HHZXG1/X5KdG58gJ7mQjHJfBQQz+WEpfXsJqFmeSy7Zz4HBAKY5nCZMRbuc3PEqW9y7TrAo4xGii/smGKnoA68m86Egd8KRyddmAAAADOQZ58RRUsK/8CHFTvOgJ9UFma0QWpUVDhG2u5jNacR4QBW+l5aq2MCjEoyoXiHTdvNeHJJ5xJEwQc5cmapdAnqafwkOWYQdeHK8SuIaWYcUd+dOgFphM2T7RFXtaw5kr8GeLiT9mdWPBX0tjGePsdmuh3s1f5wIYVQXfjgAoKCJhwWqfCGj4lpB+4kc3Xthyb+biGiyK9meHJf0JsO2KlnPEg5817/dcB7inL8pFDnEotn8ov+NCQ1VMQv1KWn39essTNGpWntdFblHAAZ8EAAACdAZ6bdEJ/A1uJ9uInrmJiTI21lmEoGRaVvT0/EAaosRxZdrRHayVKlltdFtK7AXK2L5PEGhrNRwlPXay7zpQXw5LE+uugBltHndFEnkv0fBvIIxehMzwaX64YSa5w6Gtpdk4agdgUZa85pPNJjJ0gqqFd4fr7W/AynIXufIMS8Y5W9FOxtYVUpIjKq/U7I8kvYV4pfKAaR2GBpEZhHwAAAIwBnp1qQn8DXSunEHK8FGt0IjRZeclqGplDl9j2DuXZQQXEsVpBUOBQBHY7yKDGntoVBetmv1o7SAcKElaNqkCbZH13lrhmaHAFi3adgvw4YypwL4/ekV1LbcdKP+3swdkLBfCo5YPy1f4jQUf39Kp2WJV55RpKfe9uL6BnUHlO5ozPAu5H69dFLOC7gAAAANBBmoJJqEFsmUwIb//+jLAAAAMDqf1bQwsmz0MVIEOOVfgk4Ng4iPCCOXg5A2Z3tpa46lsVfULizDO0ThuICLVTsCbO6Attat5JOMQL+hO70VvGWBXxmL7EWFJ+hMobq1rWYIrmgORmlJsK1SYr2DD1ASf7A98rZyWzdGwZbxsFTUCedI2RaXDaMk2/9e5P7+ZlGV7ropbpiXeevbem22pWRZSIyU1r/Rg+DOASZAJV32ZSZG8Bxn4u6zWbNsUsuvNxc5Fpk5zg45npUV4vZ71QAAAA8UGeoEUVLCv/AhxU7zoCfVBZmtEFqVFQ4RtruYzUlD3aJx2DnMJxm8SQp3934AF0Dm+KpFeHt3XCMcqLhYKNKOP49Dq+e6QOcCu1IPHsIYAxySQw4SKHvHWLLvSmKEqTFwWzZkl7PE7lHjV0LtWcJ4UqCHOa4Vsx/pC70YIXFstQiIR7OBSg4BMl4EZavY68nNhbjgXUxNHannvWXWVhfA5tU4cAXPJXMooxg9v7xvqkeESSBniSmwEQ2MXqYO+5ON5fJ41zh9zTZtklp4w+anx5O6tL477SbYj6TnHmqd4e5gC9Em98AyjGDmo5nuGwIuEAAACuAZ7fdEJ/A1uJ9uInrmJiTI21lmEoGRaUokVU60tDROFKGHwAt4vUIru4QkREDHT5etp7DFVMu40lmUGOz9ebLpbBZsTvQU+KgnISl5EtTxyz7QSsETRun7tatqRY9uGFKMXvLFvYqSJzoe5lSdCvpx41GSYDcTPHKAq0OIdkXlU10VxLxaK1276HCLHBc6e8FV0NBjNS9C92L+GOODFUodDP0fw8DFuOF4HZ+EPAAAAAtwGewWpCfwNdK6cQcrwUa3QiNFl5yWoamSRFzn6HC7AAEe7SDy+GpeKoHNaPh7utwph+2j351lU7ouWd1YUNRCp6CNY2GT6hrop8Kj3EgDbTvNJ1/3bsYfbtMAIAajzGj6CP+97KS2EWb4UCtIX5jrsiMKh1VDKDNWEjG4iTN/io3+0bGjnBJfhxtsQo7fsgg2E6lGVxgl9a5UNULlnWAxpkFQ1LQAokdEerhJ2lUxxaq7mViCAJeQAAAPNBmsZJqEFsmUwIb//+jLAAAAMDQet4F/yNpMFmI0KZdofp1TlAF3tnq/kWHdMgS+76hG5hnwcTmeaX4P/RU4FM1qxsmiy1PpmqKUC/ArtbyigXrsq5vuBQr9sp4gKE191A49pjzhjs+HIWZ3Zeq0L3uy9jVXOSgec5PXr/WuZzNya0+wyGN55B3EztVJ/f/SEIAFV0i649cJ5Y2coEkowslD05tQu1NDxnjqQ3BBiVgtlTNjJUbgc+Ew3Km3a88V1slWRdePIE0X2N5TxWESokqp+0C3dAy9/ZgBluyI+awKQ/qSxUUEi0HcWbD5XQP75zZ8AAAACzQZ7kRRUsK/8CHFTvOgJ9UFma0QWpUVDhG2u5jNSUNwDrCUvjLaO4MtmfZlI3/0kgBuSnKI7c5alAOjUL9SGHQcBppTh9Np858NGGf0DJeXICOiNSIZqcMbu/f2DO7ESM4BdQ96BBJvhzUF+6MP+aNX1yDVjcVd1FcdysvEO+I6gIi5qP7czFqwG3XQTe3e7Y+O4HGSzHQMcVySc21LxVjvP5IwgmVIVTkLQPYXuSb8geBN0AAACQAZ8DdEJ/A1uJ9uInrmJiTI21lmEoGRaUoju3iUgA6RZ0X56x2J2IDYJ5IKEsYl4rIY+3ayfYK185rW21rN1BUNk7uPamdHHJmX8Ix5aHu3ijz2KLwZnVitizYq0lDv02fpkkykIeJEeZYCU+KHGaoYkc1aL3e09hWutGt/5hJCjSRvDwBMhhvcKfxGO4oMCBAAAAhwGfBWpCfwNdK6cQcrwUa3QiNFl5yWoamSRBjQB6zrk1ldhXBgZH9gfU2iUInPKQUnhQzpYQAt3MdNdmd8fWvajKdwbk0x9OhfCbGEEeYSNqgq7nzxKCgGNUOTZeGtQthWnW3Yznt2JUXW7xrKgQ+j6pwHIKsBvKqGuUSJkCQL/IMu48NgC7gQAAAQRBmwpJqEFsmUwIb//+jLAAAAMBZbtbhfW80AKm2x7eE4hRwJb/2lJ+L5IlnbsLS3FnAXrYUHqYKUHvvo+oUqqqfyKYicQCVTR0E7MTU5xq6lvqCfkXLADe+R7E+MgHEK4t6DRI/z/o8sx9ptaU8kevBpZn1zjcJWDaZHTIi0EwDPRVO6ERq12REW3H5O4mDP44JgfIWl51hfyN4C+XwB6y7mbMnCYTs24opGgu8EWi0TCXrphTmA5rBi5m8WQveoboWWGK1I0Z21a6yS3uD7Ln7KmckYUs3/c3FGa76PaVXPAIqnxR0TLZFPtnJKCwdumTJ0YUuvNX5OG4Sc3VeAFW3V+fkQAAAKtBnyhFFSwr/wIcVO86An1QWZrRBalRUOEba7mM1JQ1YiNrpnBBlVACQMKBWOJL+af1q1vU1RkA2NXUOwtLDV8dXV1nP9w4VLoA298rKnSjEYJRf7WUqEo/1h/zB8bYsCweCevMXB7pNFYamC1sEW/tTyvif5K6OqibGXPuw6IEYhoPw/1vEpqjWEh+d5BjVNvvp9N0CYbuiaxohpVObHim+nDrT7S+Or7grYAAAACFAZ9HdEJ/A1uJ9uInrmJiTI21lmEoGRaUohG4EoyVItYATSBYYTo9Kgc9qOKZqJiCptYGeEweQb/Vo57o9YxYnMN0J7OhiOwoTViPqpaZts+Zd38AoWTywK1BKpV9+s6T0XryD29Fh0jndWs6d2SR8bIiM3VjcR4hIfYVVE2YlaOaguCygAAAAJ4Bn0lqQn8DXSunEHK8FGt0IjRZeclqGpkkQZJOAEU9kKSa2M2OrJCBuKXCG9tWDjK8qiSzRGnEmRYpl1cj4ANrI9yTqkyoAcClSL96FqDdXeafncZq6BTpNQ4sVidEtvli9AmvuG36+J3GyBTG+OuIFX+2N7yvsgFH3Qps+g6y8/TGh0k6xRVEe/MceATC1zhExj2kuMF+fDfd88AFDQAAAQZBm05JqEFsmUwIb//+jLAAAAMBb+ZceqtYh4DCjyq4aJ6hGO485iASfSz/XM1lx0vQNk9pi8S/bibwLNWE4Qh/rI+mlx08dAAL7h1M1Y1TJN4RH/TBvl7oO0ivA4j6stJK2/0QfMj1IO8x3Er2+U/Gnins7W5k3G7bMh2EDAW1VAve01MqLXAOPIxEd6xINMRxrB3K0NGx8jP4BSqI/bK7V1qwGFt3DeoLl2Su2EInBoDaAdiF0AXU+DgUrHSXqznnpDLwfxb05mYpZ40T82PUE6mixYm+tkCL519l58DBP5pw+QH5Z86zZPsvzY6o9oFsvf01tvbb/mVDdQtkLiEUBw19J413AAAAt0GfbEUVLCv/AhxU7zoCfVBZmtEFqVFQ4RtruYzUlDViJPZk+i40VAC3AObegy/ngV+QyRFIAiU1jvz/8rFCS39EhpyU2+Ao/KhmQ+Wh5CjuA4jfUvuMXjogs7f2km0lHcf88fpcnny0TOJuDGTHoWPri3PZNAMxHPhlyVUWaeo0s8Ogz9WyOaly3/jvi9pMVbN5hE2aD1J3yRjBg4QYhOqFHiimQJ7TiObkaSDiALDX6onNxIAA/wAAAI4Bn4t0Qn8DW4n24ieuYmJMjbWWYSgZFpSiEbI560qOIRRfMx2B7aABxYHSCcVRQi4fHZ63239oP8Q/twhA43sIlrVd0cLIU+ia0za/ASraqN2x6SlNMTktt1/GHVwP/0v/yPjH6bS6L8ST6keTKsKrVJF6pcFTK68ml6ofTMPJbqReDINz97PQzwyTAAKnAAAAmAGfjWpCfwNdK6cQcrwUa3QiNFl5yWoamSRBkvFzKMZ0rINmSQ0DNN/QUCab8OACbD5r6GNeqsFTuFx+7CseooDCoNerV/nfDo1UYBoc+Q4PLSZl/Ya3ttZ+EYHhCXkz0C4+b+EkSjxMLil83RgA9b2k0A2nUuH3l1cCpK1JIa5UILZ1p1nBkpTe7U55arDf5o8E1t5ygAelAAAA8UGbkkmoQWyZTAhv//6MsAAAAwFm5ly8N1JDtea/AANyten2GorD5UiYaGCUi9ddCK1amGvM7fLlTsXLRchyzaj0uDViNctDcRYl8C3m4a18+kMoxjJkvxcuUqSITxn8qZL5TC0GtRJr9xF2JDPgZQJsBK8aUJASO6+qcyjgJ8FqDru7M0e/QBh4+KJn4wa2J3aksN+1RxcmYSs17wQSjQ6Gkrvcw/nu3X7015fZphklqJA9exB3xC4mLUtX7GeeVCsKLX0HOQbbfSapiPnLBSICui4f/HJ+VjtKG4v7R4uMqF9l+xH4Z0fUbBRQrXB4eIcAAADPQZ+wRRUsK/8CHFTvOgJ9UFma0QWpUVDhG2u5jNSUNWIVAMQxQr4DXJPNqz6z5RU3XxWe1hRfumzYGY63E1EB1kXgHarEOpswSk1lrr9f7cjyYoeskWjAtJT2RkUKrNefH8AkHqvSroo9KZ+L0iF1lh8BiFSWdEcf9ZEvdxUvMrWXl7MnGA5aH+4pQiHG+X3Xkwf32Rdi+etA0OMUQd1/fFM+gZjL92/SExF++sNqy+fqbl1B5tYc3ODQ9E3ccAX65XkENnC1BndVW4wvzgM+AAAAjQGfz3RCfwNbifbiJ65iYkyNtZZhKBkWlKIRIaclrSVWuuFN6Zwu/OG+AB6VUK8+gn8OdFztoYoxI/Knhk/8wLvcVkGrVYFznxp/1eLM21T9+v0ImqsrHOJ0PESciCxyVPiHurVsrxP9tk3whpLhPMUFUcO9KBk9NrkVXYaQDWGh/Vkm6UI9u/pCJ+kFbAAAAK0Bn9FqQn8DXSunEHK8FGt0IjRZeclqGpkkQJa73cfmYALfHvZGBbboJX1DdCKbFoD09cmV00QJs1VDeIOnES8eBbANYiMyy1KvcH9dFbDuS+Bn2hEgyfOgfkpa3nnyASEllP1EteKBL1vOWxlOF8sZeRZ5MRHB/nq0J4VBy+Ydq+NXKxMtDB1HqBqtjOUSfWHq7hPD4XPG9F0fOrlLdvMwIKv6agS+SKddZoAQcQAAAQFBm9ZJqEFsmUwIb//+jLAAAAMAiLzp0V9iis/fMQDOcToUNigq1RbN8RrwASyPBrR6mI1Yk8b6t33hjxcfjfIqtRjudz5yVVR/336mx7CixOQbakGKnsx9hUmWWhbY8Q6TfU3KfnayaGy63Zzi+bCN8Shc28JRh7WJ/zC4j7S0y3oMhgvA85q1akRft05K0Z/SSPjqSFjFO8e6+TpFWT3/o7uQlPhBcb5BR521yC4Fxa/BfM31UR37MrvaGHhuTT8GA389YOJ7HQoGROGCGnavOgrzC4k4F9dvNCxqpD9aRmfhVau/HoBpz3JrrVWjAh4nzxXL55uR2X7AFeh8bSv9IAAAANBBn/RFFSwr/wIcVO86An1QWZrRBalRUOEba7mM1JQ1YJMy5liBlOGO+42wB8IEeba79QQAmrl44MhKwA8LO67RQHpkvfFYKmRsL4ONr38rkfAZyo1P6kWa3FN8dMjrF2Xng7RqJkpnbo88wP6CJwq4JVmCaeSWePb47Cr/oa5/o9s/qWquZZhxrwspnhZULhOkh0RR4LTAkc3MN5xIOUTiuJhmXIvDiLpSdivCiHPVvbJTxmNhD4hN+o4lh+cYr9/b0VQTqE5kUhoneW3HKANWAAAAgQGeE3RCfwNbifbiJ65iYkyNtZZhKBkWlKIGiHITlsHElLcuS4IpOxRMVUgR/Xf6EAEsYK3DTdT9j3Ku2HbdSe3zK7n9q6D8qm1Jmh1mignQ7o2BdfH81zgAySrd319ecpoKioGmmwj51p95bTENQowuYg4lCcPcYXk3ZfTxqDgC7wAAAKoBnhVqQn8DXSunEHK8FGt0IjRZeclqGpkkQJbCWAflEB6q79zABNAXNSZ/Fq/qU3MKUj7aOjFNoUMB0iAWHoOqnYc/AFEx+YcF4p3PnM/Sj6yMGSNR7JbL4gkKIOGV20wHWKaMssubkVNFMkiPnaQ6aR11+iN6wXWGp3t3yAkv/Uqv8B6WsLEcIzdzhJuSBRM3SF+QQZHJpsko0DDm/wpnUbUhzOD8ltgJuAAAAKlBmhpJqEFsmUwIb//+jLAAAAMAiAXdD254xOzrR8UIHv1I/0M1QA2s8RxkQPK7a3ik8iBnm0XDpm1DStgNlbovXyL2x1ukUHxLtel+tj1XAuM5tpIEFBXBO+FTApIFmEhCZlrB5Qdq+h4WmTLBRMlR98USeADTj69jF7SfVpuFRxYPCnZKUT6we6IoELd/mnyuWr2BqIIr0DD0ac+/sFoSnYxruDI8FGz5AAAAs0GeOEUVLCv/AhxU7zoCfVBZmtEFqVFQ4RtruYzUlDVgkyqSD/I+QgBMqnM9pxhKaHbd0Mdw9KadT/yksnou8JfJmXGXM6AMqQXPnnGtqge95K84LBCCEPy2uAdMZfYoJFU/0HGA+P72HXAhtdxKcpV+bcKtbGj6wVrG5weNVl5WjlCC0K6d9NonyQi2NcxhMh/u1Ksn3tyecd+HWwVXKWBhKv5FIPh9F/w7ihtAcqZt4BHxAAAAjwGeV3RCfwNbifbiJ65iYkyNtZZhKBkWlKIGqvoM30D1Xxvw7Ck3QAW2yX6vcJ5+ErHLgigs/+20P9ps7f6szIKOwaxS0n35NVPKa2L3rsG8C76C8ELNFAd3ipQfoPk8WKiRlv7cwA7HT9L1ICxIi5q0CciBHPJFnOFDRavjnQRdq3IAvscDGh0Q67AkYAXEAAAAkwGeWWpCfwNdK6cQcrwUa3QiNFl5yWoamSRAk3o9WhGbkgAB6viWdE6eNpfsKq1FG5j01kDORROVi4cYEEOT7zriYRWn94Pn1lXyr4O3XfxX8U3Ulyy1Bsb5WrAw6l+8z7VwuSAglcFUo/cuU9hCEvHuq6wJvF2qfUO8LiBMqF+MyOVNoMDTa1d5lYTvthW8iIAZUQAAAKxBml5JqEFsmUwIb//+jLAAAAMAiAXfPXcAcUVGPRg/QnLf+QfKcR2KlfNkZTjjp0ubu0Rc4+xBuGOnW1LduGhJYKEJPzu5D8/nupGda3p6R5Z0TCjbHMDYcW/L78Anmb62Xzq2Z8Bt2P2oMCs3KAkeTXkv2atenach1omovnZuL8pOyXlQ5bt9YPB8a/2mIQNDGofrBSeSbQwuDjNrZawGVgz94EtCfu15+OOAAAAAk0GefEUVLCv/AhxU7zoCfVBZmtEFqVFQ4RtruYzUlDVgkxqOjNJ21gzOuxJgAFrGHWOVVALxV1DsnkSt8zrEfyEVgCUWTnHmHlylR5jiWFtZWfYlzpwM0j5JkDEot5o3mCoAu4YP45voJ6SRYGMZ9/IluW5jJydB32GYYHPn23vLQjJ12slBtq5RcJVE9Hnn8QACHwAAAH0Bnpt0Qn8DW4n24ieuYmJMjbWWYSgZFpSiBrUNCdu0mxLOLyfD8gkAJG7TD54JzyCbQLX7V/82gA4wN7D13/T+bKJLGBj7f46sx8Wi6RTjYArt9XNL5d1WEJ/BsSbECxWJvfhPqraGCYaHA6GPfZ+uCsSHGMJ9gNxToeODLwAAAHMBnp1qQn8DXSunEHK8FGt0IjRZeclqGpkkQJT1+WGVQIwlfJSs8vTHGwNAq2nx0A/mo/AAA958vweo1iHRd1HMN/rsH4/O2X02KRPaA2F3rlvrgrav9nXO4c8MwXffcR97zLuvw4G0mnkDMlHxcmEpnBZQAAAA1UGagkmoQWyZTAhv//6MsAAAAwCIKLm+XR9wIAbFk1tA/tVMVrPcU6fjuqmAb1DXF+72aQXUz5IvUuAPcHZl0wb/Nz0XN0e3tNWk95ETN2Islq4tuFmAx1RXK9Qpga6gArcVo9hyTBS/vDICFwRRRai6KlPiklYBo9eg+2AMd/d4qYA00j53dr7+2vLzHF5MjGeE/YQj9K4jgCZkqwPPxFd8Q6AS6ehsKChPTrOgjG5KLdAbP6ysc4MTsNtlQgA9h+LCBtB7UyvGxm8iozx1VPeFW9CLgAAAAI9BnqBFFSwr/wIcVO86An1QWZrRBalRUOEba7mM1JQ1YJEWSr2Ly2y97yHWk9/jyS+AErajhu9ZvkwbePPq76bCJz9pUS8jU5TRg8WSpdcgUQo7ZWYYMmXv5MzJ42RNstZIo6KYO5oSIpob+zlp3WcZKThFPfvsVpWqkDSnmhY7JCq44DiofVM4JX324AB4QQAAAIEBnt90Qn8DW4n24ieuYmJMjbWWYSgZFpSiBrPJINS4j0pwHJgIhCNkQeTUv+ayK9jYJ8ODEAEzKDVl2cxOPXO+QLW3ciZZTlbpk6igwUc+gTEoJBnrMWeDglspBxTz7X4x6YZXyKQArwvblID1F3gHn/lwujAlAVgOCnsP4zlQGpAAAABpAZ7BakJ/A10rpxByvBRrdCI0WXnJahqZJECWy+pLsy1wOWuAbBdm/QAmje/e5Xg2GH2lSn/24Zso51Vk6Z5D9/op6VouFE5UGZf6ZmrPRzL44J6pGZ5KSJ/fPrFdIsCkfmBuuP9lQDFhAAAAz0GaxkmoQWyZTAhv//6MsAAAAwCIUzfMfQxnkyx5OhG4+EULD6lARUlO3vPKFWZNfdmvZybFmH+KL5E7naicOcua3Zj19yRZdTF4GyURDBJYTvebbwpBVdK2e4vrbgctiht8YcsszS1TR4zvfIBqazNX4VlY4z181usOidN8x/zCgcxO8qakGJksdIKVeMLeZUtGOVEjcixVSTtdlvzsuL6zbdJxVT4LJJeUuVntyvtFDa3cRRG5PryHBwj0Zha8Thbha9T3b5FZlZLojNFPgAAAAKtBnuRFFSwr/wIcVO86An1QWZrRBalRUOEba7mM1JQ1YJHp6r7AABFVtugMKN6yiW0NFmG0nUnjxQAuUoUrn/Mlgg87sDy1ecjqvjqbKGeW9qnsZhKBZchYCXgzT6XBEbw4zQnwReYf/qiG0gzWtdCIew1LPJhbctaxhSorBZ4KuSa2KAu6DQdhxIOEXngtJdr+bX/XsOGYba5NCK8N75vRLmO2UzHsqBV9Bi0AAAB9AZ8DdEJ/A1uJ9uInrmJiTI21lmEoGRaUoga2Az6l8kLHiSACOBsxwxwANuhHwJp4qonTtD5oN3NHeUXaxd4TZFsro9Vke7Cz70itW9/1qAeaDzScyYPCybGYXeftDZO0Ete+ttjdbZtFZTbtGzG2LRi9I29zzsmN5k5iC4kAAACAAZ8FakJ/A10rpxByvBRrdCI0WXnJahqZJECXIfW06b8WwXsrJ+DwTMxjuI5HFsdABMrX10gyKbpXaqd53mUFb+dze78VvfXBo9kqpojzlKKgZfaNTEXeumn3v6Wfr8wCxIzR0EFtsW5ym4uxRaJLSmzWlPOoDlv2mCXZQjx0AYEAAADqQZsKSahBbJlMCG///oywAAADAIj/nCxuy/Qn49e7/QvRwLrMLBZoKObPj8y1VZTkVBJWgpn7B3Ez6q+fhBP1pAlv9NJ9L4eRLjGz0O9b81YY93bnnRNuFvFGlaHnVQz+lMgw6RIskEgAiknWzAsAlHcwSUt0+FOVpTC8hCcNuJ+NS1/1oFzZOCwjxy4WXUI9M04w4MczJBkhBgYVB3lrFwQobdujyj8X0CmLoBfR8yMlaYBIAin4VzeqvCPqy5YbC6fFoQI+Wlo6RmavtqHkUvhP1UxSRqKNqmHtoobDj5B4i+7oRqfI7eSLAAAAi0GfKEUVLCv/AhxU7zoCfVBZmtEFqVFQ4RtruYzUlDVgkcHo1pG369e7d4BGh2DdFKd6oyAE1dSogta2Qg2pS0p9XvOB/7j+nfJ2WCWHjzIhTnvUmpDcG3Gr1Jz4FiCSgI9V4EMW+bWLi4KwHQPcuG6u9Vk1vPeImaZ5vfeqvrpvLPZYBd1DPDAwMCAAAABfAZ9HdEJ/A1uJ9uInrmJiTI21lmEoGRaUoga05wuPkhFPYFbxRMsjumQATS6QjWeQBYw4bwyEsa+AmpsQ1vjsSM6ugx8RvlO3kBJ3QarDmHxDM2W9l/QCnFMv9yyAR8AAAAB0AZ9JakJ/A10rpxByvBRrdCI0WXnJahqZJECOjer9OzKx4ZY8wAQ/Bu/wO3x8Bkd9c+9zt4aW8LvAUrIcaQD9aTHY46xsNKmK1J0EAn3rSfc4Xz4Sau5JvVgk8BIrPIFNBzLeSrVHq+C5zwZghcn01pNfAXcAAACzQZtOSahBbJlMCG///oywAAADAIj03p66zPDxrFpgAFL27Xdh4J8RsmXV8iCXCTYRwZRxMnr5HOs//5G90kx9PzIyA9Q1ABmL1aEWRUxrg14OsQ2Dbdl5s5DLP9BfIblcKLFQW9XoOA4cXUvHXY9SyfjAzOb1s3UvcNu8/UntD5YpGUE2Xs1/yDVzMbuNGalRo0ScgskOvf4fwIuvwaqVjDyJTfX0Q6TkzF9ThcGQAnKA7oAAAACjQZ9sRRUsK/8CHFTvOgJ9UFma0QWpUVDhG2u5jNSUNWCV1yYAbfdTmsoyDF80b3hvr2Q2jJe8Lvwx+WyoxcOYL/q8TLkXkexHQB7LAURC1J1lBsaJT/uz3ywd3Vk86PUO1ohq3cnX6OVyXOaPl/gCPKjH/B6NwuNTx3ekwGvUMvjjQSwoxHo5sbvGgAFdvTDqa9TZX2a622we4czEjNQdTxmBHwAAAJ8Bn4t0Qn8DW4n24ieuYmJMjbWWYSgZFpSiBt0StoZJYAOVUVz0MHX5v++v3x7OaGEUBXmFVtUeNYA3UnkQvV37W2dZR42PXQNEYwec6fs1K6bTNE/CC5g83nmLcPYuHcif+lY3/1I511IXspczw1kTvwtU3G+tGbc9ehCuJsNO/qpbimw20m8dyLvO2hRViTIo8dSyVtwGhNJBD62AwIEAAABsAZ+NakJ/A10rpxByvBRrdCI0WXnJahqZJECbo+6aweV6coQQAL/V0+W0Xip/Y6PUubZD9WNw9Wbq5gc0KqsPkAgh1+ptJtLvrPuCzxoWPvidM7Qp3DGYtinweDaZDc39EwMv7nYEGehKAGpBAAAA80GbkkmoQWyZTAhv//6MsAAAAwAzwOCiYfVmQARKqQVFbDZ7euN/qo9yz4fQEAHqOJ7D/0+Shda6n39Su3dD+IneNbIEt4op9mNjdBtDQ5sSLjxz3DJqVBFisTK3wnC0TrJRqybF4NXqmkenoUdKTEUobnNtZMs60yLDhJVHn8LDJzI5VaD19DLPI+BTBxYjjwRqktLprW4wyiwHHlBCdCq8vY8//r5RBNeXeGpzdme5Ktitm467ynpU9enQwT7jf6+HN1S2KJYuDPh1uWfs4Ebi+5RGZZeEFVVj+pymVeJoFIJBQ+ZPOB2v0q4jNR3+biDjgQAAAI9Bn7BFFSwr/wIcVO86An1QWZrRBalRUOEba7mM1JQ1YIiJOMUMzRtYUFeR1znqn0nupFPdoVtrxoIOUfVqsfmeAORwXLZtd3gyGeppsN/6JX72Ba+ltC7x25RnRSk3tyCiUgnS6VM0MYPozooc8jhPCCIcjQsQDGXfNjaWdUrXfNLMekD//LQyB4+U4QC2gAAAAFUBn890Qn8DW4n24ieuYmJMjbWWYSgZFpSiBlidJ8zCD2CJYtllz/oArCcLMOV1ShJ6Rmb+amJ5+0KdIiC8eIoB7Yp3Q05RAbrq8jM5juHEBwiuzA2YAAAAhAGf0WpCfwNdK6cQcrwUa3QiNFl5yWoamSRAjo26eOXgMwo4gvHROeUiUWEjdD66Q3MHj2ABdlpGSjZzew/Ihdgj3wjvn28znjpEIA4dMVZ7h4JCmXw8NgxmpAm3WGuAJ/Lq156UUUqqONesupWeuNamDt4T41jUI1Pa1wr/0xPy1ohSQQAAAMFBm9ZJqEFsmUwIb//+jLAAAAMAM+kcIKsALDz3eBWhIkpanb3PkW9y7hBwybX+W4HzigzXAcgCokKAWYrkGft0CrIyb3czmWzZ1VNsVaMTO6IIy1pbi6inbSkeQvkCWc7mm/Q3bZ5Q1KORZv3IWH49B02PHJTVJqoWUOiAJ9ji5s1LFeMsnSrVbUWfuBITL/VUAVB3YfLGL73ms3CME2VorPDfvkRXLYnvzyBH1035GFeIji1A3vdyj0hUGhM90Bv8AAAAZkGf9EUVLCv/AhxU7zoCfVBZmtEFqVFQ4RtruYzUlDVgiIk5V/vRRso/sw+qcpSxXxEDIAN+R1G5PskUHhHTur8S/CB7DblWi3XNO6m1G/JKH49Wcb/tAC1efN/YcFicklwLO4ALuAAAAG4BnhN0Qn8DW4n24ieuYmJMjbWWYSgZFpSiBlicRV9WygO3FfgAAfufP8VtAJ+FKRXLQvdx9ROizMzNP8uTCpLpyzMh9rTb7bGe2Ybj774y8jRb3LfjfzHmzso3OiEIx5bxp08EwnsopZoXBgCqgQAAAEoBnhVqQn8DXSunEHK8FGt0IjRZeclqGpkkQI6NlvqPitAAtwCVdNLUlOL0kXVntK7PI4mOVXmDWLAJxPvHSQyx2ZndTPNIfPwrYAAAAMJBmhpJqEFsmUwIb//+jLAAAAMAgBDBABLVc2D2gEzM9z0Ds5ErSwqYCNWA8MexXb9Sc1/3BzO41DOcSYZ05xJMX6xj+SWFBEzfPzncxVX1E+C1BflHxv+rzNM2f04JtGUlQ+LUbx41xqgTaQ+HCextmvZccAYUNe7ih1d6HORhL/XtM/ISBs5yw6FjHi/FMFjpX6t9Lbh9353vBox+TVKaafaRfxYPWU9TLnYnjLjnkLRcY+4z120PMkUCg7+vXlaXgQAAAHFBnjhFFSwr/wIcVO86An1QWZrRBalRUOEba7mM1JQ1YIiJ4Tf03ABbwrGrOMhBVvrL5PIEuobpiQEP0H5OnGjypiC8X+9KetogCOJ51u/XOIwpiNmGbwyVVf94GvTFEzw6wVBaiV8vbR0bruhsBFYm4QAAAF8Bnld0Qn8DW4n24ieuYmJMjbWWYSgZFpSiBty+quMqm4WvTsAAXUXTce5dDQxjHxH7gYa5JJX0hifLSz0/uZ4dzdP/nVuGEr54ohg2Mi0w+JHUX+ATX2XvVGbkpQQj4AAAAE8BnllqQn8DXSunEHK8FGt0IjRZeclqGpkkQJubZlvUoh+uoAASPtOs57E7bngStCg4AJLzZp69iVWMnLo7dR3m7RM3GSXVUPVgn4YKgBvRAAAA9UGaXkmoQWyZTAhv//6MsAAAAwCA9N6fOLDoNnpgAAL5od0zOJKaCIymUIpaf099kxU2Rw6amHf2lctZHor/ypX070F70BALfR7abVEiMiVd39gE6e1IsoWvU0MARue/7snlGFqxtjwM86yb7fQuKGfW5r2PIYDa0FRkYHx6hIJ0EYNJKYlvDtKeWAr8SLEj5QWdNWCZzPvNyaWw9uHBwJ+3I8RvzkaPHIEU1OHYW2xiUSbWeTthHGWhDRs0gP2FjGIHzjfkyRUD8GqiOjzodQ0YhI6ZpwKZrmi2qAk8ixi00DlVe7XC5yjrnBneHMfoPtQbEROAAAAAbkGefEUVLCv/AhxU7zoCfVBZmtEFqVFQ4RtruYzUlDVgiaB6O0YARkXTWq8hZ2z/Lf1PRGsjlsjkmALa828vvOW60f51IL2YxgdEnj9bShOaot39PLGS4meDQlFyoZ4ujYclfu+aqDax68SBsAEnAAAAlwGem3RCfwNbifbiJ65iYkyNtZZhKBkWlKIGb8U/G8L6YAFgftf3jLeCZCErJDI0tPdQy2W0D+kjCp3iBCa/AIsLuEHHlBpIjca9xOnoxvAOIkvJz/sfd4ZVlxxrO/6Tl11D8UL0yMdWaBeQ6UnmbZfNI5YABYvKe4DoJPVaDO3a67PRygQySGlitnbp8uqvlkX/xyqXB3UAAABzAZ6dakJ/A10rpxByvBRrdCI0WXnJahqZJEA/0Up2PoAITdOVKMi6gfz5kCy0litOfXcELtOyzqFiQTtr4/PClXAoqeBhARzB62pgsoth8YWILWuD7vZRDlxpbdenoiu2VSCooTgo3O4qnOdm3iRQGCAz4AAAAPtBmoJJqEFsmUwIb//+jLAAAAMAPQFFYAS1XtKpjT2L61Gc/7GOmDjrzUZip5CKo4v1lz+GwUyWSb1t44m2W4Hpd9L4i7GmzXML+9zJsm1CUNoubEQ5yVZ60G25duHTdBAuicpl1DU1T6I6t6S+BkoNIKvQT5B1bPELp283bDrb1GnL0c/k6uWhUbfJh3Wq8BeaOS+0mmwEsg13Kww/n9LP5sdNMvS4OqM0NQWr3oJiVTjyxipzO7a+zqTf78XHr1uHJ9kbG7mAX2HxipRU0c80TM9xQSPxlnbIPSEElaMCKGs/sssM4375siL4JhUjhnNtEq8VOyeW+kRt6AAAAJVBnqBFFSwr/wIcVO86An1QWZrRBalRUOEba7mM1JQ1YECs/q6ig20hwARf8JQoeV4xifuB3PG1F9VexxRRqLdeC2sdklLQIXEk3bZMJLeBQUNzFfaZLLIL20qPNSJRKcKM5LqG5v4AKc6onhF3ZCMy8k3of+eEQT0DcKGd3akhQtjJvy/Owzx6bwOoV7d1OHd36HJBIwAAAIsBnt90Qn8DW4n24ieuYmJMjbWWYSgZFpSiAvac8EG76+kAAjAKlUfyQjTuViXSKmDZygawTN0avyEzJo/8DQvUovs5YaKVJZoSHvvDCE091roaFOpSmFJoLIlE/GQkTYkozk/Mx8k9a49K2wXeh8w6mKKzLkVKdv2S9gyoL/Nax+Dkugo/4m58NgqYAAAAcwGewWpCfwNdK6cQcrwUa3QiNFl5yWoamSRAQ19dUABCNyMhxDcCHoITMLj/2x9DpzHylkCYSdBfb+bz3mCLUAXowU6KmXHnNOpAxaMnRtAvVE/wrbljgXcXt4MZYfneEAQ8gSuYSYVbz1tYM9dhHfusIYsAAACmQZrGSahBbJlMCG///oywAAADAIARrOADjeqKmT1Bem9KS+6zcNSVT7a1RCb5XWy933WggaiqM63+ovGkd0lqNG0y0NHT0BN6su/aMKmF/FM6Z1Aty+pB20qIjT87Z/9FkQL4pf+E9+jv7eWkh/I3iwE6uC/z0uEr5xVSE1EHdYw3JjgXU9iO8KbuPS6B2loxl9Np/KXLGMErkVU1lObqoDGiyR/2LwAAAFVBnuRFFSwr/wIcVO86An1QWZrRBalRUOEba7mM1JQ1YIk3IU2WIzmwwANn+uXfbr4JYDVgXyMrt1IpECsnsG0VCgMhc4pfqCXU0EfcP9gNF8wRuByxAAAAUgGfA3RCfwNbifbiJ65iYkyNtZZhKBkWlKIDBUe2uoABLUmEaNZNI8UwZ7FvhpQra/TkcvcfPTHgJkR6evMbTK60m2+JAxjjJBhFFIYyFkScCykAAABNAZ8FakJ/A10rpxByvBRrdCI0WXnJahqZJECa3r0AhHNDC0e6mgz713fBGLNRl9GtCrZs5naCHCNK8C/b6WmToIpgNLJgFKK9+1NGhTUAAAB5QZsKSahBbJlMCG///oywAAADAID8Tni5FvDW9IR4TlvqATJ/BmkFPphd0cqewJ9c4+/WXtQyIa+8jbYidHVWsqbLamwsY5Bgx8M8p0xgGnRiJ+zR/cs7sVZz/0Am9mLCH59tG1sFXb7jwBrp0z3QPr25n/d6XhZQQQAAAD1BnyhFFSwr/wIcVO86An1QWZrRBalRUOEba7mM1JQ1YImfPCGmBUIpwWoHSqXH75qHptDvtlxexaNPYAccAAAANgGfR3RCfwNbifbiJ65iYkyNtZZhKBkWlKIGWJxK8GIASNGVbORa8sPHnRdvWaanY1IRczgJuAAAACcBn0lqQn8DXSunEHK8FGt0IjRZeclqGpkkQDi9UJov5/ZqrIUZA1MAAABFQZtOSahBbJlMCG///oywAAADADFPe0YAnDDDlnkA/WVz4xLLARDYaWAX3uJTEUGCCjd5YGs0VtDIes/ygCAM1Iadq6poAAAAL0GfbEUVLCv/AhxU7zoCfVBZmtEFqVFQ4RtruYzUlDVgNFsYiQKeqaSrqMm1ACBgAAAAJgGfi3RCfwNbifbiJ65iYkyNtZZhKBkWlKICYj6t0k1r8j8PRQLTAAAAIgGfjWpCfwNdK6cQcrwUa3QiNFl5yWoamSRAFqDPG8zYA/0AAAAXQZuSSahBbJlMCG///oywAAADAAADA0MAAAApQZ+wRRUsK/8CHFTvOgJ9UFma0QWpUVDhG2u5jNSUNWAV0IsbOpmQApIAAAAiAZ/PdEJ/A1uJ9uInrmJiTI21lmEoGRaUogD6iTGkzABZQAAAACIBn9FqQn8DXSunEHK8FGt0IjRZeclqGpkkQBagzxvM2AP9AAAAF0Gb1kmoQWyZTAhv//6MsAAAAwAAAwNCAAAAKUGf9EUVLCv/AhxU7zoCfVBZmtEFqVFQ4RtruYzUlDVgFdCLGzqZkAKSAAAAIgGeE3RCfwNbifbiJ65iYkyNtZZhKBkWlKIA+okxpMwAWUEAAAAiAZ4VakJ/A10rpxByvBRrdCI0WXnJahqZJEAWoM8bzNgD/AAAABdBmhlJqEFsmUwIT//8hAAAAwAAAwDAgQAAACJBnjdFFSwn/wNd5WKqIn2AaqPMizRYTRafLIAc1gknIAM/AAAAHAGeWGpCfwNdK6cQcrwUa0+QkUfsl8ATQExARcAAAAczZYiCAAQ//vdOvwKbVMIqA5JXCvbKpCZZuVJrAfKmAAADAAADAAADAtr0eJM75NTxNnlIUAAH4AFDCpiJCQCljeFQJESQuBxl+BDR/+lYfXQATAm3o4Vwbo1H7+kdLesdQkQaugfm5mQv+nm9xk3JL2QrpoLtXM69zos7DAn/v1wSEXIXj4NRP+edWsaL6nNPDA7NZTV3gaL9CVM6BSUI8ABGU5XDs0zReP4ZWJZGxwOnpPtRDvvOFj/S3e7AVEefEHqmMU5oGx+gKhq+7WlaVEQySpkujxAgCfXwbLz8ImnuWVTXqBIEvEZXANiTvZzKSjt4tPE+RcRpPHgk/5Ai2BUNhMMRF49mketjoUkarWNKC8kqcqs9xkynhIEdYuGhK/K8uQliiTdxlxr/rwbDVkkMT/NKIOgAamRRVhYmjyHAq7bJirRI5DFr4L0PsECp5NRbTUg5eCMU5K1QAPJDpDGwA+PZYszfdMAHdpxaHGGd5btiGIrycRw7bSTDQnhWxKhHrty0EiSZ/q+J27We3o1oH9SIQDXt4VaE4y38g8q5qkmWIbx41jBxW369oE580Hk7TZrRvOfqZp0Y5lztdD4GF/zgSlet1RKVyRXL9rkdetFfyNtEvRrWnW/Oj9bAd3gN7m2rKSYq7mUDjHOt/CUmqOf7pPnfNX4qa9WoWLA3GBfVHDX5kFh7M8GjUcnl2UXQY/NmcyA3UqkcPqF0p+RSkhkdIo21qzpFu2lEZqupYUvOc3rxwz/B/Q+0QAAJxLvDwU3XFQCKoZzBSBg8xqEA/Fj6JhUqXq4x5LvdwjsV0kxorbpt1KsIFp0mJozUw+uLiVlYdK95JxBSfVTtmpniRTNM7R4OP4A6470ISV+iJS1qHT7lLQoSFnBpr9UoAqO5+0gPTXUCrU89KAzZGaDWdrR8pCQJl+5lch/hzlDTPPlktu0k7K4zpHebSOd9bh1Y5Ge0FXAO2hO1T9MNRpRCwPKCwpN63gmKOT2pV9F8P96GNGWWoizQBFKmJ1isJp8EYXyFr96PCi/6WQvB69JNg6lmHqmEVg8lKGnwwG98mX1Q5auhm8zchf8lIHsAh/DBwwZ//OfBdZWqaJfuk/liAOxa1ybtzCjKqKnnU10rthk6XxrVUDgIqzaV0T/pQv/922A1hEvxfDQMMp670uHK511ekRp6GsRufpmwD1OQer/vEWgT52EoN0QipN8hKDcvOkbVaiutZFFbZ7I7QSQY7iI9DrW1x3vfj78jbf4tnitZa++iqzblzQ+OtzZTFT0UOEiNdBX/OqjCFqsf4aAqJ77Aur6iFazAiRH//k7agRgk0m5N9mlDxAKTLPNr/FrlyX8gucAVtiX4nro3sAoAMwP3RCrUahO4jj3ETuRLmfSkC8QBi4AEc+lzW4+1g9BJc70v4Vkp03AcP7HTrdutg+eXwxoyh4s+2vBf9MJzC0LXK/6JzNuVE3yIXZUuXIC6bau82GkWsL89oLa1XQAbEhaWiobiPhpSeLBjB17zxkpVqh2u/wzCn9iSQ6u1G86okfZYl10bUa+4iGBXbKxaPYP3bz/l88YVkwPvPiAvu2Ocjo48u7D7VEB6VjBT0xAcQ/csNuX1A5AHYRNwL4URlArXiGCylvbF2lvxubyNOR4PGjluQEMWp9NdE/hWsboWEJLN2AP8vMBu4Vvhp4NcP8ZCFdZEwafZiYOQie+djzsORV2rZc0QI6g/q3UFx8DB06AzBZb92jMj/7+NnOYNvyp9e+T3X8F1oi+hxWlXzs1JXcl7sMmSxTD7H1nniCRKF/GTFlCDFk6q10hwwvT8f91oI9egfqCk11IpB/lCJZhduHUGTb/9yUOeDI3fcVo92Y2FfRqSdlRoU43gY6QiXlY+CFStXPattqFFgZGRSHRP6sZ6BJiTdLRaL9IJY3RpKKj5js5Yv6ba0erylWyuIK36qHktc/eFzjCsQaNtwzvjXDDdj4Qm5/uqVJr/tTag3CDSog9PJTKOiwx+G6Lq9wjmnlB2uBvnxDkaIj0BOxaQESiz3W+KLIx5B0/kEK+v66L2E0IVroaeTiHVnxd0sh54SAxLpVf16o8o+InzGb+vCT4NC2teKkSMLV9Z23XfI7G00QTi5dw9z05GgatdcSXLBZ4XlPpDYhYXVQiZ15wNzjGTkM8U2/9WGZYBfJd11SflH8dmdyDWoczkBzLmhFC5r3BVBJAhHMvvOXLyRXYKnk8aPNGsRYX2a0apclcv3fFLhl9Ej7eCbma18CjSEScR+Ka1+Je37d3n7NI0kU33vhs8z5OLrBGHT3h6GhIKasqdYXRjTprGZNVUVDqo0MBPlcMm0Slgd8tCRMadsihFXSKiwQn8+XcDO+0pAOWaM4OopUUVv/pJgwdXucabeH3mUqNCzJLEFRPEhxsrPjv562c9GLuKL4zQWRh+k87/Nwb1VYAKVOgAAAMAAAMBqwAAAEJBmiRsQ3/+jLAAAAMALcN3bAJNiPFmIwJP2LDsvVgvTerScYQIWrvPbRJup4dvEM9U9b6Snk6YpWmjvhtUlciovQQAAAApQZ5CeIV/AAADAAYh+xE22AdE9SDp2bxzNT4EZgATgjA5S7pSBwToIuEAAAAdAZ5hdEJ/AAADABdI1/+S7EYn00hbqgEIf6jAN6EAAAAZAZ5jakJ/AAADAAmvx7xEX+Rjkj5/uaZK0gAAACFBmmhJqEFomUwIb//+jLAAAAMAEwRwLcHrdPb8secL1HgAAAAfQZ6GRREsK/8AAAMABiCpy6txIYp/2Id7ORNXChh9wQAAABcBnqV0Qn8AAAMACasQU/E3UKVY1F6fdwAAABIBnqdqQn8AAAMAAteavcy/XcEAAASBQZqrSahBbJlMCG///ozPQvI9vj5+y7jOfg9TAcV0X5o5hrGzxsJpR0+j+e4zFKgd3rdbiEW0we2vnJxrrGWJ45ldzm49vwblfNKGyCCKfu4JWkxqe63Fr3ZNFJup+Jh0Cyf/Kn8XYwhCvVgpF1/osBlFOdVhxQZn2Q2ROgxV/MYdLYmtoObkQRF3DWU5D9UywSNNejP3EkSGO2TUDplNagDCpmOTGyN7660Jy+GseJBjdwdcn8QX5b4sYEKKPcApH16DvOBnxcTXX6QmXzkx9vh/iKUt3gW193OAAt5MGw0pHrpHBttk2/mR+xw7CCtwFDJ1q5ZwqDrprrS0JNpSKZJiLv9u4Ww0BC5nEnG0YHZec48gm1NBfrsEfAO1+wXFDd83ch9YoF4EYS0RHYm7AImSmJ8U3j4+1ca/4mhXhlTrRp1YAIpreqK2AfdKdGHY6w2DzI0D7eSWT8VBHG+3uK7e8T9fDvhE0vhKKC/s7hFMDryJ6rN/g8R9lB66FW0mztYZ8KMQMvxJvNLzm6MkhOgtTuamv3cQEPRP9WuKvhJcWOHAUzyCibKT8u6hIuKS8h6mxe5s4I2T+pemnb9cw8gKpfm0yL3sBpR0LPOHOxB8iuaZ+JYmLFga6dShIlgxa+P+tAas52j9pmzKTOn2+DUMP7c4Yu7dzOPgPM/9WbictEduYLFFVemASAUPR9ZUGhRbd6GQrDx4ZVd4No3rNolsY1u7msFmwsWUBIb5KC2QF+YdSsHf558snf+Mm4bXVY+8NN69kKndpvhZGpFsXi4OVZnrpVfHlCJtZB9mHFTxIRDGCc5ZmibtX7IEQtrrUoiYHHRBUHGNqrEVXWeBXFpUg4e1fd//3r+OLOtSKG9yuQxqp+YMotNFU1L3Ba8z0GWjguG+baJKW/mTZ0ZeSPvDTuXCD16n/FqaPdirvL5gN31PY4wqk6Rd/UgbG6UgxirNeqUpKCbdDmFHfKV/RF6SjY6KO9D1ZRO1ub+3lEfvV3WIk5tov2zcjKGregR9PiLPeP7RnCfqdyV8ZN22jrxH9LELqjxUoJ13ZNp51CIOSmX9Bal6VtqTcT99mdK0Fi1GXuz/70P9KxEh1pmUV0uZWxonFI718SIObqxXF9033LiISW6hHSzwHaIwTysRB745PnBwGCVsCbYeHiVWjpg62q1+Dw5t6taYfZBAMwhQBXX3P01i04BPt7d8i9UPEprD2dhhtR8nyBvnETQgGZq+VX+OgM7eE6Vn39L3/s/Ll5VaOzLIOysYinlHxJuEL//qep9VA1O+fq44vqIPysaER6yKF0wMz0Mv/4opH+hJHJsiqHO67UDd6A7ZWmz2V+q3WB949zetD3xkQF0XBi+ZOErRuCmDDlW+iZvtxh2Z8L0Nm0s9YSBv2x+8EGlX+V/nwCjUV832whFbnBLqe6bV3Ac0tAJa2ZFmxPaLpmoKUqHPYIH29GyQxsCq+e9BKqHVEhX6ZxLnoOgBw2PkjO3MYprUxkeixbWg4nyc/GPKRnwlEQvjSZRR2cjzI4JlRgAAADNBnslFFSwr/w4BKEeOAADlKIp2W1RRSdvb/7Vm1oHoQVxAAKN7FKultO6zeVfLcU3oCTkAAAAtAZ7qakJ/FSmI8XFQAIrkzkFFz9Hsc5QEz7iipDRoaQ0x0AC9nCmJVcfswI+BAAABHUGa70moQWyZTAhv//6M0zN/qx0ICvjM4AQ7mVp8N+vqlnAxR8Th+SSYe3a9h7FdwFBnzVgD6QykRloACPKLsDmDjVbPJpcAlRanE9uwVfOuXkkY9+d0D1I9kILYH2kbL4vHMlnx6zxFHthUxRyqBj7SvAbGlvwTkgHbWkn3+oG0+GAAAH9t9OnYrffSiLU39YqVbJYE3HzJ2amepnsRjbDZYMckb3talY69u6cQ6uuFgGQbux5RkfkpLYuF2QOpUFIyKlelUfYoSFKiqrsfFaZa1UM90vLvJic1po+7vMwxKSZhaDBP4aQouesAgGQbNcefHyFvFbpEFWAiBVyr+wZvf3f4g2T+1uERtNo/L+g4UpNZqtBowKlbtDgJOQAAAGZBnw1FFSwr/w9ow6Tyxj8Pa7OgdLHs/K8yvoAS0swgWojPWbHcT61imZkpyrSmZtmegpCPdAAn0oqhqQiY3QGl6EmSbQFSXo+ukR+LlsoixABp/Khknagf42oiKSA7Dh017M9ArYEAAABlAZ8sdEJ/FOs1IG9szwMwAXUbpf2J8oenkhDt4rkNEv3bWeGJxo8bjCZ+G6dBXm/LXQxXjp7yJNU7Ngze8xufMi3VthwZwAF95HwvhctpwmgFioMomY5GgQwvd1k4JQXyfp5gsoAAAABDAZ8uakJ/EigCOAlVKsmNJR+kSvNagJay44PTowPF+lL17gAEI/1B6PctlaeSV+//grE1CI16Wu4BSNlJDYZQuVRZQAAAASBBmzJJqEFsmUwIb//+jMamX8ZsL6rCu4SAB++G5nyws5lUqxnHPVnJnnf01UUFi2OW7//AsztdmZigXevax5kgHFiCymf5TLDiA1vg58sFMHTmrjkewPbjBlWt7fV14eekBmH/MpxqH1i3g153JpgYlFHWqnUISBdIDumBDSEoHE7jg2ySDmbdnVq7M2N85K7oTuydfTN87/MIGAnJ53oj6Jj5yasn50WvyIhaYF+GdUVnC7h51Nzu6Usx5mzlZCC2IBSsP6IWuTSq775DUyZSrBq7Cpz3zGBal8LHcKOAl4tfnqPnECNAcvo2n29jiJgMfgn+VQOQCgODAtgEYabrz1/xzIo1SddREljT9bj7SyMcMPv32j8LZ3bxqckAGpEAAABlQZ9QRRUsK/8N/En4Iy3/VzZSAC5cgaOpJGrizR4Si25DL/CTB32tgZa8mKlnTQq5iyFqBUTEJ8qOirEVad+TonFtsyMQAEjQL+SHfQd+FE788W+X/+m8ink066R9iX+HJJpkDKgAAABPAZ9xakJ/ExkKwCpEwEJjJbldAFMV7OU9JzB/dx6vHKnB1Z8HC8e3mEuPpaUNsjzJAVK9POEy0SMogAFFlSLjWvsx9/QsdD3wL/DcrpDfgAAAARZBm3VJqEFsmUwIb//+jL28QASUqjxaDY9rHABsKLIEaL9IMsl4U5CAavQH1OA9gZm5zAG5IvJLjIxZI/dh5EW/wURleNDFev/+wKWsdGV8TxxAAAIUK4+TbhsvJfD2HksQa4Pus0qLu9bxwb+yzxOBUysYaD0q3/4TWLXb3PfdtU0D7rJRCLmXFst1udC5RXYUWCX8SzmXSAt57FKWi2mVPizZFiyu43dw5ZAjh5ccEgLtdaNsXzjj9W7TUXpdrafmX/+OXPoBSJ5GyhyoumKnd8dNvZ+AfhlKTVZ6tzc279hX95Mf/4X+xO0JTRWfestek4TOMLnNnsEv3rgo/p4QbpCvO6rfD0/0K75JU1MmWO4nmvQy4QAAAJlBn5NFFSwr/w0xAQH+gU9ziyhOr3FRDzSjWAICadpF0RP/HDXIkZVJwNzbpk3A+aKfygEt/vH9D87KhNgDFF/WdSjRpFZUftl3/sluOJdp4GXzCQEPnuqhm30fC+f6K19LB9M1B8EuKsBUnfJ2WCWHjnvRsbvZ7m+meJa0drtekJERCzuQ9dgTZHJL3x6Y6DEXzZzx9DOAi4EAAACHAZ+0akJ/Eyg0YNz4zUhL+W628LnY7jJfvxFWqbZBbdxA0+AE1do+iamz9nz73SAl4HWQFUMUeMsIOqfrzOoo+arq0RyI46EHjeX/uSbbYqAzp/RWf3EW/ERRw6Su5xct4b+Qo4VoNbsyDGApokDOF/8RpobQjQTkdb+WuBC0CgWBjkTVWgEfAAAA9kGbuEmoQWyZTAhv//6Mv2Cf1mHH/36BJ2Eu1q0YXMqAaXktWsiF2DvAnarN3/FCYuZxKAFtNzvCStAR+4I9yoMNlEmLumR6fgC250TjairDnmywJhJc10J75VmLxHrzwrhDFabz2dfrE/BsG7JjtbiLNw21QcZ6rq5FcRkT8JrrYd0sLsYYl+sjP5WG+HCJOqR1EsmYU8bDhvKInHiNX6GvkOvTZlcJIWzbSgc9COfJG7lJ4LPPvnxXAAFXeNxeoGJtptjs5kO8rGUWpHHzrIbnAH2U3FGOsB3MmgtjMWqp1HuAy/g7+x879ueaVGbk5yZ84pFhVQAAALxBn9ZFFSwr/wykuVj7prx5xOJJvbnM/si0snm0QAfs3lFG3aYcr3J1cZVYFb2CFieUdTSZRz9zP9EL3ijvFCWsy5/4ZUlW/2mAVJhJsBzpiTkSp5AgM8TDSSl8fynIaLbtzVXnBEbLQDY0UTf8eA/rkGSeFKNPXUZpGWeH1+ljhBHBqn81AYU2FtK2NAsJ201w5C+FMUwIyrcc02X9bMwRTk050TZyeeDQrPAL88J+qsVHnlPi+swoCVDBgAAAAMEBn/dqQn8RiNVzQX0GkkPxB1w9qwvky/MvJj0nKQMnDEAJOiX7nYtYit3mgPrraZm9ZGZJqRlZRCatJa5dVQ1vzbMgfo3ut9s2V91sZTBt5tuOrirN6iRaeCr7s3XLbWQBbGvYMx2bV7e0PkLWP8A34+fltbLchTeapjvfqq05Rm6GyiLPogpjtEfdahTO5rCK6lVgN2UeJNDE2uJIEcq+lZ51fYjyhUUzF+Fmm2jV1T2V2bw9VitpyKqy6O6cALuBAAABM0Gb/EmoQWyZTAhv//6MsAgoOqvBfWGTjb5Gl/vmXTu5zPoN7Ck//JfEfAAXBDBP2ctlP5rJKV0BrnRSTqqMFgOMP77P/lT/XXcmNkqr7ZPGa2w8HkCzRWkXl66hYyJYtX134ttQ1secbz4hTI2pORDUeD2hSJpvtHbPRkgEIKOQSsBBYU05EuvrjJHFD/rnY+CIRfwvefQCAy3zsy2LI594gjBpz1zZxYqLaSprfb+meyTkO1GXtmXkOVNhlkOK4oDAmiaAX5QGRDg/AZTvy/Ovrl4s0A6p7ASD09Y6AIaQ7XZksNW3ySeYvLjEOY2JNFopSuLUyxzgnlFMXark9Ir3EkpEUMfIQS4CDB8dkBioE8/PnpFHNtyGz/53p3qdhY57Rnl4I1u07L8mzHqb587YKmAAAADlQZ4aRRUsK/8COsutg+8ARCOyAc0NFPlYqexVLzeS3uUPjB5//USX1q/dh/tc+rwVU8GzkqJFba59Mj1gnqtuPFnS9PY011eE3xLzlSEyFeiqT8jcWTbP1lyMaRY3tIhPB8wOlYhMP7u2dmvFQ+5H8lHg8WsXiCtjifvVgAsf0gEocO/cw4NaG6trPi0Ie37QLmZCvOA0KNEGONvsK702q/T8rki90Y5HKc3MK9ORbPHEiv5oj2AiguI1I0VdTE9KaqqAAqIbu6wyU9X8g3gMzM4oThYV2ABZDgIMWN4I0MNzUAwB3QAAAM0Bnjl0Qn8DnVzBoJp3aXP0qRuxwcG0EE0TZ5tPfdknKGMd2MVHbN9cyKYQAuolFx2avItjCs9jmAZAGr7zjQSDMiZO5GJEOSir/kSFAIqm26bkFtc5Lg3XYB2FN8jrNkvjA7ogNTYa9bjad1HP2JrcUjHjzwIyW02wNahynnAehXDz/1SZlA17+ELqCdQe0pW6KmTox2bzlqxoTn805Ccp2k81XkJxgjN/oH8BPlTEZOMrlo+3NZhM77BRlhESyvQ3cW3HvF00lxQTYkEPAAAAowGeO2pCfwObltCE64TYgABMR65ct+9otCDSPNe+iN15iMvzPR3h89tYSlSeb70oTZLHBb9jcE6UzclDLDpAM7OwBvjYxOgcbDHONTqFWQw7LqP5R/rFvPNqU7pzyLZZs0eZ+ISiU8Dvf7T9Txa0GtbSXmsyt4i7xkTr/wiX6MRGkE4c19B55eyhZZ4i97ZFfQ8RY13HMqOBByonrPQHO0zwRMAAAAEaQZo+SahBbJlMFEw3//6MsAhGm9Nd8cv3BLGzNWx44+gBGJWd0ACSOyXD3edggr1ceTiML0yC+Sl6gYTZKIxPcVfxLr/ab+ABCDHbOHW6KKOF1R/tsbII0DfQn2XJBxHlqVqjA6qxTbJf+GaQuIWD2yA0/xTcKX5Qg0i1R41INWnVeEJz2TvqL1BM0oZ21G9mloLqIxYAaciVlKH8TyM2LWYjZDJPKEK3ZMQgJbAYdlXVvxk0nuN/Uc4Y8/daMSB5tkRas8fEqvDpwBO854BEKwTamBWDm8TcEkMwnkLbA/EN0Q4J97CyqYhQKJXgoUqcz4tcdKn/wpfWi2AJdVmPjUSz4C4+UviD3Jslf/IXML2nd9tYrZ5HGLKBAAAA5gGeXWpCfwOGM5hlYRHcXeSI93RF9no9wK+QaOSfM+jjbarlSjx1FeEQFfhFvBAYGfEYpPhynoin9mo+bufeKDJ9EXNnzI+piXNYZ5OZC9q3Kmy7oWBcaeT80QERlBZHXYBHWOWv/nmuHfNDXlSw+NCiMl1cyhiUsKoNAGF6CX7nLIZSoRsunSAuZk+c6PDqQIuyO0g5xMH4/EMqj83KF2uwfKYWAwkGfCyN8oDKfyw839hjJZLfDf4isaYDYp+Uhzi7IAR3++GUquD46xa5KDYiORGVck/Aun8sR7Mwmx/aMDEkIA+ZAAABMkGaQUnhClJlMCG//oywAqnx8PmSAYWNtEGAv8ranKGmT0y6iwvedPgR5gwPubZGzhb1fNLX36Skwj3t8GLNbLGIykJZb/lgwiyahiX1l6/3RzZDcybf9oHFDYhzaCVRG4966Qx6MYMpwgxvIDz89Ymy5eK7RsJLtN1/eE+t0RzJz1kTF0Gjwydi40oYZdfLXuX/J9xDb2DWdDX1hxH+/VxN8UhGmo2SHIi+T959qJMttl9EsV1u3Opu8HIbvHmIzWMyZFO5HAYtLuHqZT/tFd4qJA0iflS++efjEzmy8pZrHStSssRZqvgqMdxt24DqoA0GeVXfzDRmDEiIOkIpTPbhNi6SatnuzmyUOVqt+0/H6fwVrLmxC3RYc4HGIpP13YiqAE9nxIcm40S5fJ3NA9ZlwAAAAN1Bnn9FNEwr/wDYRqAfxCtklLaU5ad64hs6Qk29+AACLbl/ydOqrvIOhN2uhMUkGg9QOz+jjDpDfkir1ERDNc18cgRYl8K+6t1sg+n0kb1sV7L1I0Eg96Edd/Ch35r0W4e8HlvgS4yYNtuEQkJLhU0XAsY8QCQGTlSgtzefu+5wlfpZWwm6PaDopA59ix43+mG0LB5WhnXnN9PmlN1+5TwMdJqKGVOBvCo1VEK/DVA7LF+US3Lq8Z7/HcJUmuSWuYMJYKyA4zuN0rD9NY9LjtdihxaWKAk6mtdz8h1B/wAAAMYBnoBqQn8BWSjnDD+BVIAJplrOmMPxVviExovs/27reMcDykHQswxLMHnf9eEuUIYTc39Q9yq2jk2J0uwNUMjYRKnv3wPDvRdaNIEe8ccCHJBktbLkVUJi3kFaoE/SReaZDcvIWagUFBcSJ0a4yrrPXFY8+I7b3fsbhT+4Nhno2BwiocXrjhvnPmkiBHNbAGvej0ivqnUWCavHP0b9ZY+xu619vpPjgHqVcrhuBGD63rMSROFvgjOigJcNvnUsQHgAN53cA9IAAAFLQZqFSahBaJlMCGf//jhACfdE2XhW7cNJkZwhjDUJZdWJdEJVA2OOi8PKrtxAElniIDENE2cT6vgpSD10TFpoSb/zj/QNINf3KnxmUwUN2UfeaPP6Nwj/1juc8uZwZHlR5/MOohIt65HL/aR6GxsUQrgT3roiYgpRVoP4KBaLjAYLfAtwwPCgcCdq3hkCP6WrEWqiPwtAcL0hG2c/wxPuE89M9+M1Ypvm1PCnV874LVJV5jsIDCY0Nr5KbRWeVcgfhrEjG77s4Jouk6z2m5p183m75Ik74bwVw3t2ngwUq7FNXrt7V84Yw8ojNnGi4Op76w+HL5yvO5C2QL4bXIoJei2KFueuE4ut6b7h1EdCOj8naZOdwOYiUv5sdqbPKcBKGvBxBH104ypk9jEBgDho3PX0huUDCDxIS0I35X1mZJL/Z22vlW+q1DKDgQAAAOdBnqNFESwr/wDS/XYhfkaVme57no13T0c+UkANrPnvWWvfZlu94rgqbhPqZA+s2LYcrCScEG6WyWAGHItEXXvuKv1qXtAem4G4qEp//y7gv3CI+w6UiPfGobg0dIF5DIvcWrwAPs9RwTucz5QhZpdxmAxisvHt4q0juW9tC6A9jiB2HeSO/6C2RL1v1AnzkKY7Y8Vdsu7Px81sZFkIGEGI0yceInUH9uM7MVM9ZrQYQM2HaU0kkfpQgRwwhGImGxidyIqdkrtMjWXkp1QsjuVr//cHSFHib6zMrxaatPLXKb0i+juQIuEAAADaAZ7CdEJ/AVAAyelIALqIf4lPhyf5mKPCMAaUXUgmQvEHoaLgIrUhHyxGEbkQA0fGkzcgXgCDCLVC/7OnODkLm0O5SVQVGIRc9j1S0J/b9hhxh3/39/2fNyXP18bLZ1jkJ3kUUW3VrSjcXgBgqIcRX+hcPz9pSLgJOGF3s4rsIAyiUU3NvEIrYOwGNlA0XbSUfh0sN2m7Boyyochr0ax8CK0rD6TqStpwhkbO6BJpMaaGjPkxJPIed+6YJLYMUG4BjvxjItuSkaqydXDIPEEPfSS70R5hMm1XA0IAAACiAZ7EakJ/AVBL49SSN/huc+FuNm7ZTgI6DlN/opBreQwBYRBjKCvaCtmvrkozz0KBQoTI5UfACWf/jYMkVe1M08n4DzrHiGrrK1XCnFac+z5GdaN2I/aFR1auWLS/1d50Y0OL7L8U35GOiIR6ISR01xqsK/5iompmw5kNcg5OK5XsMNnSujR+NBVfx+onZXIgkzZQKrmnXbFO85IxH6oGeBJwAAABKEGayUmoQWyZTAhX//3hAA51OyKy9wCOI84kBASiF7Dc0KCNSitx026Zvfs7c8zBYAx3pn+YHs6Q2MfAWbiMHrtNUt2YiZ9pS12OA5C1pz8kpYhDnHwbRFJnxfNqLJjrKbwON9QtikBSxjQO/3nPkZtANWDmfLXT1bwSGZKVGDXXAV4PQkOzCvl0hPkARsjcE/mmdBRnd1gI94NNbQA/rJbutSKw7g24Y7aHamcKJ0f1v3sAxFsPCVJFZM6E3ZGdxsOfeVcHGv/fRg0F/Ijlq7mbDF6iSMUdcVBVGY7/uHylsZwnRg69TjZEHewLibKXxlfQxNqfJivGU+8oz91iUpgKw8KeCWqmlgoCiEoRSiFzoNZ6uzPVwABYsQpnAgPNk9VeNVYODQm9AAAAwUGe50UVLCv/AMcA4NNISvGMPLzivmtciQk2E9oApTMyDPATP4CPsJlszWt7cZieC5b63VGxRftbzwI6eiYNU6HMAIVdYoGdv1iuQvJfe/gsfgKmnLafiej8k0hhiG0yKxzfkRrpOnrIVM2T7D7cK943s+RV/o53qONmA0gewUKM7xEFNQmtIzN4sag7FInZzhHKHyKGmnRnXzPg0OylDFOLFTfryZ+TtBf8OxQPZQ1zdrt/j93EQcfs85yRRvScPSAAAADBAZ8GdEJ/AT4XPWw/fQAJj0H3qzcimlgrYl7KNgVIvLdG5ubqoasrE5/U57OMfKbvR6U4RNpXvQQIVw/GPpfcA5sjdlUb/GCxuWtcNOq+ljeerU3o2hiIfamLrM9p+63jTgw5qiaz+Gm6JMR6xufGeN57qMqVf87Fcp9AEiyqXdYBU1txb7B+cckuTkUp2UO21ma8Uec35YY44k+ZbsXVUYiGcL3ALEGOS2rO6sEkiHvwydOf2uqA0EPj9Za2LNACXwAAAMoBnwhqQn8BPs13TapSBMnsdwtuQyQAL9NZ6et/5M9A0Mi3AxfvAR5mnALqxejAIU2mwG+4ao7ieBfVq8q0PjE4OnLZAZJ7QAbuBQPHqlSX8smx+ZPTHDe8D5EvHPoA6cf5oSJCpDT5TGYm35sXBP/XeKf2QONjU6QlsMZY9XMNu0uFkns1me/B4zv1ScdtbHfaXXyXIoW1PA2pXU0ZmpG7j2JHPpXGwGhEhtwIepGEu+iZkst8RepVadgy6zxEigBAgIDqIXKYoCPgAAABFEGbDUmoQWyZTAhf//3xAAk3RNrMY5hNUEv9U8I0awrsXwwER+LkDffx8E9qAVzDzALoT98cpNxE8uVE0jCPcvb5j2criXCUIrVJVAVKOCAIm2f2m6Pxp0sgj3THkOBskn91bjxQQIx+JT3L+SVXFj/v2pZ+uu7v1Wd24p5TSwfA6Hs12/GyCPbU7cyF8lll0+BY9YwCV+l4Rhy7y7dROfiNAXXjbeXtVw/sF+KhwreBe4fk1qDYoHAedj3IsalcSGrjv4auSdD/5W2HlmtKXN2qcApDTjp4EdzwrcMRbzeIC51tFt70q8WvxxTgux2LbIcXxkjy/9zyMJOfgKULDMZIFFtS/kiO5XMZZDF3EIJRHOAf4QAAALxBnytFFSwn/wB8ei1Qw/zmk3QxHZRGQKSer5O/U4/QG18e4S6h4qG/Vyn7FsAA1aJn0oZsuRNJ0ELsR0Ag0LiM5E77qa7OpUvYbO1ZMATQZ3pv73UdnOn1OrzsTofOGKksaTBsQ1pw/IkeqY5kT2Nrf+JYjSWmM9DYgeZJztq6d6V1dU3BJiIFfDMPYdyVgjcvYeeC9/3H/XSSM0qKKsp3qu8Y90VJHHy+DuBAlxWPNUYZ8h4SQxIGSgAPCQAAALMBn0p0Qn8AfyvVjMtWYusfZomjGMAWmQq1MOu66gF+DXM6/nlKFPjHZgAV1jfcOYhWXRiri7KlXUFc3nkTltClSJYdvSyeyqpPbQhpnmChZGun0dtXpXwC/YMtLw2+bJMR6lu9Fr58THzZ10Bx+cnNiQE623WeRWqv4rDInevLNVd6JzoDIcn6WCe04topTRPC32Ri9J2WT68lA9WOWpy1xzK0817xAAnICUjRw5Yb+ZABdwAAAKgBn0xqQn8AfvJRlPBjniQMrjIcyTZwsr9nIP64U+4nr/WYS1VJjxWAA/NFcHOscydIXbQvTdaCzffUcQFQeZznSc/sR0SL6fp0lU8/kkDqiMIlVOnX8N2x5NcHa7mTJe/sioaqrMPkOqB7AnnwRBeRSFXTf9IE3AGkIgagsBw7edgZ8IUuy1hWMEY6c81U4zXQdiUGfXGXQtdiZX6gNd4ZiAzR7PNhwrcAAAD3QZtRSahBbJlMCF///fEAA3JHlzmHwBWG3ZwTDeTfs5Dgvr23tJ6XeZU/pgJ0Y+BnOvFjudyia2eQk2LJRsFUUuselCqHvzAHqdUlAZdtN3yrfKTWGAdBqJnGshexlpeEhfoTus9o9Wbxu18wqjzxOxp68oDUFSku34TB1TuWrdYDR65xWA4toLVpGAeCxUVRf4hJ/vUvavf9D0eaAxrgceGfrWu0dgdr1nIun+3Ng6fMWEK8ni9pCiCbl2L7NXfeu4BqF3hwrJhhwvPf1Q0oyxkZ19Ivwyhr2koD4q25UcWHAIXQ0cgyh2fDUyACVysYClqdZedZwAAAAKpBn29FFSwr/wAfHb/lf/fmCRByKJm7mZFudXRX6PqXDUH2RRQAlDVSvNuIB0jygMPtS3v3ElT0diwI5guNPzYtutnRjKqJjcGT1WENanjaNqLzyRkoaTKfSqwanMCuTTeKfvKPAtYQcKNtylYRjf3zwjtHwnXZuMuZPuLXy79a93CfO0NucGlxrF1lBCA6Gs1+7J1A0PKgSPt0hmYwsRXpbfIU4M7w8XwGBAAAAL8Bn450Qn8AMjgCeJuyfqKSkIII9GY/pt+D9VU+0AB98PtmlD6WkrmJ+Ya+nM4ygQeo2tocndKmvBfa2WnCgSMtqdwkfgNzNClqk9YJL/ZJbiZu6P3cU7nDlA6j5p4VRMF90Yk2R6gqs9c5/Bn5AhuetUEorKmd0vV3Duqi4DkiE8mDQUeSD0BvneIyYWRVOgHELb9MoZ/5OXSEzzLlpOkuY9gaZU70WvmK/X6clsDgSdusketl4YjVFECwY0ChgQAAAMcBn5BqQn8AMlK5vU3TYAJTR4w4LigxCGaMjxSJAz0Rh6t5hGXLKCltJc9r36DJNh4WSLCL/ZmENCofvwT+XVNB+k6kwL/5WOHcCuIzX33Ib19NBGjjmDReG3elfgu0q8ayYXN425phKvNsjHoz+p490bldSUcaZyao7OhIMJDQRx9PIueAos01R/TYWrZdgT/EXOimFqlakkSpnt28ft4XCYoErtm2dzs6WhGo+978HBz92kX7qgdfTSYp3MQmJpYMsqvlVwj4AAAA9EGblUmoQWyZTAhf//3xAAN3v+ttgzakH55gCp8r74WvJiw/9brK/PwUfst4rEVfyWaOyYLNvrsaX07teN2Zia6zxrz8YQ0SeEt7HH0afmezYMImUEM07pZiOo3virZ8fFQ3kysdrz6Q5+1MHbm6oGLyBNpngmjOTF3qt9uctXWNQAAU/FZv2GB6OlaqCvNvScVbNBDXtNIwVDmfC43W9zDv4oxhMmuBQGufcAGUHlaubzX5XzAL/1u0qweAaUZdmYf828gY09aIqRWjVjgs9r3cYnV5fs6PWQa+CJyJB/V9XEolmVPHyJSkc2LOQtFq1CJgFlAAAADIQZ+zRRUsK/8AHx3RFVZ5tQW7LNiiuHw6C2nCnUSFy0dP9czzBYgIRQAJUeIoxcqgqJwQkbekXF2XyO6lWWjORAAnK+1zcZ4lshyz1I0TIuBRKCk9NcTcXwS4BFSgIeucNfjHFmlkAZbWgbidtGMR3HAmorTMJmca3DYX3vC3O6m/eYoUJBjxKmJLHNf9ytiNgmQXTEmVWI5aw3OovSWvs04mVQJvy4rAw4oH5ThvScacoaHTpkDb1SZ+D5u7N05bUt8VPhMAKmEAAAD7AZ/SdEJ/ADI4n/MU5dTNzlfnDaEaeAAPa0N0T/dpFjSkDFXNJ4X6JXDlJusZmzFjDgXMn5+uPA1P+PnyxTSUs6CliU/JigU1ckD0atyUAHTNsZ57CyEDrZIkUcXlr0E8baLz5TnlGn5vV8zqCxfxvpq+JtjZhBAzgNU5fK74iiYv3pIiNqQy1cClp5RUTnMflUqpzMTTw0LoaLytUl2c0Q0Z8e4uf6GDW8XHUxAb4eMA00oNJNuvYr/Tcm2QzvFdp5Zma1U7GL+ehXdgO0mwmk0MprTPAkAoGBV7ewsjU2Xo0YHUKHArZ+eG+hcFDLepRaGTK+GyWxEhwb0AAACsAZ/UakJ/ADJSud8KdUtHtcYpTl1Z08gIJ8Hr+XZnVh5ysnQmHgM0UZifYGrOHQZndmvXtyxfpuvnWrULbUeXlFaLw5opAYJpHb4rCnQkPrb0+kMsyON7XfQUAhDJmwTXlqW5oZFxtTr1EtPvlwqQ8DWyUrwRE6xXZcRXHXA/caxm8bNVDROgTS0UMmhg7TIUgtH3VN0B+OTvlDpS3iG8ta1fokIzJ2eUT7IYUQAAAT1Bm9lJqEFsmUwIX//98QADT7/tvRGzB1P/4A35CLcCWWESqmJvD0kPrNs62HDXMjiwMW6alqV6gUQNitSM9TOJRy5STQpAvrd1zNe3N3JKUd0C8aWzRgGvDUNzwxjBKZAglvwbXaVIMUcm0DUp/XJnLCNsNbdImEoz1ObtxpAThVfR6XLEjHVRvlT3AsSNHdVhDc06fKdKK38jzpc4L7ZLdLCl6aInhgsN53UomqHggJKxTn+rB7okvO1/0ZSXnSHGpLNfXsz9Frc5oEt/6wSbwsLP5QwXT7Kq2+lFbe8b94217X7PI4oGt7QPfDrFUuqmduRW2PIA2yCEqeq2H3j2+pE7dBQdyLryut43dhTgDWEXDu5ciUSj83Ur/NA57XpY68b/XHRlruJ9VBYb7NJ5oz6995PUPUz7jGBbQAAAAMdBn/dFFSwr/wAfHc9sxZ9RBAvQ87U1YOW1VnM4/zrCwPKFYAEvpGC6d+fhU+XwLnp6UsV1c6iSvQECrLkMI53/Vy8S3d8P4Lwo6iNb5hrUEhMGk8XYTAyic2z8FwfcAc1ApCjuydLNmB8A4V0DIzFp30ExtyYNxYskb1OD6hTuVNh9Y4aZX/aV2iyVUzgCG8b7yIDnXXmm6nrupxe1tCOEuzJSkzOCFzJMgk9Jm02b8iuPEKaoRrF9xhUjvdZraP/EuzQ4dCXgAAAA0gGeFnRCfwAyOJINIz/vNkA6pBg8Sqfzvzk8NEdoxQATK20VgaZTcTpZg2ce13K4XZeyPdIdp9g5cijc0kBEXWcazSZe8TkhGRraNjjJBC842Ddk/DLMowIvRaF3in/nzxhA6Hh/nrcusUPMzG/pMcFz7xfkevrDd+vxU4lCI8AicgY/dDQTnOrxGfkaP6+XD7a3lUOPwsucsFefuFlpPVDt8tXgKiCZv5ozw4UYElaETgh4AxGfLBrabEoeuFo+L3yylR0ZW+XDaZaI/zXLVqC2gQAAAOABnhhqQn8AMlJ9uC6mtKZPy02KMtcKjNpXrodHQABLCG0U7lYVgEe2xKSfrXM54cr4o0mxTw0LIm/lu5wtiNuTPuHGhGy6Q9m6CcqwDxuAmh3SrKFkLtlaEh5rNBEakwQXr9JvhDCt5X2vQY2HjBeB3COfB0sdzm68i1+BUeFfneAZ/DHOoddBA8Ze4G79j3NzC1OZFHFooXg9v0z2dEINIwUzIFbPqMmPvIfVnokAU9/rOTqfw8qC0qvGTlS9k45slC4zmgjPZt/GIJf11pZB6KLFx2NCreBAunTFse8DegAAAUFBmh1JqEFsmUwIX//98QABT/ZYiCPEbNatx+PAHMGkGz7g+HFXZGljkMUQlzBRfeUDBTr4N9d+sf64HHlsE9+DW+/lNfdZo4NylCOishr7pjj8d7r6VZfBOqCpUhUk/4RF0kRcjKtwHgJsVMLo7O26D2dioSI0gOj/Nh76QZPHBl8tMZa/KOVn/yaGNibKoA3HKe/Z8B/5QPfZZ0ft3GFgavX8kiSEYJq/Df6OirNDzRryoQR5RPLomYnQxKXIHEt0/zPxsAafmO6ezdNZhXtAjKhI1VdhSYZ4TtHlC04NoVnbV5UfKwTjoaQSyNyx4jVUllK8gEb2ElA1Zf0EMDep2lvv1beLVyqawo4YL1nNYGfRIXtcuj1x9WuOog4PyqUIm2/tuSAdNqT8mInUGNiTLOzfLGJHgXGyx0zO5hMAUEAAAADEQZ47RRUsK/8AHx3IRO7v1STo2DhVYKA3XvSLgXQKWzrfZRYBbeu6z+V4cMVPjGorPRLZot2+D8dWhr7WTlPuK+biiFdXUkQ9lKtxCLF5xmWOQ3rBw3ZJb01hCtiToTMOOS8EkHpjy+M6vapj1zSohRHo1F5FX2EE1sEsKSlIBTJlSIoONIHZ9gNaqXmhH42XfEQ/lnzJnBc2MGYM4l41jo4Iuq1aY84JmSJmxrZ1l5sRkh2xjBSYpo/7ZvojzH/5DsBgQQAAAMUBnlp0Qn8AMjhWV2FnluWTyaxPzbpjZvPyJABLVNT3+UGl+Kn3mEEkwM0encH/aE6zZAHdKUuMbhXI+mpFW/zl6gMQNZZ10/cmsRGLVe4K6JW9BAroFZ2Vy+9Xi7333IsXfwfcUhzuJgyTWi7Jcr60aIxlbrzxdZlYD3CHr+xAkTtw3X9aZ6b0ABqj7YxZC5gqZ0iW/ArI99taVuXNN16Iz0XR890AJkpNJAeTpI8myXUnoiWfWMsbCfQjnoKmoBBoo+wBLwAAAK4BnlxqQn8AMlJ9vb9zuzR0IW0zzAAAbPum0MfGI4bHaRSxccGxoBembPCbd0VkX3vmTVNdBaxHaqqzp3ZOAq5+yk8ZeTxZzpyKSZ+Dywr91OHptDHQy/AW5Efk9DxuMPCUshchmG/HiXZVP2LS9uUBBDIRMqFgHhlG0qTaVtTTTdb1sYMVKqbw3kRry2WDGu1wYKbxYQ24vab0JWkdEeXtSH42GIUMs1vrf5kSA68AAAEpQZpBSahBbJlMCFf//eEAAg3RNpP9QmdZApTG1mNxrO7bm5CmAoB6m0JDnafugrcAmvpBWyO7MgFHge1C7GlqnRQQjKOQgSdXIaebmMq9olrPpwz9AGbKMpnCuZ8QQUI3vNv9Gn/i86edHGh6LynPDaX6Nw16MoGFnLkfnYwLcJXWpj6uvzRVNg3oKQxCMLBsfPcqzeA0MCKe/c1LugLLkng3qMcSyTxBM3fd3euAn2hD73Oh5SzTxSFJ4J/Ll8XA6G51h229lwyY7QoJL9RIq7sHFy/I0n4TrcmN58IuTjTk5R7wXsD2JSC20xxNkIkQY0mJjQVUKqar67ezqb1Lz0cd4FecXpqJXgFqzE1IyY/PjjQQwmZrwTaZoeESOcvNBAfv0DOOwAFNAAAA3kGef0UVLCv/AB8dyEUBhniwXLz9dbjgWL+lIsP7pQJZEbVGAARD2IP0DOS8hC1xenKQWjKeVJQRqFuXOt8yLRjyvaX1nDtTwOt+2RuSbIVuYzkTe/gVtSih+TxJLa1yGcIdwlU+LszwOKLmLgllglliqbuxV6MT2q41pd4yhYM6xpfiL7rf1UBAuGUTzykQPadV1iuDnDeTCJ6yWiruDh7zswt5EH8HYU8P+ojaOuW0vLmsvVNHX9ERjl4LBLl3HyyEn5bpp8MvyefO2QlsrDMjjksP1gKq52KrZoCpgAAAAN0Bnp50Qn8AMjhWVmIfOuMhPINXjC4rzZiY70oHEiwcMaEKt9QAXIMgWKUd5IlKmg14BjnLm5SJ3JdI5cY6Er7QFjN8w1fL3P4jNHdyTubsP+DzPDYgvPDAqM3O9lY0hT+9ld/jlN1tbp8Em9jEIBrPOx0OqDMGA1N99MBtTR6Au2L+pjLJMxV0haeqOxlhPL+RLXoJckmEMxrrXZ4oejyHxGuvImigAFK3zu0p1lfTMYqKIawhyyNMfPXKPCZFk5Kdc4X/P+YhR+RS8EmWUnYMSYXXUHrXXYpxZKOp8wAAAMsBnoBqQn8AMlJ9mFw2vtew1nsV0tdJhNSb1gqZcZC3ItwAtPmog03tH3/dRA9pNVNOp1Mh1O5BV65CQhc08Sw3QUSdBdKkXdyVIAe0m7LtEdlCm/EF6WD6480WyYsObvY87ToWMNlMZHKNM2TlHLEvtgsG/PdGPEK9SCkH5fT1TjN0tQLgp4Jq9v3tF3MgPYD8cFg7PXyLmv0p0Y3ua+lsalETokPCe4ajT9HEU+SGLqVTW6yawQsbl5iB4wAx9Uwx20vaNFBZd6yB6QAAAVNBmoVJqEFsmUwIb//+jLAADUSbu5w+dKsDWAFilI8DKdT0IBEAMfLGXS+O/bhavwNlpRXqYU5t+Tpmhai9/ITsydojT9wQAOOOm4qE+JIQMOyWk/Hc85B1dNyPqvoR+guFyKkJwWh/lSJO6axLWmgwx2cS/kxUy0yB0PS3qi/EH7UmrfuyLqxq9Gmfb6Um+Z7UdbSNF7W7TBQ6QHksx5YiX8T0Zpzh/wlS/U9XAIOtq7x9jaFiFwr3k92/EPFPVHZEemaXsQdiet93kJHwj7vX0Bf8uerAtFIzd5LYTWxFTNu87jKIk4YPu52VIz/gZhTrH9t8p/MhxPlZdQMymDkiDhz0rlmArO7Lb2yHHMXKb89dxZ6gOjQ9w2j8O1MeEfBeb87rePxHvcXxnyWqeNRHLLChk5KQR7LdSCunw7XBsnHBLcWuP1o6QttAZ6Eys22cLaEAAADsQZ6jRRUsK/8AHx3Hvhzj+obl0MzU9lgseCRTgBw2XJDiP5s4sEQAK0AwGMeLixWYHv9eDVr2+SFu7YFqvbDFm6C45lRusJdR6sbwEZivUOY+wdi+irl1egEHvLQZoa4sks2j+T78yibaD5g9dR+e7NjoxNswCQo323MGcCXWzwXITghlGe2yReFUwA7x/JNDFeybugCZPG0+KvsI49thhVPZ63aE6XXROe75GZc7gYnv4k8ihwzNKJmhQwGZpYJbacjkCh6Z+MMzX8LQ+PHK2y6mGhqS7zMhhV+mLC3J/JV9gD1JRaijzDqIAj8AAACtAZ7CdEJ/ADI4UiCrygwUGauu/SFFRvpytYg29G9ta6vSX0isSzvjlTmbeiABZ7uhr/i19di+8GYnwAPZyHSt/4ZDR40KfmHslBKtR+ZE+pP4Z48e8feuTm4DTgwMxl7EapzLXtvFG6I0hEVD46i/1vSEadHXbfvmvvY12yahmSpf5BxgNH/PJrXm54Kc/K4T0bTGJHfaEkJNJ9fYBFjTFzbZdOZr93HMtoLga0AAAADCAZ7EakJ/ADJSekCWaszaTyoACW1lqzz6tKA/5X0oV1RouT3giDFWiSLdBp4M0yrXXC5/fjTTLgq1wDNtdKczTNwIhVThhsq38yzBwm+nNJFFiufVLS+eVGBV2LnRDbe3GTdMc63gsz9YdFkCYoA4uumvoU+z2raepU64PUuxwV7GYwgb5EbIW4HKNyB8AmwlDH3mIVeWtgJnpLyq3ME92Ap03TCBf/0VdA0AwxH6VMcwMXCXdBQFtU3YOhm4+XaEGVAAAAFNQZrJSahBbJlMCGf//jhAADO6q4GJMmAHGKFT0SWPRgnV7BNpwq0Mf5SX4/ZJCjLgeb+/u95l6kgHu8aEXASO/sFwJnXSEKreFB0GYyyuyfJzLJ60vJIktqpIxwRvA0+p1X8xDyDkTjj8Bx4bWz0NRWOls05Ac67vUpDrAVPPd7JforfXiBKswtfRFzR8ZU3j4fOG/aj5fxY4Os0weEpIsysl4oHr5MWLH1H1mKsTB5LJzcv8upRMLCwohJTq5iTjdXeDz1dIQ4JGv3JqgzJLIvzdKrSH2QDdqsSlci6nf/UwkC7iSodZ7UBsW80biqkD+LzZwylgyAP8Da2ff2CxuR/IUXCy4TZg/K7wKg9R4J3MW8cj+DTnIRWmtQ3SBjYINz6h8bx/zKCWurCkI4wdbh8FUml5YvsvuN0LnLNI2EqwfVJ4nczkszqsvpJxAAABFEGe50UVLCv/AB8dx7+t/Cy9/KAQeUzt5EKgiW21PJHInZoJAqGDhENRNAWxbHpXYCJtaw9fKqJA2+eZyz8a14/nuYQGiNb8571D+MqsA5gpGLS6PL4NWhX8SFBkRn3RAP/bQ37EbOVAU7CHmqeyvR6xi/ojMURDW212EN+MU71Co0MCeca7anxekD4UK1e/S6kMomzWcd5nmRIvg+A3uAEmmFBnx86UEFU+p+N0ICHMg/FW4dLKJ1xwKRqYa7EGCq3Q+RS+6Sp//4Rpc/yECaec/JPoxiY9bCQM+NluO3JOgMn3XYJiDFojug0KUmJ8sJyjl9hfKdMR8bG8jlsNHmZrOu10lezJRT44L37gVKzhUJDFgAAAAM4BnwZ0Qn8AMjhSM3qAGiwAthdJbNqh8KOTlthuGPQPmhPxvNf8mASmxnyB48f6y2sEvswULQ2Z8NdVZFW7xHEHislSPrPrQqCn+z9ZBfiy6TN8NSNkEis0Zih0ILBmwbt9EcqiHaHtkk1rFSRjxDZRm40zhjimhbP7tzIvLf+7pk7ta76HDUrStI9dgECw9OwzpA8u9g0JjLa+CzeoQMK+5WvLvxW06i0H5egzRiEaTYRadhujZmLFLAq1nkufCvEIJMMWyY02/CWV78CHgQAAAMwBnwhqQn8AMlJ6RlW5FjYFjUpPDYkbGkM4VToCMQBJJ/yAwAlRQZiJoUftYkz15CvGNoug1Lzh9T1cuNBJ15QLdWBij0/TRKfD00CUjK0CFrxFXAQrF0+lkhrkA66lT2ioWORcNfXjv0vcv9OalSCXU1oTrtz4cTrRAqB7r5WOuJcwgs+v9VGUsBOdxHxVzHxzwewAHyYRG8rlfHBUUPP0H1x1nL5Cl2vPgP8e2NOugomcWV/rgCv1zOKPXuH1sJvYXcjVnCLBEMKuAa0AAAFoQZsNSahBbJlMCF///fEAAHy3/XNPgv2Ewvs59jX75v23rL2AFu/SyX+0NTYKbmpluJzTc2YMDtqpSp3PofoGuxh2DDqVGg2VVkP2R6lvyuAZ6yW5mhZj2CpejPmW+l6mNuieuP0I7khd2qFc9pbPS2GwadtU59rRUOhIAy/e5oCsBtpSIMDWx8BVH9QFcVL+MCe7wwcb0DyoiU9kKCuwPx/DiFC7IBomXjA8AwA5J6W/tK2vshsFfx1j76Yo5E2jyZiJOHp1emgQXTR8MgU5XycOtSoXzc3Ca0Jh44GWPneg7oeN6hSvaVu8x7S5dcp88lkegLzkiisL7QEUlx9zULzcDGIzTmTRMrX/KfgibzgbndCk9w5Xa3vxaAu1Qs0vU8RydReX+m4c/TjBbU/9dyHDCQZUAT9ejg+ePx9eYiTGpEogZSu68XclGCrNOygfLIyGI2W6AG1wisvpSL4PxqtEdL4jACBhAAAA30GfK0UVLCv/AB8dx8CK1KqOhO54FrLI+EmTkDIL7HSxlNgAlCMVb9KHwcK1jeP8gZCgGfySyrd1L2t8rQj7huHez6dqIfpeqwSztfXqFgVxCWSAk3W/rTSJ20bIgGKa88Stb2c0jwnVb5roxcL5oxlhDhrdAPVjshJ69yd203VlMDjewlvCooqPIPdZz2MBh/AMEYQqO8jpAsqLN6hUueEr2IC8qOtTpx2XmyR2C724TwiaaU6AQ6f8PVvii77bno7CEJ4TBfTLo62lq46e9+ptx8wbWiH4nj6YWPRMBQUAAADGAZ9KdEJ/ADI4UjZT4yEAFNdsXzcoBxpT/rq+ZN4BA8oEjZUch2nqEfQJbBbiUfazdPBDWzKvG9TAtrzj5DeZQESizRFWw/DcTYho/Uk61usfHxjRqtquEGfvMKkg+KTfE09koPlM29jukJ8/Do5TiyXS5I7dhawDTW1os0GZ1KWY9QR5x0r640ZdclO4H/CD6JUbEetaC3NruwkNgXWsZOnYEyiVJcgSH7xbB0fNxDKZXsuK9G3pMRuTSQXY9gdlMeg76hLxAAAA7gGfTGpCfwAyUno/JSTchwgOqTZkY63qMUHwAtwA2HKptSEvG9w+tdhyDywMWah2IEHET7WYEn6ECl4j8Zyn/CV9sUHyEcGjvi3dNdoEYkgef4rO1UGf7S8JLVCkSrF2/HjRzJpoADGJoqhb4tUD0f/5CSZElqi4J8tz63zo9QhIeuXLt82MeJlhDp15DDbvdbs1yzF9R9X/efkQ3c/ElkJRkOBwg+V9ruXkN1LFNWoq++s0wjBGSVjZtihRxIEpGwsfpB9LkzwAy17OrXviu0bgl4kpXyFo7LMWJU51kWgwNCmBI7WK3IWB1uOEApMAAAF8QZtRSahBbJlMCG///oywAA0HCdOack4hRoLkUvGLAEd+o1+SWSQF4NH0Srqbk0ZEE9wdPk7FJ/emPK8Xg7yV/2ESmbBrz+M0KEsfWsgKPSl2lDMFRHEbfGsw+AM/qeq9JJVPS+VpBuIIv0UQFO2Q8kVrFJrhFaftkjG7sSnEnuG+NJXSp+rRBvITiT3yALOGQPZkA2LQqQJBzk8veDPw7A3c6QWi7gkvIf1izHVxxceRCzHMr0Y32tTDy0z7EVX2qcF1dCfSpucPUOM6wtKP0myDYvuqdD/vafzBeZmsi0MwHNQDeRRPLjQinnc0dln/jh21iAQxyO6xyyqy8EzB2Wt7twdSG+4tiNAZ6BnHrtGJLYcWWz7g60+0nOXY1yVXVfLgtEwXoTUKt8t0pShdzxvNlvmPZz9KRWJbu5yzMODWibQ7ldCAlOGc/KYOoSXDaryFwfh+LjLdEJgefFFwGL+/s+5JOYcsq2TjriimyFUaOB21b+iHjJIAi4AAAAD3QZ9vRRUsK/8AHx3HvlZiKdpYQhKKwLo1WAHSJ7UYbW6qL/zyl+56cDe/fJqn4FODCxJS27cKnsDc/EtwF7WuB47hiVp/Ph1gge+LrT+WuMv8YxX/kg1sYf5injXoYQKZq2fs128WHjcliQ53uE0jqHSYf6aFpFCpyrpVq2wutLDihhvWllmpwV/LiSREvshMoNvg0hOxnWPCTtnWei2Uj4HDuMOejS32XAowh6JtV06F74kbof3Ylrs4RFfdnSWZKiPhUJuPBXeHCGEza5xn7+Gzm3ga4ukceGbowNqvvTNgoCi4jnywONPTNni3gX8CZCVzkc6MCAAAAMYBn450Qn8AMjhSIjwSjwSqgAV92Bvd3173ZP0cRsndpJZKV42QJPlvHxApYRWv799gh6xK89QZO7l/S34NuKLSyIHfpKyl7AyX+zBUDWL8vLJRHYsmMTFpC2KayYLMDgJ0P1TE3xKZowKd59Lu3BF9SFEUmGYlkFOY1yyT9dnP5HHeRD789FPoBUdBIIGThDOgIBqbf1g2vyTyQ3x3R0HXf4ILMu7xAlinj6jOhs56fkE2eoIpvghqWbyz6Ffo/CpN3+sAKuEAAACbAZ+QakJ/ADJSej9+O5gfIb1px4wUO3dJsaD2f82LGAXkABLIaUPuTDbR9ELu107mNswyGh7TL2KdzRLrJDRDBwsOHJcjhh1gUo5E/mzY9DRY38sSIKw+VDRkFw91PamvdQn3TPoeByJSeW6mQ2mUheJotmMDlErKUTvlbSdjr5mRtbIOPh4ZFjWFK1pz3i+oChYSfaUqhZ+gOmAAAAFkQZuVSahBbJlMCG///oywAAV38xCoFiXwGqQSuCIIgsFF/b+S9rhEhGADrjRt++mOhwNSDcAmyT+Ncbu4LuyCQU/zrX8lyRL+nkV7Q2b54YhjeavXx//6etXpeFY8LknAnO2nGWKYBkYDPS0zC5o9Y9GrfpgBriDGKMWTSO6Nvzdeh+r+3gNy/ZEVHe+VGbf70xLGNcHjLLZ5KcQkxl2+nVd2f4a5lnS1Xelfmxw5QhvOpudKVuvE8N9CYRer6UAcbQcdAyxFp8Z9C4N3SlXAWcRpcCkqdT5XdbGfM2ciXUsV3KFkQt8o4N5+dbnIl7/wz0UW633YD4q7/68vDGb03Lf0kw6yCbRCkA6UygkXdr4u9600TpJQU0hyGYex5OqDkEjqk3nhk4inuGHPUrH4KBEoB9YyFARm6Cax0MaPxFVP4g6ASV5jVd6WjH3LSdRjJfbMZKYl7JjwqPG3nrwu5WVwAR8AAADaQZ+zRRUsK/8AHx3Htndn7GrHrE4qJY2WLaACJH4AG1GynfcFr58fcVKs3NJp/jqkWlrP+ef7bIvy8LFMqaECenTlwVOQQeznCyTwX6SdEe0Ca+znqw5rzn5o0+T7PlX4pbteYE3n/lfxnvfdKG/0OJwpfbiTSjMAuVXjGgzFwAf/4f8y1lRHTQtfdiOAL45Lc3b5NB+VucO/w5x7aRG1q7ythIBlRzlO2b42GxLiqOXEMdqHh1E6IU1Ypxmmm5xd67b+3fK6jUcm/nbqE4OXG2yxLqjqw2kAZUEAAACYAZ/SdEJ/ADI4UgQ9ODtrwXF4Bkv0IoAakXwvPzpMGt67dfyI4BSysk5uY3FMKAI876rktZqB9vJKo8hVaQYxY0OklWvoB6jim73VaMbbEtXJu1+rM7l0yveAss8ggQe0R+9+zsRnF2a+thlaaxnppIZzu/MgoNjSHR+VhroR3SlMU87wWWkdcFFm95xfEUY6dnAO5VzAUEEAAADdAZ/UakJ/ADJSeimQ4C8cojAxIA3HtXN2TOO+f18YASP6HA1a4DVidTJpFM/h5QCG3Mc6+CD6OWvNeFAQV1FKF/Pyiqquu08Xb6r97tcKUadLxkED+VvVvKjrNRE/oHxf4curWtgMZoi6BRZ5T7zgB6TO9c66O/ykPGhvyw91HRqnPdj+3MwlvN/QYx6Iobq/axQ/8HE29TIFKHoV6iv7qJSQiGCUIoAidnvoBfgTsBWaTAaTStK7LMYXCFtNU2pyhzD78IFu30HpD2U0geDTn3zvD9y5epBtRexOEnEAAAFIQZvZSahBbJlMCG///oywAAwXreA+g2QdJrIfc2M68SP/V0JdXABzQ43QCOT8Ar5XKTBC7ICcPwC4uJzcbojMto2EunRZp3up2UOnceMpwpcy06cyl3zdAftRUEAwe4G+ZfxJktVZmgdBZMFRCv71OfZM7bQW1eh4lSu5xKZUoryUZ+oH32QJYJ0QGmv4UeJKnDff4w+7RT+hlSvAQlzumh3YS9QpAnWMlIInpBUUZDlolOxOYWoDznM2kgvDLSLJW7g04fOQtRiYfh4juwdbaf2/2Z+a66UVosiIsfIx5iwwlMvgPv2JN4AyEgcaE5wQsgNICQlyRqAopuqnd5cSDKUf2LTTQwkZ+s/glu5mdtB8AcTgLBs6OWeUjWIlq5oLZs0E4omeNDb8sqf9lv9WIjN/9/y08CDM616HpZ6WyR4+EYMdTCAaMAAAANtBn/dFFSwr/wAfHce6WGZ53CwByhkkZJlAlKvKuA8rvl3Y14OL6I35PRN84vnycOmzRDEqb6a59lpomSHr09YHFIu/VNIk9GORvAOPMsMJLrABUgghnfaK275NIFOrhNE3W+ld9MbLd+Y/qSEg03l9uxGOviBtgUSSC2aLBkPqNqgLqDp5Irev00mwb1srqPBrjmLLrttPIQjEjfNwp7F4nAEbT8ItYHO5JD1MXFdFPgXyuYkK8XeDN/Lk/Mm77UAr/fVNNBP38ayPadDx7/cAj6WKrPi/KIi2FBAAAAC/AZ4WdEJ/ADI4UgKNlrqAGr2WQzCK3hPg3hp4oSmfbxk77XmFOuIogWyr6Dn7KRgx07B8Cm5w7EWodrbFwVfdTBQclbPDG/9OVrW22X3JQW5a6rmbrKrQjhVMilhrZGo3ZYp0Bh3t7eHsnVtt6wt7wUSC1O4mT3hETnglALqzNDgmI+hN+g0ve//AHfg5WDTGn8Hof41uqp4zRc+Hbd/8kQUwQwXFtlwGCO2V96CykiKoFt/dKOFBDg1X0HFQJWEAAAC9AZ4YakJ/ADJSehRi9/qwBCO0n/e0/HlzV80S208JqDpFgEIOq8zuKksbQUm0X6vvTtr41IJ+q/1uZm0pCez+C0aHtoCQpl2v9iksr+2VvFhFgFQm3wZgRTdy1Y28jABiYeS0uXJ8C3LxtAcdRILYKst1J8CkQElD7zhFRgfSYPn4QTaabfiDDzwm899U55iVt5rhRfc4yMLGr3cYORbeLqt0JJ8YYH2ezr46gfvqdZxb+8OMeuV2E7bgYErAAAABK0GaHUmoQWyZTAhv//6MsAAE56b05pyThuaonZen5a7AANqO/myW+QKY+55oUyt9KNDT+eN1Ec6s6gXicUyHBEPrVygN/EXuxDXVmquDdiTCXuJhl2cKNbSOY2h7/M6RcjKW9fCvZBPvBYjsXk4T0aj2f6tkStn49Fl1p+dT2JFaI80uNZ4Suz40vPlaLofmD3ukuu5ftfrwCJ4hRWYBKckMvx38FXV/MEKhfpk8ePxPzjhWYQl/tdOIDP3PpWH8C0RmVnBVgidVOd4Pks/14N85MJIF/HRKOmQ5YRNjHtjS7xi5ZadcYZRXstGohK+vONVAUFvfcHKN0QO7+T6zWJUKvWcN4Qc/GDHOeLZah1qB7M6q7nISQLgNkviC3EkkmqH2AqNlSMYFGBHwAAAAxUGeO0UVLCv/AB8dx41NeYHANXvG3KZtnp98N+za9NK45tvcq752wLEdvp5TZO7pRvjPwF03RnM4RG3eQu5bnweEWZZSYyIQJoavU6ZY1mtkov6qU4knEI2+BmzIYOApNvaGKjQhU0ToOXmHCn/NzG9RHpOgi+pGRAlVvPDIrMX4bAsZXS/aDU2Zo6YkTvxoTgGExkw3IDB24ct7xpsgkz010/io6eVm1aTuBWZdp9TPcjgCf+gBCQjA0+rUANFZaAf3pYKDAAAA1AGeWnRCfwAyOFCawBhblVRvXx5CbsCmgBgAlRF35dlh6EC64m2JY5/uC1WtUmD4rMQYvwNRSpFfaNsBbk5+ZdSMsVqDjdJH365yUPBc0ZDC/Fn/sTmlwnjgn1UapSanLpbEEceqSTiEw7sW9xB32pGEy/oGhUnM/+9WXEqWNtvqlrsae0A22V3j1JSVquLes0iexgj16+W0NPgHNQLdXpgjtT9+/tOFTsmqp/D3p77AeIaYuEcmBodMEk9wxKAGJf+6bXNSub3PDr8Xiw2k7m5Y8yRgAAAAqQGeXGpCfwAyUnkKDJXkbpCA/NlvgBuuyP/s7xcLd+UJbDos4ckUwGWgiAZxJTXwmxtCaHX3Kf6HDuMbq5D9ctDHadDb4fh1xPD5CbjscY3/KTFVHTy9lmWfh5kogRWqHCbHbQlL1AX7Y6gftofIEABRpXHV13I32x8FdN3kosPxE8TSJIsQsp03f81qdjExfcvrLzER6yaLpPZCsLLh2tgIKVPteoOAq4EAAAEUQZpBSahBbJlMCGf//jhAABBuJeBmTJgA/c2YmlomNOVb6ys8nSq4B0mrerlPFpTp7b0iBfuYXQxW+2lOBnuBw0ydhWj4AK7p0m6Ku2v/gHpOh/a/dmWSUvDXhi9pxEEMOz2bdLiE3ztJZxRc5jWcAAL/vU2UHICRNbc6H6hlGI64BGlnpK/bT5reMM4ZaDYTd2siA4PnsiXv4gZgAEODlXZmeq5NGshJkrOLzX/4ULcro4ZHzJ8Cc9NF71aerXYmgmVJ/SxQt7sfwlBMZjtUGNdNL7dtZ/ov3k5AStSoxCyGGmYIuDQ3U+TnVQJ0xzBjWEJklVHX65MceiQ9EP3EpEUBuxHUz0mZe/DRLZBzGhKTzLlTAAAAtUGef0UVLCv/AB8dx4oJMl/qikHqSZPTmHBugllZYAJxqlFLJaMYvHde+TAG5CEpxb2on3jW4F4wHCg8TPpebkuNrcztInOeDTzdxU0vJh3Tcd4eroGmvWEPGAD9VYdmEGedqHBcMDQz8uukPdTwSlBTzu1/TPOOgullpUPfiO6940z7xoNLIoZZ6mbqSbBHO2OCFbmgzrsCU2yewmSSDCoUahwNROhvrdukPQz7QiJ21fPZGBAAAAC4AZ6edEJ/ADI4UIVoLsYVqPJkj/LAEdl0+WPHwBk8N5kJHX2y0lEp3sjvmaLDewEo3rY0+HYpaH2yH1qhOua2RypAMNZs5OO0E/kryQb7fmnv/ndZA7iDaaFNWP6oaAePpoXg6aWcuL6iX9Yo3RrAKTGPqb1u5QGLJr4mUv1yrFohm2NiiLGqIacTBwq62arie1rl2arTC+qsKChLqGO4ooPpZpJCkEhjl7D2lzyCKIqrs0x6zeQu4QAAAJoBnoBqQn8AMlJ4/VjAAEe7SCvX76pd8NehilKIsew5HGzm2gPxz+y+xI8wvv+H8EDiqzlQH1jEcESL5mWLKNCGwleuLWJPVzEOBPra3OMFPaCMcD4IW39bM2pBIlZzarChF2/5r8Xxg+s872h9U9ltBMboPF8z6u2ViJMLiQjJY+nvjpzTtu+4LHFsxammm3IfAU7M4r3qmHzAAAABT0GahUmoQWyZTAhf//3xAAApHsRdRf4Xg8rBew6YAbmn8Uv9FmfeToEfm9YE0HW1CjpQAlsTLRSgQExTD2D5da7b+cbCENfok7VumyCe8Pqdfkxe2V8rEpCP+J7SlJEHa63vsxYFCZcqdWGHqDYyR6g2vHI9JjvE1ln8chtaCFO9Cw0ung+KsQPzHDr0naJPsv+jklEyEWsOW3yFuGl1EY6nDG4f3I0PuMD2rWMZb1Pqm/TbWj0blZ7+cx20D/3b3BY7/Y0hohYWATEk9TX+fu5WAP1owutvOm0/4uWbIFZ5wa3HGb41yD68xjWpCpu1aDVJpg6ObbjL0itMfADxEwpSJ1kjXlyQuS8UVkiiYN7+PzQ0LR//mi/Yr2iJek8NI1cKbssh3Kyed1Y6+d6zlp0IdBYvC7cLAM1OzmJBB5YrvIpWdY46y6surfKDoY+ZAAAA0kGeo0UVLCv/AB8dx4oAwSQEANASsNZzAfoG11nqvJVZhQ9A/yghUbef82BXxQW88ztrCJN+7Le3ihmIXfMVj/MX+lsTp5nqb+IGKUFXKEgPfQomDRP3mmuejqNedExzfkS6egxZ2q2ipiGQW2dJVAwo3LWXH/Pw29yvosDObyj56m5RXjLloxQwuWLL9sYYF92h1MlsdnHIdjZsfFEk0iEypERi0So/jEHgztML/IBl3Dq0kRsHKj3hMMcY+qifsrPaeA8dpodjItkrTouPo4uCPwAAAKkBnsJ0Qn8AMjhQf8mJkB8bwABGAp9GUXJQ+J+i9KBFaS5MZiUxw8MWKp298//AHaCa2ROZ5gSZCSczEfUfUgZlbu4QuwY2jyeUF1j9au6i7r3zqnepZ6DKV9NCaw2Wcfuah4g0stEzscv6ZsC37CDRoLJ4VRgkUN592f6Zb6bqSaDPAkzAiPb6VMb5GyyMqGWkDta9BrTAcIdKxmFPyb4JwLkh2N9eVgyoAAAAtgGexGpCfwAyUnjvDIpC4ILADo7cs1vHSBuTaT5RS5+Ym/V47E7aP+FN/dHEGL+a9izhVsiAOzhZm6obOjT+x8sjsCoMpMHwnn74SITr4utJUlSajg9SJJ4nR9eDDS24E25HtkoWfrK9rbuVBjA+KT2220DemwW7EBzBFsNFgVlcxV6PM4qFpPhU+uV325PhU3jPGlXvBh38RfzPP0t+dUAHo6MofJWPhjDeuY0Y5LjaBTdESB3QAAABJEGayUmoQWyZTAhf//3xAAAQb4B7zurgAtnlT362nVKlWwlb0FbwjZMLpRU6GbivcDkrd1JsSvo57HV07bEsu8n2pec3hS4jkgyWKnPpy6u26XO8VROd3EXMtHQ7qveLXVKpqxm3skFHe/U79lJtPNrqpVkjrpBluNHmT4wNCcAJMEdt70sT240pOPk8HH1W+VZ3e3AI8hEnYGCVgY8wx6f2z1WI/I6mgABRPXD0+Xe2nb7lSlDPujXZEeJlYE/i4vJ0wfZ5LfZMjWIc/XtDpFynR1ceD4FzrhZe4MjIrB3bBrqzYc8Lky5X1MAIlPlVwzRZbS21AX9q1mSLqHrJbU4yY/I6fCBljI3D15krZih44PZ9YiMWXTPQuuIFOZVAkdpb3EEAAADlQZ7nRRUsK/8AHx3HeqFcykmEzY1EABxZEU7GHpvfy4GXzhsnjSiQi4WFLHmWwdbBcTW6p4EJcPBFiEjdl5x8T3lGUA/Qlo1mpJgj1/l44Lj9e+5i90dr34vq08+m+ChnzedsqGfjCr0e2GdcYnZo/KrNfG5oi7H5h3Xm/eA8uiCImm8QSe0CLE3mzJeHYZ42vT6vz//o9Lkq25rF1ZkFEyqxri5lq+JvAhLntDrXZrq9wBps4HyJWLIeadDMop0BXW7yGozmBwT4zsaayWJEt7lEHOdgjJI61kP1wrewMArAb0AYEAAAAKsBnwZ0Qn8AMjhQBPtDhAAOPWBey1u6ekWyQQuF1RATa0jfQyoWDcPGB7QrDLIYqPca0yc0c02Y5cU9I8algSXWeOavucFm33crbuJqi8+EyQctaQDTXNYEw95swPPeFX7a6i5yA6W402MAVw+34nC9TwJ0zz2TEDbF75SDOkVlG6DjCNTpiwAJDaPds1mc0cmI3jdcajSpFksn3Q4p2eJWOGPY1r2pnuGRA48AAADFAZ8IakJ/ADJSeJFX0NQA1ehVMwfaIYRLIZBCtjYl67yskO6XgufgoS8fQdBDQhY5NWS232GHdZBaRrRcPKIn/4ESWTn11JT37tchV3yB2jXrczZu/QBH/hGd0B0SraBELEhN216T+ZPBnaBAnC8IPvMEgAAEDIX+ihOILQUXP6IqC6Cm/GHAqhWUEqWozC1HID8sESLcwoANoHxVs4amL/mpXENJKu6ktR3kCYnVndC704F1umZNpdi75LqSfahw04vTA6YAAADmQZsNSahBbJlMCF///fEAAA8/puD+ci9Dl9wl0ZpH4vPTK/CUQBGAJae6KbaDio63XJOaPY8iNLr6nIvrwCgBkFPd+aEYnCKrFh0Lf0XG9qIyqrQd4axoQLAgFHAKY1UmZyYep9I8uqEWq5fRqVLdm6nD4lC1PkNfk8w02zpyjP/mJebsvGWPa+7VSuSPcxTAvmmJiOlfoajGkFPpOjP7hOhw8Pd4Xzd8NzBOH0AIA62wwSqUC26xRACpQZ1aUVxsz9VV3CHW/XQzaoz4P2ckpKKgoxzEL33IYqFtWFyKO/j+dVRrCNkAAAC/QZ8rRRUsK/8AHx3HecrDvNkP8Ks2yAHjoepf7iWAFXNO6wZLwMlYycMrqG8KG4HOAV8O+ULP8moMsS5PY3P+esZ22vxSDsI4ETo6SGg1KlTNTyxxuarTND5igqgi1vpk0B2h4Pu9WNKNjalkCOc8sGpla3CULRfza3gQ4Flv82CMflZS40uXJ4wikKVN4lWL1rnmCK1NzHCB4Rh/MQ8EhgDZkiQTq12L9DOYXirmvMh7iz1c0NImHcuvesGvAtsAAACrAZ9KdEJ/ADI4T/5OwCwSm6R0AKX6g7iEn3mfi3TH7MTaQseBlwZaZxMQyTh4mgLkwQehVidXYXS49SLmbZz/aIA3X8fKjD5tgAMjraI4dlkGQ4iJ38mh1ARtYubgIwbXwntBs4ZIbbzeG9Y/L8ECepVR45VRjhg580HVfWjOfzSVmkv1s5JF/Js1I0+z3F6QyWtd13XI6wMfqp47mPvSnx4ruv/MVuk1hSGfAAAAbwGfTGpCfwAyUnhuZpPVQgfarTVmVR8AIyLPL00+AvzD3HvuivhrMQd/39VC5BBC9RWZX7aIwZr0q8KY86qYxKObhlmhYjuTB3fjnQTHU7WpAhkxRC+uTzqNhUcMX9CF/7cIanvCgiFENPCPL7ABQwAAASRBm1FJqEFsmUwIX//98QAABbOT7b+sWPOWUx2cAchtde1nlAGeHWysWP3KsKCMLYqCmQ/RLwHir5+0HMa/Lgokq70nTTetPrP2qTn/mLebLqHfkzochbBO/dFwoR7JdX6AgUf57uDFwrCQ0rBf2LOs+f8o9plJD+Qf+nlQ95WZZsP8N4ky00bTdRnkSO/976xeV/5qCQaEhjmpRA5wmhUyqWuQK7MrkqCkiSHLiDzoDCTquB0HY0n7A9aUNKYh87JNXMb2LTa4HPsvyFFanM0EZMLzJB66BWPYxUcOOvGQ4bcNamMcxG9AzHGVCXsbcLraDk+3ed6Ehm3nofC4kHysGEcPdV4A5zE+Zkm3yjvoWsc+za7S53zxXZbPDVwZoBb5EfmAAAAAzEGfb0UVLCv/AB8dx3TIy+gauGnbJbS082x3aswE4AQp0+TPjKUOTCBA/QIHVq47/lfh+pSec27pjXnG2vd5TDfxVMqZfTOY320aOeGgUSPO1E9jU0Ls2P8ZE9EvvpFWp0xeVaP2EDkYZe4UCSDf2rR9NBEl+W2r9pHy8BoR7SVnUMxLmIMCE63g2GFIEcTdANuWROCldGPTqVeCjmkuU9Y8sK9hjXBGGykHLW0O/jiERX4m1GNXy3rihotihLVyEskryhSkv9k/NhYF3AAAAJkBn450Qn8AMjhP1iiQ7b0adOwLe7dh+IMVM6p1GAPmwGfJwczn89UYC3+XAAC4lxn7s1xZ3PgZEQndiURGFL9iYU/t+45NLt51KtiLPDwscAWVf+g1R9jRJy+fE/aO7OtzXq0oxGWq7xJVBZZ0V4QgjUurkcL76Yorich7hyC1swQDyySZGlgBmxVFauQD0tha9Y+7mrHwL2EAAADLAZ+QakJ/ADJSeG5mZenAwXybklxT2goCih0ALZ2KDIvf3LKl+LAwl6nEzt2h/sirhNd8Oky8KFoY/Jf7WNM0fljBe7dVYT2Nds3erAEAUpPhf59IuDv9G9eCP/vWRuVXWt7T7brAwkemth5OWArSOU0QiGRLwNx8ufErPlNFS7s8VlhrpqGSU9w4yuhm30OROTE14mxRnoOCikcjLM7R6Ee9Cgm23cQinqBQZ/Fi2eTLpNWUDehQ5GOJuVu2xCDxkvrV2wFCN+eYDpgAAAEHQZuVSahBbJlMCFf//eEAAAMD4uLh+tP11CVp+TctvTkfxANIcOCpGaN8Af5sOkWce088iiZOItCXo0R07uteJiFJVFVJP+bAialGi2eeGQxOkifoMq0HG/GelM1bnD2+YdPyFkj/bFXeX5gZZl0T+KRx0PaNO1+amzuZl+S4V6BMtUV6b9tU5yr48Iug72Qyo9gRpSMsnWFqhY51kIVOEvJ/RMpvu6hPXPxjWh/QsY1Jm5TtLxICXdIwee8ym/PqPjAe1mIECSzJbofDkSIDLOqn0soImNGMD4gMlX5Qef6ffXyw6TcXz8jfxovU1XK3OZJTG9n/LS43+DTpC9thyi+qzTpa1JAAAADzQZ+zRRUsK/8AHx3HdMjKPqkQfcVDFKTp2ZQI8EQ3fABNXUqKM+AMjDb2MODZJZ4pYGNNyiztJw0GN8wtMWJeOLSGG3UXlRkx6/yXrflLJ1W4fORl2ELOADEILzqE0tsSDRfJg2oSU54zWLNXlmJSh59Cv8gpF0j/EBVzLkyXsUtMxqrpTYvQNhp2iE0cSxkxJTPUm/rMAqf90BCSitFA4/x6ctxQ12vJlEil+nKkTLHRW59DSJ2DylBS+5l042qLL8UYAclTf4Jh2pfZpHPoNVA94O95zlXuNTiAUkizNNKl7/V1Ov6I4TnP1+HsJ0eOAGLBAAAAwwGf0nRCfwAyOE/WKFvLMVnN8GDxJedAAA/DtSdTU7OHjB9FmsELK50AKVMdpIL1WDOBGxctglOjF/foC0zPTxxNLzzHoXOvxtXpNaKTB6FyxnHtFgDqwP2CfaWZ0Ty6/sD0GbVCdQ1kRsERl+Z5+dPvU0moslJYuo6uh2cC1Iqf8HgKauZcMcWJmH8KJemxCdxvWNg92AJuoC/EF6dtyc8O60jZHj8dMYu7zOswc+X8aewF08fv4+gjKCGzUf5bCNCygQAAANEBn9RqQn8AMlJ4bmZl6cU2hlWYnRMieAImLdu1ohFC20ykKwGWjEWYE8q0ZFmTYtXB2yGzSe/Q4anFbo8zT+srQRA4KwQ59FAjTn9NJFd6hMkliPoxmxNpLSiS3e+cFZWLnNsLORBKj1fOTyBbEiCltcvNJ9Hf6e1VxV1j3kBZYz7DqMCueu3YSNTPg4iPChyoAsIq6cbvEX2wc88CVD5DVml+bTc4i2Y+wi2AXKXvG5UCDM2ZfK72ELNhBFoCRPDztA//fmSvFgNAIR42UyiCdwAAAMRBm9lJqEFsmUwIX//98QAAAwJ/+wBAYuyse9b06Ldsnu4CpyOuwCq0fNOhKNknNGNFGOAbeFv+DHzBlg6e4q55N8VbXizxJ1iLT/jekd0nGSN4lHF+VfouZVgpfx0Fh/NsKnfTtyKx2NScbP2CsmIlFZywMlBVehVWWcIsURYVcF+yg2gW+bEPAGzzRnDuF/eh87RqGOHdQ6ufDvOosGZO02ZtZeP/MQZYf9ITX7DFGvxqPo7GV1zyPOgreQZ/MKxQ3DoIAAAA4EGf90UVLCv/AB8dx3TIyj6oz6PFI0hhOhhWwXCli0kEBQMQskJ80X0Lr0DABFW8sI3pHisp5znAsrKTGb1r1tp4EWhRR9S2Bg/kjho3mG6DpBA1LdHS6jelFiZX3EdXsLSPgj0VaSHGMr+1dqiVMJKVYVB2YpUHLN1dvVQhi5JDqOWC1/iyrsAN/0/edm8jcQUHfarqYg/DeVWgXwKH6UM57kWiZ27RKmUKsJxbUHG6Elg1OpgJ5jaRtk97ywYTweLydGhOpKWpeSONTZzQ0HUlckW02oxtBFVzDeodwC2gAAAAygGeFnRCfwAyOE/WKFvLDdYV/Z2/tsuy3BvrLvpJcgJ9rX6kQWq3c+FSu+vbbbk+YN5KX0I1VSacQK3fK5tq5JMZ0WwCyfYG72QIbLzsH26yTcTCQE8aSLBO8Td/2jHrqgqjgRtsdKbrg+BHXEaOrCu0oDJ1emW2CaLcfrTO9wBk+8tL6U1JvB4EJABhdJGj+/Rv1lUN1fMPAL4fQpFIYwFiVlStOOq0AHnsXpEPoXffP/skwV3Sg9pJlbBGv1z1wxg7iBKIrtLYgxcAAACUAZ4YakJ/ADJSeG5mZend6/76BJ7FhUYXSW2aQn3WVMyAIR3I9ivN+Qjw2wAAXFVSZOe2MorHiPRgfNkYFMvrgVouMMhJwrcIqVOmkc2uqOTDPtXEolgMgdOj79veFdcrI/66qsc2I2GbcMyeRk1Z9Duz/pnHEwIiuQbsRRgBvH1sUTQMcQcGCoXxfeZ+Pe02SJGB0wAAALlBmh1JqEFsmUwIV//94QAAAwF9HcZtzAKv2AEbhjC2VCZBNzYn9fmkQDnSIXVwuEmRJ5kWRF/OwRZ3L5foec7WfyYrucGTmDN0XUIhmyE8qn8PmB4QC0Eoi8+b0Cysi3wm46Y8vXcpblg0Zlo6GZHEGVu9dLd9bobu+0fBPa2uO06d9NkJPTqT63MSwp/mSt27J9FZi2r0f5S7Qf/MYbKh4gxYd4nLWUayc7GWkMKB5LUy9PAZZyDscAAAAK9BnjtFFSwr/wAfHcd0yMo+qW3nAN8AANinRv/SvQooNy+iqQ0/VLQ5nv+imBjuw6ke5emx36/W8LVJXHpwS8JKBTr+CD5/Y5oo64ZitWWum5Q1XJCZdxThNe089Gi7bjpAtcWaXfwy/MwJIjah1/GnIHwgbIPbQasPSFr+vxtEBN9VxPuC6dq3k16biuFtxZoSeVmLbJTYqmkZfj/PFZZXbXF5ok2J57e/0CTyYAEvAAAAhAGeWnRCfwAyOE/WKFvLWGfMbGVi/tpG6Fk4ITb1bkIKyFQdcqDptFbsl36T+A0AJVCPx9net4cMdpEfg2odqQMbhyvC75HFXffST319yKZYEb4rLZ9LXSiJ9lCaid+4QMy8WuiINONXCzIgL8cIrdzuXie3NpL7xCTeQzG7p9ssr7xNwAAAAI4BnlxqQn8AMlJ4bmZl6dH5m3oZHU5YWoBNv2VZslHo765XRJgxN6kozli3qVC/3LAALoAU/Whisfg2gh1IYwE0gHN4G2h+YWgmYUw+zNcOeZ2qTon6q8VwbzWoEfh8gAvDcesMeIeEb/V8kW5USStPCpF18X8BPtGogTXaBydw/dB1ZNK9Vdf/7905AIeBAAAAxkGaQUmoQWyZTAhf//3xAAADAO5v+1mMcwrJALtrNmS4dqgyK0KAfm5MSZLQCxcwHSBFRHUfo9Va7xmfVK3hDym6qmNUUkBXoV1qujRu7exbDDRSnApgWvgWrAvSNZA2f3G0A30H8wsd9/bKh//kJpx2tg/UzGgzP5kEvXeYfWplOq4a+p/iAnCR3mWNGqVzmeIObgK8v0Y0jVynsrQW0x5FQVNYw8TD+wYzqtrXaAIeHksyZBmS6VDQAyfDTRgGaqpNGbjS8QAAAIlBnn9FFSwr/wAfHcd0yMo+qW3fZ64YmZu1uJj6jF5+YfK7r2Q9XG2gazMpCdO7WpHs9j5jNADXlhNbaRzxIV4X+LY1sL5EniOq2y0liPls0y5JMF8vJLimpEoWLCuJN+HKwO0aG8d+iBsy/sVC+5bhG6rUT99BtfvogtG4/AngY8hKmippXegNaAAAAK8Bnp50Qn8AMjhP1ihby1iKFrI7PiAAEsRM5D/u5wZRPTdqiJbKICW1Z2sNaYkQHKTgSj6ZIO6lkC5ROvegf12yddP/tzM9vjO8qc/TMYZONS7z1TH9FEVPbl7VXai4xMal3bTP05GrjyA030QTbDXo8wCDdmLupnwEcVsFxGCypDGjqgXo+XeSCG2NFkcjzROsTz4pTRUxOxMYhQ0S/is1061DgEZ6YvIOu3dWxAWVAAAAjgGegGpCfwAyUnhuZmXp0fqleHOHBnaAvGzABcD6PROcVYQBdQSkL6FtFQnNO+JyfKxSorR0+W4YnFH7MpAjX7G1m4nnU9ApcS+VN1FqD7Vt3qo2OTRxkJm+J7IRXDNVuYdbip/jRgbFx0y98DSh33aPSvcAyLbU8VDzm01hiNqsMMIemhHbvNizQjToJuAAAAD3QZqFSahBbJlMCF///fEAAAMAXNwh3Ga+y1yvawIAUZ56xZYFNvUiorZfgg5qAs7H+WyaMu2kAbXflCp4CMWF3xuWqoM+zn1TNRhFSEu+Or3WfZ+s5r8j4wv9KNza7RBOR/HLr/Flo8eX9HVIW3yHWR705gFBCNYaVUIXER/tP2yvcORrzJgIohZpGBjwRuNLwk8YdlvvdkFIf5nl/InxvQIOjbqm2lCZSPciu6LToeAH0Si84Fll/z5c5WR9/ovGmySnXs7m8brXt4NOj2ITxlnunCi8vvBvOrLW/nTyBGwFArdEt1gzeixseFak4Kw7F6+7vG5oIQAAAL1BnqNFFSwr/wAfHcd0yMo+qV9i7r4Gsj7eqhry9n1HIAWNDCUIvHYIY+udTZcnJdgdBuhH6UYu0f/XBgp9cD39cejgkgH9TmItGEqtanWlulydoF+OiVFmDZxuhK7EIGHA0pnmW+VH81bYUh+a4akYfSlZuUAro8cpg3zTvLCKgXIj6Aq6VN1d4w2TCaXS3n8RnuCmK7GKmpxJ10sfNki//ONx50JLlxdoAi0VkiMBFLoS1FblzSuWXRkOAuMAAACBAZ7CdEJ/ADI4T9YoW8tSY+5UuLQbOofLsTRmwBzY6csgBZ3qT0FiE6iCp2usBfOdLjwMVqJDxKEplfE20JqjjELtYyNI6blGnBCAz9+w/VhDwXsfpkqsyLWcuefNSLCq3LqzkRvj2yJLUF32lPI8D+huCFz3SHOgbvqOfc/yugPSAAAAlgGexGpCfwAyUnhuZmXp0C0ULrvBsL0KLt5SDujE9K77+ZgAtUj8SaxPr+gvnT9Vs9p+KStY78t41xOAmQKkjxJIu8zBPyBnKKkZeToTLDQNEF0CXpeVgTln3DFJ8UZjg7f3BYY90qyLU7FLhZls2Rtqh0h7bVhE8+KCG7q6QVj0FJzfcLsQkltl04pQepsbhKedGzAJOAAAAORBmslJqEFsmUwIX//98QAAAwBfVKfADddvYTewY2F0t5ExQpcWmRMs1VWHo4q9zgtcFBt0xYmYd+TAo85p01p38OaJY18nEJIqZzSbrTsxy5aTmufV/1JIx9cSkktyebEYt9UbphFp9IeHnEla/BX8ojLC5QAeX8OQkAah1zWC6GwxJ2Mw4lI4UVrShn3tvXc53t4G1wdBXoWWWk1m5poLjWzEWg2HvwHRc5jKaGUW/CuUHGGLAVZ/cHsMj92DVrODKK0ODd2SPuFZ51bIK29lfqBxyNrOiNanyMFENYP5NsMVfekAAACDQZ7nRRUsK/8AHx3HdMjKPqlf7D4lxlZPY1BBvnOfP4z/xTiARikgA4sAssuTsBr2QGtgo+IEBPeWwbB6zYoEA/ZZxvHP9VLCdxDkQHhACioZwN/n57Slv+mYmlhEfoKZTEE03VWo5UEfgMSp1RLQQ5wrFvd5Ag3pCd4LgzUtLK0AJGAAAABuAZ8GdEJ/ADI4T9YoW8tSeNsMRmI4rq/a6ewP4OGAIpudd0bF/kMERQHI0qa4YhUYfx4AWBgGys5cSI94+6m2jxrNHjqWwFvQwnA4sNQuEo0ovkMLCaJ/l9jKQod/9GMnmoBDhzdv/fuiOEXgD0kAAABtAZ8IakJ/ADJSeG5mZenQPZtdOJragdRtj53q0aTDMvZ5zl97394w7oJbiI9HfgA3P0Hs9AfwEz2FQQouW91jkSH3Gz0w6cp3iXTwPHRbILYT4k59vUHLCmrqEoKLyLqLQbDn7PyS+jmS5gBdwAAAAOFBmw1JqEFsmUwIX//98QAAAwBp9TcDYEcACUpR3Nz99K7gAI7vp17KQk4N70XWnd7nwZNaz2VSlEN7jSM0Z1cbCcmi8WOufOf+W5YkAVHQtcpKNFrzmfwTmUuDVV6onm73iMYXi6qUquR4umy0gjAbekzWrh4hNeCF94cRQzToYtYB84e7YLu6Evj0Pcl30ne+/DgUArRNQwV/SKeOdh7yLPl4GhDQZXVsqflH2XatTr4/n8YjOx+oC76ISx8LISUQNzcpZd7wUn48UlVFttFaUkw8CeVjChTl7VWXOyTnM/MAAAC4QZ8rRRUsK/8AHx3HdMjKPqlg8fX4CwJ8RLADbSf4rtmvtKSkD0O0+FmUI+TNHrHZ4dShyI0t4/hm8lYze79B8/rGtNeoiCy8jkvs8fGINZxn308WjSZegXbPI5Ff/B0Fe8spoBjEd9+QFUSvD2Ukg5Cul2vEiSgIAgeQ7Y95BnktGsec6z1AVe+a6YAFaqVHR1lmmAgCEcFBAjls6qnMkSCx2WOUam28b4vnzaniBtn8RGnvShAGVQAAAKUBn0p0Qn8AMjhP1ihby1LDe4uoARMXDY3gYIUmloo59yHaikTK4FIfi9UIF7JxLeAms8pbKKXQGXT9FqzsG2TvYuVKDqxgakP6GmP7PX56Pib68pntHKNbC2bSSJn0FH1kRHL3eORanwEIr/GRTcH6RqUqANpku+C5pdpeAypOJ5HYrJ09StmoikVD8N93CjF+pZBFUNA5j4pJpHXUZTohNzvQoRcAAACaAZ9MakJ/ADJSeG5mZenQXltgnwBD1UgmiaLNShVX8UG3ZkeZItFttMIdPOFfkM0ZwT5PbWuiPPgZRRjK+rk3zPlF8AfHaj8fE/4aUcV3mCKuQJzNmSTCYYHN+rro0w/N/U7CVoPpxlDNDMS+IL+JZjSIjrWlAhvQ2deAtNduXsY0j2XkmTW5SuPNaltZFKTn247gPTGRFwAVsQAAAP1Bm1FJqEFsmUwIb//+jLAAAAs3uZ6nYikEDjB4d8l+AVqXS3ghrCMZt6rDtpI4yK1rLwDUSNv5BesQhIuGZ1+oXzmg91Zj4gatv4ag8Xf+xeB/j6dVQjfFDex6/z2dpz/meXudUTVKIqmJzDAOs2c8yA3tg7FTAhMHIWgdmkS1MCvg5AxWvrR4YNFgzC9mg4+X0bu4Tk3vOIHtB1/yNXVU/qYT7yxgYwmrphDZugQs660tqBGriez7eM6hjl5qJVA/6pAUhAR4CGrSC9Y6Z7+OyMdg6lLl5JLCAlcs4Vxf+IUkaZJo1LsbueKxpLr8Q1GV3esqdEaBHeulwQe0AAAAh0Gfb0UVLCv/AB8dx3TIyj6pYOnsYIvyDwUFfe6V3RjTfcPWRPsSvQwAEQVrVrp9WeTWKv6Pym7QYvribg4Wi77MmWi4j3S6qqXIJgo8mOXdaL/sUHwL5rcpyLUZsrFEGdWWZC0spW8vRu94QmK4jITOpGX3WXp+t043MlSqQUh8NN6gnQAj4AAAAFwBn450Qn8AMjhP1ihby1MnT+gCB9rxOYpVug6H8J5eHfqp6JK6eYCPsZOtH8veeSU30zV/+7og/Y2gr98g/4NbXeCeMksRKBSaSPFe4dMf43fBAS0Xd3CsyVYBMwAAAHMBn5BqQn8AMlJ4bmZl6c+Duxgx64Oeh1Gd49V/QOtaHGH9Nov1Zaf/20Eq79XaK/sMAE4hBN26Hgyu7pl4pSwQaYxUfMvJhKuXUFEZgoibTNYBp83I50CnpX4sMNq7efZ12efg60yxxuprErolrOyD6AjYAAAA0UGblUmoQWyZTAhv//6MsAAAAwOpwnTvHCMqmu75SST578x0eTFycL/IQOIj6QFhBc5q10s8LqdyxCBnLsIaCkqyZ8GL25EpkrVbZ4Bf9DEwGGYHF4QFpc/R7U+yYHdZcuKXspGqAtjWN4bS4cpjpOZ3Q/bqI650y3AEiqgXdH/9nlevYt5SQKjGc9haQLrrcem6NHiI6Rz3GDP9AY0yiGb8SI0j76w8EifgLKWGP09lSDUbEgQWuO4pNK0hlc2cMcc8d4QO992fYu9I0mPPmyYMAAAAlUGfs0UVLCv/AB8dx3TIyj6pWh2aIdJ6bMMcry1ZQzilYCZ4HF6Ox6sAEuD0GIZeOrLQcoM9zVrAw1UhWeb0wAwyfUVmSzO4um9ge1zSWAVPc5OdvRLTNxkTk3m/G0UUfAzKkx9IgPFn9CxB7IAKacwG+VRfQ4Gj88Wn//JONPxX1Gqfz62lG1NidH+8konJlOqQAMWBAAAAfAGf0nRCfwAyOE/WKFvLUCQfcyx7EDZNNGqs++hee0/gaTxAoIgxtM2zYATtQV9tYn7mrl04TnSabBljnVQYt6fw0ActozvZtmxpTXX0qnLYX82BxDsTBRQ2YVCnyWLRdApzamEeS82eod0Hga/i+0inXKCdHciOey+iAQ8AAABoAZ/UakJ/ADJSeG5mZenPgXsktCRAARIIpm9En1MyRsyWhJmBucWmcf/eaJsItqCydXYBWeXuv0zYv/MGlTTIcOP0xu63w7rt5L9rrAsEQygUcVJgWpLvPQ58IEc3KCf2s1nN08JAAu8AAAD2QZvYSahBbJlMCG///oywAAADA5PCZTgUfsL/V2vVcui5hApOQA8AVCoHozOtd8NCNPTAbGUX1P+eGCFjI0FdnK5mPBviJLgxi/rA7tKY8+QJ0bbC0oPBGnqvLWnZc3yTV43EL/eZz0unoXq+E2k2KYFPr/yn3s6eRntWI/qHduhVv/5ingW/fheJYzAk73mb7b77FIOoJzp8lf5dNL2ju1F+5dAU5hIi2HC/ayOVOp6kRmoeQAuE8YD6eF3F688TdgyKzjYJqNjdTkkhvkZazeKGODqRKDqpBaN2ElIIY8v5LjLvL9AG+RLStHuUskdJcto6whvGAAAAZkGf9kUVLCv/AB8dx3TIyj6pWAYANUlH/nWvyf3BitfEJ9aqnr1fmTq5w4yy5QQAhLWORzxZvASvMFBcACHRBnOfqGyd8JHRJ5Q2UJQN9ZVB5bjTv3IfafVzoYCIMGmP9NpgVKAG9AAAAFgBnhdqQn8AMlJ4bmZl6c9A2EB5zil3KKTPK1tev1LMUEzPsqD+bzUdGTtCy0w4z/iwACtR8Qq9alA1JAELRLlngCwZAhGaM9pJ1bPdVsMzEzSz8G+sAHzBAAAA3kGaHEmoQWyZTAhv//6MsAAAAwFk43ddqMVoAEsTMY47ClKMv0Ftda52qUsB9+nvMTjAwEMTDmjkbLzyF6v2CDcqPCCeWZzsv7d5HBCQx6zFtdCW2LiC/V2kK7k/o+yRVS6TDCImb1XeD7MstN1fFCjz9jNPfpSL279M50g6McqOZ0jtevDdGQ0n27zJ0r+iRGzpm6YMjRliHHh0K8+dqUqh7J8YCSdTdoHttO4xM9rvCAHRT0586deI0iwoAEYjRvSGqY/i4bE1pYJLBF39APHwvLyLHK53sxvJy9jHdAAAAGZBnjpFFSwr/wAfHcd0yMo+qVgGOx0caShDpH0M9pXmcdOvvCQAaC7hHif9Z18T2VG+hcBpGqRdaJsO9uwH8Xz+YA4G5PpCRx37g82CERgT+on9d5CgUFjKR962Fx/ZOs8Wh/nsAYsAAABoAZ5ZdEJ/ADI4T9YoW8tPSI2HO4xsACdr4K+JPEtF64KYVp0uQP7YgaAhGGYe9a+8dqwpe0WwpLg6JxWucRM/0RTT+1OanB8wE5TNIOqRRT9GXN8tfXGiDsndIWcDCxoiiJoE/Q4AHHEAAAB3AZ5bakJ/ADJSeG5mZenPP9OOOopzsABOEmOItd5naNTC6p9TMU4N4UHlHaCxnbDhqnWUzEMKwLiPZvmejRBHajP54n5zYfsjP4jGlO8tk2SGQwcWK7EaUwcJPLexItJ3sw5mr1vN7xgvjHke9PNBKVaCt/7mBvQAAAD+QZpASahBbJlMCG///oywAAADAWbmXIAHYqISAafikviKyLLSCoAlkbVpDDYilc25A1H81L5GlEgg/F+MhoW0vIX6McaRHKu/R2A4v3hAAieXQU/9zVBU5ZEQ6cw0oRIez9AdEMFN0YOeiX5I74n2bJHwkRngiZXNK3drWxAy5gXgC59ltl1QzeMqr+NnGb4nFlY91aDTyRLp0Y8kxKk/ROsXhW821r/AwbnEr1Wp2JpNomnV36MGlRi8ePFMee3WztWaLqsYzfBj7lW8R4mXJtn35zlWKlrAkptVWcH10VAYvaUJLCiaXgcT4WBoFDbU/gmIkFhRulX59zUsukEAAAC/QZ5+RRUsK/8AHx3HdMjKPqlYBkHDkQopMHKu/AWCpvNv8AC1SNwu74gjfanWXbqSkbPm+M9i0vG2mwK3y3nnnZdyWLTLoznGYbi1EHA9hZwwXw5ay0sEi/w1T79Gj3xVVcOJmDVe8OMFxSBaShqG5YhOfLu6mnS/PLH5XY9YEinqBx17X6xOWnl2/hzI0mMFk7/f6fKCwl+w7QHvbpMku/QOdWlqEIoPTZf6PiXbpKgCUbq8HdCN0hwiXPPAD/EAAACtAZ6ddEJ/ADI4T9YoW8tPRDU26la+824XfL8AAro8JozEWiN+iuOTo5t4kJIly7NP3fo6WUQH/PMMFY5RCDYna0IPQAns8t77jmMWhekc/gaHPjvYT9UeqmRf1zPeOL8/eTvLzC0dTpSxaIHwP7CprlthdbD0qaKoflIzwywtdU9MpTx/VcdWyMueEuZmIQ0uHy26915K8iun2oc8gq9ddC3AYLD7+lmQT5koBqQAAACWAZ6fakJ/ADJSeG5mZenPQMrCJDf74FFZAgAIyCDtOBo/GP/xK7JWOb9OMcWgGQGw2XSGPPnar2wT7+8226nbt+4dqiGNSmaOX2yKhAi+oNojswWG6+G4nO4TYblhcDAucZ6twZ3LJZYtBqf17G4noqlH2ZlB4yBW5xMQNslxRqsEsg86KxgENY6anBD679c9mej/sgR9AAAA4kGahEmoQWyZTAhv//6MsAAAAwFd5lzLRo5gkFXBUuTKrzHrKAAljP3XWl6Lnn2/xGZs0Z7DHQeNKkbf1/sIyWC26sxBzXdPLLXIfpYYB5Z7sip4SHkGo1KcjTCO9OemebbURDeh5qMdeRzhSDO9zmwpFgzX+F0buf/iGu3eo348neYKr+3I2YJzzuVO8fYEOIZbo2sMzu9v5RSGvvXDt6KrcByzlLln4JyY+9PhtCmA0lAkM9VHYXG+wO7q3HUlSqsB8/5LUJYTktl1I9ufEGRLF+B+cgNmT1kF+KWpHE++SXkAAAChQZ6iRRUsK/8AHx3HdMjKPqlX5fSKS9/Lde2/5/X1swRkPayXWVf54q07VBPGKRDQrVQbX9pgCF8FyQCfFfzddbhv907prAB44N45jzzzD0Abr6wORx8kxCHGMBfAPo+iSP1ObS4KP3T7qSLf2T+NAPfllLWMkM0bgM+ecaQ4rrVCTFbxfXR7YyWmYlLA3pTu+zj4zKJNlSeM1+XSlUW4CXkAAAB4AZ7BdEJ/ADI4T9YoW8tPMZ1ztACt9EyBXSlpKDo3TWM3hOJWrHNCM7s50Nv3z+i5RfJdSFvA4VnVAQYy1oySi0kcVx4Asi5wLmyFmJ215iFgkrVRAUkn/DtJQN4ypiH5rVwpEHIb6DfxcYErFjNabJW9DpqtUArZAAAAdwGew2pCfwAyUnhuZmXpzycxRct8b27h/mStKMfo2ABdQe8ylyW67ZvQG6cjo92t1frJBz9Gc5IgBSI2fCVZYdhCvzZDxF5hVXvPErq4R+C6Vg/uF8NBpFBGFM7JHvHH0tlvX+ysTczzy3bNBkRbfoDnvNFMCAfMAAABF0GayEmoQWyZTAhv//6MsAAAAwCQEUXAC3jZE7Ij3ZFkcBySWlEEIS4gwlvSfxfJ8wsdLOZgfIaqN/MIslJy9FzLazxH4SxXt7GoHP5TYz7hvm+p+DuooIvLut+P7JKTXEQUIJMsQNF/nAefh68CPqXLtyyIfrjpLowah9RVVvWMCQGkEiZQpXmW1qK9zpH6sNhzTv8zSdAnItefMuKqkqq8UZvzvVDmzdBfhA9rB9Sz5xXXIhU+mEx9XCrfcuFxaNFCo0MIW1gOF/thX0H1cHlLrgk4DXYuQHIPUQ4lReAgmvIm2nSFATKgYA8lJ1TOzG44FPQXLwxiJSZg1152wbvURuCtda51rC6HdL+4fe4tDfO8LasrgAAAANRBnuZFFSwr/wAfHcd0yMo+qVfl8ggLLb/BUABLGVcHzUULnnRH9K+0S38JoX5G8N5osLkiWR6rgoGIHlqHEFcCxvf4bqbfU4Om/ZRDoU4p/f5gT+ku3fxm6qRl4LdToPCdY5LWG2UmBw0++80cVm96/iyOA/tIjBBdzpvCgbmZtTjNI47PmxD3IoZmIhKFKedHGi8FZQhwahiPNvpOR+yGN58WBJ8YmNEKezecfGb1Z2oN/B6Mnkux/4E40Y/DXoHHpUSYT0ofTZvmUU7h2WCX70gO6QAAAGcBnwV0Qn8AMjhP1ihby070nNTwXg3qPQbJM2AC56vC1UQ9qlyvxyNW3ol258HYFvuSHMZJEeMA6zbhWP5GUoSFjxKS3pgUFLOoQJRZEAP/eNZe20b5tLmSKBj/gp3PCUG4voCgJw6YAAAApAGfB2pCfwAyUnhuZmXpzyhZnTIIyjtuAAWpqQenjAFiyrK2+HYMGeC87biMK/I7SV/Begpd5tshUVXqCpYr7mz/NS9gXXtJq6rSbBDVqvrZZGcHfU+IOARwwrwLlurLRpequMWZwNPwbfc2IBXCOBNQdubnk/5xf3y8+EL4n2v10MXdilgkCD662cblQn+VgRyR+Psj7oSiJuwautAHFcmgpgFBAAAA10GbDEmoQWyZTAhv//6MsAAAAwCQI4WO09WqtIOvW6foXZGxL7txPiiDBIY1LgYI2kynOS6Ti2hLPWOsenQtwZjNG+A37kdYsQgu6Raj8SCT/3iPMckT2bDdj5JhtpDGigKfuwYKKThhSPgjAl+fIQ6P8oMuDtsJi/47kJ0XE1zIMmI1KgKq3YojFnrNdWcoZVnVCqAu+g35peoXlAyMOum5YIMxdnBcOzq3P/fyhlXPc7lDoQKj3+gM8xZzjYoG99E6KutQi2B6skYXYxgpncm1RscC73wgAAAAsEGfKkUVLCv/AB8dx3TIyj6pV+XyFt4wswYZQA4wBQ+YgLd/pEsO1qePZ0x9evoOz5yVYQUgRPIkhsc3H4IeL67f0zQHGc5kY79WHy6/AX7DA/epZDV69oVCmFZSM/5DscZUeeLtaSUW5U6udfunZ83GupSkMVkTST6STgIlGv/C9Ij3xhk8awo5byLT95sEThQqtlCe3ipSIA2wg+2rCziKhovR6J7XzYVXvll4ACThAAAAhwGfSXRCfwAyOE/WKFvLTvvInvff5FK6SoGiQMVefBIbG6QxZgKAATt2jsHwrLMDV/g73i8t7F7E/qNM5NtC1GH3VGgVnAfP5Y0BqS4vQo4m5AUVUbIFeJABRH3v/CQTB7BzExjWO172YGr23pTcxCNkwJdPEM/szMkQaK8Xo5mUtEny2KB8wQAAAIYBn0tqQn8AMlJ4bmZl6c8p7iTADamKcA7aCoz5RIgcjLOmserZ3QG+ORrVzx+zTk7ynldrdEocP30esmMSj79Qp6AesYM9M9sK8l/E57U9iJNvoyBGxp0t+XePJbJKaRfT/qmte6RydDg9xREBhkD6q1iguhWv/H7f9A7v/xeOC7GcegCggQAAAJdBm09JqEFsmUwIb//+jLAAAAMAgPTenw8CQANUT6z2ZAbQIRrKDEA0i217s2EWglDh7C/cS9InfCNyjdaWAa1YxNujrp3SfZQA+hOLG3KQ1z5VUzUJ9Bcs0QeAoeheW5rZUpV6RE4auyXDXTerUfONPYKjJWIvLSYFlztndF3Wbr3hIKMz861EUEowUI+X8G66D2NcgSy5AAAAZUGfbUUVLCv/AB8dx3TIyj6pV+Xx/3mE5r1rmqsK0nO7hxCj6ADyGuysBekDkCosxsVeROi9Oe9AZdHQpOJO/smC7I5gBURsIEl8k67A0bJWqQOGm862slq0hk02wUYHspnfoBywAAAAQwGfjmpCfwAyUnhuZmXpzx3SceG+vBNb4mWAAumXh1Ez2Clu3Rx5JbJRPPPoeDIiVfpI++m2soscAcLuy6K65CAApIAAAADhQZuTSahBbJlMCG///oywAAADADKStNNgCJjaRXCS9IfHT5Ae7VbS0EScHUofxQAhQN7y7E3qIyUQRLO7ie2fUa7wF1wKj2+7Q39oNCorXWq4s4bwmvLtOdosXe+bG5UdTuMUq0/UbFVb8Mn1n6v5z5L2As4LZwW8ZrNjEuyUlmaqwCJDhB8iRGIow6fjk8tJUyevrJYGlEIuJRo9rP3AqZ36BL7hTM8FoyOewWwzBBkDQ7EOg1epUpwkHZTZDAtQ7HLne7ijtInNMQ5OfXuZGUdNsfaiB4ARp/08z36df7AhAAAAiEGfsUUVLCv/AB8dx3TIyj6pV+Xx/3mErYRhAAWsuMhKuaTTZsi9eXRF/+20IB2pwNFj36fAW/rnoH28g+Bb45MwrK4NXdxKIRr0TpPbrjatlfAsoRO+zzYvH9Z1hLEBGZ9+xYkqGGn9SZGh1IzpUocxKVV+Rlm/5K5nbW53KSaOjvGOatAAMWAAAABxAZ/QdEJ/ADI4T9YoW8tO8q566bLVouH/4SsT8OnDcCjqB6ePXNsfHJpGcEAAHBwRGKp1B2th1xEduoLZwuojY5NGpvtX7liyDcDDA3QtG9A+e4iFSro/XK+uyjj6UlsXa/UHrAYNS3+HM50g8IuAd0AAAABtAZ/SakJ/ADJSeG5mZenPJsv9gYZMcmjAAEtb+et3Oda4pxcY+i40u6kgvqz6dX1zbkVXLunpUZYhhewrVT3jRu6EPGqeC5P5ABkvAfbMt0Mf7NT1U51b3E+VLm6zRbPS0TmajIeEJAvaW7xwQQAAAQBBm9VJqEFsmUwUTDf//oywAAADAIQPcgASySpWkxht6HBnP1Q3hsrRBkpQvYG64Zzp1d6E3ObJvSDZhnMGCyraN+9PTErcX9AiKsFARoZ1OivEik9peXDZ8pAnklkN0vJF9akfOjZz9pxREOP1ivFOpmkw77co08CxwQzkNMmd7j58KzuybGo6lJBFb20cS0183M0PUwz9KRFEUerzrqKyjg+7Ju+oFmF3keRV0gp27DwJub7Akgld4ppk7IqIeh6+nYCOAT4vAQbb87TrowIynvqbNnWLmNuq6S+fCjtYhZ1wtFO0XdZTJaFoXGK6/MO+49kiN5FK0KHNmYmbSdcZAAAAZgGf9GpCfwAyXkH1kjS9XrPMBJ8eEQuy1mJbEQM8AIwAXrWswGJy78UtNi7N/uN3/D3ViotAWoCe+YIUtMEMyovFDqv8aWBx/paIwChL+dXEYjeodk2gGMaPeL7SWpOVMwtTrAA5YQAAARVBm/lJ4QpSZTAhv/6MsAAAAwCEI4Dqy3veWYAJxFrNMWnggSp1KHsz0cMBCbzbv2hHtJIYTGL+roLicrZa67v5rWRqgkpD1C+zoggxI++ebPhA0VGDiTy+GskbNzsg7wZC3rgPkocAqDNlUwr5tQZIO6tLt3BYfRXqx89sMhXnbOdkHNnVsEJiJnNl1Hvs+Ql5AKhNL7tPIAx2dmY+zh6jZFqndfdXrTuu5ooskeBJvKwDXh3RkbBanwh0tbUfuzXPvkWG5bySO47O1oZgeJRbFILV0LZIkrohAlszNprZukS6eAnPZMLwQQvkg7tE+M2lD9v4casGY4jgHZC/aWmEsrKKYWMaUE+IxD+HAFU6pW6Bx6quAAAATEGeF0U0TCv/AB8bbLpkGE+pdsuSlvB72C1m0yy3W+wARB4bIjVXIaG8JRjPSq2ARZZDwoTVMsNZmI2+Y3r0djjbrAIrydRBfkAADegAAABYAZ42dEJ/ADI4T9YoW8tO87vXZtYmqk2Pw4ABMJIWuilXG1p0KfzLvSwLpUCeVxiW21uBdEAz+rDcuRacUkz40C+ddurcAFP+Q+lP+bST5Pa04LerAggScQAAAGoBnjhqQn8AMlJ4bmZl6c8nLqDLlYdAL+1xWF1XhMxmqnlReHLnDUAdDEoS/xJksPM446rB23tfXxwGgAZZ56RU/CxMZS/BQQsKFo41Bs4qkYARH5wgKIqfgS4vTpnHhNvw1mh+Uy6WQA9IAAABHEGaPUmoQWiZTAhv//6MsAAAAwAylVMoK60AFf4qQrDNeek0jav5XGuqTKhI9e/HrnXdvi+vdk4hcLICdTHTGFOZU9Jq6mEMpr8sR04U6bpbuAXFzFmqydN6T3uPht0bVeK3pwA4oO6n64Df8Ebn49Ri8GBGHJqyQ2JcW+rCirXwDHHG+iA4FJIbZIiSpG52lv5kAXlqhYveMY8jrPBXOiGxWdThDjX6sUEQr4mIEvhhjZVswmofzzYQxRAleBS9o6AW2vVRHmIlOY1G19NCyr/CpkFRWoIDAabSJ9uNiuAYL1nNx2E6Yvyq9G2XFDPEsV8mMPQTtJXdRZJrdDW9137ftnLtMXFJen19pKklJJqPmHCLNYrceyk3zuVMAAAAtUGeW0URLCv/AB8dx3TIyj6pV+Xx/359yRGAKSbEXCbcYZcRlyRLDQwu3KNWX0u4H/HFudjxkfo5mE3o/BviH5c5gTSJANoO2UqChGaeEZPe0061HW/8KOoVanB+H1VxrH6IM+kQ4CQ/5ptuUSG5fqvGp828fii5HKA5pRKhzADVovdxFtU8tqu/r3b8AWihQTX/496jA2kgrS8B4v4u2XQ2WgIJyEYA+4yqYnac1t8NUK3gYEEAAACEAZ56dEJ/ADI4T9YoW8tO82Z/Q0AFNcYeZw4uCeJbehLm/E/Rx7ol4Rx61zMP0SzEkRUOraKF7pgxhsP+05p+j4NI8Aje48y2ug6CQsQuYcq3Sqv5wcpU8RD/94VwPFT+C3S6trBEO+rMyHFby0AGvhfT6MmmQ0+YJXqTdXRqQPY/gHNAAAAAgAGefGpCfwAyUnhuZmXpzycujjsFAT4QAR7sXgFIQ+g2hO2TLqkww44lv2ApetemO9nK/b5pCLof4K7Blick7gNV69uZbZHtpFhZGNg6rL61dSD9Gn6pacfKRNBbRQ5SE4GaqnOOCYu/sBHBUf3kamiVrlfNkXuQO1CMomRYpQGjAAAAskGaYUmoQWyZTAhv//6MsAAAAwAyjszbXx5ajnBRQnT2hgdcBFbarLou4CAebbQKmTV2zrOfChbWVT4wbpxVBYheKUXKUV+GdgdkCV1fZKXIh7wxtgD1ptRAO3MiCuWIgyZXEgHfbELkULRIirI6EIEnNuG0W5jxTuMSj7rXfj67P0YDX2lTWewc/jzFio/E0+ijQuad1b6h65AuxzBTIxQsAPSG9vNU+ui4ogv8U8YSIHEAAABrQZ6fRRUsK/8AHx3HdMjKPqlX5fH/fb4DOdDjJXUcAmEUmkyYgyX8MtDPE/PSGbji+XH7J1lExJ5e87o7Ba0E13fQMkvpdQO+BdZRvFBnt7eHdPiEvHAHxnsLdArjkpWelr+TctrQKeaiAfMAAABsAZ6+dEJ/ADI4T9YoW8tO0w3Mo5pourwcg6vgAG2r50b9C/7mMWeGMOiyJ8XS7e7AGy7aXudzXjuzjJAhq3r5UZYEe453U0FHMPvYXfwjJNi5h03UVwoKwco8kOgJMjbbiDtjHRkFoTxgQEjBAAAASQGeoGpCfwAyUnhuZmXpzx0ZJIEB8oBgBGkBGthugHosiJXuzIiUiB6rq1L0z+lX7PK3KJN5SGQJO5VT6zkQr6WIep0qz2HgJOAAAAAzQZqlSahBbJlMCG///oywAAADACqe5nqdmCK0zAG4lqYKDTZhjq+DQLZ+yac8+g0Y1kdJAAAAL0Gew0UVLCv/AB8dx3TIyj6pV+Xx/325giU/7TZTFo1dd3nopI3Xq1FNL22j8AQdAAAAHwGe4nRCfwAyOE/WKFvLTs/7gAJ0W8mBsmcwubg4Ai4AAAAdAZ7kakJ/ADJSeG5mZenPG4oRY5JiN0iMJvLAJWAAAAAaQZrpSahBbJlMCG///oywAAADAAKF8On2M+EAAAAoQZ8HRRUsK/8AHx3HdMjKPqlX5fH/fbmBllTd1vPRTNsjsFmyeZgB6QAAABwBnyZ0Qn8AMjhP1ihby07MANReXYv3gB4EQgJfAAAAHAGfKGpCfwAyUnhuZmXpzxuKEWOSYjZ8QaH8BvQAAAAeQZstSahBbJlMCG///oywAAADAAYp7kAAxUob9OmBAAAAKEGfS0UVLCv/AB8dx3TIyj6pV+Xx/325gZZU3dbz0UzbIFUwBzyMATcAAAAcAZ9qdEJ/ADI4T9YoW8tOzADUXl2L8ucqreBKwQAAAB0Bn2xqQn8AMlJ4bmZl6c8bihFjkmI2froQ8swE3QAAAB9Bm3FJqEFsmUwIb//+jLAAAAMABlFoMWQjd/NEzmVAAAAAKEGfj0UVLCv/AB8dx3TIyj6pV+Xx/325gZZU3dbz0UzbIFV+rF60AasAAAAdAZ+udEJ/ADI4T9YoW8tOzADUXl2L8vW5KuZgM+EAAAAcAZ+wakJ/ADJSeG5mZenPG4oRY5JiNnxBofwG9AAAABdBm7VJqEFsmUwIb//+jLAAAAMAAAMDQgAAAChBn9NFFSwr/wAfHcd0yMo+qVfl8f99uYGWVN3W89FM2yBOZhrkAOmBAAAAHAGf8nRCfwAyOE/WKFvLTswA1F5di/LnKq3gSsEAAAAcAZ/0akJ/ADJSeG5mZenPG4oRY5JiNnxBofwG9QAAABdBm/lJqEFsmUwIb//+jLAAAAMAAAMDQgAAAChBnhdFFSwr/wAfHcd0yMo+qVfl8f99uYGWVN3W89FM2yBOZhrkAOmAAAAAHAGeNnRCfwAyOE/WKFvLTswA1F5di/LnKq3gSsEAAAAcAZ44akJ/ADJSeG5mZenPG4oRY5JiNnxBofwG9AAABbFBmj1JqEFsmUwIb//+jNMm/wWnpCAP5pUn0wneT79b+oKRdDCTc4kzV8Gd6FfUG7VFemR9QI6OkHLKGdNimzh5tngyQLPK7AtdWo9tktSqQlMELRPKvAZ2oxLV9vEbTrRtyh96ePNGznIPu/QeYulcEM39zn5SaJDRFYxaKoXY1gi2K5vPsQzFdhLgsfF0AA89B6TwVuH8ruPVr0RX/veT/BSKhlVVbczWvVbKjLBZg+kXPgEoQS4habc9UBUAPkBPzWk8qYP46zjNrko7WJlBkHP6HBWxnnSG8c2W6cdlzRBrbUjvVKCt1YGUUqFHMEsgAgJNt4Jv8PntuppfD2w5glE5uJnZaeFjmRBda8Ef7eCQfqrS8T4ka5CNKfss2S0B+AgM32DNuMs6j2ooEdwllaiOik3IwwLkOG2Drf5sXRc/1Angi0dMD0QX8JJYCObqpNpG5XDytE6aIrFahRq87NFbELwWQXND1x6PTiXPJ+NAD634S8+SVIxfnASREPj5QR7Bmsrz/R1CjMEZOJxwadM2mIiE4ZxquiwyIINL/0NULV/k0i2SYpznKCGpFtpZqQlTaWoM4Udgh3sHp5UKVeUaxsaACfr+ulhLisCTUwrUcmIAXgdQo4I89VHXTM+jMaTfcECsOwpAqocbUMEjbBFfwq8tclCGtuDHgqDnankn3nUZSDf3qxVegpM7fY/plcS805W0OnjAi4NhVCAGC1LoifDLHPKT5Xj5UqvWPWVIPRQIfsVwqZK1RquU6DWMwIMMxC8gX1o3LumgPixbiI0wz/Q/X0PS5LpU9J92CvOUGVkFbb+Au5IQnJ6har+KdiLAmxSGa4q4wRJrkqelaqUmflemOMTdViwRCPyVJgZyu8LKfH3jG0aOB0BRYf7ZAu3pr9uP5yP9wWqEQ45UEPObhfiZPJCiVZnc+zsP/AEp4vMJOBL2fRySw4V2LfYE8VNDa2DbIP9ilLeUknivxm5aq7kM9cxxBPv8o4asj9DEiszW4hJnAmh+qDpsCHA58zrgppebxrsnRZhLg0EFiHjwXRGjaBq3M+lwFCauycIWs/Jqlev4V6peRb3+Hu9/PHACKU8VMP8fFEWOTyCG6C0e/42yicOC88zPjY2S0g2ny7kS4MquXPCmr6tCnXA+Dq1Uifct2/jsuwDb/ChgAn4w/5tY0pGZzRiOZ8F0sbbqAUTrBZSyz1LWqUkfuiYwQFTswIRz2i3MXFdb8e/vH7V/0Q8Ykz4un0pau+PRDZ4LvcU5u7OUMVMdO17a4JJ8jsQa4kVUcDHwZw1x83kctdzbG+2OhmrSVXuCwlDdOTcfrmWROE9LPsXuF/gYywS+QudinUnegrMlt+vqZs23tluyqWlX26GbUAIAKTCb5melxbHwzDcSVdDd7Y/sTGte640O9pshX99GY7w1SB9Z8cxQVQSTsnzjnTckneYHMdV3Zwd9j5pB/fPDrTToFdgYXFJny3ZRLosuk/x5NLx9VlfoVpR0w5DBTTvsMF2+qSE90SS6H+BpPMorE9V86zguepNoz0CWFP9K0SP024jgx8LcAPbz/okn7rwntFYOJU7jB2mNa9NRqgYVuVpba2V0xb/74+zXJ4znasrktf9RwyGRMEL4/8E++ddgiQTIs0O3VVQOotH3I0sOAslC4JkLOUpGsI7T96XXJqO+gSF8cOr0mx4x9BCcxxbhi9pe5l1P0NM1eInPPWFy15AKWS/r3MM1RCUm+qP56/TKD08Bggr4cHVZsoltmJCOVSr6uIQpvvsoH5ojV39hKSsCeA4Rd5npDbbOF03fQSfKO0kjovpRvbV79D3d8iqknQ+JCXo5+GC7mVLhTqybjGpLvCPAWokc9u59Y1TVGjYVSM0CHJQSzmCsjuqMjbVHh/3umurag7O456QoPkq/ruXmHZPPd8TksaPDmRS/ZAd6EGWMLAAAAHNBnltFFSwr/w9e1G1wxEXwTHm6qVsAZPV1dG5kFzRnPpXbjs5xbBuQLpZ0dmsYqZz7JECT8OWJYFuixEi4+JlyEOIdNsHCh1mZuf14ZrUxE3EJyagsQRrULoyAmM5DXWAra006SIrTCk0ZMUs00TMOPGBBAAAAPgGeenRCfxUjM7cwEHfOUEWKp1XiME+MD2s2TfhZum8I0q9KIBA10o3k+zfhtfcOi5NwKKi/F92+uqMnrDUgAAAATgGefGpCfxIeCVvxtSXBIAAluqC59WsJwdmbWYFJzSe0CCSwtqZaXM+ARROwScF1UTJiMBgTaAc9ohnEq9OBF9WTqBtQMgzTZpg0MYqpgQAAARtBmmFJqEFsmUwIb//+jM7vpV6oC9M1qjABwjBmYfObTJ7EvXUnmaNIV/8fJa89wQQhW1lLv/zzyjyl38Hhv8wGxmQgCyFSB2ZXcUr8NpsTrpQ0Swv9gliFxaYnAAADAIgHgB//Va5IW+ZptVLcVlw05DoTP3mXZt4jU4VZHNYMUBMy1cv6Hsgsx2SHb7talYk45Hwq39sHdmDov/h8rAg3lSxUWuW0R2oBFpAN5MiB4GZDElawbFMx0AnR2L7xtBg5S8NbSJvCp9vDDKfj0ajnatppGhZ/YD8dE8lcXCiYxXYcH5BVeCPm+lZE1S/sFfrvZa3Wx2897UkTd5mfSWYCTd3cvTPFp7nziJG9OZu0Ym3hyAxTKSxaam3hAAAAcUGen0UVLCv/D22WcAf63W/mWv99UCAhaIB0qmTADYrAfp57S/k2B4CCds31XD5yLRarFjyRs/2fayankP6m8SWSGUpB9RG8dSaw6v9Kstxdjht4Z0xjQ/i812MdgyK2qpnkOUMx9NHDNFkdRRUEJymgAAAAZAGevnRCfxUixnYIG++NU27QBiFOIiA4aRc1roKJLN+zbz5/4ON8aVIIARUg2wu1E+4SJ9JtjE+QO+oS1z3dqdX9GEsC3PK0FwUACW34jjhOfUBspyuYcp+Jfw9VvbQRpbqqrFkAAABpAZ6gakJ/FPzrTMefUXK+1VNTr8+xaL2WidQMFfX1he8omloQAs8ttMIR+0PV2OsK56KK/ZxxA7E3BQZA9LQnKz+tIT7BOG0Lc5ENqPevYCsJOBqqKAEq8BTD/XhaFQm8i6nTktRDy8L4AAAAu0GapUmoQWyZTAhv//6M0zN/n3OMeVwDL8+/uH7LfAFYdwgWk5PK/s4uwC3AkvzsYF9zoB0RRQsuZ3qzc1aWmvN5qod9xuJjeHY8vEcfKENekw5FZAysAAADACs6MEf+C36mfFDpb8/Xh6lUfel7j02NBr/2W8wAOxD7qXH9vu2qZqCJX00KeFkosaDhifud2iE5FvfYAUT03If4bBpL+oadtRezWWos+ET+VDHv8orXGVwLVfims3PoHvUAAABhQZ7DRRUsK/8PewU/THO0QvNmxh1Dvn9OHGYHZaekAahhoaoWxbHJnMFzunc+KMFUzfIun61lJVXK5YtfwpQCtNXIahytkFqOJEKBharSKNuAQnzb0A9BgyBbCJ8EoC4a2QAAAEoBnuJ0Qn8VKayc9uA1P6WrEZWmtMi3F2gHF5KHWGZDuTSsEGMApJtP7JJHzM0bGir6hT4Ab0VXcjZbCoFhnbda1+FjPvSY6OEFTAAAAFMBnuRqQn8U/Pfx0C1mMWCfeA6K/NydsKIE+6R4xA5B2OpuqTEAJLpgrsOE3KfE61jnJGxelZWmB5xhogFQNsWZOFRC+/Tr1ZC+vc4u+yf/qCeZJwAAAQ5BmulJqEFsmUwIb//+jMPmAZ0NFPNgCEXUlkATFx2Uwlu1pXcU384z0OvUYAfSeb0IT/TT42e0c0/0M4cuo9+D+8DVrgL4Xe1g2t99H1EXNpgAAAlzWY385gAZLg0y2B9ItB0R+KxFP20I55OUA3VNAuIgtfkW3Om29zQWWL0DSbMUM+8xpvyMtPd921TMyaNGFf6rxNdzmwgIp9NAwQfUq0sens6OExbUTerT8/YuVgk55Bv7d1DeISaLpFfCLQJWXa95uckLI1WZZD0r5Fd4TJeS/VKbRK/fMi9kbRViPW77GGxCD4x5iVf/PsgabRWLHE/3/57u1W3E7XX9binII3ha843EOAn246GN4XcAAABnQZ8HRRUsK/8Nx6b6LZ5AEALcG/+99YVt3Asmc7qOO1PZUmmUPw11TAQasnfICVTbm0c7kHKkDdIT2EhakvSibdzTihyV6K7pnw6BiUo3PQUE6if10rArYj7ej+dWwMqJxCM0Ks9VWwAAAFMBnyZ0Qn8U6zy8Lz91mFPxIpGSqg1w0oPT1gXRYug4tP+Mn8BfKQChvXLLej39g4c629sJSBFADulSLwo9j6gPEh6Z+NTwhm4gRl0PO8+ikZ1kvQAAAFcBnyhqQn8VF3iVul4o8w65+mT3C4Cz+Jv0wlzOUAJUG9VhUCu7M+9/IDVf44vCM+TNKAZORXv02BfQ2D+4C3Os75Y1bhJ/rJ1Uyut0XvcUSnyTOTh8nHAAAAEaQZstSahBbJlMCG///ozGveygb/UX4FOBisE/WIQgHCLQSQddCS2QleXpea7ohQpat2v6Pk5Eq+wV05jeEV0ssh/FuywKD2bBh6ivw7pCe/kuk0xFDV7vbxfhKcxesAWBdWttpIbGy2M6qM2ZYT5KvU316yQ1MCG+H/wgqOCOHvRBgNVDUmDEmgKyl/yB488Xa18nEdqbfopNjd2krU2Kxi/QRmFj/HydimrbmYV/cUqBcYAXHO+YR1UU7sEWpDH/R1pJCrbpk6ywJviL2U0gcjkm/y0Jqt/bg+WHbPOn9Iym8gXoXqtVdZKrO2RtssiNR+Z6T7uHNsry6mAkPBqE7wzxcAtjWZkN2QcdiE9bDhzsI1vYSrOGxnUlAAAArEGfS0UVLCv/DfwuWzH4e/bf0kmtCjlXwuatCBpAAiDosmAfqWfxBrqroTgmnPxHe+eQxpYfvI5OFY5g/YeCRG+HvW9HgQc59kKWazBeV8QjSjTGMG5D9I4pG30gWBAtdWtgQAfi3/PaedfGMEdoX8oRRBWr23hJzggj2jmexGExRB9fdIKs5NrRVZ6SYBBxzLwKqnOqkTNx/lCvz5ZihsklaPSpZReaXhdMQTsAAACIAZ9qdEJ/EtnCwz7wabdgWn5N6DxCS/VjJEONPyZQAlhEYXlMQC/4bWJMaUBgALTGw1bDSR01FbV4/gPn2/SUsJUN1fpz1n4oLa8RQFaYHd5tkppF4NTUdnKar7jG4Ij1FrgIeh0bewkGwHCsZREhgXooGseoW9f9iRKDed/tl4W7Ng4ZO2kZ1QAAALgBn2xqQn8TE+hx4RhRwATPoAoxoirD4Cr4qsFQQNUcm/Uq9tgQ9JInGJP6djsXkDznIKcIg4Uu/6T/R1fSjV8wn/DIsTRuC6naHZikVgSc4OgeOAFVeoMeNlIyA7B16ziTSvEamprM8hGXD84xpZkMu3J6XruxAN0gkkh6tQreAOADEBykCVne7Jly2s3QM1I4TbKGLkyuhQUelxqOImOWbXc/dnglFKIy/isWkvSPPDWtlELZZNkvAAAA3kGbcUmoQWyZTAhv//6MsAillrfBuJWDx6tRX4T3NaiG2X+8BP80MVwXKIFQ/2WjuzJ1sW60oWcj74Qb+mJfxzvBXIX2N9dMYXLONs6e92fSDI8t6jGePs3yIFTuDfAik68kuLbhYMW7ZRRhCFBu2ThV5lRznnuxzc7E+s+h7/DxOhf8cZlgT/foKRlfCDtxhmyC5kz5FU9qwV40l6VIKC7SgS6BaqfZZE4Yonygu2IOc2JCj6yUpRqCxcZ4r1ODTaFe/YGTLon+389Oy0YzqJjAv/N1+d4FGN3HykNRqQAAAL9Bn49FFSwr/wJJN9y2eXlIlbRPQ8xe9J3X1TOq/pGUiE0zWsTXP+LJyz6uFqACIOyZBn5js5J0L3aq74VMH0eDyvHO6kLPi3Tfa9/E6RD29MGqB0uGYW/xNj74JRQRtXKKa53+0yUV+fRxVEsM+mii/C7Dsokh9IFfZ8D9DMWmrxuYm/vkGOX23thiB7R26HqsuDTv5Aal6cSe8peg/IppA/kZBwChuCtjqUR6RbeGDz97sKhBqNigrose0wiPgAAAALUBn650Qn8Dj5tSOAzV218YbeoeI0ubbFsQb3t42GWgcsIComzT71zLXFSunFHsH6iquj9f5KTWOeSoAX+ZZQrVGVQ1bT3q2+g+/iQ0ZX8fKY4vegQZwPFN9rph1Hz6+tXj8j6aQeNt2itXc4a7u+IqAqZ+Oin8bz0uokKrpc0Ubyvqe14BahD5yAsaiJ0E8+R4JxPP8v4NXNAWf83sJ6XRKWB+Hp1DBOyNIEZorU93SGNUqKbhAAAAxAGfsGpCfwOcT8OdWV+jaMACv9E1Sc4+NB57p7JvkkFD4b03mi5rF4kFt65jYJsSAY/oKTWhqz47VKv05r+AIO/Zs9s3xyO7qpiV6AFF9AZ8xHGckzoHhoL3S2kUg1cIbh7GGn9m2wGqMQKRaVcrbvoD6/IcAe3S31D2HOtLIDgwxlXmsJRtO3RcCVSLDVYe/bO3h0qH3ikgTFOURvNVnqfNa1ePZI+illBDbObhnBizolAAy7nLPlUGf6nI1ufFAdZg1TAAAAEoQZu1SahBbJlMCG///oywCL6b05zO79zr+5xYups8KrgflACaT/enEbQB2dCGhY7lKsNbmsCjtToXmAJDdGREtH5EbGi0+fV0J7vj24R6GCfbzh7eMFxvd5HjcJYj0S+GTi8SNVK6+K73CMov3nkMu4ykhxJjxY/vm4E1LKiJe/YXdy25cI3ygCSPoSIu2BMT4UeLcJhudPjKWfEQrK12RgfOCPrkIENkKlhxaiejl00guVRGJ+osZrlLAIe392hYNgBnQWUSwvFtTkH5FRjHCVzwAHIMlMh0pl3iCGDKdexCk2oxoCZdoNrVQHsbEFCQqmkce0MgyYPEKcUjWZUFWYjJ0U7GSYHY3bU2Y9IR3KAIjMibqhuXNA4XX6m245NpAwK1rms0jP8AAADRQZ/TRRUsK/8CSv6vPdiKY2G0J380JAQpiWB2X8MvXi72lfsALJbA7L6qYYDpyVrMzJD8HtumuUbTGuWEMzJeOVx/KqrjGhhmMML3GkQ8taFQ6T+IYmDRwIw+WfpqMVNYc2QRo8YOThXbdCgbAdyflRyf9vZpuHh2/INW0BxwNog+KSqJm0TXzj3QVMdk0PiQpI7imyz32ST9MXDoD9u77qS1AMkDPQc1jDlpYP4fqJm/tQm+chnDNa4/BLusonvvAJw4KIdPxVS3kyGiZPPLOCEAAADPAZ/ydEJ/A5w8FT58cC0uWYi7QozlfHxuWzFdgAFdpWQ+I3AX0OGLydpeF6XzmUQI2sYkaU9bW3GL0KB5kYZppOsU5Jfsxerri/XqtkTBbv8AuLXyZaGLN5Dq5EWrgTHMkRsIeq3rWYOLd9cpvFgLevqSGqmOnrXRWBczFc6Ny2ZSSa3hvmAEzX/qlrUzg8n56DppyS7g9X7ieIcFuZm7/J4A9txXGVAElOMXcVb+9JtlASk8NUvYdhAmME2CwY+H8cHVUwC7Qz3JfCTEpBDxAAAAxgGf9GpCfwFht/DcQFR7x0Dkvk6SEvlkcV2j2BdPUmkFyn0PjOlXFPP7tdPbe1YhMmbexsvbTeBi5gAsPagqVsYJdnmTzMWH7xMea589aucyEUPXTUfJuSp2G70y7LHIoHU+pEfRcVLHt6iWW7ZPCkG3aKWD6damYDMe7bjWXMP4IZOO3B284TF45VAfA75bMD3A8ffojReejyrLieRlry9oGJw9NiG10EDMbYj5hCM2WwmG0k5O+GAVOClCp1tvkTRkmRtvQQAAASxBm/lJqEFsmUwIb//+jLACt+YoryGAcfydbqJ40oAIBQMXtldqij/FoSjNFMAq4t7LH1d+jGOzfxpekA1KRoXdhM9UNIkwqfbX1gOwd58vhlEHj47BB+J3lJ9sLA6tbPfxJOGwLOV8GigYb7tkNPN7UbvWOBY8u3XYyWAMzFsZKHSmyWEZmdCkgTk8IlMOqidmXcPdjKl3wR6zRdwYBarTRLClHVAP9Zfr0Ld76RWusW318m5sujepU2wIZ/VnA+QEA3tbvejhUO2jNaOgCT+mpztAN/alJ4ZvZC1wcUl7LaFkrWe/OKR5I1S0BTDNLKoDU33Ov8KmDm6NYphfQ/GDyUcyHPnxrg3eXs+DZ+CF2aReGs4pd6/3Ou3OSX6D7+2tsfv5ZCu5vHJAu4AAAAEBQZ4XRRUsK/8A3LkiKiE7dwHuqj38AMiikT3qeAD4FZfhiCHLGV4Nmq2afgkX3vGiFCbv+Su8xwNQuMOUb1Pib286pH6kjqm9mRH2igYlZnj1u9ede24s7q0+eVfQnDMtyJ4PqsXcsmMakGW0SrHbPBY49E7SPwhY9Mayih/gdAsz+BLjOvzv2JPkGe3BehVDL4cHuaCh6S3xnQ5v/Cvizx8CTE68aolUqqjNi2FlN8KAUwsSs18G5fUCB0xidUaTlUZIpka9vemqS796qep36S4YFL88iKeSsM+62v0iUDjaA94z+6wl1Q8ikjT0vLQOWnjUgSpe9M8BxsQbmCi4s9cAAADZAZ42dEJ/AWKFTzB0lMGB8U0AjYAJxoQgh+Sh+2ejUZyI2I26MuFpD66dfwoiBJzgrUw8Q+K5NHt+soRbxvHBJR2jaxicYwO+nOTS26qqSwWH4Lr1WlQ1Olhh69vw4vafl6qhO/wQfg4j5rcKHihI91m4r+N7dSnmfFy5S1wr0cDxIlv6q5g5oqnRD9szb6T9V7aT892BA9KaygFRsLLU7BM98+r1o4bteyjphdcKeAVuMyInuSkfaRngMCFGnF3qQly+krlvS5P06do4mSSu7yA/MTl2QjskYQAAAPMBnjhqQn8BYXYhgeILc+0yZYkCmangBXKDtqiSox+ivDN2sZLkv/Y518sNOmpDpihXBc2zR8o58tZqtXisjlg9YEO3pn+HAG4ayPtkwOkdHCDMcd4AVBJZiNreKNcuM/Py98uv5nf9svBaNSprVUdUZfaVX/JspIzihZrFERjB8ms/EhrMeALqa10djeNIzT3Uidxkkz27Dh3JldqUGGNQV7DwoyC78vkbL8m4/6IvXX+1Whkvlh9mBZjtthL81ZmKwdtSY3mpeFVXrMwOdDTB1vcfFtvf766pBk61/Zwj6a+ZulD6uRMyG3j9qZeDpFGA9YAAAAoiZYiEABD//vdOvwKbVMIqA5JXCvbKpCZZuVJrAfKmAAADAAADAAADAtr0eJM75NTxNgAAAwEHEfY6QwUE+Bly+PwQgVq0yQins4BY2kFXn+elYqJSF8a/Je4jTqWa0SA2Deo5ZFbfVK0w4M0rvnJwo8CVXhMRmrH13aKx5eCCmPyGh3yp0H2kSJPYwoBqvx9KaO0ICTWDhMdKWWC1T+03dMgDwgHfrKCOa8zpYgB9L99to7XiKKupJ5ANKWBj47SGj19wO/8jujh02qIg4ld6tzM/1l8L1d/FYVp2UQl2xFscvnHGZp7M1WO4QJKsSdn3+FA5Svok6Nsc5F0LPD4vx9fcWkjS1/MOU2gnFilvxyEedU8RFN9HIsSoL9RyNam9R9VUPwBrd9yzuPk/DooyqIKA3VyIiwjrGRuXn0QDjbQBwP6NRppcZDmgM68fhlWlPMpSfDCOQdAm7/VhiTbj2MFgDjCMDgsJGqnEdBo6ApFRiawiXRPdO6HDCTsWccNM2ravUoAj08TpD3MXVYlHDhZvGEIH1kCwTpPNCknmL3tX/M/MKZAVQ75c1/IHRcytXdF09wDIMTW0cwGu2AbPJGTEPYJ9cltfXzJwrc2vWki8d62gOnA2DnVkV0Wa0+e8fuxhHB0wMyu9nGES3MwGgssv9b+EuxCnuhf6FLVFS7nIbMR6Wi2BpcwtiVW8g1H5ZZU/xGEMmaeQFWEAAIRE6K6EQfiFiNo+4ASUfZAyLoAAMSoP8b2t3RnQUiceQzki/clLZAFwTYLhg145vZ3wA6z6o7R9og4lRB6Ce4k5/QHYBOpErFgAxJliK6kBiZnn+EZP/+q0rpGg3+iGALxhmB0KiY9WXPcz/OpJuA6cOrnXjgWeVk9k3REfIhlInpqtkyHzf7KIxCCCksAYbJfNYBXixMNVgIeAwitBpPR7ri7W0I2sACZX56CtYjgtHgCAC27Ju2mrUOwRW8DEKfaIg3NPJPmA+/5Z+SQpe+07korNAgZo083IHax76dD3h0gjICTQ6IHWp+JD5ivDrCt99tgLPmB+Mzj3u26AbzW4K1siMerLc/r1kakO1rcKeksfpcpDdRn2C2PUtV3UwQCZiE0tlDpdQH8SBNsODTjkE921R2X5H15l+kymEiSkj6q44AFPmQLY0fWqHHw8j6PKBHvxwkhn2G9VS0mUcIOOACfyuRDdb8/25VhgE13m9Ptz9VL8MkOyPMmeT/9BkSgNy+xCKp5S7bPLzFi9ygP+tw/SDqkUwhzSXm8AjD3X3knOFRvBdC0KA8ThdVvrocfRQ0i2dCr2qJ/D4CBjfPtYfqmpMplpw5Oel5DpNQGD1jbOoaiK2PDe0Fbab157faMDvNcyN1mXkXViFdmKAu+SYVpKaOTSP1d+ArVJ4QIja5C7RHuIRVZBmXLhsfIGdO/SzhIIZuq4HNHW1EMCM+jr5m2wbzo/fhOnc7nuPa2bF0Im+OlgaI1tPrho2/POmmxLFqlUaEwf1ZRE+QAF9r2bS8/obW5An1NuhK7mDvEIqIoAKihgIeSzC2qD+BuOzMWxV7DKHciF4mGYg2cV08X3LESE7/L2tADe73egAxZazeeayPN6dblUcZZYRuzoPRQN8G4TkSqHwoyT3hVoMQjQPKIW1MTEIQO1jV+CoaRTzuNEj/Aue1viHojMKDPQBXeOG8ce680hr/3KKhSBsWAGeb0c/UIK7SbKGttaNpbU+wMVwtrpS3nREVmc5WQbuOhQduG3RcyAiKwh7OkKW/reYyfhas83a56dAiZqKsYkXZSxVyRCx1L3CPbtUHkxp6f3nZZUxG6YkQqfgX8zctRbddO0sWjPvWQ67hfRgYeYrnFyiKcjXyStISqrr4xuKGqlIa03+WFIZ3MQ1nx5BqwlBHdYhIHjD7re++GCgXGMYl6FCBpMlNIc3d3Yp81OaUH3KgVJtdPvRbqpPaqaB53QrFZ2Mm3HRHwoHJSSrSRsIAO6xdUF7w7JPXRalC83dDUmxNHmG74ZsHpQoKpaXEREzjcbSwARQukhBZCREwgH7IxGMSl28R9YZZFzK738m7CEdMRythxKAkDFbFwDZ3dT/L4poePFibULU++RSFYwYAsbx251h/aCpOqPn9f4ldSRknXW42asR302QUSDxLjhn/B4rpGzXWxvoE67/BHtRo9mZOOoUQFdqUz1Iw4es6/ezXF+1sPejrPpa7GMxDU648qjF4j6GkZ+G/ghcobKlvtTqrmKbnBGW+4CD3rXBilVCJ3NzNX7s5IuTrrpS8G8W3ZM+mT6Q4NQPBtwS9ZuCKdOwgry9v6OXoRxMxBaTY0WGBAa0r/2cRh7bRC+G4UjL4rirnuV3MC+eJqtL2bQTIDC+jPDW8giGMPPQpm8+KPBxCbrDqxBP6l9DJ1ggomLazqLB9KtIQIyLVF1bNcJpoUGaD/OMIifKCnn/ZWIuzCarNCoCMKHAItamLDQ4NTaxLswmjrwAtDJ87/n3z8F7vpL874+nJN0hLDXIfBlznPHvBNpoeCNAwm/AgpWSSp8xiaWzHIW5BmcCyzehMLxchRvCQkZZQOoj+LkO6/j+hak0fS+diUcn3QsFSA217SdJoHbrZ+hBcgMppdyHmpz6T9zaWEuRuvLXEqMedZFi9i+y4kAlNbnOULKg81ttIRrB3hXvEhhAFrNVHM8khKOjM+pXD+349td6meNYzDyRqsbjrdLubifs+73vCmdqGMSRSJStaZyjezZ3U5omEZu6Izcg3OLihX/7owi8d3JHPoOwAOjS3eHbJzcmAnfb4AAtclVMVtxESpqWRe5NIAAv+D0CaC4g6dX75yQeeoJEz9Uwr8t5uDDd1xEnQQSQQ1SuxG1/28eZkjHvgbCDeKXnFaqZz544WnurNAY9j5Pfb2VgIjglAteuQPjABVx882u5TyZya/rOoQEuVVP6UFaA3vZWnIzVF5zkc2tovhTChkn67YFGqCZVmBTOC2sq/DuHZhAmqerw4nEEeoFkX1TJOf4vi8EHp8FKzfl6HomKdkNs6pW+4gsfXxoV3rTyAEF2zvZfNhCaMr8VvpPq1KKZNhjm6d9KVi/b3cxT09R7Na1MzMzbqghRt57mxRwd+oI4JOd7pW5PkBINE9oGRFcaCmVn8jsOX/TF+KQy7bOVXSea7Gf0KvL+bUK+wJlQCu7sorII2whfSTiZTjd+uCZTnSYf3CgAVod8M8xdaFC/CGykYpSLe8b+7utQGuuUucHZcg6RQLeyowRrOAFaoxFD1vO08jnVDj8/HjIB3Wo63PVCtRS2YOO9vTNuzP4On3t3e66uK/ibPblPB+KFrJrJ5UhuCxdjEuGMiuuJD+l0m+FRso9i9a3wt2YbAGYPuroaP7rER6AdJeWXPgkHIEMlvrQOXM3sX9au86sdYM1sGkwt9f6vgjnrMSIDyONVljWqwUz9xGwf2UKXnrrPIBVESwggkIAAAFSQZokbEM//jhACTfBEYtdcCH7liKxfkLMMTtc3ou/+CIqb+lNf1mjFbLVrNrjkPgun7YMLZGUTPys7We0OvSSoot4FH5GFuleUWKyEUg0aCUUATNmaBkzCjyPqydPVrWkwO9ln1VBUdgaxgWwdRy2SI5foqAEgUzjRkPdnCSAHvyn7uevama4EARJe3n73GLWGtquZxzgm2H+0cE3A9itW1aZkosULXLOnB1xQ+VKWbXll0gf0/9g7Eezwiwd+zoSiqFPdY/AXr1FASFxfk/YSVDU5rYZJDwyKQBPOq9D1bb+MuOR5bOfGqL/TwYLoF+YEmfYH3U7hmLNKaptkFlfW+gmF5DSQ32DX5oS0saUZIghUnWxChjQjF3A+1xn80j3vKMsYq/gk9Ri8GrZEuAlBJJQ4K+fanA4FfGZXECYIAxafVWgybIKR68XitgehexKDukAAADLQZ5CeIT/ATWSEzCykFqYDQrPyvfIApOFt2IAWFyqUiS6Ib7zXrv17lhE8xO2GTUnWLXtiQv50Y/wawtCS+Y2t8UsZWQ3Hr/bxe9Ku+E1ty+jfTqdYRuA3ICyVn52HzW7IdMjll0HKyD77WDtsElRpeKtuF/QgZVHmF6e/XSeu0MOJiX5Pg0n++N2rpmpNqEFvtSl/FpGHrs5okcjBfe4otEYmM6PM8Cr9ZwvpYR+89aQUmf/QxwVQ0FZ+0AVMQVkOSrqdFv1TeoAakAAAADLAZ5hdEJ/ATVcUxDHZk5AFac3UfndkkbLEiQ1+VGH4XE0P2FU1fbUNtDLkAh70mU0ifzcyKYj1uc64thDTl1jgOzKdkx5DnqLuTaAcf3QezLEqdGuq5aNnAemolvFbOwcWash/+jU9/vWMRqJviJX3RqmGbSKKHykMkm2B/42zANnoBniXps5VBOQClfVDAb3D64xO6uB5gvu7/Y6h+qZevRD728gq0g+FfuZGowh+O52D+gfeOFNTzF0Koh1Tlt6baQZ97axja/tAtsAAADAAZ5jakJ/AIb7owjYGribotcGUavDc+uW6Ti/uZgHM4FGGVHxt2XY5KzJ/coASaLc/GucIVNP+H4wLmWc58RzysMusImjJldMuYCV3jc9u+jMcu8MO6e8sixHFl2tOsxF1b2KKoaCe/8l7sSrdgfgLz5Nj1SGiJU96hcOJaIyMgt2EEYtxSsisoXhRLokuZWO4WbkAEL2mKe1F8NtAgis6tahRxMYEFkVaYDoz6iRTethMdEn3I8Zt4PA8E8WwAGBAAAA0EGaaEmoQWiZTAhP//yEADz7/h4aOdkDvTcMYjkMCWrHl/doCXWuayWYi/heUe3Mb2QKw4QMwByjoozbmIPfQxThVq53nsF98fntMXgkS0BKV+kdK03N70CrCjgldHytsChTpOfvD+ZmoEupUhCfZjXdy0li75V9LjjQ7pbI9MK7O++UkK49JmDZkiambMh/rlZKGwPzw8NdNW255o0FUbmr5zC3becilY9yPrQ7kOH2TB12qRilM1P7KGJtStevOgvVtkB0oIZpfSejq6CgCJgAAADEQZ6GRREsK/8AVncA8kLo71oDdQS5818hpaUAVuJQibvxCk27t6rL1L6gdUKpx4Flz7n94T8lKG7fkfRri79vXJAMV/U9mGX6GJ5vgvhjvDFaQ6Ls7XxALH4rN7M6Kf/NHtOJhz7mVP4DJEC85cSjsRfkQ9hb0lpcJCT3r9FdDw9B9RNSf5nZMOCK7GZtpt+xhvTwuNa4ttqAz975iqAHtS5LDr850haTb6NSyrKsnsXjQL4MxoZ6/s9ECU9R2mt/V/BbQQAAAOMBnqV0Qn8AhyNn8eSOMerZB998pa9w0yY5HdfEBLLcs5gAP5jYkuMYCZUPlJpz56E2MG2wjCz5fUC2PbCbNJGO3ePUheHIWZWoeo+Ty0KDejvL96K382EIsCaGNzEX2G6RZiGNaMxSE84hSd11OJT56D6jZoHEFQcTQnCH13YtZlUzwyGAXXGnDPK1GNU7/5n+i4cCEMAIqLQIqsdCr/S03DqIYSestbnNkuvpMWOkABIKCx48bFIMVcN/Q70pnUgPEEv+/88i/hE1JR46/64IZffqnAVJsc5r6WwmzmUN4aYBoQAAAKUBnqdqQn8Ahscrub3jyqYft9rYiEWE6pbW2pr5j6pmQAJeGDUlU8+R9vac1TKXjUFhLQUHSYUvSt8dy1OGl+K14blCNkDKJRqHHXTNCP2o/EqPT0hlyLxI7b3L6JKOa9wWAMVvQq1lwauuhoonfDAVkCpXpJ+OXzRXoOiJWtCrbd+BGrhBARsB4oYINN2i1cGxbiSyIyjdhjUC1K+7/HTkIlWQHdEAAADZQZqqSahBbJlMFEwz//44QAGJItUHmg6qQUAALjz4hM1WUWISrsP6R1I51pMu0j7eYej+CTyBphXKda3E8AvpgpKGPW/C/AxNYswthgQNUD/myDTk7HADOqvEpo0Qaxn364nCM/qMZEomCwdAJKJOWBbjow1eDFBhM+rVqO5tSMk6vb0T+8d2Qqoe/JiICbiZYswr8QOAKxMZvH2SNNwcz/ws8t/0kxbSrTbRqLLgmxlsKmxx6p1BO0OG6qTRnpBXDEshhxEPJWjglz8anI89I/tKDMmq7QB6QQAAAKYBnslqQn8AM1M+RutbiFa+A3KZnQjJzxjB1Bt2wAbRnMm1IEydz4rGuLdf9eii8CgMHWcDGWoGmKMTAB2/NFZ9Q6j6rO4DKZkt2/SVOsw+JiziXyWzM36DyA57VZ8zq7WN1MzKGr348zkcbjyl8gpUmQRXtlBDEOcNScjAIofY6vrfR8bTOHIiXJcAx3jGpEfo72AbiJdS8V1v29inuHMCqo+KOAk4AAABLkGazknhClJlMCF//fEAA7n8lSBAdIPpVwYwAoDB84bpRTkl9/5dPEgYGEUtc6Yu4EZpwaS1rqVi69O80FqEMvrbF78pHSrJWEjDGQSM5/5sKZaX778uMrqdKpzoAzFe5qw39uKHOVE3S+cruObZjq+XHfKcMqKnRgufqBs+cRQ1pueSgjatvQ4p03d9ZUeGFGjjYEJubLxv2Lv0VgQfhE4Fji4oEt/k/X2aoRvBJBuel4ZPtHFYBLj1QzLZ80LaQ+SJ0OulLqseC8siZ3OYzPchrDt0DMopOmKAI1jjBzJ0jYOYMwbvg4S/DElLWT3w8rjyz9dPJj4hNU8qgFugVVfJ0Mgim4vFSy30ZSjHHSE9DC+1ILvQ1YGL8DSN90XlmODO9m7zJ9hrOYcDYPmAAAAAo0Ge7EU0TCv/AB++PHgIEkR2EcAAcV7d3wjKhXlS/lFiHkZps+CefMpDC94kbqo1r8ZJ/y2tmPM/1X5WTHFCNvGL5+3FFQ6OsKURh46MV9+gV03M/gJjPgxUrFj0ta+NuuodtkcaVbPDkHfgAwTzhizfn1uMu1SeGfeAfqAilPv5gXqoBrw8jJ5bS5QwAHS+99LBueHdJZxQfI4giAuSohKADAkAAACRAZ8LdEJ/ADNjIvv/x+DNKuEp5imjdEYPQt6GGMKOZ2vaA8+CXi4y+sfq/a6nzKgIecvxtxNpwegBbHpNDL/PcNJbaOiv+SD9DFOHYvRy+rgXOd0wwAmAf37PEllDz+yvuut6ihF//fOi6haRf7HmNogAJ+CX2u8Jjs7wtibR1vawXQ3cNNeiYdNAq2+qFV8WUAAAALIBnw1qQn8AM3qBbcEz9T3YqVYbAGwoVuu23pbHhkQcPoNqH8FjpVazzwAPvh3M1TamosDboM+wHzhytZVPqq3Mfvj8e7QuJeOE55AtX87BEkEet9PFMpvtpn5kSrbLbTVBfK6h29zJRnWb1MmQyKtFSMHn4njupmVWDLjUvrGIhktryr9zyxGeQO2AcDb66twyWq42kEVsCaHnTrJ1k9KwSFtX2e3vT9fwCXp32AunBgF3AAABVEGbEkmoQWiZTAhv//6MsAAmARXX8iABoMq2DUe/cRugMeQdq3EnPyVPZ2kIQdgHauP1H4gwiYH+xIm07ANXvb9C2ft4fh4aPsZl126pzocyuaBe7cUHgj7bIABSjQahS+mBApIL2WYtR6ln9dhgm59PZFIA1EXR/HKEMVFW5PB0fpJy33+cUf2+nUtqKPGOryPxgqeViujHr9+a3MgmjodzJMTXMBzheiHK+XtqZrcYimpxX3p8HLpf/8cSuaz6jrERSpgYQ57OlA7/QXAL3quXkxls4bLLXedXqIDtx0x0I70vGQK+TIg1AvVfU4hExvLivBIs6ZKNTDmS4O1yOP6tbtRoIxV2BkUiUNl2X0RatgWnGdg7vzpHrXXhlViXl73isHhw6LOU6Mf3cQKJ2Zd8OLqmed1OtH8RQSc+vlpDIIpnY14zncJgXqQSENHqX1fAMWAAAAC4QZ8wRREsK/8ADDcmYRAgM9tzu5UylD23Mf3yUwYAXQON6nwua30g+M76eEZbvWWDThhonOl8GrKsVphU2uD3uG+S3efCHwlOUb2Tewg9UnAvF0Fau++JIsDBXH/0CENtzWjA9XCFXN8ez/D+kOg1EqWwdtfbJUN7zyQmdv28ppAQip+12pHBwwwyRfPKmLkmROtAjmvm6cQXldjBpRfW2S0FwGol4Yzl7uO+djOOSvz+mONW/wgS8QAAAMkBn090Qn8AE0bRV1X+IYtjWvUGXEfRDlgBK3uIgHCpBGBKqo80fnURT6rlR7sT5aUrL4nBg8mSOs/6RSumfGnU2i092aRKQh38d7/Xyjn42DpsooX4ZJPKEBWK/XPcP5h8dZCWx0Ph22fpWIXU20PE2ZuDLX/hQ/lFjQBpz/vu0S9zbIe4kywAWGTacKocGCKimYYST6g1By6dLLUBghSBeiZoqtG3hPXuxhsZJChIzd6yd6SlyuE12jucXjbJcEYIDRoud4aeMuEAAACoAZ9RakJ/ABNIkkjfDPVjiewJtqQsSCQ6gBwVkp5457Yi4o1xY0xke/MJ0jMoWuhPHhh0o46rurTdhhMa++OqZeKOZfeH/iv1J/rJIkzXM+EHIJVh/f5CtRN3R6oh89/Q47pkzrIk6gnrHdAk8qe0aODdDlcjZ+a3ZPj6NrQPmKohiAryFQq94GEYlsu4uybE58AvvtxQfLl5VVnMXU6vPBr0xtBRAG/BAAABGUGbVkmoQWyZTAhv//6MsAAmP98CDmYyw5q9hdRvvT1S3JqhyanbjZmdBzN/PKItW/JXMjSd/bKyWbr8N6W7NRkKHsTwlxaZg1rQwp6bflpkn1EIabMHBbW+lwBF4FE5JZlFxyDEreDL8Q164ob6XNWHEZychnKx9Rw+CudX/O8ottWA2Ry0ZOxvchWx2t/7nC2shEdLVc+dNmtiv3roq/bfTNrbBgM94Tioqm8tnCgJC4jBkG+/9shbPKqcr58zx2saJTFcm9tlU0tSZXrux59aTDeYqO3Znp5q0kU18wOks+6hTM21z+QVOr11fZKXoBOwThUdT04DnGpX4KVpZmRBVWYiPhQUvBVyQZ3OWZtb3BbLxamn6IuBAAAArUGfdEUVLCv/AAxAfjsDXect4Bw3sI0JxhuOz0zmm1vBeK7Eg/xXYXDcktEtP23Aw/t0Zbr5Mv3wNVP8cBXcKQFolTPUKr4XxEgHbYmtbOHYYQ3ynyc6PfTdwOFrC0/kFL8FhTFE4vfiQBsQN8mChXwk00GPLqRM5SlSic1ipbm4r2nTnV9FtyO7n7JB68swOgHsZowkkqE+LeOxnjYxc2+7nY+WvRqQlHOGGBNwAAAAyQGfk3RCfwATSVmR60ZTWFpoAAS9wAdIcdEOvcQBwzeBL0NyHJsgnKC61eetWgnY/SQhPdvrrSbKvM70pprlzEvXnvLWfHPhpwNIKUH/QhyFGp8Ldb3o/wwVVVe3esAFG/3uO6KtgcMt1MTPuJRTwkuHAtkK/0zaHKDY7qUliDpZWAc+Wo/iVYJ/vOLAXgIFMGybrq3YK3P87tnSn40V98v+/d5FRmaxHoX/S3gmxTaQXmU0AKqixKeEAa+QMxbsY4zKZPIia9BqQAAAAJcBn5VqQn8AE1fwXDNWFOuPH1mrNXAEmPOLAos3yGgGeDcqo80Qi/Go6JvQmv84AAXE/aWTkE9fM94fjTMRLeY4BlpjL6If0K9YBK/U2hmU/g6deY+Xv2p3iaU6Vy7tvLuLpPtY3oYKAYWyfhqbnaH8bwSmXK5iMaZvtQiJhAnDPOAs6UPvyovFziwuz5OvQMRtb942MHdBAAAA6kGbmkmoQWyZTAhn//44QAA3TuMPd6pM61RrpW30NAAp4Ovo5ubgzAI2bFRTKhbBKv7Hk9ytjrLxcPte2sL/mqjZpKsGDnDm9H/4AlJIpumxExmiBwJFlCMN2dxG9Guxaju24uiFfJCFb6WPcolh91rlBlOZOhUObVAo3hpdofUV0QqgCoAPDWcYyLkJO0wCHkp585MgYZAMm0jc24AsIX7aYsgubUBXoBrje4UWaVo+fmgZdeVCfkwY29DhPTkTjDWuR2l7H9xxAFCitp4zdVGm0h8pD0p7VoHeVHSqrWZX/Ua7tHgpfgIf4AAAAKJBn7hFFSwr/wAEh0Yy0qb1zS04N83I5jjZycNYU1YDMIOeT5AB6Gr5/eEVgbL0gxLzug74EGd6bgjnnHfOEQ7IjhpuH9XB80Jlpy9xx0FLeyk/miN6Bb8fvT5fLIPUjUn8QX3zfH6Nd0qWB3X4T9zWuySs2NJUw0K4kCDjaD5YwFdnMm4MOGhBpHdODkzcpQHdI44N1qROMF0ig7Dez+gIFBAAAACSAZ/XdEJ/AAdAcQQbfDEk9VAt3t/ugVq77IXnszYNgp9Uhldtq+6lBIIyj8QvAC3iW8PDQS6LdydvqkIwLsTxoQiPmWFxXa3+O0aoXJs0Qw81THcyfvxqUj0pFPX/oNuvt9jLeLkHqlF/5qsOmqrdxMtMSLhVIalHJl7hxpUhPMq/ZFbDP6SuDyjSMgjLUqZTh6UAAACbAZ/ZakJ/AAc5ZA7n2RwN6F7HAAtnIu6DEDvAm6yWuanUykG1IYqDDj36cr9jrepgjJvvUZC8PDQS6LdydrkiLztwxaRfkCx5lnqE2cN4cTsRCzydlODsuPYx4PcWnTLCzc15TLsetDm/6X5fYhYywOiz5nq6gwwCxKQP9wqO7MTTSTQ9DIjAmCDYQBV7Lx+2+4yWZcDD8MElYqcAAAEcQZveSahBbJlMCFf//eEAANfIvTjk9Hl0WD2HgVnw2Hlr9V1tpztCxL4JIrAH3lBKxb2jUNCTCCq4f1BuxEAB1DQxlp2FhO5h6tvIB6KHWl0E93hTLJo6su5iEuCFqsMP+KyJpsx1IarlDBe4h5mLDZzHFVOq4F80rzcUrsl2/LoFwyADZaHgUBlYlwMyiyM8LFQm5/y6ANFDpjELh8MzKjkv7qOJD0yzehhpet9jR9tdIBzdJ/HQiqXTPe3yyKtFw6FvsUmnWssp1WRIpU38NokRpw8iBgL4adaB/14ICeeojeRxJ7RcODo0zJz7Cp17frOkQRxIzEIhzjnMuZtswqvTpmWLnhC+qqC21zcJRNHsgwaOVIWM2EVwhTUAAACJQZ/8RRUsK/8ABJVcwhl+AwHVppN3KYgHjHGeK5w3iAbuCZXrX/U7naQAtmF3LD38e+w02QcDNjxlpSkAwckLl8B+EQdt1k4GD1MM8vBTzA41+GPFj69zemnl25v/rxu906TZDfZ65ZiwyanXfqMXQhZVssYmKZl88rlMfrhLBbeH7xofmxEAdUAAAACkAZ4bdEJ/AAdAbSQbfMAFyvceTm0i09rpzAXXB2DkADwakrHWYeHyii9aODsNuu1z3lT2f/ofreOrgDKH7f8fg8ZOHdybcL9a5sGUAn80+zT3+pojNe2omUjHBAUWwgUmC8x39I1p/7AS89U4jFliYOyieZD2tG0GmYlTWtkWDmFsvc2buvo11yAFpeqfYkmijaCIh9hXQvsntAwG6UVrzNFTAxYAAACRAZ4dakJ/AAc+cMRZh9sl7uimxkHTKliKZUB0R3WGmtgAnTg5xIhFaIdzSo1wHeDzovAcoKo84LuLVy5lWAJfAYUOICBHZ7sHcn/+89suJ/uDXrDwW2wBiycDtSVPkUlQtrl6Mo8sUFp8HTsMYN/F3tWnIy5F+B/ldzUX2C6L1x5bO2gRMGOALwGimwN9La4B0wAAAQ1BmgJJqEFsmUwIV//94QAA18i+aqx7iGOwgwSgBKhZ7xHQa3ZzgASF/Ylxy/Md0TdX6ihAYDofmu+Ct58jQfJdq8KB4RkLyX7XYCbOGn7WcIrKX+6A5MeaZ/ySIG5N7bW9tCa2RyOtos7yU3s0wtMYvuIPs414ukDukOJtn9FMsEh1N0FLA5H1XycgYkVz8S/M8nXW6nHVl6jT2kL7lJ+Hj3++YfC+a99murj6Ygqf5KhUmz0+49usjQxnG0xOl/t7So13F2Uk/cm0v4uobjbB7sRTg7a++MVamJy9qRWRO+09eqOg9oxj/PkAIdWhKnlJ3uROP+aNobmu76SZJC7E5TMd0Wciyb6sqmgVMAAAAOxBniBFFSwr/wAE+xOa72/pN1/ZlJAAJxqw5/fP5CzSXctQg4vF87qjhwGI2HuGDT7J5lpaB5EFWANVd664uyBzVjDjMtUxkhN6N5t3ipav3K0IqWphLc94jtoYb70nQ84n/uo022BWzWOk+M6/68mrUj0XOZ4mBM8KRhaFFFYaO0nztB043/AC6gIQCMdPgkOi9XPm1aLNS01ZONG2szOqqbDMWZMt9H26Tsj5KtfEMW4w0LJ9rkGuTXHGyzIQy3QBXhKNlrMfSt32j5+sONySapb0pZaH3qL22Uq8CHljuKsU3n/04vDPWmB6QAAAALwBnl90Qn8AB27GwNsV9MqYAAuB9H8A9MLTFTCvBoJKHWqAq61ZbtXI8BZsPueZmQRp7ni6uY+XW9CBccmke5TivbNiJhtBrPE8z/VZTii8M7id+NtB1x3e6HAolVC1BKlWP6td+vOtBEO4u6vACcwpeR7GcwhSgBpH/ZSEnZW7V2bJZ5D9R9VsSp9+jBHoQhnrlHG6uNif/l272b0THZSXGBQBkb7D8kTH5ddkvQ84aiPKgtByUzQH4QANqQAAAMgBnkFqQn8AB8YHvHnSJ+vMBM+MAJUWRkU9EIURXcpsbKztPOxdYQOTMDBhwQEoXzTS6fysmMmm3AGBlGOXM6UzYTFOnZqQzq+5EOnDrJQypqeMayT/TUno3dYFpCJeV/dw+fE75JQAslUDyvg6Dnz5m/4/UfQllazWLGbpn9ECcpIocxyTBXik+HMOCRHqdUm9oyKhViwCsCB6DrqEU5RkzhvJlSUD3aEA/pqs+byDFBz56/o4X6nPr+NBVF2z8An8ArxsrjCRUwAAAQxBmkZJqEFsmUwIV//94QAAWHWBJO0b0Z0EAF41ys129HZ71GT61nDCGs88FA29yq/5DuD8AlJUaMNCq8N5t8sPZrc1fA71dF93n49EB/Bv7bZ94lAKnf0FBCYNbN3jp+9Mugwgo1QC5aMiZ1Y2U3t63Fv8ksEjyH0Rz8cLpnVBnlflFvQ2cf6G+qQJhIuCXmoPmTcpETYsqWrf6amsA4MZ/P//TsP+CTwUZGyiOTY8UjHUdAMjlNNdY8Sg4e/UrFMJgyqt3P/NnMOcjLIvMpheAiHL0nWzjYNvGumVdoHJ8GfZRAATAGlB6qTPJoivSJ0S2RzFxQAl/HO4F1csmrxUrCXHjscQBUgHMgs5AAAA1UGeZEUVLCv/AAVGJ+AOUMk/inzMjOWBLGoa7+jBGkb5BqnKAjODqkbiXiGAAQXVrsr+TNr8OAqWDZHiDGGZRZWSEqEkVt1RlYCJjyBNEPWhnbId8OGDm0OA/vkKbNDIBQ3JaLhBhBeL/pLiTKXwu/R6J0J+qDJQLDBboCt36ved3e0vU1kgLaRqSHvxTV6M7zbO2ziKpxitG3/zc6rTAT99r6ZCSZzsAA8rFtYy3v0ELvu0TeKAsq5137Aytf/Fg0iM9vYJBY/xFJG4Uy3UcBCY2kAm4QAAAKMBnoN0Qn8ACDDKasAhIhDYgKw9ydjFV+n5/etbbBAtfQXmKwowTCl64iEs628MZjyhk0Ze365VxCUdGISULR44BEI3MpMMmwnG26vgE1r4BMhSMgFkv50TfBpRplWuXsHZLSE2r2eKIUNGPAsw7re6KncTGFD+gulEdyvrgXGX1aWN1Cb5Gk5BaBzzX6tNukEvNanASSYl0AtfYprSAPv2mD7gAAAAxQGehWpCfwAIdUhAG1MDK9Wt6QrmwX2Hx5/IvijJ3BfZWlew+JXFEoDVOwOWfNqy2Gac1v92OsF2swrbG9coQWQrmua9vYD/YaVcg0H1bRAsHMpZuDfeaBsaU11q70Oz02h7v5f8Vdtn/Me4YkucV86sqR4tbVnXmdOftCwq+BkXoaX6857g3NKhm8HuUqyNgHk5wjKmPOXfnhBWaO1joihM0GwABqb1DAW2qyKv3X+10IYkFNQ/13HbDmq8LLlYu/2G8EXBAAAA1UGaikmoQWyZTAhn//44QAAVr2tczT+M7ATTGjDnVpKAE1dLd/NjTF5mOfqB+ml2JpvQWN1jfc07js/xulx6+0boIsSsrfcD/cJt3c/OkJkuqGLnQb9Jn/etXBzVCG2xLCUpbOl+X0xkYSa14vH5shzCH2l6fmDnOpoHywze/yKi2cFZOe2DE5qJKLhoKrB50TEWq/d24tQhzBJ25C+gfkc4ryx+2sDWyvPtQHus3qR/2/UuXv/LcFlOgo+AU8u2GkxK9phTjz+fs6N5V93lnGOXvYnxxwAAALhBnqhFFSwr/wAE/CgPZS4S7iF06plZv5BoOUAJTFU//EmM0bzWIYVupzXJG7aWz/yp/0YmpeXjylIFbmYuB10yFPfujy1nrVPV8VHyIg004ucctuWZHescT+agsSjH+HWTPn9TJfTycCEoSqnrSpcMiFh7oSvvq+YAfXBUvHTpD77nfvxAeno+9fiwLePgoP7ssrflMJvlcLbtKz4S6ioQYGhkOnspAMLNQLeLSgTqxwLakjxV43vHAAAA3QGex3RCfwAHwijGH1kfK8xaNkMfSn966AEj+hwNNXkgwPZCi/sA+ORdMMRRjFUbsJCt9YM7Tl0PylFjFTGyNuqZRpBqFdqitKN+JdXsyQ3K+G7vxhPnE5b0nNKjwe/ZDB2h7kyi208sJVaJoHrplx7cDE+jr8z9BZUOvw4pNBZifLdAfwRwNoodgfbs1tFc6Tcl+2mpIuvYyObypF6iAi8Ji0ah2CuKp+ELWWDJHyPgtxieh3QadmaQ7QivH76JKytd9MmQl8RZT1iBFPvSzD1ICMoLkMxH50STcVFTAAAAwwGeyWpCfwAHxf8uhVoG1LfhShJ+/j4AbggZvggJ/MusZIRtvZ+cqADHiG9SGvfK3mi0jdfPi2w5GwoWG2Tzq1JdSupUsPJWoCpiJ3TiCAMvfMzoj8PIUKrL49dgZuoMgEgU1waYKdu2FYFpvwKDYet39HJ2spsScTbWADylakQl6D+ABP/99zrbCsIRxhA9kRE43dICGZ2ZsJ1NADvtinUGScx6kb3NLT9gYpEw7Dlv2JxMaHpV0cLPv2NTyf2jiPAQIAAAAMVBms5JqEFsmUwIV//94QAAIt7q0+crLkJLXiThLduGPmFnd4iXGXWL2ZFmMEkxsJEAOZFm9CprJw7MQABHQ2gwEhlvFWbfjF9u4sZEdVrL2QmMV4q4CgzIdk/rLtXYQ1p600KFCCR2U1DPlDDHSVf1bQCNo25/hLQZim8b87eaX5r7jm9Ct3QB4O2NdUmxOu3mE4ZNCK7zxp9tgMwea6//koSDy9lf1HcDi4xbnl+CK8HT4hNVZHoAfuCFPx+DKfD+qrBOwAAAAKpBnuxFFSwr/wAE/Cf15ggi09WCKk6mU/Jsf32oAI9uPP7c84OltEzswPJNvUqsd7sC6hvoujOImMSVXYDcHvqVB/h14aAyhjDVl/UeQU0bL0Bdbl3MWJTc8FtRGFYgp4K/rmw/z951KAE6OuViUqPCucogk/AfUxC1g4P6j0H60X6p2A60Nokv6REnyJdZgfGm2cqwY3xNIAv6tpSGtYlXURTnVDebk8ooIQAAALsBnwt0Qn8AB8IpUj5qABYexYYMvVqXQSlReQfjc8vkRrai6ChS0rxjLHxvTk0/TnH96IbsHoUH10uVBcj4XJaqJ8p89XKqn7NuQ6GdVMPjOweT82zUVHolDBl36zEJMzX+FjVG38VW2pBAkL4zhfi/yejIucGu/itsHav7UKAd0LV5cGQXR960+Vlii+02+FRiEnnbNwRSRcvSaSzc1Ontev2GVqgusbDQSG9FCBe0gNPApKK2APpvQPCAAAAAiwGfDWpCfwAHxf/IBGz6wBV0OdoajY/tTBlrHByIYbfM+ppzd2FZm2RnZsKoAODQoGsDVPcwNZUiMjudjmIWMULC8JlYfcV+7pKGDGEHk5EXORvv1TuDNbLvIa5O5dH64CgMV62uNtXsqCepOnfvJcZlmRFYQoKqSfdTQ9y1FC91DJbUGmuEWOSQJuEAAAEZQZsSSahBbJlMCFf//eEAAB59/f2hJraIEcjU5C56SJ7i8perW6VYgOt1D5VMSBTvlx/cPTGJnxY2tSm6rk4nhUvYNzNVA3B5Eg4j5OW3cfRDAAxG6BurJFBBUcLLigJvOPv46B2RwrYoESdkSLbiWcDzYdTvxMfXCU1ukjVYh8irPTF1reO5nqn6mMKYp0KF3qlrtGYg+6mGIqI/eKnowVeAknPFwAYYysTAEnuNGPpjHH1NjJI7FB+1UrTN9oUCA4ATRAHwdRGHw7aIH3sJ1ZUR4mLmbzNyEATxWefegCMHc8IiMtLXIhImuTrVpOX3Zhq8mwn8MMOUsnxn7NHaqqK5OBL0pEjAlWS4x5cfHp5TDmrfUUWcu4AAAADCQZ8wRRUsK/8ABPwn8/Mbte8mkhmLFx7MgBbyOCM6g41kSNjHaKoIjeFPIVzCxsgyRQVfunVss7v7v+H3ML72l3F4AqeVP+txbL6F52hlbR8JDlnLaXJM4OvMnwp/uWX9HXku5cPdk6Z3PiT4CQOatm8NuPlkZ5G/MSpkprPXy7SUXaj4Dkb6X+zWrCDOhW5l/9KhfedNwuIIYn90GD+ONwevzz1QFNeW3iH+79cn9iXcXazqyxj2ghmHMrUF/w+SGfEAAAB8AZ9PdEJ/AAfCKURuq7SPhUTPi4wwxKd+mae8nmqLNM9kpjluX/JvjV9QArbA/g/jHABXnbIz5nC2GuvWRtt/sf/61qov4eibHITXFfjIK06/8gdI+mtXhWUM8LPLmEXHOD1AQsrE8ZF1ou+TUPwFNNEyfDQPNP1JSRSpgQAAAKUBn1FqQn8AB8X/x/Cvd5HILTAAfctvVLFIGstRsrjeGixEC4khJT39CvsRFdKkf8XDq7iqf8hRuSxfZnH8k7G/U74uWo/AxGF6AIZGWQ9JCzwJS/ljGnwcjFCQHmH9A+7LHGqUnn0TVNmr6/CHu1OcFfkLwch5ZyURtsXOu794PPWX7mlLY5F/zWYaV+tFwFPm9ZZetQDGZboaXZWDBr5zibbcxx0AAAE0QZtWSahBbJlMCF///fEAAAdpLrvz/Ci6WP1RsUocDbtWPBt2sGwZa+L1Q9SCAAfgAl3SQTzNOf3DIUKuSlE+t5aOWCA3/XMEbj49G95OhPQaCHiY/ayXN9AeP2xgUY5ELgHb+rIuPvhdya4MeFs6sGqqF568pEwnUhHOAFj5x6MbMInjeWsg8TzlknktubyJv5q4tQ2HT1ptILTLN6zpZcz3oR8f5JMAti5PzWpW+8qLPY3kkyh38NG/wyMtZaaRHZba6tMcxQi/ZjmTA3dfY3YRwOH/KTwfOQ2gQZP1Fx0BFR/1+fQWnQQoUxPWobBVTgK7WApq6RAODsMT2ZML89aLHVk59MVHGpOO9HBnAR3dX6Mfnj5xt8uYlEapCYeKUaucV1KRyXawRGjRCIXB+33/fAkAAACRQZ90RRUsK/8ABPwn8/MnLCMbjQQv6t7cRKFl1acTJIWDVd6wEcvOeyE9GstF+0ua3O3ENH1IHqfpfgBbN7U6BstrdoH/+JGSTF1jHBeplrLmWPckg/+wM/ZXIwOhG7NxwrOUMi9ZN5lO6/1khc+6BZp+5Ag/ot72XbWa2O1xEtZ8SQ7DNiQQQuA0HPc0ujopWwAAAJABn5N0Qn8AB8IpFBCLpfIENw7GRXaL0AC2wEOdhNb1miHm/q/Q3hQXNeE/cVMaJgoG4/WYp0HOb9oWbP//uDR+V5DN1/2Ag5snTVeW3HPsJavhEbWMaAIz0/11BNpSANsat1fNZYkcdTfYQ3rvEoNwd1nBa+tbGZYLW8LkCWNfoXlA1YmU2v71pkZ8dQs1Z8AAAACLAZ+VakJ/AAfF/6KLXq7liWP46m1E3SBeirmaMmsjewaPACaS2ptdrBWklCCH8DkqfOkhRnSd9tFOgsXzKRTMnlYh+P/4hn1JM9CLa22/oz7pSy5b7ql6kypQlHmtZUoYLm9dZtcvRRpC/qqomkuV6MJBV/7mOcBhJDSYqVeGvwATQY5wDlQX8RkzAwAAAO1Bm5pJqEFsmUwIX//98QAAB3N/2sxjlzK9Nwir8hcSgNT4iMfIgC/TlilTVcQUUaYBstxeD57t7fwyGgF/dHmZ+OdpLvjdx/YhXAOyO3VQQl2aIoo5XJTxSO1BTn9yKiOGw7ctHaIm+/VAZKvGbjovOhdZqPZMJfxIPnZ5Q0qn9ZQdGPKH78Ng2LN62jvwOtH4/EfOK++JIjcQQAaFkTb2kSOIFLFhO5fuyNz+7nEz33Q4SDeQyKuTIZ5p8EiHzswqU4dKg2Sx4gaCV2ekXpkcIa6NXqBXrkv9JO2mFCY28BPRuMmw01igigFT6sAAAACgQZ+4RRUsK/8ABPwn8/MmrDn7MmWtNLmt88ACBDfyQ+1669KWlUSHckPrWR87wvB9+gftOO8qhGcQI4OcJaUMbt0Md09i9rhJZhrA0VM8jLFrVKVWHqEZ2/+fMTpeF6fSXLjIKWV2aWqkRgWmXHylv/iN5U89pz8TYP4tXK0YHimykfFhxW0B8VIp3WvP1VvWK2yYEx5EdkutsWgEaH2QMAAAALYBn9d0Qn8AB8IpE/n9XIbwG1mBS3bPloW/6Ywp++18mwdX/XwFIvFdxt3VeWin88jACMVPpMSEfFD6I2gt5wBUY6b5vcULGTL2f6tL4+H1DPW6DtotIQ0uJOeVUa4GM7hA/8M+osV2d4OPswGOvnMdqH6bv1dsGZ+q8iO87aFxrPfBtUg5J57tWjaIyByz76aaCN2udastmwzMSYorPvH3r6MXY9UTWa2UjgcRLwWs3wyqz462gQAAAHgBn9lqQn8AB8X/k292wRckPRoQoZJi6reljP4LqgAMtb1hDKoX52HrIVDEALgtJhZQIJvr7w9N/W1dknRMsPBJys07GSp8AmRuDc+WfT9efwRqS9c7QosvvRqd2UuhIQFstbUynKWuYwaUMKfUSacb1XKjZ3+ly2EAAADWQZveSahBbJlMCF///fEAAAMC2FIQQLrTnlvKDDU7Upr2iF6lFJaOteBvm6WE1oM8fCFIKelOtrnuowz8hMUYZl5DyY2COhP94uJgoqYaorsZoO3K8x9f8viex7vgcR0nZxUqxlXuVhy3jGHKjiu3c2lOLpODp0JXx3g29q0JNBFnXNttUKhRnR5aCq1BGWCnfXGnb/i0/+MzoNbHfIYViM7AH7OANL6qB64aKx0SujFY0l/NbzydrPVcm1qtc1aqCX0QDvQl0HgH4mTB1nRSSSg6tTeH8QAAAJNBn/xFFSwr/wAE/Cfz8ygRcgsm+2b9X3ljgfWGempBbwZJMX4pIARPS7JQHbv9eINy8Wu+EGhfVZf1gVZpeunw2XfIF7TJ/l9RPwz6ec7DpUDizit+0Grv/17IX5Uj7UPZAgojRbSCfbV6gPPhStININCU+v7sKmWjJlvnS++sBPGowXUhAJgZLdotS2elkv9t8yQAAAB9AZ4bdEJ/AAfCKQG/WDCoJIjIhN6xHZ1HQAo5q4TwOnnTMAi7DCRnYLhO8e6YA2/t15S6REXeig4deEKbjLZpiyn42mgPdDYCZxGrCZ/n6sVjBJapbqq5m9zfvOC5ooO/baWfGn/IChinTfqduft/KJw7a/5FG2foMUw+rZQAAABwAZ4dakJ/AAfF/5NvdsEWIOTijwdOBZ38gg6NSnu6I5e0s3jyKK0m6ACaWAbK3L/fTMkgz4wAsz/7pxthaU37rss7DbAbBFzNAW2CwW3HozgIw3grfoe/9bLNTt/X7XJZtY1lhMYiapy3Zem0edPlOQAAAN5BmgJJqEFsmUwIX//98QAAAwLZyd2NXmhhFND1duwooVKlw0hG43NGl7dgW2Hmy/Xp/8EQWAHx4niQHmhHhPa8lsdxva2P0PfahCgEKiSKg0BlSPa6v8xmck5Qpc2AI5kLyBrUuZjc6O1NZEod33cXvn6009mdOpxmo0YYvGa+/+8DnvEOUyJDhBFT7BW3vzX3wIIzieS8FNmcRo8HPtrjoeYZ2xKk7Q+5CUzkkszWD//ThsuDVg2WzApha0K5j9C1Vs9FI9yJAigm0KMPiflieOH4AO4AJc7f4SFaruAAAACEQZ4gRRUsK/8ABPwn8/MoEXKpXvT5gw7aFZpDIt8Eu6NFDFTVbZ+uJ1K72HY0nqZ6lgimHnlIAS1DEpcCNLz/MSPtRyCRkbzRYP4/KDOhhA1SSjVDy//fw4lBWwtiP/Ill9+OJi0AYKzZ2Sa96FbbW5qyb4ZzQYuSPV6ISY7ja0ykDsNSAAAAfAGeX3RCfwAHwikBv2UnKQKgAVELDbYaPksgelGwp6yFpCDr79dgACdu0AouQ2R6MaoBEd3ArIbyVZ4Roivyvex8PC8yTR/VlInd3nzuh8F94s0EQrMbt45dtY7eEp/++QfUqS+0a2duEM9UQzX02Ml4d5svYJK9g9Oj6oEAAACeAZ5BakJ/AAfF/5Nve3uhB0EzhmzT+qUxsw8NlnhFr9BABcKum8ga7o3E1Jkh6la+szt+2S8tGIn+HlzGtX9hlxPU8eqdYLJyoREs/GsvrkeQbiVsLn9gnrVSxmOT8slnZn72/2Pg6ycv6eWw3mdIIs8+8PlQnGTLwBz8+9mQXd6JspXGFyej+XwbEvvP58ZtweIG+FzwUIUXel4xbtsAAADpQZpGSahBbJlMCF///fEAAAMCx8n2sxqehlgpr2nmv5qWDJUQxGgCz03uh3uzXUlbbZsh3a3L5k+tOLuAWDCbKJ3qncqtvfpFB036YT3gv7ouqGPScSKh2tiVwu8+kbUqIZJJCQVwFYTYYcNF0kAP12CjmksO07H6yxeLwsoLj0i2bYKENUFaL/OMoxwWZ+2nlcJJilmrGzslHCsG/HROmcZ1PbfQxQGgrhzkoIsYHsu3AxioYLx3o9D9/F8iRo88Vsp82B6J9RIOOtfdSLFIDhq2GlOofwfilPaLUpmIw2ep/zwhVEin5akAAACbQZ5kRRUsK/8ABPwn8/MoEXMUIh8NgewwhEeoSfkIgUaceKQEVby0rFy0uPmC+aQAtkXOug5x71Jo8pFS06JYX9luTt5l/9SWNsjov2XZHNPgL1KWradNpipsjZfbgyOZbH+e0aYdhExpIuaxT7N6mrJ0/UaHFPgeAyprBOtqdegldruggoYqbyCatavnZHgMy0+00Ox116HTGpEAAACMAZ6DdEJ/AAfCKQG/cy9uaIhTwWJdESZoQAE3PeIATjl43JP2bOrjIsEabTiNPCOtKiQWr4kXPUyAPKygK7/iUm8UgMs+uR2YZD/GmLXmSQEzMwH9tZajYD8wxZ/nrB+vRPiDuIIFi9l4g9LGbN/Z0UL3idNIUJjuioqCG6Pwf5kDHrc/5K5uV5oZRvwAAACLAZ6FakJ/AAfF/5NviYq161Wmkv8A5Lw0lnnSRQTX29eoEIgDnCw5aRgFmjJ5sb0XMyY/Y3iUxzzU72kVnOCDVMrRKZ5zUqaBrLslLjgWxCuGYAPkH+6+pir/j8F9owVLw8Pp1I1TCGDCMRlTltG/8ZO5vqersEht/BbHUHiytw/yG9epUGp0jrRjFwAAATtBmopJqEFsmUwIV//94QAAAwG71DMf+pIATTJWHItJ8Ly5y2Ld7OUwkupovzZxdSjNUVmlFHUmeUqge1ZtZlTUYw+jc9n3oE39bMCCRbLjSzx2NMhOHiwoUXg0fM1FP+PVIPfiOeUb3ME9Dgd+lfTWq7PAx2f3mKjY8CYK8GuYpsSIHlE6BNfqFngrw7xFG5lzipOp5Y+fm28GrEBC3E96ifTwamvzupdP5ZTt+IiPpAL5+LpP52OZ130o87c7NBV3rTKhtnFIa+/k1M6NFItqLHX+j7ggz3Uhhju1rVPIHGUVcP3wglnjnjJHtqHV+henvaiGy1i1Nq1R7THOEPzAv5JlOgbAKO9JFtCaT1ji3KyaexGnWcwTbrel6/ACVmv3bwGIcErenkVVguQHOmFdp/ZJ6mfRd1spJuAAAACpQZ6oRRUsK/8ABPwn8/MoEXLxEajOr+pOG/3kTsw9g7xhXBjmxADW2qIb+K9eI3dS3SVEJKh2NghUrKQfr8JUJ6WndG/jGsJQOTa4e//3SPcpdh2weHAxvAkQXHBuyCMZP5RwQ7ouOKme4zuFKlo8/WEOoWeM5bolV52cvplRFRoIRMd1k1JEdF0c3XE8d59LWW95EsdskbQYi+97xW6UFklRDWe/XQL0IQAAAHIBnsd0Qn8AB8IpAb9zLKEQ/QerPsWjp7Vp7JMQ67bpFfm1+r8jSnHHoEKgAE7dkN7P7Jk9XW7DmvUheS/JgZk7tvS9OL/yjz74MFcyoA9ldPMB4QAp83DFIpL/5YE/ta1MSyGf0+fltjduOeWp+2RHRMEAAACnAZ7JakJ/AAfF/5Nvhhz0YdBE+anAQHv2PoW2UU4IAv7Fq+lGIw7plRd0Lti5EQxBYKhcXYx4DQKxfyS50PkyqE4XbUbu4OP3sKwOEzuQnxmPi8/chC53zDYz8vvP8hUuN/A4rpSVETXqTZdHxkmW/jFszvLNOzYrnlJMYQRMIhtGXq/Gcb9VNF5phbyV/+dz/byWENV13vFR2eCUC1G1J4aSqQDVJ8AAAAEDQZrOSahBbJlMCFf//eEAAAMB59/7YpADSACUC780LFa2Sxm9AG12h4EfTsILNGNT9Du6BrGKxutxVbOP7reLDAHc0Me33VRzxpHHwL3f1QTpMsFLC4htLifJ4ZJAbOibUKmUZZfydmx1P5PqnvbVOOOqgeDBJdXlMbFRE691zj3sQQQGUKFZ18ctPIuR7NOhRJyUW/VMBDBQ5PkOkMNtZJzywImJjJsz3JYh4iKKxTvZcb5/owZ4n5ux+gzy5vlhh60vVnYS6hJTmYS1OkdnxnXmYVzFH/oqpwh7vpxu9ZN1bcNvDUTyPRfHjSVD2JfUYLBdNFpjB1dAYaGeH0TNfknycAAAAOBBnuxFFSwr/wAE/Cfz8ygRcxxiQ8xYF7JvgAC6hWNSMdYvvIQhgdXjgkM/ip59HxbPaXX8pHn/Jl2fz6/iG3lzfMUtNoLg314SjAw8xIqoW215uufv0rjmZ7IoC1xbitqeLIAq7HEOaxl7bS7FfKToAQaAvVnhjQDqTS8GXKt8ZR0WFRCbOsI0l8BBg3QIX6cWLFhQKNLoUD/XV5xh90stTqP17azOuzLnpT+JAvWdvLtF7P9dFvWvlYRw5CNnEmWcIKCwcFzWvMNoNbeppvuzIwFjGe3dt8l+wjGh6BFP+QAAAK0Bnwt0Qn8AB8IpAb9zv13NAfIp4ALPm/myMi+aOwD/Fjv/FBmp4qQLGVhjakGsIpwCO4RW7L7nmQ8myiE38VhtrZRjUPxcacPAsDqOJAXrDDA217Oe0zeMvm6NfdJjA53o/EwLojwvA0XZTe/YnJbxQXohU3CLJCBJG/F0OEbT3eHFEipO2E/DhahLI/zhULKax6X8uOg6OF5Y3KK2xDhKyffxkIBtoevnPWeaHgAAAKEBnw1qQn8AB8X/k2+Ka/IBfED1ceAAijiCtZzzuJ+zSbzbYKQNVsk6JoKXF+68qOzq1c+FxbZOGwtpTzh77M2voqEuWBQfbAsguE6aBv3PluxggWkrTdVlHxTE0AuFRiIdZH36rBBnU5gSlVnISqjY7SiWEBPegP3nkIm/Osm5JMUKACxjGCGced04Q0TVcyBSok4xqUVezbl3cQg/ZdmKCQAAAN1BmxJJqEFsmUwIX//98QAAAwE2+AY3oekS9Y4NIdSWswCsZg/sOXMo+UWYt9WuTpeRUAhGi5nORGQyVmj/awf3YLQe2fwR4skXLcpw1nKrHcYSSef5YIEha5UL1aFCd0FspszlXPTJY+mILmVrXvIVIFDoc3Swy0RWJ11XIk7f9OIIGvIdpdD7VX1+gUOYcsiPGR1CleGrgpeRweuPQYG1KDBXZRuq6Ta9MctQc0BS4mf84kT3wzVB/imH1YNJuPtaFlLlRjs+iWJku+Xp0YWTP3a+Mi6J5O+vEpfHwAAAALtBnzBFFSwr/wAE/Cfz8ygRcx6JJDQQX7h+vaSUjvTxAC15H1gpe1CWzTzcyPviuB4p8I0s0dqnCZzV6fE0lQeLdDAZhsCKgkoCOj75ihUYQszuCcISa15kU+b84bDrOGJaPzPtIEPkGm/+VMyZzxEYJ9vUPx6f8rTzPeVcHf833qtOmKwNnlijSfu2R73sKaGeoie1zPzC70tnS/OUNYjpsaB5HL6nmjONZKitYM0F/AKkwulgFJx/alJBAAAAqgGfT3RCfwAHwikBv3Tl04AUGtJtLQ8GmEFt3/zdOVK/S0hJoraHd53uNy2bLN9xTEO9a1FdX5N9uxBN/gl4v8kpClTwUGj2f7WW3fTV2rnTJsAtQOSTyGXPCZ/dMlZAWaDsW0zdTupisBVTVhYlvZQVKxLiqCKGcOtDyTJhnsYEGCPLxe8ruTOAcd2fcKRRXnusAO9GX8RYKDwwh89Wllw6fVTOuPkbE71hAAAArwGfUWpCfwAHxf+Tb4ppBirohLWO0LOwCY4QRBaTgA49MBp1PiMCZ3zrBNNd3rtOKJkc/YfxwCEIInEa16FPrrm26lRFRWn6mWHn4Zzl7zXiLxyciCfahgI6T7mDbykhD8JyD1q/DN7JgaV1xLKiP/AA0aktNd6GlSKynIZRegYjl0RoeFIE42200J7HuR1Az15SrvJRQOeCl+TUaeQp/mq27/tjuExLDO1xgzgFMCEAAACqQZtWSahBbJlMCG///oywAAAK7zLABVyhha3T95xSpzveTdpr9s4VrxButDbYea76wQyTivi9oevMOefhCgWSnLxqtxXVpKNBJq/nKAVZdq0X+1AyVhmduBcTq0YxuJXylGBRBgWjQ8Z4ncUhCwSTrVjl5Sxk7eD0sYmIb/wPnKzwwnk8Ifxr30aU16uaAF1UMTOOOQaHNWqpa/QO6XITmtk5WVurbg0vj4EAAAClQZ90RRUsK/8ABPwn8/MoEXMefMH3/lsFNKKHCaSI4MKktZReWUALZ0NKxevstOSTp90s8f3069I2OLkMD/SocFxV27Midot2dZS5uC73+L7vKpdh1jD7slvFV3zaxj3pk16ozT41rfc0moGHT1Gc6nmPlIx3xggrVdhapkIfpwkxT4yr7wsd5EPBdON/KusjjWmE/3hZUftykEGm+IiCmD/QsC7gAAAAuAGfk3RCfwAHwikBv3SO+IHpyZ0Tx5T07qK8T8WYea3roAcX4TBfXkrjx6YAtYCyiMCT9B7jgfbPJeUebTIF2cWzLE7n+vF0ChqGexC7DxKsxb5F5CUbvjvzrdMdP/5L4UVIXuyp+5Lr2Se9/EMm5A2JvzyK9nfXp6YeqMm1S+vTRY0gvKAAwohuz/YD2jCMBaNiN+yK8h6dt0RjWfNz45VzjV3Xgske2czu48p2RwFIFmsUrU9QScAAAACfAZ+VakJ/AAfF/5NvimkGKuiaBgWABGRejvBgsVK3Lez59CUoQ0Lv08MIql5IE4DjnXDu2UaJexNH7//1mX1xgu+raCB0V/VL6ladpYjK/bCBc7oKUChG0qrMGnSP7WE4/ClEzI+b4FcA+hEA1CO0V+xLO71nfkDYLlfLX06uYgC5+WasGbTz/1YXOXbxU+M3eEpqJDtUVkpRPCAFQBnxAAAA60GbmkmoQWyZTAhv//6MsAAACqcy5jKKVNz99MNwAfuh2kKQUAf6xw8r6WY7M4REAFkte5i9Nd/soYvu+VOgGiZp+y+S3BK63JwTRglBdqrlDnvz7Ab1i1QzJ33gb10w+JxB7r7pw/xf71p/8fZ4ZhGhqfQjR/wewiqiYJwjnaaS/2M37UuDfEE/JJzWTr+Zci/wgh0YCiwqpptFVTIX7AUAQ8Hrnk38pm6HQ9oE/LQpeToZDRGwtQ5eYzwLIvV2keJLMiZL6jlcG8McpxiFZM8EOOA8E0VAJSiSv1bCG+x28p8nIpFxfX00twcAAACzQZ+4RRUsK/8ABPwn8/MoEXMefMH30d8+51IwA20wgnmQSZpAN7WAbkSq4ygkut+hWzYXnnIaQtKPcWRcTV1zT3DVkt4vy5YD/sY5qFNHB1J5pEdI81xTlyD9G0Ce+duv50EAP/3QLC2mRF/SISOyx28ayD3eL9rBDOeVHzA1DSMM1DoEv4pbtkNF9QDdyMAwLLdaDikGLhtOLiPI6oNvXVDG0wLY/Zb2dPk86iUBt0AAEnAAAACKAZ/XdEJ/AAfCKQG/dI74gcgasAJ9/3pIANeByFL3NqNm7piRHvb80qPoSxJEemPgH5xW1su7gd0ZfFORh+Pj6Bn2xTeq168Y8wRBZ//ja2UWPuxJ2e/tyVNHu+aFdrqAq7KBTrJj7UlsOxjs0jp1UwvbuDbmHWPEcxvK9t7dqDb5eVMZfYuGq36RAAAAhgGf2WpCfwAHxf+Tb4ppBirXFwucVOt2AH+If9NKwkciK3DKhk2spVL0e/ed7fZsXK1pNWm6OOv674I7R3WR2ez82eqlHdFYtkofpiEm1JcxXEdeERd0uyYoc4+i9fg9CxGzH1WsCMsGhBprYYmRBM0as2YjdbTSgU9Q/GtsmpxcCRhFpAf5AAABAkGb3kmoQWyZTAhv//6MsAAABKficnN/Xze8m0pQAQ3hiT48ae5IsdsDm8tRb5kfFO6tK9MC0Asv1Ui9k/C2/n0Jv/6H5TvlsGLfNdLlGnWyj+ic9ynlrPlskNUcG1ohw6LtJ8WR/qH7+iBLAVP3KSWQYTUH6s2AbCHnODLlK+z9ZUyGb2zB2zR3ra4X5bVVkxIg+xNCNW8NGWXnUda5BJGgBiKSbI7BjWtuMc4NSxYDCGvebNsS1t+Dwsfa29tRPwBods7Zze/VXn+OSITJ2/6eYELw3ZULwkdwXuOtegCepDQLKpLCx1fmxj5aVqn3qKX2lOtnTQooh4mtB4JSgyTAgQAAAMlBn/xFFSwr/wAE/Cfz8ygRcx58wffR6IC26oMvtWH6EyAEtkyxCu0DFac8EaApw/gPA9fm82tgEuoz5hICfXKGCfBjhZPYzeYfpIvo7ESxvUPqEaUfxE8K8RDXU8uBegPeOjAFBZwwQEIDnWqltuwmka/mN/TDBJFot8se9K5/MBc8/OxIdfoPz7N13xqDD7NCnb22sB4yxjmxShIuzlPKFt7te9JgrcOTowEZACHs/QBzegTcr+ftsTN7FRzGBPXznk7mn57SBBwAAACIAZ4bdEJ/AAfCKQG/dI74gdYczJQfwfW+moASqZY19EUV6WWDxr0WlaDLGTbleYLw601+vqjE87EiqXiX4UcsBd6tUKCS8w+xAaS4zEXsyqA6o1sJsXHsyx/TNY4WwptioYQiAdOAqIlCtDkp6/PBRJzgfFp3nRqLv0n4YiQY6dLwaO4EdxgYEAAAAH4Bnh1qQn8AB8X/k2+KaQYq3tovH2FiQTPgAHBoezY9RS/4mKbaQnPLJNw2KP2D5b8ulfqeEPsfEPD/VP916KyBnIuenrK1gBMg1xmDewrRwS/y18q85JiUP7N0d05+XOsL0Y+bp/1rpEJUYvooikZORsjTntEEwEcHw+dGfzEAAAELQZoCSahBbJlMCG///oywAAAEZ+Jyc8uzEnEEaSmRAYyh/pxKIkQUYWWOkCZX92NiKETwq8R7qCqM0ANB8H2TAzxLtQPhF2c/YWj9C4rjzpRn9TWb2HGDl9w4HpOMrpqfgQdvexJnjM3LQU0/+v6r3yPzM7AuYZm0Alejp/F8OcAAqTohT8U+ErxLt/0Li8d0Y/tq4+uDXohy1fgezt+6BMfbLkdvsIt1R+LbRiuiXkCxCbzyiUuPLIOiOkYSKgcuXOw4HhJhzm1djdQpzyLiWLwSUV2/G96HuuZ6ZQIWOVZuhZmUiNVFp5ZKtD+hEd8Wnyghe3wlTVbLRP+RlnHguzdZ71mhI4vi+zmgAAAAnkGeIEUVLCv/AAT8J/PzKBFzHnzB99H+GJAD7NFEv77kTLW3YLBVW3BH6vgMqzptzkUE8A69HeH6g9vjA+ujEuxMrEPgBQmyi5LiaV/80U2YFWoERFjpOQ0/tnMg6u1X6GU/6N7PSgTFYAcck3/Z4DUSsrC9WrDkzl4I7yOBaGqYXw+aIhW1VBYvxtBVVmwDaJoSTZusaaXcztlz0uIWAAAAiwGeX3RCfwAHwikBv3SO+IHpZnukvUEZN5fgAIb58WHIuJ7/WhsXxN8OFIHa92AtG/lim1aFvoAKaZdZYqUpeaAezH95W5l1XR976dBGVon2srW4oResZQbc0am2tm7low+FZ4n91+hh4MB51o3B0PZyRaxs59BdsVH5ta+YBmLz2R3EanJe5g9rhg0AAABsAZ5BakJ/AAfF/5NvimkGKuiSriX/OrRtCCn4XTCJ/NdMtDvQsIM/9KAD9o3ao2BlKJKWA6+06KiQdqSuiqT2wz7+V2k0A3hA2/biiqtUkdsOkTsDV9E5zGJteiWXCUXClJ8+27judkFKxgx4AAABGEGaRUmoQWyZTAhv//6MsAAAAwPrwnT4dyFT0w0frLCCH/a4ACcQEgcUGM6fdqvI3GKF2VMSqfYk8q3uNhQoW31V04KtZrqVHAsJRJr4nbKsunNix/a5EBg5zC5FcpvgRlUkGhncHrhkFAjMMpR835JF+O8XpgCqQ09e3rBwmBIXwKJSao0/yWoXjbO9035XmKHvtkZ45ujAy3mmMfSLza+bM20kXmjY6NFM4Ggjs8xgl6NUTvy6leoeS/vR5lzTpPLsPJixCDTjVWLKycwZQUM9S234DqjGjeKSwMXGLM/++0ChuBlrmYFOmWq+gGQ/ti7+1u0x0sw7rTXtNSk9gOrhiJwtk0Wrot9j8Th6yG7UoapRfsXL7ccAAABsQZ5jRRUsK/8ABPwn8/MoEXMefMH3/eYXG+RNO5uS9DT3zOTaYm0wAIK1jiaIO2smlwtw5qxxcQXfucylkr3YsPfIgv1posYDeIKKZ/KvSnRLySogK6KE9TIsxsH5laDdYFIumqMyOfCqIFJBAAAAdgGehGpCfwAHxf+Tb4ppBiroknLJ22/jYhOXOaC9FaMg3I1dagOOsffT5yADPg3AfeN2Js5b/3dkprTTjJ3WWftWRV5JVDt3kUUBjBljBBVW5Cqovl9N5/DoifWrRgCJ69llGefsKEebrdWkT/wtFVraS0AACggAAAEoQZqJSahBbJlMCG///oywAAADAbThPCHAA/8DT7rRchzp2EJjmy+auJgFb7R4Q9R20xj5Hp3bm4P7MKy964vZi578Aem8IgjSq3vRO5UlRPuwAog/tkMB9m+CW55EXX7cFr5SYSN/kAAkMrsmARdpP+PAcgaJ3x7CVSsxmSuIePnk5uTu0zlvvHczelXXRpCbZcx1rXA2VtkozFfH7A86xcjbaOfG3ZpcIMiGBx+YAMCIZW84PXI/ZBRjRRczWnZiWWRGc5vUA4AoZuS5MrssqsyKBs4U1wwqAqjCtY9xPh4PSIhhp3vMsh1jhxCHogFAE/A3/CKhH88H85xPaRkd2Jl8l9H6XCSG714Hq0SyHe7P/g/RcmK0VdXO/8DDkoxzSJW7Se2uYsEAAADEQZ6nRRUsK/8ABPwn8/MoEXMefMH3/eYXHIuuF8AEqKHck3n36M5LH7OVMeBjkrVUYoVNAtKaHKEF6J6hJ11zAwatXTQfvLn17VFWaPwwWU25CVwSNePWtKXd6XAeFXYeTbR+xNxCoirO/AgVLjIsdpxUZ2gYZS+HEhAtZQ0UGc9pSzGnagmVLG4k3jEYvmbQ6WwTq46ksgsI798g5kCo/EGeUB7xQKcCZ7+CJHFr+7ZGOxL2RyCW/EsSkyCviGm0GEAsoAAAAJEBnsZ0Qn8AB8IpAb90jviB6WXOn8jQDQHzYhABtn4KGJnB19xPSfif5J5n7hh9ZmTy1S1J63tU/KvQy3H8qsygjULVe7XWNye+07fBBRMIEIfG6AoTTv9cKuhobtNvdmIKjM50+4UF+8V4mFoodxBGqsVGfi/tJLJnT7fPCv9B8Shk3EoBOpJ0wlFrooj2UBLxAAAAggGeyGpCfwAHxf+Tb4ppBiroknLKR6gAAWcrRBcCW+ZHS2KUfpgSYpfLS6hkRFlbTn2ZNQj8CwbXIqoo8sjLH1Ju2/AFLfW54vThviTX/qsrSu118p/ND68t2vpMlbqEDpBxjfkFvIYhbrj91pKJ+ICpFXZz69kVf8tZxDOSZOVM2pEAAADiQZrLSahBbJlMFEw3//6MsAAAAwHJ1p8Nf1EEAJbfqnMM4Ju9qQUxTubPaGWnncavRya/lMYbr+bljib/5tDy8RbbF0G+/FkjtR8PTFJs+O54GVbo1CUOeomnk7m8rSRrVMY+vmWIP7snXhTWLOKiM3ERxz0Ziyet0dtrK7mxCqbpFB7zdMXu80C8d2ecZW+A+QLRgC/CjO6LtaStxr2uXRxiRd7Firyh3OVSRFDl/3tqcdQxpSGV2dEfjWonJk0qGlOCeUXB/OaGY58JUsTML7GStq5SANXv9r2YxrMMRnTxcAAAAGkBnupqQn8AB8e9pOjRIu8c1/fxhUhQahi+uPACE+o+8oYLhsnko4sUYe/R2teXwYL5YsnySCRgWLE0fslqxEAAWbqsEE52C2D+OV6qeq28htPtybo3KscNsbpmjW78mQD6ua42pvj9Aj4AAADnQZrtSeEKUmUwUsN//oywAAADAcn1vIgT8Is0Jh1GIQWCS87Ua8AIBV5qxHw/0TynU8w9GZVtUFY/4fg72KK3jDsc1rUaA5e30qJrw4duFOs3tA4wGdcFojaOYZJWnRAaojEcPyUTLA4X8FfvIPq4u0Z1v2eFzOOuLaB2Uo/Jdutvliv+qGnd6sSyMBS1wQquxt+5XAlXMYUseSDeukNJ6Ed2Neu365btEL5NebA+fxoMcfSec6Wl2KF1Y3EECNwaC7UgTFfqNuyXfVns4EUrqYA3V7ehQNH8Kt6tODavf1LR7jEcdELhAAAAZQGfDGpCfwAAAwDn5b9VNdM87W9weEAJb+rysxxPh4Tb31eN4eh9KlTqX6nI4A9pOqkH2v5R8gCd8ORjO+MXJyhH8/hWzk+EvyoEwwE+inhMm4of3zhI/IBMvp2j1QoHGabXlZ/MAAAA/0GbEUnhDomUwIb//oywAAADAW/3NDbVR2GQjq/yWvCjIAOm1Ww6cIwUC9pRzSkkKPlKECYYb54rom/Oj4528O2HEhGv6bRSJ2uzsTuAexg5b++ZY8qu5VcK20tmoJ/BFzBfPBVy/Tmpzojlk8SJNPO+KqS3iUGsZb/mtXwpnezSj5lXFyaQPeCzkdFZ0cEMUYYINHGBrJigbSA/ELThrjpPDF60DXXxjIAjpryFu15v6pyN1W2htJtgwtL12Xh7t0XcSQUmIJwetWOP+37gtT/WG+VvDetbNJjAp5DTbYTtJm0DnTJzAOsc2/RVbo3IuEr/8fAvjPbAbj98w9ELgQAAAKxBny9FFTwr/wAACqvKgwyqOEDdzigBLDwxcyTwaX3LJQ5qfG4t/KFPySt7OsaHfifj5il/A2+yDCgZ6xW8Nh9TXUZfGgIp9/N6B57SKC3id5xyAxyInsOrfOoWfUdwjwl05hLkKdQkKPp8LwFfnydbIgqiASJFVz4zMwu5EPihN1/QRUVStpW4udeHFK6v8L5zFIDXkO3LDm5KwGdVrqvXp9vADQJkK4a7JCRcAAAAkQGfTnRCfwAAENYeR6d0bqalFdAJwAP52nsaAR5XvlAhMgBTO9GuF5nV2y5cEoCvzLEK5t+Gn8FmNw25Ao1b+0nHq1+mb2FVO4VaGDbM+AGHI9cBv82TgYa/iGfGvU3tFM8bom8RQgbr3yWMhaAvAMXhckbmaXUokQnkwf47Lq8brswdQWOdr/GGxUYuEhqfSmEAAACmAZ9QakJ/AAAQ343/pSDOa/nBdBcRsBQA49Y4a08ibcASdxBq7vEVbxPhmzZ4e+zT9ZChs6YlEiMvQFVQKxlRSEStsPfKMMR3t8sUBXf/DoIssUNF0jjC01KWTq97vSoNprVfEuTGc+KCyuTEnCPAAu02tofebgqnb5QnvX9YfIKgnjzNUZx9LAYxhKiayMiDPtsmujaNdtuRY2MCdCv7qLoicb+plwAAAPpBm1VJqEFomUwIb//+jLAAAAMAkGG6dawASoAJatVEca0eJS5+NoH5PKHqwTpmYcNbyexdyRyj8agl01H3g0ekZHVueNLrkseDHjdqwgM6Sqpz/44+snUJXp5bL/tojUNYowNqbQdFUFm1mOOAIw8XvS0EUErCcnunXAyC1ZW/a0RVZqD7zRpq8XqvYnJPY1jr52oBjzwXdFqlDMp5xNCJMmCmZ3ua90awhW/6yZOzyul6EHYb/NJ8vpdA+XhwoiOI11ZfQJC5E0/iX+bFkkHkZr7V51qZTs7Xq/ZULaMttbzpDCLfcKnEnKZRN1DKR7P6jSbvlLC+f91JAAAAe0Gfc0URLCv/AAAK0E/L76dEDEb2AB94WiZtcRt16Jg+uyiWYDpZwNKQsOaMa0HpqKM7+juzXvYJZlj8oSL/ys/JiON6Lhbfb6EgNniSrP3dhoXlTLIkBxm9bYTkN5zuEKG0HsgSQQ79+x/kM2oy4gQuHRwvnD3pC0aGBQAAAGABn5J0Qn8AABDWHkcJlfbXwis7CyEMjqAHBIRarF0n9/6jBYvUGmqPKTqQLdMP4kfLHXetHai64Lo8iJaYrJf9rP6AKaCh8CjeN/Ol1BmDbjXfbVCK7Iu2OZZG09JfAP8AAAB4AZ+UakJ/AAAQ343/3Eh3yaQAD+WGinrHtY6q/Bf9ADeJSFrnYEyDXqiVB93M5FnFNlqqCG01VD880DukHYqoIxdoC3LbfZnRDcIGMP0KzDow/LXTYKP2G6SsnAyo+dvLqhE5c0u9qcWjWKlI9gEeLImGTcQvNF03AAAA6kGbmUmoQWyZTAhv//6MsAAAAwCQRcRAbwAWH0Zf8Wi5wwEpVohEU6dEKfqyFkoAb8buEvhe0g7LJ+wj3SWFIlduKEiTlj+TXNTqIfHNFHbzTeg4JXzyYcUAazR0dQ638TznYVaIWlQGiY9SzUKYtN2tiNK86IsbHMkqyLgjA9semOBUESTLS4/hznlWDJFsi3bBUmfG+41nCtxgc6V9CtwNwG6hi37+kwwT/KctrK0ogJ4T5O9O3FBhOrLgEFgWb1+PtEv/IbrYr5XUJ/qxzx3suttU4DDETuPa5yoOH4oSVm7hClo4Y+NXcQAAAK1Bn7dFFSwr/wAACtBPy/euobkTC2i7OO5rtZi9ygAlQTLhj20gpCkVt0klq90CB+Ug4aLn288BRRMeoHVGqdk35ov0epKYnP0coYgtfYneIcrYj+jDH6BTDuSoYtA+nifatTgnKPuaFozE9rKaNIECoGBQUyOQbLspa65RrRuAOzSmMIShDcP7e8zo36vJopaHlU89vu8a1xLKsbcz8rgNrjIzjCf2Wdci37QwIAAAAIkBn9Z0Qn8AABDWHkdjmob8AJom++QNSTRcOmVG2SGbmBFkIHjYIhpXXJAqIIfnN40YkUj1Pbe6OdDLGdcncR1f+Gr8ZgfbuF3pGMy34u3Rw/4oT8jz1/lbR6dKpEl3+kjyOWw4F70NnD63T0Up4nlk1KcKSh8wXqYPJiUY0iPziozf9V0Wz3RbgAAAAHIBn9hqQn8AABDfjfPZp/xlot6AvhoAJkJ6RsWlJCALwReX3cS27h6VQ8iTOBRhzuDTuiVSYnJnoNCoVt4bYS46X/8NjlVjj4oTwC9t6hIypMnBH20iXhkgyROQVvzwaFQDqOJ5q+vOJ9gnty0tuZ5cYqEAAAEDQZvdSahBbJlMCG///oywAAADAJQPcgAvLjmKNbEJZqH4zjtdzTdPz9KWfZbLj3hv4fcv6bzyey/fhZal9EBnyhD5jczLNTpzb77RkKslsam5FrFdfC+vhy2v0UY8W2drs2NOcHTHpkM9V/9Mv68B/NF2P19bFeJ6luShQZzK/ZRRZWD0peT89saHlIhW2w3Ufh52Js9UTc3gZTd0Q8PWdmlzzjW1v39nFkR3H6VWI6Y0PRiSewKGFqPkWswD09UNmDuN5K1Kp/PNZbhHSJf9V/6VPNTDYV7Xl3t9F7qtEB9CuxgkEi5U/sY7sNM5Dabf1+9/gZ98oKy7VWrOVnK7nWsxoQAAAHVBn/tFFSwr/wAACtBPzBdvUS7NTFJDynhZLa3BAAThHzgmYZJVu8iUYW2WprPhnVtjL8YyOBU59kQIQaQyTQbTLUtDEbw5V86hBQwfnVJj1qbMi3lGxdlWy84xG6XD1vyu52ZvXG2a9Wto0n5WJBo4/c8jtqEAAAA1AZ4adEJ/AAAQ1h403Rl1aSJ8NOr/OyhAA/cfAmjbTDTI+KQkJNIwyqhGi3ewz/0R5pccrf4AAAA7AZ4cakJ/AAAQ344Au/5vVBUbt7hIPqyz5MQAkWWnUcEPZwYiTjsawTryuYlfLy80lMg3GOfahC9+qgQAAAEAQZoBSahBbJlMCG///oywAAADAJQjWENAE/8wSPwgLD8M2QFwbsp6YW9qCAj5sPol9+AAYc2klN9UDj5enFuEuxFJtMOZjsR3HfTYuir0wks8UaNuBtlvwP9YEEMSmeVZspy7aSPo93LYhwxs/j1LiwrEMy03qqxDhsZxa4IHHtXCB+YoL2YtPg2EIifdMygVFXXNDp5PrbGL+JWDEpY9qRu2z5LPQhnWkH93CjCxc1KYu6KzYLDYA6eQM1U1CAYOz/CrFfu5wh0mv4R2clEan4fnVCFTBSo8i1xUndqW75nJWmq8nFM1SbJWy3by/mMhmZcE7RbtXJaBWoPaznbXwQAAAGRBnj9FFSwr/wAACtBPzBViGEc1aD4pjnCwAEsp7cpJ1dKu0LFifkAX87FRiMdGG1CCUd9CWWufME7vAVlh8LO2m0qgdEHZmMCh0L62aIQfiKfJeOVbgwl9fH4ntC923MBn3VwcAAAATwGeXnRCfwAAENYeSKgBrBgs/VDRKwTrQCRHxVJ/BbIjfTd9+RzQARBZCBDY9Cu2ikeI/bcUMWeNXr6V0bQLezJW+1XkZVipM2HVZoIjIsAAAABaAZ5AakJ/AAAQ344AOvcABKUZbC4awafVGBNq7iEZNL7eXp8reWj3KtF9pYAfJACZvSiULH55V+MwVNnWa47N72Al7evR04tOgmGB4fw5kO+hHbd5O7pej2WBAAABBkGaRUmoQWyZTAhv//6MsAAAAwA2QiWWaJADpEtiGRQvDMpYG9ob1L4P1LBMdyb/jKy/DpbTe1YowSJRSs/88i0yCgkfO7bIYY7/q0/6DAvQCa30CwMPRcX7XMxQENbUeLLTb6ESfsHaHgnIrRVafcMl+T8JlsdawBf9prGzkCW4fGY+ioy4OK5YF6yjf+PZeQjBBb7vGqCytCCTAimIuvLjniR6d7wxbF2Put2iT1xRVyU6AYBHe+CO3vj3nw9O3tzsRN3LFHtcM5BWkbpwHc81+a+xpQjdAmiQ+Lbooia39we91Jfs2HNtXkktWR4QYwgvWLDZvNzRJ6PHplMWx5YX5K5/KSAAAAC3QZ5jRRUsK/8AAArQT8vYQWC5PkwAEZGklVhDN1+Um7ygXVhphHbK0AHCkXdsorrpmxGxFlxeYhupFmPNSyUgJjlUg/7nFyonWBFt2+iUOIHUSPfzs5gpv+fR418Yc8zq9S+ZeR61lGShBcxgfxCr4pQnyflLKkdHonjzefNPFY+5Eo8/U1E8aL2O54856hcOR1yOPrz/iMCjLCQMV4Fd4jmL42ORvGYegk2dFlLuWWhZPnNF8B1xAAAAUwGegnRCfwAAENYeRx0UwBauP2c0wtKGFTIwGiwz/s2us43Dm4O5xZlQVyKtIsiIrS8BjNionlrGfsnLhnXFCIHeQnKL6VmEOXMDTeLdw01XX5OFAAAAZAGehGpCfwAAEN+N/5Xw5fXhMJcJfrEJeCNuwA6RKbvweQSFnQGSAcL96X90GznzyUavy4QgdT9nWzbpy/2vJhUIWwVJdMefNYQJ/Dk/Z1vWra2jR/ZHWTRC13UyKNXtcS5YK2gAAAEbQZqJSahBbJlMCG///oywAAADADZChy1zINEAmNYO2OJL1IZkFkVpAjGfXAUbg3n42NMIgfYjIXsu4LnfqQtFM+D4MHCid3kSBZaQM0tLWVzXuGKde1vaKP6yUhk9DNFQ9cCblfvNPvvcANZ6aBJ7CvVQ0UtJwktOIVVtS28CnF1/pSbAm+5OI/wQmrv7/qkBDLlV59UOZ+0GX2AnLep64fj9Ql85IT3hXGcB2Sb9CFuaOrnDhAMOysnidhaD820HZlr79XD84TEaVNho+hMy1Hg0CVn21JtbwDhaa6/5PhYRIxRiMd4x7pwOIt8WylW0qI56hjvGNtl62rP3OYhaYJjrJoFmyPXRFJvH7ie1TF8Fdt8IqjR5k+vl/QAAAKxBnqdFFSwr/wAACtBPyZebzZinYbyMmT3dm+liGAE7d1cq6XMjuoh5PixO+JzEbuD3WtRA3buimezI/T6TmSmB4j+/DVpwC9RgQI6cngcGVzIdaFAzirP4u6deyviNhrc841P9H7cWJ7C0xtOMumret+/9sne9Gyzm6+pD/Wyr1ctAdliceCQQ/pgleUnYoirYmygnDl0M4TqtGjzXWL7wKBqiDoz/yBGnclFtAAAAfwGexnRCfwAAENYeNN0a8Lac0e45Anbu65VAESAC5eC8oVa0GhwnISJdKRMTpglV31cG6PhxfPo5MrMkY2n9JRB4hVTGD81wolPZLQCfY77k9jRUOgI282a1o3ztmHFofaGDcntuUwmNh8N7QF/M8JayzqHk3qeQlZG8ONdCrcsAAACsAZ7IakJ/AAAQ343z2aeA/Yh67CZ5eNWAC1zP3oy/ks62Eu/4by4Nbv8kO6U+AYP4uoF2tIBC23e+8pRBD95mDje50v69zMK+S3UW9peeW0rwMecX/+gY465B/I4mQgeAPeksKKLWxAMO6zd8CQg6lh2ryoIqbBfpNTu9ZRl+LcflTr3fug29m/mPPEJYCdLsG3KKMQ7lf3V0nd1qPPGrwzZYhANdT1uUXCGtmQAAAR9Bms1JqEFsmUwIb//+jLAAAAMAN49XyAEc3HTnXp5XTV1O+u6vKFclRgky4jiaMjg1MvfzyDe8pZs2doAHwn6YNnhTtFR2aVZbtcA9fBPRIJABSqed/H/4tJx2wU7eOBafTZnUnjsgcr5kbPcN4kQhSYwvD9kiH/7Ir/tgQdglsAxR8ax3ajmtNWsdfk3R0LfwtrXEXcy6JCgnV51Tt6Mn3vPyuffSXLvCD7cJoHw6c7UEHp9nH+tfvGwXaSqBL5934KuKUgenznkw/VsOUTTA5/XIByjp33Uct9VeCAsYd6gOfqP7Hejju6JrlQ39tk2+mzpHeKgQfw/PTxljqdYnlwF+0+Zcje39J8iEaw+G2CTAeSD5Ru+bafq2m8D/PgAAAGNBnutFFSwr/wAACtBPyZzqGGYC/b6pWGsF7qBCsy8Uo0+TFCF8AQ7ekUWmfe99o5jVBC94IMcwp32n5rVx7pmL1nQp/Z7t9uOcsHP9p0nNqdDBNIlpwiMNqvVtLKS0bAwIRcQAAABuAZ8KdEJ/AAAQ1h403RYp6ad51RIAJSZOXBq8+bSHjCu8msUfAAiFD7HAIslIHBcBHgHXnqXxJ411PlB/odUW9Ct0YefG55l2oCya0lv4TeUEoL0O9TBJMOlaOKME/AtxRdBW1K0jascZYVwJCHkAAAA7AZ8MakJ/AAAQ343z2Y94mFhlh2KnB7ZUAE0J42VOb9WheyLMuiiBsUvQcKzJPLbI9vFa5kABHaFICggAAAC4QZsRSahBbJlMCG///oywAAADAD5hRWAI0uYOn4/eeTivfOKvaDQz9jlEdAlu7ubXP0Rdo6OiQovKtluO5nK/i+tLaIaKcb9iiaVzEUAzdcizilf9GB99ZgUE7iAiUoWfppePYiUYphGJbpLbVdprEMBVuI5EfX35m3z4f6ayt49gCvJOXMBkXQ1qIfgjN5/ipm5dZHF4QlXtdAwy/LihG7yRQn09xXspFzjyPjq5G1ZUf5kIpD4B8wAAAG5Bny9FFSwr/wAACtBPycV9Vpz1dKYALPElXr0qukDQn02m77XqHe5N5VzbVnLHFqfg60A8Gdl4VISmCyz8gw1z9taQSj75l2sdhOSXvx5XffxRS/91CTxQUbHTOeR5aL2RiNIldItzFWfnKpeCPgAAAEYBn050Qn8AABDWHjWGPF1UAI04ACMBHdZe3iaVs4BZnHojuIdg92/i0mpvUsMnt2mf0fKRKujWnrlQP0DAftD1f/pcoJWBAAAAaQGfUGpCfwAAEN+N9M959dc9GLIgBVxgoaB0+HEW8w/PZ4+VctURpgZwdxAO0LzGSs+UxYhcaQHlFGURhl1Ly954x3lEY94CCEpmXf6oFjxhcy2S8VDc9BAjT5LOhXxNGjxiwvcD2FhJwQAAAPxBm1VJqEFsmUwIb//+jLAAAAMAPr62gPQ6xpPACSBzW+GLGpuUr4dEsHBRL5KGsCQmGzAMEHdSnHzuJqTu2vywNKZFXGKWgpn7D0nApzcIkvwbQYZXL38eU9f/JeK9mMsruz7NQ7u0efViCI2kSNOweTYancMehDOuJ7w4eEDJnXG4IU4YwglyL1T4hrC6YDXv6dlGb3INV8iw7t/JLYTiDkOhzvJxXv7j12+EopZpcdqHp+/EhReWyqZgUUTgrbjEDQ7WfZj1+A7Ufpiv1kcF9qvzuMzbinnFw6erRFtFFQQSqcah/vS2WwOQEboUYLs/48oOuZmpVmGHQTkAAABrQZ9zRRUsK/8AAArQT8nRooABwX+elnJlP/ZSTcq1zvpu8ghw5WbestwBeT7C1BWe6g/DnvquaQp2H/ZnZsz/xHKpq30e5rTP+Oaj1hIGvZ2mwN6pvCFQgNyZAqxHMqsOaCmZNsvV69lg7oEAAABoAZ+SdEJ/AAAQ1h42hopgCBz+RNhBN0KP9f/EbNiQCVe+nxbBdhXVnFzTvHJdtjKnF/cUZAg9uDPqaP3u22oE1u4iUy6XfdTApGUe0JNIIIUpy0IMGLH+8RliVpqYq0V2yrNUoMPwTsAAAACCAZ+UakJ/AAAQ3431CraVCxIHmQArk/5ZwYhVRCLJuXakRwcI15FtmjQ72rmPODtuQMbO52Yu1OLz13LQJDVdJCN5pjvCjTnQxddJ8SZ5jgR/FS+3WI846G9Z7cp95i0bKq4av732jCmYb3JE82dkcFSkiC+EP7NPIINCEnLp+ggtbAAAAQ9Bm5lJqEFsmUwIb//+jLAAAAMAPrrT4VyQJUAJbQNIMxxYZ4/04W5fc0WSiGbWM/depZmnU6hZJt+xoZ6c/2gg3VJ74a7dcG0OESEWNpn27KOEF2Cy9QXwmJCnIuqQYVKfOMfxOzjd1it83FfctblFsicqgg5eToozDm74s9DzZy9ew9t5Ed26sIZYT1L2V7QCQk7J0sWylhEi6Fw8rx+4cqr62ZFnJhirLI93WjTB4Z1gVFH98uKYTROjIP2Gsz9bN8XuH4F7cOTVq4AYZH1WWA3Z2y867rb89sfG3/AyGeonPXLMhKLrS8iSjGsMo4Yy3vg42liFCKMGRTyZUJQXrSZ56FIzF0JqmxCvti7hAAAAZEGft0UVLCv/AAAK0E/JxXuGZdwiH6qO8eoARyA0oSfF9jRePPx6nFyBWiY+HbbQzPuSWPKwibG9rumubY4cBnT6ihJrrMXaG8cChU5tyi3tiB4SsYUxXCyvUI9mu6+MHM9E2iYAAAB4AZ/WdEJ/AAAQ1h41sJiFiQNfoAjSvaeX+TD4cobZJe0N/oeW69U3yLm3MJeKv8HmcZ8+3N0d/sqqum7q377oR4JEgxaysW4N/OyuoM3OHbxQ3Zm4WgbEpjBQg8th5B7zZ8QL7g5cmmSa+9t6JK40P9CR68BCUDmgAAAAmAGf2GpCfwAAEN+N9M91K3EAM0YngEWSUOuGTgBy0d2kZcUlBJw11PRLQC7vf8OhMNq1sY8HdvIZOKdrnl6n3F1BocBLvnFz3CjCl6YfB63eq4hxYY19waXK/6ZcI4xV62+gPsLtolQUZJguW8m+r3LKs7Mx5LlgrA4QwIGY0NttDySaZkkrP8YMyfOPVfc6gk5tKGQqAPmBAAABJEGb3UmoQWyZTAhv//6MsAAAAwBAeN+TMR/sAE60Ir1m+YZNgqjiwfOHvuXn++5iJoyTteJfQlppE6LCNCz70bGJOxJho0hdK4aQ6BPSGEVCbMjUdZB5hnBG/5g4Vum5WzTW/O1gxOh5vrnpwdQZrpijTrWsiOWKVsJuuSHdwMdpcRG0faBtbCxg16bkx+aiiI/N8tt8ZqiZALkCyYD9D8HwNMSCDAtW9PRKFGyekEYz3usJGMQldDoPBSa9DX8vHxhgsnt2hHiqQkBn5iBn34afPYOYQLjgy0wtJivgwsqZMKX3OJuhhq8zWsIPPd++rJz5zbfWhwzhN3fycDsql5Sted+PSAv6Qwo6HYLKfCLAU6CFsA/8NNrEz70YC7cFULEJC+kAAACZQZ/7RRUsK/8AAArQT8nQfcbkWCnhbwARkV+wnzm9WF5f42niA3QxvLiUDPHWSZRDwBWxx5w96Drq4jxlsL+iiYIC+r3DhFOuAYsjFyyeipgjfJ8C5NqEi4yI9V5JPOWusaJToz9nTyfV89MU0yAq1M45kuBV4NmG8pIKN6Vokw71cWIhDZOcouHYeZjVgEiZFiOjNGdREgwJAAAAcAGeGnRCfwAAENYeRxvrgzSmngywAAcesUmXOtS5TDH1snoYzQCoAFI3eDYgyB0wwEH3UaZFQ9fl4dQXzSqpLflO9/pIzJRV/XgpgaAH2khkbB1kpB+6SjFwXopDemHb4M2xX+6WJqwPd8g4GfL8DUgAAACPAZ4cakJ/AAAQ343/lkycYXYlsQt0ABGAC9a1mJCBb6v9M43CqeuDbI1UyBN6NWPJcL17iVjqT/YHQApT5LXL14FdgyI67qaXZYOMWgnNWsxjnLis2dSctOZwP53tWm9aOmoMbJzROwLLMnLcvH95TUwB5co03qu1Zfn+vnJjEhcEZv8/jOrLADMntS+wW0AAAACqQZoeSahBbJlMCG///oywAAADAEB+JxH7Pj2qfI8AAPxaf4yi8LqOIOgzqr+XZTpTs39uQvk+QT/FJYOVENLRtVzIRWsk8j73GGAC5KbJ4CUpi+tEZuZ3MZ4LbV3mYvWgfDR7DaHB5PzTCw9tMmaz7I8xZTu7aTswWI9Upew3oepXqT0HKtE4wyE3JocCvq5wkQ7kCKevgswyrWOg1R631gOu66WsHnbzOEEAAACNQZoiSeEKUmUwIb/+jLAAAAMAPV63bnuIcEUIHPB++ALy6HiITWTa2LUvh/q/HdxOnn85iF45aRGx5mjDE8QQ/oOi/+AfnNfxGo+pZLV9ocJKUcz0lgL1MyjRhkEIPlqfVRKZfUW/amZY3Fvl0T1HswnsnhyNjUk7MCEHqdvSIV5Wncj5tZqoyF0dnUpgAAAAcEGeQEU0TCv/AAAKz1NdGtdUAbe/LHXQYJ69wXivgtHmCgdmONXFtCO5tksgYHLZFPBdyafXSoytXFdhBUBEPK/x0esasgjEh4zLJNIQiCi9gbs6SucizSmf7yjRoWWjsVcF/HNoDyuvQwbhDfkwNWAAAACLAZ5/dEJ/AAAQ1h42NXaAEe48OwjxOfZsqrHjHqfx0KQvSuIKXNoFL/6Mgsmy8Ksfun+TpS88MXtwAC/tfXUB3ZQvwQQFOJp92W3aHILP5hzXLEQ6QctW/kpNui9YA4hkbDaeL9zGJnFHhYNtn2ZKRW1xJJdSITWkzqfMc5D5axaVU7Ux9RLzr5gFfQAAAEgBnmFqQn8AABDfjfTSMZkTvi77yB38wAf/d2JzzTzP73oAkvsd6iujT2yoi1N2Y6ZiRDWdM2qffn3iEeLL+xC6/G9Rt7SIakAAAAAxQZpmSahBaJlMCG///oywAAADAD1et4quVFBGv8mGg9gjAF9mNmU8n0IIOXLl7wW2LwAAACZBnoRFESwr/wAACtBPyVVvHUKQP/iWfKEG4fQVlVbFJwVnUSBnwQAAADABnqN0Qn8AABDWHjLHkddA6gFBfpdaOQfOb/cAvQ6hMPVvewMmRMg8WboQWotgA/wAAAAaAZ6lakJ/AAAQ343yqheOdQ032V5PSpvAH+EAAAAaQZqqSahBbJlMCG///oywAAADAAb73u/sJOAAAAAfQZ7IRRUsK/8AAArQT8laEpDqX+7xz0guLXot8UAHTQAAABoBnud0Qn8AABDWHjLHcxrX3bDbCwn6ToAHTQAAABkBnulqQn8AABDfjfKqF451DTfMmvnNPAM+AAAAF0Ga7kmoQWyZTAhv//6MsAAAAwAAAwNCAAAAHUGfDEUVLCv/AAAK0E/JWhKQ6l/u8bvxvPbCAMCBAAAAGQGfK3RCfwAAENYeMsdzGtfdsHTYRDEAK2AAAAAZAZ8takJ/AAAQ343yqheOdQ03zJr5zTwDPwAAABdBmzJJqEFsmUwIb//+jLAAAAMAAAMDQgAAAB1Bn1BFFSwr/wAACtBPyVoSkOpf7vG78bz2wgDAgQAAABkBn290Qn8AABDWHjLHcxrX3bB02EQxACthAAAAGQGfcWpCfwAAEN+N8qoXjnUNN8ya+c08Az8AAAAXQZt2SahBbJlMCG///oywAAADAAADA0MAAAAdQZ+URRUsK/8AAArQT8laEpDqX+7xu/G89sIAwIAAAAAZAZ+zdEJ/AAAQ1h4yx3Ma192wdNhEMQArYAAAABkBn7VqQn8AABDfjfKqF451DTfMmvnNPAM/AAAEXEGbukmoQWyZTAhv//6Mz0LxwKjnrmCL7H1nZ0YM4XSQqjEkyX/b9nbi3aDPOyyR5DCuUl+1IjdXx2zIj/ss0N46CujuumFHgck5uAwlTOd8y+Z+ai7AOD1Gsr//yaOAAZsU319JZyAJY+Tg07drHVWwhisJGtDwiyfSQTrNlIi8g6MTsSvdw6OMy0tRfcAU9tqIfYskH5KEg5xHVx7vSb8HBb0TU5YaphyjFUo6bANnygAGaCZsRqScmQttzSBhuQksfR7m5QaQmGn4e3rgt7AB++gL848MA/rn4pgjWQUSK0361T+CEXMMVvFNwbGz3/OYE27abzNsvCaMTLbcREbjifMZjl26ev5NZ/ZNzqTJnxWKficzixf8bGLc9H/7DrLfRKv1qyqTNvc8NyuhUE+H6NrfhLpZoMPKOfxMiiFDZVZi848PBVMoH1dYM/g4N14ZGMr+ky1Zur2JmrvfHMBoSeroTBknu1p9zNapmOVUEOdqSHAj4pKR7Y5KtADWOND+H6OrcIe8FnoFevQUASC5xnD89ApoTTbZzuybh5a9aBLGX7i8Z23UfZWuWMWqoYfOVNDSfCUGLdnTIsK3TU2ocgEbs4PZ7KopEFrBREA2+JNmq/gJlJ0DadKjNgX035PUJQpKz8C5QI97SmTEJaNSLYWLJIzR/KolsTQLpfMn9JzYTKLnIdHJ+l3msD77HeOy+zJ9eLmaW/ka8VnbysIwdzzitARaCXUmtWcU80UoEGiHYKK4YZmEIRrAHK1tIFK0Ag6DbMzVNdZiaK2W4czdjNxZghj5PtG+Tmc/8WtSMxE46akVlFbhbYgJ/HEiL9gI01cQRLE7t3KeqlPlqkFYmQsi1ig6pf9Bm20qQWRwLQHdX9sDvIajurbOoXE/+d0iU+g8vtpt7bBI6bleot0XRnDVhhcEET9efDp/Dkya8NHfrfMZGUvAC+ZIURQVH7u8tfa9oMDIxLcoub0BKWcGr9UcRXulUHqAw149Zh0Nl66+Z7Zt7HrlgOjc9PcFgeGogfXzKYEhSQsbF0+okIstIVHp++x64dn1Sfm9udKvUKLvpdMR+bCK6FDKVU5NGWLEu+iEE1Fzn1vQra4TfzvkLRTpxo+GSLAocMwJodj2Y81FcFjeEc3PUszyQDhYoB5ifOJBSDIx+2ezDRGYqBu7GpoCpSg0TZcGpFOA60y1Qi5Vu+KYg5qqtLnFdOy+jBOpyqLaLaqMD2ma1SVZU2MJBiMAgSDv596b1VchgTCK9KuRAilOzSN9SITte9v3CHr4LB/6Fy624b+CUQ/QpIwQMZ84YhCT/xTQs6IN0IcyeRgpICeLEnFAGG9snv/j7V1asBANBHTQFPq7Yelhg6PeKpuWp3a5x/xieTyL6ZeSHOeGTUt8O4s0k0wiG5YlUTAkOAu9OgJVuA7ol//lLcehKCC+kkHpb5hCn3EFUYspq/EAAdmXYUbGFoUw1NSnRXCA2WM0gzGdnnSkQAAAAEBBn9hFFSwr/w95KJIk8ADYdTG40Is5SQKYMwAAAwBJkADSsupkucvZ8elA6uhlnGe7oNqklhE7gvAmJ6afFTKYAAAAIAGf93RCfwAAENYeMseAO3X9nMqsIhC2XohxdRHh3QUlAAAALgGf+WpCfxUXlCpgUwJBtQjosZVrqWkmkAAALgAA76qogWsuRUqY3ESisol4ItsAAAE3QZv+SahBbJlMCG///ozPfNpoiECW3kAQs7IZBcP1NMKJQjjfbqs9u8G496Z9VAZqnPY9f+DfJW0XqP+BVRmleTpW2C42n6Sqn9IxUzI5rUwRAS8tcBDPJAuLmjIfxIQ2psxZ8TbBvMMrIlSEH5Git0Sa30nfYEYnTqdQT2djAAADABC50XsEjLL9jw1owS2pHnnY7zZPDopDHLJlkAdvZz2wQAJR1iMmyETCRXW5QZWi2Wbtqmakfj+Be8qBgtG+AL7JMcH4v4fX7ykD1MKKVSXpyj+WmNLef+dtt7SG/GFZ4OAiDpT1QjmoFbpeiPGuw9hNtvM3lCDmjaf3+U4E2yIgGV+Qavgl9Bu0wB11YzhtuhdObOctQ1C9fGb1IW7uURQ5ubBFYK56etXlu3wZDzIc/fAALaEAAABzQZ4cRRUsK/8PaNKpZsiAG5kOzX0fQOJkExjvUKoAdKnUDGJTOXv3VYKpwVjKAFK3g+9hSsrZCQXPNqPEpQlgR2GpxBAAFQx1J0ZeO8nSz5CObH8NcHTEFQErlA6Se1lpCv1PZahHViu1QYA9gK+O3qBSQAAAAGwBnjt0Qn8U6zy8hlMixlwAWplNIDOvNnSTl1h8AJHZqjFRVLWtij/vZXmf+ezfvGohhjasWE2LeumUOkG9By2D6MBrZxUS+6l+OCddwjyoQtAUvsVuGKMbJQTptiK1zHFmoczlO6LqO2YAFlAAAABTAZ49akJ/EsSIj7Uy5j5tmrIik2fDFplIEy3L2roBrU/ZeR/Ca+ybABfC2jiEZM7ds+yNWpMgAbOsAgvfaOn7ppM36iRLxdloPP9VzW71vHRoHHEAAAFdQZohSahBbJlMCG///ozGpl/pCjBQlcfOU45/MZvYEEH56O6h2O5mhnGUrNC3lnss6ti/uSUHzQ084/OlnArKUwWbh8l4hYOL3gDcejQUAlUL2I/Y/mCZAfJ5aKIYrNMxAAAE/kxpxGCb7wQsJ/xnbNHA9rZhd+6rw6kyS2WWatSek0EqvlaRbyBn3dOjOtF6Z00XgirIhjbI56EzBBa933bVND/nloi9mVUJASiKa+9E+4sSDiEraqnHlzenCR0MBuBnShC+Ek2eeNuFMnaORDblw83cWLfkM0jzpD3T1xNWkTAC47aiXfLh/m/aOkZp5FqHIGRuN7CHYbNG/1uU9hA/DK75HRlu+dnd93jhK1cY03iIQ7h36SplJEiHpXXbvLIgoq1IAS+phcZwtERYPAQhNoR7/+hk3n6DlDsM4dWlH2SrJrhVqgRMyL36tTEtD4bZQ217eoNKQ2ACTgAAAJVBnl9FFSwr/w3V7lb5kEACOUZB6rS0aJ2Pm7WRwNFJhyUKTM/FaFNmA479zgpdpQJeryadlE7Cd4Zmkk54aiZfT8fckI1VwCZ2mc+iJ/u1vu+/REbiwkC1ICQIKk/iVgQfOlPMaEjITFRvS+Yo0FmK1sGYfVl2ZvbggvG2jQm5IJwfl/5/CzJHdH1f+6Hc4EvbTQB3QAAAAJEBnmBqQn8TE6xwsbnFnQm81BENclFBwOA8oAJ252VMey5Q01q5p8mNTE2MT0A9iekPo2rxCvhsqJ0/sIyFtV99YAF5jsIUcVZgzJEbN6eV/SRDWbqG66UAfqe8qT2Y0VbZCuK5rZAhzFnhUQ8w1nGkzR7gV8JGHnaYQ0/McBd83TnbCZNo3c9jBSTyMYehZg6ZAAABHEGaZUmoQWyZTAhv//6MxrpgHGvJNeZOmAIxo+KzedJqA58YsM4YfH4PmVtt4AAAWm+PwsyOAShtO/3wp1nrnOew/to5Ff+rbGrFDt9JsJ7RHtQhE3y6+xmulfPe7apo+16vrZ3kR9teVbo4bdRMUL+eDYmJL8OQca14c3F9/gPTn/yHeYw6VN16emEyZrFkgQfv64m0DHPWxTWlgciRDmbi26829wPa/988ZiiVHw0tKnVaBtDhqOZ43Gxde6/I274SEUNopab8AJQGkyYBI3dIPqXutUjt601oQyezdpb1EvCwiA24Z0+XQjhqH1wpRLelITdAv8JfM/nt40oC+wgc+LVdQc/H6q0uV8o83njiH0nNEiu4CB4rQC2gAAAA1UGeg0UVLCv/DfCJagjLU4zjVewAC2nrWIUqGIl2yx0vDfeMlOPjscx42Y5zfZF4TWQV0v4Y88Mz+N13KHvJ6H6ztwxWB5GLFaTLQwbxN13X/fa5y9SU4oqe3xntLaL9eveezZ9nFEggYIzi/aowEGW1Ub/ypOfmkSIGVL/8Guhr/pQOhjAstBkO1GPA9IO/QkWCWg42xYdkGdxiek/NMiFCzfLkVOmIzczt4xwb+oEpNSBClg3rS8KoHiQNWKODmJpXSowrlSgkoOX1ed/dXCMVAbBUwQAAAJ8BnqJ0Qn8TBCXuaOInyqx7eOwzvGYQOzxYd0Fymxzr+wVJUk32gBf6z7ats41j74gN7qBiTTBsze7Lt2Oj1Uw5nA0g6VF1eUZTVay27I5oSsSdy74ylp8+p5M7x96L4d+BEV8FefSKyszWvkZSK8QdgLBPdNTUQmQRII/yo9FIc7L+tq4LifI+YPTSmikQOq1Bdgy/NI7De+JNRK/gEnEAAAC2AZ6kakJ/EXKoxBtVa470cnWs82Uz2i2A6hlWgrtZ9e19Ax4MxNLACajSfcC14opNM9iQkex0xXz7IgJEpz2wfiafVTsRo/9jq5RbmUjry3JWXgYPOnilMBgd3o+MIu61K8gs6W+/9+FA/4TFFNm2fmd8oLfMOk5tKUYtIvC3/FcLx0hxyui54xEkwpfxeMHHz9h+cx34ddBx9CxGxbUaJSapsD4XqqksJY9vcgomllTjmSu9iggAAAEUQZqnSahBbJlMFEw3//6MvgX4W6sD7TYRchMaDcBcDOrWIeajDJqX/DxLccTk609Kl+m25UlcxIKhAKL31x2loaBnPUWtJ1V72k4wRLEzpkIPREnwX/1U5q+QEjtqRII+rdfjqo5+aJgQGM75XZKcpPiAPLHN2hr5IXk+GTj1wEaQwvsLMPwot7wPpmkqqhz+ybDeUXnE0ejY09w0M011dmCuSZifwhy8id1JK/jYMBZnAIzLu0kWyZRS93J+46PgOqjLdffoaQtQpKbeNy8vCBb0qfxc1ok62CSstlyhwakIOjkBN1Ir1AANIQ1ahSz3xTz2RTzDJJH/qaNShIIweVEobM8LHt1uLIGWsWmxQ/HrIC2hAAAAeAGexmpCfxF8hkVlkf9EfMazQOGz5TBLl3ec9u7t0NWs+xEGlR8KQbbv7xAALOmaws3UxHGDWXmwqIVwhZAeXAHwFRPH8ubeTnC2+SEQArEjcXy4rECET7WAooPu+garDuYxvBhWKhDNipiF1nXJHJjlzOYV3hAFDAAAAORBmstJ4QpSZTAhv/6MsAg4LzysIsHWeU12Sx0sFzivPGAQYzozQPXNSxC6cIGe3gX2AnKkFhPRxBKAOjQ/3fTMO9yAznXk0rTGupLtQL4O+dpjIMWQgQw76+h/W9rejGRivSR6MZa9T1lbtUKrHKY5pY+gHIjOa+ad0BZlyMSefEA4DlHupaOP07rVK2tGsHxWYbJzFTYFoXiUbTNwxYqGTv/7mt/RF1YdW6l071rj6OQxKm6mpxdXHDEns9xoZsvvUDZ46WY/MO8wE5a9s1ePN0yD4/9VwbZYrKxoVe264AYAUEEAAADAQZ7pRTRMK/8CRT/p/AFGLmM0ABNN6IoeFIhdBKxurjpL29ToeDkEismPxQ7ALTLrHerbzAQ7Jt+jKTrail/QkAwEneHLQB6H5Ez/8WMaKJT9GoBh/isVN8dG6kBv8nvFcEnLerbYJSTGFGXfEI0RrKGnVIbmnP+o4+ZG3PemIQIy4DFH8XsvNNVHi7PU2TzSRp4/bKT5Chq3J0eYih81wipCEp6X1J3c3q72plb+mMFLfmvqKYE/yd/Ryf9cPAXdAAAAhAGfCHRCfwOxD7Gh/tKmxpv+DziDDFD6ZuDrP4IIuFukz35GbNsuMH9OABa7FSxpxnpxkv+DyHv+GQ4pOKE8F3A5IyGsUK1KdDMF3Z0JkzyTW1oFVn8BJYbc6baAJ18CISv5NoQY6FsKobeAObIXqaL9gXw3ekOuo+wKXidaTgaf/ACbgAAAAIUBnwpqQn8Dsv0qNrnbfZ3pxirYdjE/1sGr+a/bHkP5qGTXO0tFxcuOvHQAiQRTxUArHtP+n1ebhj5XHSNiNuHLkFi4jh8l5VpfUsnqtWxRB8ZFkb7k/G51Plpm0sy316UTsnohHiehq9h8KuiiSHCR9WF6rOj819jxxMtFZl2Jid6aPgh4AAABLkGbD0moQWiZTAhv//6MsAhGm5RDGTBxEMelAB/PUMjUrSf03Agw4iVR4ymkWRZD3CJ2xBAqgkkuxpdPxrarGB4PrRq49SFiWYr/8O6LSXiXi2FAWRJtvcYBN3aAxs9MXUS2Dp+GxZxbBfgM0gBTItIA/p09hR6Ulgj4cbZPmVRaptT6FP/FufeLSxyS1WBLqlAX8KumTs3TeJ+WQF/BBTgE6s4gIub8OEM+o9zRJEXcs75RChGaZaBs2W7WZi1ysfEL77adL/YvNeO9Ebd9W4uhsCwaQPE1C8rLT5eyeORI43eCv8l+qlFYP86Gx49ZtjsAtoQmuCK4+BVcYs3jdAgdzT39h3WDF8VqkVn+qOUBK8Ex9fhpb156CRJ7ZfT6C+us662voBks8V7xgBlRAAAAskGfLUURLCv/AkxTGwJbd7o5lwoCCFmn4xeFbibKXnn6us9vfQZMhtIePKM7kaEADah0UddHVuMJBQ88c/v7OHk3+8LbeASBc3wUwEcqsv7CU3rn1mjsWDWOZJyR9m71KHqaFR5Rf71FP+EG4N/C7yKh5i3jZY3u/daTk36cI+bAvjk22dcBD4dVexQIdD996sNAEpCJsuEvC/l3jY6n09/qJKBJF8waeu/+3OIakwQABGwAAACwAZ9MdEJ/A5sRVe4Ba4IM2a+uhirDpbeQn1a2BkayCBYeUB0n8Yly/U2zpEM38an+KbXCa4qA24ZQ87HXaQFlWF06yg5Mh3U9/cWPHDGhqrgDwisWuYBVP8Z88T6/49eircbnwCAvX4nqxFRtqORZot2FdLKPfIEjKaxlHctIDqdNPkO23qT7Xe/mYZXf+IPFmgK9loI6tPYBR/mn6FgW7GRb7MUSTBo2nwbQL9O6AVMAAACqAZ9OakJ/A50DjOmAIPCdbZqktCOVTck6LW5Kcn0YZJKZ08e+tDTqT52FnpPqRaYyl/LIxQeZwQAsPkpvjoC+RS65VJ/wG+AxZp/eu6nt+QR7oFaFhWOfsCR5K01HC3WMtagEl7l+X1cMfTcyMLex8E/4RN3UFMfgEa1IQPo8dGHsv1jKGWrYZFpEo7pRPZKXeKPuLAQa4SE4sU0T1xLtoeaAy2JeyNUAb0AAAAFaQZtTSahBbJlMCGf//jhAGy7W93EqABLVe/4PHWfuYqwWtprF+8sgW82kW2bOQ/Uwhr0aauyyfMunN/UjFIS7ynBf7DvcDDe9t81nFZ5FRPUTIGrmcfOwahJ/oZl6NvfroSTyEg+fDGw70IQfu6ReDzi2qQd4XlVu+8Q9BHuvsX2c1rR7k2gTk7JF1hHFw6UoE27FRr2wfCxKFiLWgZYy+4se55CmP8Y5XEwWnfPLG2rgoZ6SMMeGU+AskHaz/FafzV8yP7l6Z19Klave68sq7ZtbRpRx7ojfM8rf9Zhsg6gBGP7Y1ReCThyTHi54/J5t6Y+QJvYlUnMkMZu2kVEcooCT6FBgvXZRwiYAoILgGYMs+rAvRLmiNp0whzSd43KjxGdmBUvMWTub0XypFmzz8Qi74lUE6Z7i2bJIR4Fm9OWKif8hkXLafWZ6y7VD8/tjfhWx0jvsw6oHpQAAANZBn3FFFSwr/wILAWFwArfb1pQ4j65s1geSbSXcuEACFU0hWn1+YMlYRIafSYz/cKPF6hiUvNuYsW7RvN20lWCPLbnJI77wNfEjb8uzZ7rDrVRCsGhBX14mf8nLmzBcQYmZKz5vJzz/ZpA2thY6lpOpisqx2Hc8PSeA4vufDzbCdPfQbemK3NyRuAovX07nY2m5ImTAT4qUbSF60s2JxXukHivtwXub9a+i91FUWW9Ej4SXLHx5Zwe0PAtjgmYB6CqEpARk0KHB1+psT5WzzFh+m0GMANSBAAAA8gGfkHRCfwNHg7AwAHGDAihTj9AfEqj1j1p7OuR5Rsu2MhDSGBRzX6FX9whWsw5ahHkGGK0Y3A61g86zfYUQvE38dSUpmDvlOHXfHsbCqFpGdIbnWKipFFdWorSn61dqntv8cKKqw4U4w2SK4+ciJ6IQgGiYSAdK8qeZd1PKe9WrIG734RtIntKn809ByzdN43aOOSQ3HQEZW3EH7ZWhMoUrmWI7r1lfXghCb864P8B2MiiMnIuY1lmTZ9ohpEk4TcOi5NUcFw8njPmZG3K1tuDxE7qL/Nzp5LQxVIA+EIh7bKGUJKnTTff8+a8jiY5CtgFbAAAA9AGfkmpCfwM1wMVdUALA3z+BP/D4AA8oAd9Z1rmxgugS5rh8m2vD57hlu21CK68zakxu5FIoTHfZnd2xIJ2afkT+POhqIZu/K3Qw31I16KD0wbJWkiJGUv88e58lbqvXrI6S8hEeSEXS+bMlecRReexbdnoI6NXTR2l74i3myh6eSbh9OgxdrhCjaBQ/6nw3AaH5nWeKLEk71Bx0VqOV0rchjuexR6ybElE9Lt++TvXAYTx26pTLD9pae4YMQZK/mxRTCjrx8HvrGuKBEJl6CIQ8Pdkb5QotLXZHugVsTPYcPNUyCdfcurDllzM6fk58CP4AbcEAAADyQZuXSahBbJlMCF///fEAO1k+28uz8I4kltXMmZTphqvgdp/PFfDyMkEAtAdVQe3DXc3yNP8awIujoPUJHznLBx7DlTCfdbNoOAn10J8b2H+u81I1JAk5GWXvN9ZvLrQUYG82FZtc51Qrn8jWk+ObZHGiklWtAvBN+0K7LZYs27H5Bp4m8oQ7chjFj8TCKrFjsiqqtGWpiBHvZW/yOYCzT98IRbcDOmpzN3uFQTOiIxQgt7DA5V/bhnXRojNbzWJQDpqnjaWwSfh2R8KS7eJxXsSg73Twumb31GEY9AS4bK68WC68Gs7zRkpm49O/KRs1Ax4AAAEIQZ+1RRUsK/8B5gJTLTP2jk3wAj3Y3xW0y3ucPEZGqnQyMoMAqBXZDvlbc8BvUjMvwGJn7c7zcJpNcOowLvI6K4HBzdgIV6FK5JsFu4bIyrc4RguDDUUMB5c44HAvXmUa64doEdoPPEEQFV6DeDMHS1RmiQ10tQ9ZjLL8aIi7G4vb5cDe2y8LiwFjj50jpW8xQrUl47Zsqr4In4//BJ3/T/KiKX21VUGDjTh1ChpC/vilBrR2/0btmklDXYVAgSuxGnP0E3djUw/oW09MVt1aIB//wuO1gBqR+upfoorbhPxkSIr1nBHkeUILg5r//xbOMPNLjIxB9AAMi29OK3kIWA9H5JPUkAb0AAAA6wGf1HRCfwMLhaKabhmR04AbfaQ4MgoqKJZDSOafqkOVvZId0vA48Buw0EmtXVp0L7h3SHgr22FIXvrM/Uf6EjBBA0IjP31kO+iYawY3lI/HtZy47wwnn6nQ65DhS8fokyoQ1rVN7vpXFXUVjrSqY1zei0SvCWYmUXtqfNJXKm5CslbGU0WVAwI2IZ2k7ZOLZpWapoBrBkMhCAmcYf/Kx+ItMcD3D4FBXylX+ZQuz1QgF9kfhzXwnPEGZUzcHUjEtOstRdN9aLs1X8eWcna/txUBpQznThEfo6KlkiGqZqVhA7U7KY1g43/8Af8AAADfAZ/WakJ/AS2HncQDR0F5Hsk7mMHLj+K69zFj0ox+z6IICwkZBY3NVPHZ5iT/wDRMkkvu4twW2VxrU0qFj547wIdinhvlayoyvstF6b/BRS5VcQH+zjWHEEaLyKsrcTm476SRVt5M1wTubMwnCucO/AkUrEBr++nfBNevVuCROHGLvMTRO3Xo5z5fM7nxh12TIgcBqKmT8B3pLREe/Mh1Sn7+cdpOtHw0MlMFZeWomh0U7pqpAXAapdERxqWwvgQXQFOFiL7zCF8GSmBjdAW4WCf023oKFycz+W1BV0fBoQAAAPVBm9tJqEFsmUwIb//+jLAA+v9W0L1l7QGZKAKq6g1r/nbuheLPY/ydc9PWIHb/MyJPb1MufyIs7ptvXaoNtGeWp1rPc6wzYW2rVn5yMHOXu93Whry4FukJ3vbPM8JHB7TslIujqS2TqU305G/NkTnTz8LSQumVAgyZ5l+HgjNQlZqvBP8Dv2otO+YaIIus3GBPWOOR8tgVLmpm9IxThxvd8nASRyZ04U7nBU0jGWsXtC8ofejpEh3q6jyzz0i/3y+JYbdfPiY/jLlZ9RBXK8uYWH+Vdk8xy3sMRlTXFB8HSHSwd6cdZZYLJgIDK6byDc9VXPAz4AAAAOlBn/lFFSwr/wBSBKe/n4ATV0WF7WtgxGdV36e3JXxdpArha0H5JZmN5/zpTfa7nC0q+84iy1PxmP7yzTj36h5nDTLVASbKcdLFDN+ex5KnUWW2bYeO1RQ/QVYfQRSacqIgyLmBsjUfWM4lKXn0tAaROK98Kr98QTgNI7Rk//lkG2iOEB5UDJ32ECm1ErU5LlQ0kKDIge0Znd2nm0Yd2layCT0IASmlCnHHNKZbDvz813buvyjJKSIhSrV0MVq1UwD5fCqEFcZhjWYNqmhwencFBwOZyiWqbCbecDitAHWZex68XvLLIkAI+QAAAKoBnhh0Qn8AfZ8uzJX5BHnBgj/FMdxhOSt+pagYZEQABO3Oypj2XKFy6DbaW4JdNc9b6DPVwg5YG+yWXRg0u49dECJyUu9xepZLdMA17Nt+Minr+jkygjZ1cS58L5gpNA8szRFU7MJl0+kmlwX4Xy9NYPHG3m9Sze8RSoxnGQx2j0qNYBsCNMeLGUI/1zYxVcICPayry5MdIhWcH+EGTZP7UCawW/MmTCAH+QAAAJoBnhpqQn8AfucMRZhmBuVjgV9n3rRg8yX5xs/8y0T12/D9ADj1mPxY7M8x8LQHT9wbE7Nrk8XiySn75tBrjAknUE6UBEe/wa7Y5w+13pWmIPL061Hqd8kny3cfJsGbd+M6Z/JBYFkPdaYfhCToXzIjWWzIC+Fmy1SOj4X2P3JHl8FHqEtW5SWssArIy14I11aNaESOQiET4FJBAAABJUGaHUmoQWyZTBRMN//+jLAA+vCdPRwHLaMwVw3AgBs9V23AGC66BABimKQYhkgszDWen77/YTUxm9VrzLcfR7zcdHykA4MlXMlqw3PKYibxP1ALvy6lGDR2qU0RJ2L/HsHDsulbpbjt0UtCkF33l23v8LsOF1PecWHQnMnkVTwkm6pn7XvPC9dfnJoD8ge5RMKFprNjb4vhPp1L12vBvhqSy+3nyt3g3yjx5BKtRFjxx0R8wB1v4Hicvg4qTVe1w3TksGnWwAeaZX27z8IhMTvtSFDeSQGImb/o6z6Pt0ymxlgFArIWvj74+yUheAiAvqVd0f7CPMIS6TshXQ+osU85tDVPPEoWEXcv+Z3tSYUObJ7FvpQtsT8Df1B73FK7NfsWimpAAAAAlgGePGpCfwAxFiUFTwDW4jYM3UbIXQzmcWg75+2CBuE5pVy4Ya7mAAXBaMc0wtCUhKEMr0E/JJSQT/KZepel/9oBoUv0svWQHCf1NsabBYalIFnaWpINqRA1N5AJ5vMhmLZZPuzq5i7anZubuOh2GvPKh7CbvRiDpBrKyemO3+Ci2wzHjzJvYKtzMdGDSpYV7zeXHdAGBAAAAM1BmiFJ4QpSZTAhv/6MsABgMBLhbPoBNbCsCEDeH4o9nMIqOU0D/rkPkt2aA8N2Kit+zuF6a/jeYb1qmHeeA+eoPTTVuEj4oe314a1j4voLrGVTTMJYKoWWHsrAcbEidfZMEeEPN65J1otK2UzGoQQy/CTPddqfUrLf8KeK69UQkw27P0F0Fj9EnKRE8djImgyzbWDMXY3XsnUDKah3oTi9XhexMoMCDddQZy54ieJtAqF0FvqD2gkWAm8QvUfN5I2n3yve+S+jzYJtgYFTAAAAskGeX0U0TCv/AB5s9Y16WXJm7NyRFwalO0mByv7kLLRuf+hQPdmchCxGzZXEqz7wgAfyqTz8OxkTKDqNKPbVfXf7KRvB1Pf0fkp1W7b9qaF09CYfWWmOMRYdZQQhLHx7gj4aV85CSaYTQ+339AradLGYqF+7EJq1KmJJmk9PZCehGiFUAzc7MGpa/f7+q1UwRi2ROFKJ4w8rh9R5UNdFlCmo6aOxCvetixAigdtkGIgA5YAAAAB+AZ5+dEJ/ADD9PaZnX4ily6Sk7SS89ja9KGYXfFBUAHlyCOKMq2DnC3blH6HIVyFRX4T2SY0vvl4wDzQW9A+hLvpBVO85KLQK5NGD40H0C5BDKQomUDIoOPA16Ez5OH317cIChllFxjLxhR7rQcRL+f8qv3s+N9Q5Kb/PoBSQAAAAmQGeYGpCfwAxDpClpe0HJ6wNADpjA04ltfw1n8Denigc5Sj7sJMSXNE/VIwAjM+zlpjUMnEJuX1sdZ3d2wYF62eEaSux5JVYBupvA1/fz8mcw2iWRYMdqayWkwr0Of5C564Hpf3B7yDxQ4t/4hSy9bqSHJuHubeLDythbIO0PaoTg+OmPr3QBeIsCogtrXCWeWMnhi2QVYVCLwAAAOlBmmVJqEFomUwIZ//+OEABdeTzdamgvLAIzjhMCMAVwPfEb5d3/oLIzNMwcR3DSUgx0cNjO5vZOKNd3a8hrQHvKGnPUNr64W1D5Wc/zlE4AMeDsLpX9QnGV71j8JRPmurWs7pPlYwkqy7XTXuU5l4Ef2VDJ9Y2tVdm/a1lmKf+b51vVg3E1heXsDgFbZVDjAyS9b5JaEEEQnEIsmOWzpmCgrQmazLUg2voSDvjZrtKmPSE5o6GisRFs6jlOmxwet095bdXFRdNcpgOMxgG/wIb1eOd2d6Xx+KWZnWD5U1SKMaOs4yullkzegAAAKBBnoNFESwr/wAeX+jHkb6QTt7kEZ+5I7zgl4XEiADgxU7aSLD0iTXY5hvVi9gO34gaNt2FMoPyIvmG2PQcMcqUVJ8BNpFIMCnyl8Nf7o9djA6aRX0SkwJKTEAxAJmtnz4RYojQOsgrd3+wEojj6K8Scncoc1z1bo+yJh7fmAqWZ7YCwxPofpWdekOlu8+x3O0iZomsQecywrHdRS6sALKBAAAAewGeonRCfwAw+ALEVKtfU5n1X+fF6t44bUwJ5JAStPrg6Oq1pt34VT70+Mpe3FdYAVu0V+CrO+DzG0T9FjgAXFiH+8vT22NOfP6bIDObFBP0u9pKFn48TVKyERpdnDCTndR1qd3234VaaRCb29eZD6SmWGPajnJMNIAEvQAAALUBnqRqQn8AEmEOm16DewPNDsH2V+5+TLgl+QozfeLpQAASyHSD8xXIQb1rF6l8l8kdcjG3aNbIQoRco6OMf7hGqjkOxug1rlRq1Vm3wegyUU2u1i5NDtJ9PVgo5jFVSsYwc85muvfYTFypPdjS9DIp9W79cQpekayM2dttU21oIsps3JwXKfijOUU4qOh+8LTaETIeSHTp8GG8JS9vg5ZTQjDmKYVGxuI2FkJSGFotIwgjpMfMAAAA60GaqUmoQWyZTAhP//yEAAg38xaBAf44o3w34//lseiWZURULZPCeWFRjoD22rHqc3YTcBXTe1dDekZH4nigIfnbV4sDuH0NXQDXShXry6LKQnIuQ6OOC53j6tFX/qvyFdua6GpP16BgoGQWRTGk3arhRUzRuJvg6VDKBvLwaAK7xwB1/x3cstEt0cI4h2S9TLf6zrHMLYvw3nurhGjeFn53+73ZwUHuvangdvRHjxe1cdkJksmvSpkDQ7kfSSGPK5wF4su9HYnfZ3k/ds2d8ZRZt2gEaWmTfvKv2G9VTt6wj3mTSDPEvYsWTsEAAAC3QZ7HRRUsK/8AC5/X2Br2umlPu/Uey/eBB2+T5rxXS2GpY0XhavdSTRUjf1z9X0AG0DSoGfmSYqjONbskn9OQdzx46mQNK1cIjvdFSs00KYQm7hE6FofupJ7oRnmGP6MW3zCVALk1x7KQpPMzeBRZf/OidPzUyGNLnf/haOxt1XDzm3gIUn0fli3kiAATu4k3Zpsv3/naIiALVHXzRdAY8/hGL9Iej4UO7Wzn9NCGwkbJBnz34AP8AAAAuAGe5nRCfwASWDqdjhFSJvxEO5gXqFYUXashYvuxvM7+IATQuswYoFd1LPgyI6TCpb0A3bI0P9qT+591DOTff8SkuNeUzBzsZDZzl8HrHizhKc1Qkb47RD5DxC6ZgrxAmt/rHhuWeglOt49WuqQlPBKsnJkz+iOlvjno5kYXzYFPCYicKax/A/2bOp0zxiZ3YL5DxhKwVlLDFezKvhK4t28V/Nb97PijPmhD3auI9qCgfzzUaoLwA7sAAACVAZ7oakJ/ABJcwimHp3qGGIqhHdr0FR3tvRh1DWOn/UafFIuU7abuPsoj/ExN0oGCc59Gt6nczvoIkTfzELpaMSNre6vop70fPQlgKW421dNkZmak8ec4RfsJUg0L7WAwLGOKyyqsuXx+3ls4g8r858IJzg120BINH0vzh1ZuhSNT7cmgBLrn2ZsfrDaHJCONFFzwg4EAAAC3QZrqSahBbJlMCG///oywACQ9NtTPWLgdDrt8ZWZbfdrI3vg1RTIC8L+A7TfYKRxiIRJYF/+1A3x1nA/xi1BeubO51bnGqiw8uGuB9Bv0S9LMbSMogyC+3YHNTgeKIRJ3Ix8uHCmPpNRYMkGwHxjznoJVQ56V8mh5HLbdWzpsnP2LQ5gICN7eDnc8PMkl3/HlvmnbmdkQbHDX5f9eOiRz28l3vxIiGtWefULMJBR3H1ZloMr1wB1wAAAA8UGbDknhClJlMCG//oywAA2UnWUYVfmKzgAGjed9ji9k7HiL3WwnO/pAvrAkLaENfhqwP2zBhSc0g33Emfmf1XGkQanrOWpu+t/bwWfAXPMmvy6hz/ZPgrCxLrLMKZOtSPvEyn84F+1nqxb81vE7YT6qxVS0sbXOxIocLm0hG6QOyu7mBKJkSl4tfCdLTse7wQsG21TWGoKVfJF9xLbtJDhZvI7fnhQqh9tAMVqSxHZ+Vs/tj65Sl4rtsQnvv2/6F8W4FTGDO4TyGxfCIOeJ0NhcufR1s9jgh+Pe9yeDmdTy8BXGEbZ8BbxTpWTzLwqxbk4AAACXQZ8sRTRMK/8ABFbAJR0aWA2K06bdLeAhXNhzifIJs9yB8Oeq8U6JHCsK6qgYRB6HKkC9dxFStbWEdjuFyMJy1RpYak9nNrSxWpELiLRnI1n10HHxOH9XAD+6dW+qZHzFj9nrKPSKN8+QQuJIYSgLd5ppr8sZbJie0fucq432eufkMZUwQfDm3lvwmPPZvCoRx2nDuRAekQAAAH0Bn0t0Qn8ABuvhTztfxkFu9HOjm0LTANkbWiIsM3V2ntemUyw3psAAugP20zWh1LvTTwGTfvyYGoIQzTpIJI+YBgIYEn+ELe0dGKnxoKK4OBkSQQYVwFitnp4ojZLI/YC9dzO/CVesoFLFT4aJ0E3HH5AHwN9HeGIHOgBHwAAAAIkBn01qQn8ABuknbNjUp+lhi3AjrQR3S9GhWd5AcBGOktdHRT5DUaws6WoABdAo/c691weK7pmoXtEQE0Ut6zTUMb75ks1EmnDqcCPDCXR2ozdgT/oKrH8v1QHdKw+GMtEdMbkrNM6z/Gx/vgo1A60ZGxJcgxYvKxJcTmTrWGLZDkNwSSSKQqhDwQAAASFBm1JJqEFomUwIZ//+OEAANPv/SgjYNxrEiSSpOWiXfXNvfe39CQAvc7CV9eXngv0zvtvp0DGx01q5S9bXRQM14PkmIBMtp6enPT1EsbVFoDelb+FSqXs0slOt0wQd4evxS+owzUrurOcPJb1TrJ/dNsLz6sYmaxdC/ac2rbvQquhbKBgZKbC+fhHAOHxMVwvHTrz2OCcTibvf7cPX+nF+8ZUoouVf1TtgzNfz31mkblia7YqmR96rqvzwborXij50OOw/yfkCLuDt2pMop638EUVC6AtJ4YA9+sL/g5LI+ArNSwDnB+2FuEAy/znJW/XtKCQ779mdSuvkPPFlkLcCfIBfwKfCxdcqfx3F3qckfxqUA0KVH0BgoOgDMlNsa7UgAAAAykGfcEURLCv/AARWwCu8fYPQAcVlusT8P3gDW4UXfVlfdrx+BjiMG5XDxL9NzC/qtWQ6gYAwBWSmXbhayMDy+q/8USJmR/rRJwNoDt2JKMOEzwJLL8j/CqoonDcv7O6hTcHYTkaHj4uwZiXnjHN0NduhvJEensBJfbGFoR8edAGpLNd0Lq2Act6xcFvtJjxszxAp0n+7C2DyQejjqWVRU4nQu7PCoAvdmQVCEck52EYM1Kfp/B7prt9rSZbAFOGicOwbKj1Yn21AJOEAAADHAZ+PdEJ/AAbr4UZJ6Cn8vcSagA3Xaglm2GU4p98T/uhTsUTBuq1MRy+5PK1HDwuJn4g60K5CLK+bA6Ol/nSIwmmEaAyDDW/4BKs8TW7K+Boc9oqLXWyNfpOY/+OyANqPB6fjBIc9UtWgjAHiC2udcETZSwUzXnZI/eWSCAHUI15Ag+/p6pmS2EHd4iYL73JMljFQWFZjZvbcSjXRGX3oW1PgsfPIvnYKGRjMhYBKp2NaX6uBO5IS2wABgrnNRvj6uyEYO2AOOQAAAM0Bn5FqQn8ABufbGySrBPgCt4Q921wbA4xp3ty8gPXw2ncUV76AniyF9V3B0k89Yr8Q4XLboTMOICZkgeMUQC2R18BxrY+iWZjGpPLLkFqpVmZfc2JvQII98ozkA86sDo0z47nuGKS/yuLv+c6U060UWY3psCnsy90fvydrhX7f99IdQoasYO5ie8lzqZPAtrcDvTkkshUOISKWZnzUKULFFZLcP+qFTgj/ad2GyiuYZ9dNhN6WWE5IMRUC0npnHUmct32r1bnXG2fCiErBAAABEkGblkmoQWyZTAhf//3xAAAw7yhougB0fbZ3ucKj7QCgpv28xzI3fbDtB0NSUFueDxlTVIwRkMRR4D/IswCJes9Smk+3PhRECzmcJYjiRIlxHnEyDe+gj6TyZUs33KAYhX364dRvLvTBO+P5TYo6OjCct4aFjTCxsLVK69ZmBFsuT+pQYUa52PramXygQkZZyNSMTe91QZi4HL77JuNAGlMmFjSKBzk+EkVPwif7bVyJ+UPBiYNfmGXnN7fSpgZvLV1H0VItbeKo/VbdFLfJZtg8TlgaYcN6o+cVQ/O1NgFGOABeS9MyyhS6miYtauDV3KvCIGS5A3OnJVcXc8cSjMFISnSYlnVHjy9uMnZR+MRwm4EAAADHQZ+0RRUsK/8AAaZkCUdDgI93Ik61eC4AiQMbfVfMDZQO1vBOTrUQP7+xrhlj1lrEffb+GnQrbN9Ro9x0Pq/usQQwhNAdjE9p6etBtaZVjQupdyIH45R3YDD0kWelRWBzwvTqwwUPCgOTtKpONRYjyeirz28RktX8BtxzTOX4NDE99EtBCkLeuWlPRrRO3EP2ARKEvUSPnNr37muR9Pzh5jqgkb6ZVu6bb68fAewXAR24nA9fkTE/BEkLOORp8BTb98EyypwnYAAAAMIBn9N0Qn8AAqJIp52v41PiW/34ABArsshP268q5bRY3SjHayvcmMyWdAsJufF0Vigff31FoM5M1gJOWr3HO+JpgoJ+/K5dDgOwIK169vcWXkzqk1EJoLAPvvTdS5HH3ycP+LL2OPf9YTr+8TdzTmDHdg0u8YaayBIyQAeC5cs3Zhcl27zff6yfaJppZwfvjF8RwqkIjWvwcqsk/oVTUPVFjS2/Wf8Da0CIM9ZmCAJZJzqlYeISYtzypCBprO5kh4AW0AAAAKEBn9VqQn8AAqEmp2N0M1EEIvbx5V2pX6qjrwAllP1hURTU6SDhiUlPssF7Jt51PDHNeOpAkS2278Nl4ErLXn6AIYctUlu+6IeRZ+TZZnzOdNBTangoaWYnZJjyLTBHxbLrOZuaxRn8nJ3y6yrUrdWOungigD9hLvVq131bbW1K4nyy5/Yg5NWje4JP8ULmL6nKtRKxonUn1pCLdStamq8H5QAAAKhBm9lJqEFsmUwIT//8hAABLvWx/5iCIAKYwbKserP6ogkTdDCkaopn/YCipKIrAbj4hAC6i+BWhcETuk21nxbmxExIdNKR+E9EH1pKUWNvSqh37o5bL1246365ZzOfQtgZbN7B6DC/6VOzjxREEr41Kj64DTYGhtIGsTpflJV/uRj7m021IL2Wl38hyIy6nc3L1AnIMtZodQToa2x50mTMR34Vj+B3akAAAAC+QZ/3RRUsJ/8AAqHVTD9I5qkkjl3sm0hR97y/3HdCdMCB3u2KlwAWINbIQ8NEZdWBBt1AEzvXGR8YH5wUld9k5d0CCOYw84N52bH71UQsFCmXzeI6E0P89qfuKd2Je6n2EgnVDAFsWa2EACIseR4UM9D9kt7b5MoL48yPHbtwGPZFL+Fwz2O6UREPzPDjn+pC/JLkEZp+40hGCmyHK52+2UUOiXgEpmKMhAjyuyNejdkz6nK2hByWZTOWPygBUwAAAKIBnhhqQn8AAqHVTD9EPjI3MgHzfhDntxqAe2i33YKC7Al2zsgy4EFIp3rhsPPpyYZggR/HT/1VZgDi9e+2bI5gnfSt8+QeoxE54lSb8tpE//cV/+TQqbyeKqFFCF9AHUCONfzPEhO9aWDGqqunLqatbmbfmaFSVgq6G5T3xSRpL7dLRNnWDD6YG4kYqK/uinn103Ko5N/9hwXsy45wLtYA44EAAAjXZYiCAAQ//vdOvwKbVMIqA5JXCvbKpCZZuVJrAfKmAAADAAADAAADAtr0eJM75NTxNgAAAwEHAChhUxEhIBUDSBlty0NHN3fTwD3GHg/gLthR/qY3LrEHmVHeXO4wI6cihXQhz3QxuVLLjST8bgqHnc7yb8AfPCF2Ff3su57el+aTnKKn1mJFlh8+cga8ejpdZcN/sAYAdG1eV8rmxKrt2BitNuyTtaE2qZthcrGBvF8HFl/RYFe/QOO+Y+Z1e5+6AFNjSIJGMcp4IaNDX054VGMUOcLZeChska6ZVvozpMsVc/djQsCo1ev8BJCmbQNuQJSBm46oJ1hktvTVLXWwFC5O+p5IIp7WsWaCHbzxv+Q17u3pNG65oVlvNfyys61A9uWN891vHgk73R8ImRqAeT0GdmXBQOqXqHDfHAFtZaiRiWeC2BqFVbCYPxbTkFnd3FAmMn/QsVqZ09g9I0M96pwhnIM5jXJShjJfIcJeDh4h5DCKT3AM0zl6qQEGbHjKZbmYNIYYz4rHaORB2185dm6u8+ruZqpVe2V6ekJWCCA6/PHNGcdzO/T3+RnzxHgkJKGJIWJWQnPbxcszDQ098LQXTYkiGZFrbBRnq4n+s4riUmPvWsJiGv6b+zfjvC1idpJ/qZmrTEOfLNwKSjzB9YH+cWPkcyZ67k2il14xJpT58apnb4IROsIofao14T3yl+qrbAuAryj0nI2A6LWCuU8GxEk2b5pxzdZ4vs2cYK5yl/IoS6LoB4z8b3Ckq25zXX6Ay5jO+0lPGBdhbSPqE7E1erEW93qlPm0BqQPspPl37pRKbBUWYe4gueeNkbKsnonnjXGXsucysSai8X3SzGmIn+4gApkSnuYUkl90adxYdI3y6JsatPn6VeIXvjKD//9kONjK2dRMU4wis7AntMNwEyuD7SQglqM38OSPrgiw7SCRv2MZTUhr2beyW9NKX2vZ2J6yJ97YaGUPJGk1eB3ELga31+rjgWsA4Z9hhrCi+j7kMyH+vsny3fL//8TIk14Nd7GWsnUgYNmkvXy9xcDAHSJLoiDWMIm7VvKErG6MhWGciCXXWOzcyRLg/RM31Aw5TTrb7BTGjkqNeF0YkRN89HoBpyZ1jIODxVSaQU8qfIDgtd1GpFHgDsKw3z/go1T5OS4oZcCOup69b1JaDm9NUJSM09hetWZ690eKjc2tqHZxSIP+VKcWGgOLZazBhawe9BbUiVXjHst8Ib9AXknI2AoLKj32fZxFDvHmJSe9OJuXM7NL5IMxmYJPej/3FISFC2hjE1qvvHIrt7EsW5sviazmLq+Kv5OrZVZ6JxIag/ki42MnDuqGXxnTYX2tS6Rcqp4iXLy0rut7p+RW1FlGwbrKRInzxjy3HCG5en3iiMNcM5A3Mg3Ws0oygdRxDX943MwZteR7BZ3w85UdvjQeMC5CrcDuhI5cR4pvEOqvW/MIk5wKd2r75sHiogWgBkjbRvyFXRkM4EjU6WK2kVf7P+cDPzoa9c1nMoorVq+tGwv6fPzy5Wp4OsYZ9YfGeR4rvkmgiu3Y0WNwyk3N5v9qumDYMlUz4xzUb/wk2yz7Sahtf9RxYVuMpJgkeHWR3cFFz44yogGREcfv58ybh080awcdDEsYBvSge7RzZ0NMNvPY9EJqefsY0mdYIybbLp0KBq2qbU+puz6GhIxmIFc9YDiued8vkd0VVx/rSsLwknqUXI9v3vbRaPjQQBd/ly4Itha2QaLrIox+mYNkKIWWMAjgsA7xkTtn8bCgaA0Pt1ZHCOFaHiUTVLuI5/flCeJ1zvn3sp5H7YH2UnLJccAToXlf1oYvzd+EUU3fvruzlud/L1n60hJbFRXBL5xwzJT4tNa0NDt/b3FoPgiur9GNx5jbI5uIvlT/2fVdBfoKj5KNVEHLNm6t11PxWMU9TGK95/RYIYCgInxhHgrEUMyPjOvgDc8UKQnS9NNu3/bUJKnI7JdNDopCFFS9GocXV+e7V6NW57w7I2wBZ/4PsGsfElleuLAT1G+WdGIX137hOysZZiWiNmHLxjkG0Pnh+Gt4xHgiTyT9f+FiVPBhAaFUQOtv/k/3cu/uJmYuO43ErhbYQhsU91nSMbqZtHRP6ZKo8tBVx0DNoKBBf9uKLHZA+6Nwr5MDk1a97xfq9HnkB+1fhhCajZfnugtWD38J83XE/1d9pke0aTSlqxTRULrtxJuuX3lApD/7M22yBT8WWnDmbpo3gunisbP5wWg0jf+gYzAbASVz8mTgP3PGp7f6KUl+mQ8qqWMtzpFWYOhKzoNEdUq50qX6+Zr1f+C7tBiA2KHGUR3GfGyGrGYE+sOrr7uVG2HUxvN0wyC4fsiu+YywzdHTzatPN+vXg6d7BbERLdWQ1j2s5uQG9SiRvsvUZpa5TGjezFfNDrn39osSg//7GIg9hkrEvITUxKlApqp54ksSGAaW8LakT/zQj1GjqSl0ePS0a0wiC/J4APINIqo5Ls/qywxr0PmAQypRopwWcNmbZJJIdLeevcArqS+qjGrPr+PgQmF0/Kof/+K2FZOprepU4CYPbei60OAyMd4+r5hAxA6UmbyWbFC+oqQNxyYNSy4etpPc0tD45Z2SyhxID54M3UtfjxNVuBjx6mj5f8v6rRhGHGDPwlLCwihv4IWMUHdrQjb1z+u9tRoaEsfMtgaaHPHnAL+uu26AJxNK7D+rTPMrVqiFICvEFPwD1i4CVtP5TwKre8FZuG5mdB7//+He5ScUd5hGFV9/IvVxpK7CWIXwK//5ll7mORTak+MLWCI6SQhMv9/cmwaGsV/qp9TohlsnZ7RgLy1abg1zQnoQfCoEJEGuOC+oU5xecwT1HjSvzGmLYHMk97c4Y2Eep8qU4+7/+7+huv/G5keHNt/UsDQ2817ZEMCvkI44Gl37llWXoWo/ld/6Si6c3o3rU2VtHxQZ/stxGpSHNHoiCoRs9AAAuXpwE5KlYjE6wyspoSRuCpwSDzm+0X2TQau4AB2mtDmHtQAAAwAAAwAAAwADewAAAO5BmiRsQ3/+jLAAAgPG/xz4U4AAKk0O9Sld9PhFfyuKIdiO/KyGob1Vq4UlqEU2S5rHDD6Amnc5ovJPzQ2Dfur5sTakctchS8wTd88Ot7+pn7jo6mY0pcxxKymWuW8+uMid2RwgkbN+ZCO8ypWDwCpn4RKejHhNtc684cSAHH1B9lVgPNgHkkYEgCc/RyNZbetJYK08luqHIACchDL19SkGpqAYCOK1EYbyh4IrsM/EhVKPWX8ELQdfuf/fqypHpCAmJpXld///tesUl6JUkCMvUAR6oPVqukP3Bn1y2j9Ha0yH+NdRHA5O+TWoILuBAAAAyUGeQniFfwAAqHJc3oUkOZHFiJhbkQpUlUEi8k3a5EQb4rUdbzdWGytYILb7fguJbAAON3jakcM8t3j2t+JRHIJfcdLh2aOmUs2b5tMPM0CU0HS+BmngPzCWE2OGDfWvigHX56Qrl/qFehqlifhbhMvTAqJH7YvCAUMVS2ShRm/siZeiLUPJubZXKVVaTuGeB0fstr/nW8o+A71k7IT6WCVFu/YX/RFpSsoPTb0PX5QfYB52AiuHnR1bG9eSYNszImOi8+2r4JgJOAAAAJwBnmF0Qn8AAPe56lwN3QAfZvPb1vF6gQ6+Gt2WxPJ7BhQbeH/RUiVC/hSRf+a9RZ1vBWTVTSz4O5RxzryLMm3tVjZ9Al53oSM1dVqJYyAuVkYQNUHWrRH5yYwnsVALaQVIBYxsGysY0Yz4MK6VyCkBdZDYO6dDIPV3+MAYaXLYHZyMDeLfnqIbjqydKkHYCp9K82h5UD6/MvnYHTAAAAC6AZ5jakJ/AAEF9beNRs1vs6AAXQIp696TppvXl7BOp3cSlx3q1cyUQ8lTAcloUI0C0d6bGRySexR3EnKAHH+t2C1YStCqmWE2LB4W+mmRJiHKBzveyJ/ypd2yL8WAljPvK4ebH5sTJQO55PsbroV/eA7n6xFIKTZJ1Qaq472I8PyL4cNkGCu7chuc2xiWm+lbhPH8Crqaf9g9TSPYF9Zo89teQ2vUiddu/LIBB4PMpsucswGgQjhaABNxAAAAzkGaaEmoQWiZTAhn//44QAAIdxLxo8RSABONdiv9Bmvvhmw0btxvB+0GyfacruYC/P7voi6hpqU+++nQh+3Akl56Ko3+T39mPOx9fKuNjr7bOHh41HhuLQydXtb+yblJe9cEe9oPKWUpLwLoS51OcqG/kq/gMMjT4SxJXTnjxNnb1dbn3nXSr1yFbXBNnu2jQkXThldG9RanjDz4CfV7iArPDBaIb11oenImDDKH7K1zqD81npLcKLR4TdK2EB1pBx955TT6a1TlO9X3eAR8AAAArkGehkURLCv/AAC14kwuANGYmoLcmMZrWcSUb7uAtGPn/Ovn7lOdUZYnq6GoeY7u8hypaECd5WebGFWzVBiHo3KEpMLQPFi9n7bmjyN7DJsvsOP1R7JW67eOlRr7hHc8EyyzQlfvkFL2E8dn0HA4qQ440d100fuPOcsg/wrO+idubB4pz8YPW+X9K1PiTpXl37Ikq01VsnBLOb+eAV1fsF5K6YW44dgc2jkxy2AwIAAAALUBnqV0Qn8AARYTrxBQExYABGKs/dUKsrcepAyz/cGvWCyONvqUlFXFmXFV2BZ2UtJxvmcT1+XxwqUi5pvEUIGfD3zZCLE67qSbGLZlPH3cmoTnXysi6GD+4Atd8KqaG6Mba2erEMdMFrzY+jDaeQuAO42ca3CtCx5DWgO3dpvmXkocg0YE52sQHc2RGbWBkI+5tTpAi/DM9+r/1YMFgbgFUieAHLp4T01ugQUrqATrFHDsAB3RAAAAmgGep2pCfwABHfiNv4ACCSIZ8+w61Y1y9XAN6x8bfsew/OOzHSwaSLi70ipire4HRag4E2bKkg9yblmOh7BPyceTES9/7nhzwA4zFkeJDBtJW6Wicvj4TKbxGSsHHp1/bVFWE60LqaX77gUCerztEtq2abv8xd/KXSyQ7E8b3kG2LWz+UmG2cKVkZJavspLKR9EiqkG9ehDwsoAAAADVQZqqSahBbJlMFEwz//44QAAId8EVg/9Oy00FvW7DsX3bACMbt09awkU7Q3TR9M5bUx1vVeunViEoYsJQn+O7xNcs1gS83ZpRhxORbdv/lpQdS+fB1iUZjHAhXM3yNHd53SxC9rv1sG/5dClcKoM+A2TB1Pk2jL4oSe/Es3MSkkjbys4bH56X2o+rhziFMwJ0NWaSwQCySQdlSRsfbCHfDKy2Lh7zKUpLwWgtxCqOz3YE1bYOGDO4W/34YLS9dl/9WXCKQJsQbqod2c53YjxhodBf9xoRAAAAmwGeyWpCfwABHZRiGLv3cvkhF580AB95UWRgJsLSybrdgMug2W+Pz/N9OxuOrGozXY3SeasfNfgbAzmXMRflsRxSUI/DqOeVOcI81tjDLGqW0L0kjt6sWP9318P18xXfuy+Wzh4++dYCRC+zMElbZTL6LFB/l0SG6aTOdnBPEje3hoLQMp2pN4kyK5q7/1lmxOhxCZtjJQi0TmHpAAABV0GazknhClJlMCFf/eEAAAv+oaCtlJLgBaHkdCwpHtp+VWlXilxZKDGfxU+M4Fo156MLvXa00ryChVD6DCCn43OdW3/Qx1mhZoBVSSgkrGqn1dJDilF4t5MQgG13wkomLhZ+BaUfaH1c9F8UbXed0Nf2z5DVKmeZ1+0CWMW3QDhIV1Ov7hv/X++JDKu2nnxARiyFhYsHpvBjxtYsWhfMVPrh+hvJH2DEHtyxRMYvBRzg5MmLAUmujcLnhrjB5eqBr8Y8PotpFpBEQ7QAqW6GVi9Kq3qwq6lbDqS05SicsBvxRGqNNi6C8GNDQTAiLFDQC7lsY9jOPAX7qheJcTXc6up7KJNHWqYV2fUBzvXuHXgFIf2bV1nCe5r4/HQQao6HWUsUJgVb1wfZ/m1x1EnSc++zbkcXwZGuawP0CaQd+0tHerwHf+HqLwvROLKGgxI8QWP5vQUAm4AAAADMQZ7sRTRMK/8AAD+Q6yfQA20vB53pjUF4HS161cGOgvFSPXjviaxImtpeLGW9lLlyDvU0pknN+0EOIkif6hR5IFKBPV22stO6D8MQCMyi5eharvQUjZV9uwXl4nL2RVf5rrf2ftC/GoHZ6f9Arqs8WAHdx3LMlrddzQWV0M/arjBxZiJQ0l9k49NmQ4bI82tbuTv8DK3ZYmQ9qPrL3IUm6cTAyUQdzHDEKobVf4uEv+mi3idvXr6El2aA//CxtzV9IDRSUISigJOrQEHBAAAAnQGfC3RCfwAAZKz8CCJNcrgBbxLXrJyCevlRV9rrft08Q9ONAhKiZD1W5FoaY+8PUQvtTZrI+xwupCtXhQVt62xdeo0tqRTxjP3KwJxHm3hNlR/gzCRDntNDhvShNP2jvuerBE9kjEgjdksZ1fpX5tvguTJMfv22tiM2q8xhozVH50bMMJyt5tq8wmdpuAFn6AFynqnoGNDlcrpg9IAAAADLAZ8NakJ/AABnI74EuXDoPAANr5167VPtYbkgT0YAOSJSvw9tSM1xbC8pjEgQL2ht7a77qkrJk8l+7T+KHNNLRx+LNC8khHD6zgoFRkIgID1diFQYhEUJTleeCO9apESsSTH3UiwxYtXueg4WpVqkZzDI2E3rwJWhEH8Jz1HeiX0yyIkNC2csvIEsw5LVAsjwaMIaG3TC0TwB5k6ii5wrDCOJxEl4oYKxeMWhsD2kY27uvfGF3hWBB+Svnq5wKaFB18VC7WjislrLVgUAAADhQZsSSahBaJlMCF///fEAAAdz03L6F3zAAGTRxPXl85HZn9ETAJfzmwf7CtKBcVhhvyViO59uHNf4TYxpX19VjrMhm8mouutmPE6vmYZstHSUmSkoS5TFFWTySnTndcd0zSMNFE852UByDbHUNQsRsrMV3Wmumhh6fFWxYdtyUtT+s5QotBIBae/5cggLoMsxjMREAYtKkq/mjq5Qsg7ZSfzOwsu9yHuozGMas8qTziw/nYLzFt1ggg0+fxYUOItOvf4uXu1HJZB9XyhQHwABTDvUqXzmaaLp9VEnK46of/aBAAAAv0GfMEURLCv/AABDpRIAv9YUN5h4WimtgJxufmAm0EOGmvn34YRG6BbYqHH7f9Uf4r2MCeQXiBH5hGiRI/RVggB5AhaH5kbYNZbZWO11oBnoJwwIjEFwunbiA7t6SCkoCcnKkE2A5usXY5jf5IPrU/x3VJBWgAWg/CCCB2qzHDwwT70YKTiZgz91NqwCcdivXdeJevTktE00UNqdrbGcws4P1mUXjuQhnO+bOBCZr0IKs6fCPtx2YboI0NqtwAsoAAAAtQGfT3RCfwAAbCz8CBBz/QA4viVKHX88/2gg/Rek/VZ3a60ZK0KCy+710PBKSyutjILT2fjmxFToCRSqWwZYzlIKkkn5XaiaZeeGoqYHnTyychckqc1axqMJfJpFKCzJ0ZC3o2a811IBJ70vwOf1wxGS2+zwLWsbFZYnPFYd37BRNC29ysV1Syk9b52HVcgpvMF1j+0JLnmjKuE49ropu9glPvCyilJ5ivggqujnSw04b+gYRGwAAAC+AZ9RakJ/AABr/bckryPDsfNWVeW6+ppayVFuWpS66/2m0aAB+5gmHEjShptyySIeeP0fSHETvXes6kHx9UiVCJIVEw72FuhStcrimMUqbgl7XPLtPmUB8agmU7v5zTcACKDYSifeZUUHF8q4DnNC1FNXD2XwA8V8EfJrgJVLgHpuhrE7wO0XBP8Oq0jmJpLgJ2W0iD8M0fwEFPSKXB14sTNny+Ed3fsPG8Z0DX0gxS6p/1gn2tr+IJeAy5gCJwAAAOJBm1ZJqEFsmUwIX//98QAAAwKf4WtvHLcc4eOYDBM80ATmRreq4hMI1oXi3sCDg1r6fTsoBfkPbmrGTaTK0bukssRWzd5UXjN4rT66Q7ZzjeS0WJAKgUNPE/gFQWo96JESEqGSjAyHbIMkgW5Uj++F5aVQ+ZXg/+MGsTFcZM3LpQz1qiDcJqf/GpDxFPx8QDjLKctQz4JjXIFq+bheFluRCdDls7AHaPe/QDQT+GyfYRFI9u0UvH4c0UoK6Pl4kuaukSicZrx8qmJy2NZAa21a9NeP5sRY8q01VNmvBABI0F7/AAAAkkGfdEUVLCv/AAAYjea+UAlQARBg4BfNxW1AX7U6dbZ7ufXFE9BQOKHxxDlGrBui3hqZ9wY05RBgHgi4LiLBdoLw8NwHqpxPYYB5G6C5RAJaXyU+IIWq5kMPJ18buivnM4gJZgyQNTRi9IzmpxqrVqW/ZclLgzJPR5AkA4nMfV/6hUQfdDaVNoFlU5wDpsf2oKGBAAAApAGfk3RCfwAAI7o3LfWEPI8y3ZCvfAwGBqDWmqK3LB49GPN4opzTdCAC1k+/PM++f88TZ9r1xxkWGk6KXjPMxd/LqzD+MguhrN4OwaXwfGFJRVPtAttP4yFXkCFEwGh2Jq/5EWdyiGo64fa2pEM4iEeCBOkV6jBWrjjzJQ2HSHtbxDf/iHWEdwk04ouIiVTnaw85a/catD4XPAQ5Mo++/20GnAqQAAAAsAGflWpCfwAAI8jOe/ClCvLddCxhkgl+sVrs1/6kUqlYo9z7lfksoGV+4q9gU22cg2bh2k/Hq7+Yb9wQm03+neTYp3/uuKL7UbDCgUAZHcSQriHfmo+cm+39oghK+jsnDRRSl9Acfs46xXA4qU6v/j9huBtVFJk4NW4FPdG63SbCxCeNjn4woinWmEMZpdCGzICja4QPD3vEEs3URWvExWqos95MKl2Fg1eupjxf10VNAAAA4kGbmkmoQWyZTAhf//3xAAADAp8EjOSqAw2qTF2F+npd5Prxf2bCypk4wPYNerIHtGfBCLM8j4p33UsbVypBmGXHdSDHASpOGUZ3ApH7Tq7KRuTfg0eMhmGRjs+2kFJSuFKmDKazoKsFXhDYMR/daB/9z71GvKnl92J2EHaV1CYBTk6XoXP+kOTX+xwgZcVQ6YjrDzy8M021V6ZwUPkjFGoSsCWedYFcAGFJFQQ6vYnkEDefeWIk4tokw/6Ut51EkcWkeh6MgAkfFLiYLDZHHoiMAxb1kIffaBvxIgnj0azSJhUAAACQQZ+4RRUsK/8AABiN5qGVdtfippJgz3PHZHd/TD8MohKe70UVtX0yQsMz4jdlVoLPZIAcIhhbNv1xeDoMFR/knLYwaWlrl5X4pNi49ltbig097MVicM0JqWdCdYexz08jtVPQaqOMtyqZYJWLxIzyl2p9tF4N41S+vuj9bCcy8dmVY2VOqrEksRE2xYOrBcKTAAAAUQGf13RCfwAAI7B+KFnpMDC19hW8jrnjYU78iRFcAD9pJQtlrhdlvFP+cLsA6Nhd1a2NMPSwG5uG4UpFsv/oQhd154sgrHLvPQoiD/Xv3cKY0QAAAJQBn9lqQn8AACPIznwqXAGg8uijnIjCQJ1qxZ+t2bx2TACUuw1Dt6V7gaAANV6LAM6TBnzHSg0TCMocFIlOYfg8jbklj8banW4zvjALb7eK5VkZju/tCXNNXZqsc9vqFHl/j4NwkwvBM0uB7jLO78p2DBeFnEwDVx138Mrtj2F0sLY54BrE+Z37g8Ij/PTOUAZy16ovAAABC0Gb3kmoQWyZTAhf//3xAAADAqPJ9sb7uGCE3Sr5vN6C8t2x4AvsbVpZgDkANroHa2X4n1vNpX4H20pPiPRuABKAYzIw8hgHKziNtqTeFcB3kpjZ1tBLYA9WYm0oSYsbxyXdyKWadwpoGVKEFKi/UMKG5njzmp7Q94xBPduoe5+oVQUihvHpnde68MRrSq3jfFfRe5+gRqi90DuhARVIArwyLioUCOgEIBcsT2x4WIOYCLpTjShfb2qefFSVS798x9x0Z/hSc18jytgB7F1Vv7cmNqJZfawSjmDCr4L5NgsuJecqMC6pQkm3BXngC7ZQ6XuVa/uL01uuEfFAoELarTxT5rcY+JuBVInhUwAAAI1Bn/xFFSwr/wAAGI3muG7oRB7weqp6LtCjU8l2ApL2R5eQAqfB6Z5Xq5AZx10ZL9he/w8QAbKAM7yfEgv7eM9lt5UhwWhDWDedJuHYB3BP9sWf9jp7ThDA8f0ZozTlGVNT9WTewAKALsMTBWYLUbK62SJ3bstcrdoN7rsZkXrCKhrQ0HV0LenHAelVJeEAAACVAZ4bdEJ/AAAjq/f4DcUnS/1tr+MkMVNf98fuXWS2EBUnWQmJ0df896QAugUlKw24nVLVWe+vA6tuV6rUs8KVsV6dopGJdemX1aS8fz9b/L6gg2sa3VkcG3Ml/UQMcqiL688HiGuzPci1bXiQhW6/jDPBtGAC6cFbBOPf8hnnr7r4eOF1TBuQVzRYhFm5bb7jmYN3N+AAAACYAZ4dakJ/AAANd+czlWbAivbERDbOxqcGqMR9v2HG8DDFIwAWuZ9tW2cT0NVBpsaIpG9kqMrNJk4QnnCXb1wCYXQHjTNvV5ptTYNQ17EXS3I2rUZcoNJx25hvV8nyNoBt/RB3qFjrJX66Ii2RHvwsExWllFPhhkovgwwa4xY7YAOQfKn16nTwYx6Kb/2hhmaLUcqRXj4aiTgAAADDQZoCSahBbJlMCF///fEAAAMA+AZN2W4OBUnbyPN/1B3UviS2yYaQeYs3YCc6LT8nD2uHZVnnI8x6Fs0hOsS80XMIRtWqvNfRiLt/xDJ9n5epOQhc3wVOmL31MGfqmGFczxuDlh2fA8blu9Tu87xViXwxbQ94KPqvzWxQFVI1JvAO/a7lmqpgwfaTmpSwJ+6JkeYN2b3E4IXVmTMLan2YgbxWAZeMOehE9rOrU5iMHxkksEvloV9CftJ0a14REaoe/y8hAAAAmUGeIEUVLCv/AAAYjeA5OmwFyKzXaytUuCYAI6J5+vFsZhE91Bn+IBXvUrDd+9+Uoiy3Yg/EDa02XuhWj2xlrePyXJtWsS9itJCMNiFD2rj6Tj9eILKTjnReE5Vp3VK1BJkn28fnDRHpOkhPlGH7RZHahPbh584A35PH+9YFzf4Jc6XmMwQ5OVDbJq7UYddL7VJFqx9g8pCCwQAAAHwBnl90Qn8AAA2HwpDcswIo+obhS4TZrzdPTZTjG0BTt8zSfrrD6MAG0kcja/rd49HxlCGv8/fHGHVH1uf5RocREnGR+M33SuNH6GbyuvrB8HJ11xqXMwGbhZHL8lKsyWPn8ndX3wKQ1c6vwX3HbzLzV7t8rDvFtQe09ZtrAAAAfQGeQWpCfwAADYft1uQkHS+Xxy5hK7rEzr3JMcx3hCIcoi3mByi62cOw+NHQAgBa1fgFrbwLrrS3sDII0/sIG4Bb+vgH1d/L1t1QwOwye0eZqOsSaCgiB5H1yrSuF1j7lRNIYasfRVZBpOIUx6xnz9bSMdKo2PEOqP+i3DjgAAABKEGaRkmoQWyZTAhf//3xAAADAPlv+1mMcwrKSBx/D2+kgAsPZ9fdW9kNVZ3GdCVshu2QzpO/32JDI36IsPjM3R8i+rqzdP8sfuBNGNisSDneeO4gsntl0phhphUSqVTC3rTQkMOqb52dUbot4Ryu4jcHD0I+HH0rdwyMXE7/zRBm/GtHdos7auegLuDNtCJ+bVXFPKvJM+rsFqext8L+0U55/Yn2XnbnADaDbTHgw1/3pakSN5fsjSfFu4luDva9gH8Ifd2eXcNHRmXsa1GBrbAG4DmgaQ5HHem0xWfmUooHABmMfpJdjluIYMUo5NHNPLgmdD+3GhGqKdNufUFhMbdAZabDB7/WMB1DbudL+AEzT/Jif1/aR9Uq0uy2DNsrN0Yk2Hpf8KZeAAAArEGeZEUVLCv/AAAYjeA5OmxaXbkHGMWI/8GDypJaPb+mTnB/gA7vPJOB5qqI5H0tBmP2X9vCd2jBB2340EMgf83rTmxaJQlMydiT+rCI4+J2iWnKf8vOzjxrYiZbxdWs/axlYhF4dqnPSg42jhh99ko5MW85ThCYxVPlgB7Bd46PyCnV9j4VQU4uFu4pt73MQaiZqQEUgQH73Sn9fT5I1KmxuuqoJn9R73eLQpMAAACbAZ6DdEJ/AAANdle63EwA3Kr02sbpseYZ/+/JcDCp2wu0OIcVROQ9sDf5EODxdNsxoWyBeFkNsxMQWzSJPgcddZ9AZwf4gpJeR+iAX7QtaHwxj7uNY2oBc2Ol59Db2dCoSaaH1vykQGXPQxMzXbx8hCjsuBsMycv4v21E3duaIuqqtcOU7ecRH0WRTsEju3lNNHGbCVgVXbIS5UgAAADIAZ6FakJ/AAANf3UiT+BfzVW+Q5+RHlT9t57QCP/GwgBwaE/7mcpRwu+JlhdoHDljpClJmJvMknpC899HJYuWR7XkfCZUBPsEH+m9m1CfWNQ7j0CFmJapYNEim/YVs46dv0CN+pXVYjJLLYLoy/yIqhpjmIBAsjdmu+POyL/NBFiBgDFrL7nWDMZ3DPE2kHGzyLOOmbazArghtmS6hpUenQ2+ewqwH4HzXFDuNkVDJx5GWIWAEAmBZ3h+jzb0Yhv3H2iN2NkumNAAAADmQZqKSahBbJlMCFf//eEAAAMAlqMNzPAhgCDr5JRdWoKkWnfp/If4QWK2iSQaq2fV8cjozOn5XnIAnNXpohmzUlfrt6gfKCIf26R8XFs/7RP/jvxOHuWhAKItd+f74kVnYTX//14bTt/igT/d25Ia/MF9gpc0yQ2dx8J4+fvccCxtuA7InIZhd9QKIx3b7IdngDFZEUd6e6RGZwcF29DSV6J11bKnVBFEd2cIZc3kKVaHMFsHAEs0dDiwnDJYRKhzHxfLXcSrSQZJPkcVPkJNko35/Y1mPy43cpUeAAkcxDtTb6cYMj8AAAC4QZ6oRRUsK/8AABiN4DSZfdYB1CoVxluIOyedQI39+c1c6AIkBBK6f+6JJKHiihDdinNm8jIxDGIl33OHNMdwkHRQ9YZu8IhNjmAs8K1znd2Xdiff7Mg+T35JRKC2gSh78ulBjx0LqPnaJegJAu0uTqYZzCot3FMeWwiMVoIjWo/jegRz0EWaBo+n7ZvbdEIp6Z6vbgTCcTOUKRXDRVYN+x4/iyXjp3uXOigiryrBDtMkJBOGnz4F3AAAAK4Bnsd0Qn8AAA0uJINJ1DZkO4ix9Wan5MPACL9IsntPut+9AOhp1dkOjmhsxvod8LctO3MUJEhQ9sTvIlehM9lzuzrRupqA2Qnn5ef/wIlidn9VJML1TWNAAd6pRGOe8rlQtVu+/GOp9CZ2x0dyQEeA2OFI7MWzWbrvrcbThDKVvWCZ9Lnie/1P5sR4mmCzEchH27PTeimIJjS4yePC9pxG1UrYW++CeW2Rtfv+Z8EAAACTAZ7JakJ/AAAL9KAR1kHs3ghv0qbxWSa6pDbd8RNrZpGGJiUTf43pzlL5A2v2UQALiswqxDZi6OjSGPZLD++J6OmHw1x3vc9Nz3UI2ehEI2kwd+I2pffyOwapZbJau2yARVrbYsgXbBtSn/IOEEFQshzqh/LYPVfXpsOcuq+f3TUn0a7AQ7QL0P9SJ1+suA6azQmBAAAAuEGazkmoQWyZTAhX//3hAAADAJZcftyADATaVTTtLtkf4X6lni4nktR4AHHBPSnQjBNCY78SSN8cc0xrrJENTh7quaLCgmPYQcX8cfpWNfIwcsHWfsK7446Df5mwRCsgmhLs2rqzpNeXmN8wANdPaXRf6tSIJWpaJzgw8JoBSF7Ws63WyHFwuCMyaEU/UeTGrH0x8z3QtHFNLANswQlPnomxqaVCcF06Ex/7GvG56NscIb/Y3Ap3vLAAAAB1QZ7sRRUsK/8AABiN4CQZTl6yi5ZCLo96oaIAomSFZckxtP0yTa6fnnHLC/ekF/44IesvEfpcxs3kr5jd6dj7mToVclJYvlZo9HczMzS5/vk1H857/v9t0iv1/w3chnKTxSTjlXGCFowOTdkrlLPAnyb5UpOBAAAAkQGfC3RCfwAAC+4WYXXRc2ck30GOGhW1bCdftHcJoaIAO4nI2f3jdMHEHLls6F3fZE9YPojbFylDmYtaHbK/Xcs6WwdANQta0zytFEG73c+2f9FzHJPBMtY2Zr9A/GJXE+NmDdZHLo3UpRBy8DhKrhVASAchunHxR5bofp/qM4BWYF2r4bIakbvhJ4mxIm6BiTgAAAB5AZ8NakJ/AAAL9KAhbNn+d5sAAEtIplmmqbAs+1K2i3BXF7jIfUFMFouaaJdbkIDvo9Kga5vZpAANQf3+O717+AXgP/upmN7hho9+Oc44jBMzJC2HesMJLiqT/RvY5m2bLw0AHC8ib5DJglyntCxMVzvuV6ozJxrpgwAAAOZBmxJJqEFsmUwIb//+jLAAAAoX5nANiEGn85Jg9Noh/cvE/jiHhJXjTAvGJ2D739BsgdPQE+Lg+tilw6EIehqZCVvvF5VjOtJln9KoXut4Wv7LHAlZdYQJQem9Ch9BDcsFHgX3hGGBNMZk22P6yzDOz5GWPncGXgSTAJujowkVby8CmzujtcJD1rnhgNLW85qJSI8aly7VIAXH2nGjRK+l25IFD1/ANggZyTUdl6OefjMn9PWTRZVJm4RiocGay39rt7RXOflei6tBXUjxSVE2F67B4vNv9bpLmDDGmlBSjx/800H6mQAAAIxBnzBFFSwr/wAAGI3gJBlOP5xY7AsNnfPwsH0cs9HsfyALba5Q3TNFAXGxZXwO3ABzSOtympw2zl7F+l/hxK5AqRTj0vbBU38ayMXcDbEK5iXcGl4yJ/7qiMssNBzx4lgeuf10u5dBZ6pmOt1pekIZ6VrDP2YNxeA3PNuLz7gX7Ru2WLdkbGC9sq8ypAAAAIIBn090Qn8AAAvuFmJki1FyhUh13CADgarS5T9GkZi+9MnlFT9Mu/vYFJrkGXyVKITr5b6m+CeqhPvK1U8EmAhv0Onn6ccb+6Qmny1v1B3LqxFS9NOOB8mLomRBmVgQ4/qkH0zGU944z+tClqaxT/QXe/m9zAqdL/xt7bnyyoi70Yl4AAAAdgGfUWpCfwAAC/Ses9+zDEJWYLoHktCCm8AzlnwADguZUyHGOtMbFCjIZi6XLUNvL7npqAzN4e0c/W6sesOsRw3YfJLaseGpMv0/d6/hcofnr0HgmhVVaW+YhTA4rIVgCVvVsZET9XeqcRPorh6eLjTGPPigZUkAAADNQZtWSahBbJlMCG///oywAAADA7qBvt3dYALcy3Lgr2rhrH22sjBkZE/17u7uTbh7eyBRX6sRA8spiublTd3V54H1iKZI7aI2Zz9ekXs0E4A2qfzN4cUuukXAxhVFi4ttEXRkfffhpL5w9zoKjdZgZt49rpg9DVbaeXRUaXYpGSvvv29kGoFLotiMYcm7HbjjgEcKPrfVAmZNKTE63kW7/l589ov3TBIXCmSVGzU1mk7p+v2psDaZnP++iubUhsUwqQEF8UMCWS7x4wkJmAAAAKlBn3RFFSwr/wAAGI3gJBlBIdoego7OX/OT/47+AG3EY0bdVasLk+TOQ9M6jPTiZMuQTx2ahffX8Mb/Kb4Ocn2stdfW2zBh3hWa2fdVHF1JFE2tC/8ODOFKkC2v3gn3nLdLCGfNbmt6OThzRRrBEjnTPR9B/YwR2jDz6+fFQho5a8jtQDUnqhEg9uz2UEyhdoagnP8s32wNo/kX+8yhf6ftza8XBi8DGIWBAAAAjAGfk3RCfwAAC+4UscubtGbeO0/QC3g9/OOr+glj1OJImz0QhiSAD8CvW2YcOa5P1BRCZfEbhgccphZHlUYSRbh52ZmIx89kJL6Ol0dW/fx7GY2/7RJjqDyCWaCvKdMz4AKBBVfa77VbWL3VPAGB9qMFCvzWiuEFRwVQHweFy9MEWF1KsyvLTsuWERlAAAAAiAGflWpCfwAAC/SerWc9xJKt98/DX12RR5BA9LPjl1m+SfbUaltAAJ1TT/3CWp9zelfW7UBmD01DxcQ3ChZLgYWFKrNuEi8YGCr5OscI5v3KaNoa93rRvsKeXhR2WJvg6RyAURBwZWQNNoncL07NsM4SOx864YODFOyRIsvqTk7tmsgd/07TzZUAAAEEQZuaSahBbJlMCG///oywAAADA7/CZSPHSY9J7gWMnlPS7Dwe5+xkLSBSMKxxVOYAcWxF/ZYOu/9Ne9av7Nda39be9RGXTRDrrEvDrgM69AaWN1ShZ8rJ8f+qekkNg3ZnGGmd6sEOaNSRN0njdAM9pkDc3Kj7uznKcpodSx6KmF+3E0pZb1qDRDcjCkPq6BNACk8PdPvbnAmgjaGH8bP4P6p3zep4en25s6/nfYCpk/Jv5YlP70R6EJ4rCG+1IdOTVii7c/Q/9Q6MDyOyOUKxJQgZtHamnhmzeBI3weaDXZJIli0pAgsQqqML29FtiJIyMjDTuILKhZSXjuoLRLdssleVBx0AAAC2QZ+4RRUsK/8AABiN4CQZQSM+s90JKRym6W9mOtzLsB+oooTad31BwfwAIbsX/fTifbETQAYER4lE5DkiHP3GUtyRqi6E1lU4WffPZXaFIT4S6G2JoM6Q41gaM/U+7dfXSjLuWXbTP0G7hZ6Mei7diV0kMbC2HcOMRykBUnfbvgJIdz+dAgY/Zstosl+QCQ5TTrSP3ONcdNh1JPpvfnw5tOmr6gnVL0+aZ5MT8+hmUibB/RbUccEAAACnAZ/XdEJ/AAAL7hSs7ZkopHlA/UFZzT8dTQ+OSYpX/v12aN2wRixUDzarhzNtRh41Na/essrslBfmCbogenEIf59Q2HcJ4Lxk6yOMuX9maf0ly5GNpi51Qtn2ilVm+qz90Mg6CyRWp/TNxRrc3+Sjzoyl4QEbjg4rP5IqOtkuJp99UHDFmZrraCroG66NT6SHkCsHteXuPu8OZP4Qq0KXSwNwXWpOt+EAAACNAZ/ZakJ/AAAL9J6vL3zo+kequqBF3KAqm5x7nfP/vsAFqcoGsCMNLQOsHZ0RAWx+S17fdMZQI1n96H1jOCKmgBlxpH0I08l1eq7mVQMMXcvuJt332GtI/R+Z9e2IRVE0NBvINmBdThTfdriOcLD3okRxgQO7MebC4aCO5kYZ8GcJcuMkIUgk2n+JqAz4AAABA0Gb3kmoQWyZTAhv//6MsAAAAwO/wnT4daAyrrglp4Mp3/sxMuAoPYJyOzbOWyHgS4kKTp5hlRv9kEBi/iVoaQOcSfsUGVkmDjpkhTMucOqXqdxuyfF6XDbcrz+PXdikg959bnhNXZ8TtQ8n7Mr6whYtMhfjQOyYAXk50501MSY0TqqgaKKUS5eJbGMZT8dvXDKplPPsM4ZsPktUdbUwkLt8bA1cPrKvcb68l4SyKBGs01iiTkKJf22SdmpXv0l14R1P1u5q515ZDWV7JKXiguXf6yS+51qwRVud/5gi2puKg3EJSm9pEWUPX2umF/nwANArCXmqVX7QijXM4N39fSzyU0gAAAC/QZ/8RRUsK/8AABiN4CQZQIuY8xCHGoUAmmUNPFocTcLqKSOtfgBa5cXMbLoroWaW7vrIiJLdTjfs1cCxG5oY1X9xV9S+X+Y5KP0m0teA3MZlm/uGVQqb9NeLkOeN0ep7rULCwGbuffI6uylCI9H7VxgybdDCkRkcL/8F0O9KzqrkAtj6tEVhcedHoCUdRMpdZ6x60gNGV2q27fykcf/Zxlm7tjoHa6fflbEkDNy5jZO+/lz2+foAfxxLmZodiMEAAACzAZ4bdEJ/AAAL7hSad0JhMitH/TYkz8m1Ae5C+g8MAOCpY9TDAZWoPh12DHVsjdnQ6Reda2r3jfblwzs7Zz6FLHiW5hA5DoWT02pabPWGU8Ns+lTRbsi65tfEGlbdIeYE6HqgXfYcFabrz7zI7/SWaVGQWPiczNkOovUuuzhqM2Fi6skjS4Z8r6SBxPrib8iuigD6luUWwBf9EalrFyes36BP2XDVzbYR/fP4XaFr49WA7oAAAACEAZ4dakJ/AAAL9J6feKaM41wsS5FJCjUonwWwArTpVwRfseMq/ndb9FxNVSJRGn9OEI7hX8ptVoyqMu1bR4/aKR6Y2ysWSibQe/+suL1Q6+DNF3ehRmvqVIfoioYI2dugKGngsiwxJBVQnZtNDQjHHAh4GeDg+D89bMBmApCPyZPC7zyoAAABGkGaAkmoQWyZTAhv//6MsAAAAwF2q3Dut4uCDjACDr96ainKKeTcYG3rDFWhFvt1DD6Shpfs7IbiUZdfvK9dOrIP3aPQSRQ0bTb+2WOdeCFuj75v66alHDhcsn7Lq8Qz6D6udL+Zy5jHWVMKrAVdvCdGsuTaVWaxln9oUPWSirrw0RJweh/9lyjVt2FixK0oNhkEe4qKULyHcVBtJYGIHt+et5zvDHau/GYLJg25VJOOPF/NrO95DdZy6MKU/AlS6gnrCm46t04CqUd7sS3Tv5JFwWDYdFlM2CROIB+TyeilfL3UThozCjLp17Dz+/U0pj0rerz548XSTqDfwesQAFhWMHPTVUNW/rCFppbn5Weg65Zvvs9BGjW+4QAAAKpBniBFFSwr/wAAGI3gJBlAi5jzaI8PRd627zWTt4g7G655itaESeiDWrKOg4ArTJFTPo7bEPVd6Zl2NA888LqhffSScq4iATM8qzsXYXN7rPwdnXEnVs6TEEW9RSlcsaWIQA1ZzAiJTzfTEW4Vfbh+95SAAcEG1bznjJlSjiRbTB3etm7BKAKr/82c48CznohANGKgdtZ3nObA0TwNQuhoHLkO9b6PzkgJuQAAAH8Bnl90Qn8AAAvuFJp3SXgi95w7s8TRshcWvybt1fn5xLvHI+PW4zTTznh8oFStGYAE7LweeMwunEUhZp42RspGZLj3R5eHxW/BAeArNOYdU36g5+SOjFV2K2VbO60uxdX4/ey0IMTssS8VW2v1+JZEGc2Ghf/d2wRovT5KCgxZAAAAigGeQWpCfwAAC/Sen3imVvRvoMDAs/zpwKDlXMn37BAJJHQP6C4riqHodBfnhrQxjjsdjvg5B/M9KzixC2AZTkCKr6Zd9/PMNimPamHGMTXES1yktHysEXAnMmyDYnoQs+tCfA3IEU8IS9loNSrlNMnb2QW41aWQIykcAj5eTe12zuRzO3lKbg/hywAAAS9BmkZJqEFsmUwIb//+jLAAAAMBeOZYAKuaSGILsZcVwuK1dxfFZ2Y8pnIYDIzScaaHCUMSjRFXZfbFVTKdkXIozcjBD5xiwo5em1FLV1cPeg3Q5eRtuVBc7UDuCbKJOb7jJHNWcAtvGm8NrumQynL9N586mkX3etjpfj8Quf/0fPl90OIbssjdb4Cqd61FOuY7RVzuZ7+cqRTTn4Ad4E6NDSMGWXUqMXwqfsnwMtAc4NA7DEmd+SUfy96X8QCQ7i+2XwuTwHMmU8MpSLpU+vbE05ueQOBuOlOTI8WwymF9Kcb0Su5eh2Umc5JQ0vqXEKcUm8JfY1PjIoQAUYeVxL2g2HbM++z4GNE6zKgt0emoqOPP0/3a7sKDk/4ZnBv8yC8EScmR8TxPAtLWy8BbuTcAAADfQZ5kRRUsK/8AABiN4CQZQIuY82rRIN/Zb9VoC6si3mfGIV6koAaputB7t0W2cOItUgc8f72OLIK5BO6c95YUqVwnoCHfTIKveEPV49uC/B2aaSCEuOKuGJIF8aevr37QFRdD6fAfWLdjWto9vvspoPKtTKtRVjEyFMIhDVzhTczLUomlMZbsJeZZ+RIUwA1PXsE67cmzJlPyMhCPqvdPKbdLVXUcKQ+mSz5ZiGAt/RPT2w4p9Gcx2MQtJTJ8MpHZbDXqoyE0DUspNHEgbAXfvTetwgubr5lFG6FN4/9iYQAAAJgBnoN0Qn8AAAvuFJp3SXsF37iWGQDBc5oDsg+3Uq/DfL7loAE1blne9cHiQuXaqWSaypKIJ6OMWnL+2S0LNF6Wf47Oxm1fTrj+r7mb3ZvACNWStJeqpemBXgxCb5goedFUuJHD2+xit8oC+xBaY6gqnLUJF8RhKOhHmOrmpCHIdJp6kaMFSB2W746jj5jTqVLQlfiEEGwQcAAAAJABnoVqQn8AAAv0np94pkoInV+tf3CuZKdvdlrEcQnJpUtdMNplGQ1Q7eURilvI0OiNaqIIRMCiIoa8lyb/iAFXDDoXjmrBgkKz2EOrVcunHVoq7/09khe9Kweum6BMT8i+kVwJFcb6L53Tb/F8H91JjzqZV2Av1Y5PRwTBmzXbeTjwLEZk5tW3cmBr763SDJ8AAAERQZqKSahBbJlMCG///oywAAADAW/mXMYIdVaVjTDrnykAolwBHLgret7zs/TI1izyadgKpHUi4Y89EloJKnZjKhf7arpg78ysnUFQdZwPsStqk12KXsKx6FHdIaeAM1szoxWUMIZKKcY6twb9MSoLEFNUJlhrTTXsQXXbsCpWO2xzDun3LiIgIjx0xU4aovmgeqfOObGAmPjTLnOnrdKxXbYRYckja0XXOpJ9nEJU7U4pS+OWBYX8/ye4Xy6/k7ODdtHScD3KqNdI9DDPeS0m/tffB25L3JwkF0mO3T31+f5/Z2EYWPuM/ElRBXuxKps+SXzcQ9R4nF3uvdYAJQpuhaKnjSoEkUjkFC1OSBi5HrvdAAAA0UGeqEUVLCv/AAAYjeAkGUCLmLvrQ13CBvCf2oQwAfwWBfj1mbYAIg6UGR0N/r4rxpq5oC6F8+Asm3Sx6g+zpgU4Cp6b4LDP/26/uM6J6pRfjynpMDO4/JLxvyczTjetGodgY+rJH5nH7UY45pu/NnaC0qXvj+WPC9p/wW6wFr2zRyCxJWTo/VJRlB2fC/QtWfZrxHhZPuf0k1D2P2lh9ZFJTjxcRgExoFhDrkxUQ8zbh5c4CZXXRnABj1qMRmGftjHdZC097Eek0atzGPTAYCtgAAAArwGex3RCfwAAC+4Umnc7cD4bzsQmNCAX7qkEQVioAN11p44X6+oZtLJVgxytpcsHf9wr3v8SFJUAZG50Xz0WvXtrl8bOq23c84VkmNymGUK/PV+k79fmbN2w692yg8F7QTsQX2IAn042eXHijXZrwwBYezof7d38hjoWTAvtSDRigrCoJSfnDmA23n1RoWNGFz/kcIAsRalPSqzHh/on6Nv43bqqGZuQ6dADzX4w3oEAAACWAZ7JakJ/AAAL9J6feJ5QwJf55V4Izs3SUjreHdSoi1ACv+pK119u9MZ8ZEpwfRHuSUqXMSJBOL9s4akvMaoINN/qqmI/jQbgtJ8iIfEKOI4n4BDJRU25Lc4Kv+DI9e8en1t+J0ycqfA3MZiHBVK4OMbyCfUB82FUiNolUfqAgYSB9kcj7fJXAjkZ1P0xAiT4TFMXAI+BAAABE0GazkmoQWyZTAhv//6MsAAAAwCM1FAkH7cF+lM3rD6HAQsbKigoAbzS7yVan0BeX+JhP9uw6xK+f5hPpUGUSGS/IEj3T2mNv0/LiGqqsMRp5Z3nz27aVtvZOS3VvQZgSfFeL4qMZ80q6J7t4xBfBdpGmWZnE3zp/ntYmh8xcpbq6JUXC0nT5YhGrQpuFQaT+ePEvItfJne5jwBuNTiQ26qecXAVeCs14owaQeyJKLU69rjLD3NwR6gkObtPtcZXSEmwiSLsOMrGVgBXP+fosfdbCdWXzi6d2tQ0drLODlNcu0u1zwRpPwRncryf47t3qfnfYKyT3bgMMMIc7/ojkQKNkxmaYIXsczlPHnjRX064c5JAAAAArEGe7EUVLCv/AAAYjeAkGUCLmMPnHTEWoRobiEfxpZx//LIvk9+5wgBLVAlZgnh/j4zR8Iq2DZ6+hHf8tY6wRywcgd86ePhBdVm/fqjdbta2GgbaJDqbWi0T7GfdyFSAUSw2dwocSj7KQ8UnfODMHqQKKxXS+K+Zl6l2EMDxae4P800xo3Em5x/QyUv/wm3rgoCMynODkXrGmhID4gY25D4Us9GIdMvRCFqcpPkAAACpAZ8LdEJ/AAAL7hSadztwPejlZuw8/tGnHAUd8D/949+SAAF1F6U1cJZJ7xqkfvb5nAF4xpMPN1Lw8zS3rqalV61+oVH2fx/e+5tANZA37nb2nPhk+NqVCv+vhBZsGPd68sSKJW3m8v3lmiqyakOqNyKFIWdutdUdzDBh1wBrlxmfJv++tXPxHsPN1dUFqboTbxpD1zU4GLBOj0mHNUsQJs96Z5+IZ0QBswAAAHgBnw1qQn8AAAv0np94nlC+f3y5Awmh3A0WgSpACTYp3JcZKnHmvvJSf/5oEXHUR1h4PbRYmZJmqQTKtXSimOR0SXhS7fUHXpllE4T8HUcyCblKCTLWGGPhrBNCcbTF1moLfbnceALNMFHcw20DUrZxWHaJe+DuAXcAAAECQZsSSahBbJlMCG///oywAAADAIygRHO3sYAVM7Eq/DtCHLJYrXqH/GHv049xPSybDzgw8KukIdHuRhu5+jCKXbpRDdxc5Z7r8L0l4lI2I6ui/5sbINqxun1d+trzuQP8m1tmf4nSUtrWi0D5KlfXuQHHk01tDQfnBx3RfCjNoxaXMotpRvnkrWQfjyx+adG3d1eLpAm0GYqR1tfxMMfoIa6exE63BCrvy0sN44egylMatEM/2BfXfYWeHyburXkw1FtBXMEZ2su8oxAyV5n4/zE8pS4dSyHUiG8khnQh+0BLWGy8wk8i38vx9QnoKIVJZef4LsDoqwyoUMIU9dbpV3FxAAAAqkGfMEUVLCv/AAAYjeAkGUCLmMPnHFJQ6cCWTPn5rihJxRAAsEHmgyjem+u79NYH4pJZ1eA50VYk8Hr5eCSrSCQFJDSi34xysRpAc+IDQxO3D3InyoBaLU6w7LtM5g3xxewrW30hPELa78ydXWGJvDQXHLu17xxfiAMD+bcZYiPeH7LJN9BClvNpk1OGwsMMwbd9Q2qd3DFit+ziT628M9qpr7acT/T8sgLuAAAApgGfT3RCfwAAC+4Umnc7cDsuhc3nPTjAAJ2vfEYZDq+QKgnbMKzvWv3Y/Zq+2bBUNbcoRcfnh+JaLjuj8HwmKpfh8RAb8wU+gevZ0CfikCP0/NPcwd//y7rX3s5qY77S23CyvBGOTk9kyul+TPli2WZVrsj36jUQLUAyml9Hr513PAcuzw8n2vHecN8Ist039HfLiwk3S9Kojpp50eKrXFbr4r0A8YAAAACnAZ9RakJ/AAAL9J6feJ5QwJf5+sWuIbrujiIAB9y4wivJqiJFJTW/NmNtsHa5ps1CRfxgOIurUeAEt0pb40RSgn1alu6s9nBNI7Y7uyTRiOePtmPSRtN6XRIAj87+ZTdyFHWo/vvuPczc8mKtIUwRMnlUIo9LeHA2XTvHjSsPCqxXa6R8EuY0NuPMKaazTZNqcqFGrm71X0f21EczyAytTfgkj/TvARMAAAExQZtWSahBbJlMCG///oywAAADAIwFSKn8AGXMLmUBPgQdpyThV6Ftw8E8rzJB4+DM3royGsX+z+/AWhqpy+DJAQPsOm2/oRnXVX5eFG8jSjvoCOe9y1BTIbAxbatzXni+1yTuGJa4UfJmyt1m/PLB9T7eYdHYTu0s68d3qSHrjGEVjic5JTdjTPRF/fMp2JUV9QrQtEfZbjgA7K6oFbKIcgFJu+3bvZF0WbiIuAv7UofbJKAzJ7KY2ndayIgdcpCiFYcBO/TzKQ/V0A04SWHXaO3SFdlL3nwLqgbe09wkhwVGe9fMGryciJ41iNCsP5aauDhXeBR3BO+0g46XS1cmfuEDip3FGg0ghfo45qhrwHu8FgJ1ecpmPZVO4zVzmwy/i1oqaccq8PFMai+gFUQ3JuAAAACnQZ90RRUsK/8AABiN4CQZQIuYw+ccO3zCdg3mTYHserTBJyqJFaQA+/K50wNGuj3R9XqRrVBjL7OdITGe9yyz88mwb5EWW0sHkjmTvP951mnkPlw8eGy3bLBHMOKXVYJAiI1XajcI8wuRzI5bq6BSAbxhPuCxjhRDY0m97yKxcqJQKunD4BCEXOFcGm0gWLClZJE6anvXInDJSpfgFOPZZ8lzw3ygF5EAAACPAZ+TdEJ/AAAL7hSadztwPoqJROgjkEvfEUmRmGGaGf4fCDEUIhnRAAH85G3aEvcbwmBhK79fzQP3bLGk+cwt3658gvQq9uqxQETyZ9jjLEQq4KQKDcEpdXmgfDc1F6BPGFRQeIeaqUCKNSlxKJn46fVPQLsso5920gHdqZ7IrAHhFMIv8qqNzWaSSARHTasAAAB7AZ+VakJ/AAAL9J6feJ5Qv2INXlUy8ysOgAAfuZo3TFGRrxyr8qlwF+iZaUYMQm+lJenRuy9FV6+6WYnrY9no0GjtkO24oQ+G1goFapr+vbIbzgvulOH2Tb8Pmeh6+jixFb1hDrgOcqD6XLLuNjM6Ec92FYJYBmprisPTAAABDEGbmkmoQWyZTAhv//6MsAAAAwCMdyko0UGwA6SBiyiAgOlpPw0rq93HJT6CMQfXA7o7JfI1+Zqwy+zZyHe69yH955bpF9Dfa8P/ehGIYiRB/tlhqYv0q8k2Wk6vdQC+ZEqTMOpk7pxiQEQ/F4AG0DugCweI/bsZQDMYr+CQwE4rJIFLGfHOXAX5/ZRqcRn+no7sWmGGmJCmUU78NNwR02ze7IfYVv7zw1jd0mjLHQioIG7TG0hl02nnBN0M3MWZkOXXOCO1T0Qounu05GQ5zy0f+yrcdOxjVKKUcTquXbM7v77hKiVbi90SqHV7KSEwHj/1hpDCT5qxZEr0loJLSPPmXVi2YkiTPH6Mr3EAAAC8QZ+4RRUsK/8AABiN4CQZQIuYw+ccNwChVErnhmxpfFnUBjtGtSrNdVrQ8EQ1oIDF/hGYAin0akY8tycasE2OdOHXlxKeGCv/uXDp+uefvZyz5uF4LQ6V26Z3icQo7cVcAe7qGc567Z+T3uCEpHbr1qCtNOY/X7rnsSwbmxKk7cMh7SbR5TuPfl3y4YEdHgQuSXx+QHP348ld7i6yPTBEQjMlk2Mr/Vuj1OB7KokJYXHpoNG5ROYUayj00qsAAACSAZ/XdEJ/AAAL7hSadztwPhvPJ1ILVACwQ1A1hCVsVQuXzetnQpplzaHuZkn/imYcxiu+VuS9Lt5y1p52L6k+lHS4bFmN2qfCSOhYxJCN5DQqXbUpvOQ2ZKPlxwEldEkp2P5uD8CxqLOTobOMlKMxD5lTyAIkig3Rcwd8SdO+D7WwSMAVFa6ISP2zDBQYekFHytkAAABrAZ/ZakJ/AAAL9J6feJ5Qvn757aMABuqYQfEb9Wjf4h8KVYQs+FoJrnoU8skk1WzKz5ieTphye9f3eQkNFzzuoqSyPbPyFjKiM9kdpszL9kBfsf0rg1f/vs7EeUJ2fCjENisBv3lrjf/g5IAAAADaQZveSahBbJlMCG///oywAAADAIwF4TEVxuUFfPVQTlAYrfruvAECsTHer52x2/cAnWDj3F3QJfROsuRbEJNFyVhL8GlM/JcCWmf0tTygCL+TMEaxBI0sS4p0xbOEFzLQAOA6VAWhcXYAs2V5nXTNWWDo7zHE/mo7jtwE7ijz/Glxo3u+2sHb8EQQQvJl0n0AcPBaxKNKIhAmSM1BnEP2TbAm0b9UOW75vrJPW8GNu5WpftttDI4S5zooo253NUlSbZ/4xd7wnmEzk6sTOfABv7484Q8xkt1n3UgAAACEQZ/8RRUsK/8AABiN4CQZQIuYw+cXIgsXt+MyAChMHD5Yo4DzK/e9ncRmphCxRKS1nAw4k9gIOZNx6bN3KqJb+ozgm0DrrEOlImKLMVESDDVgoqrAcQNarZOLSOzJ7Btyz9nOKH1ug+fk7CSV50bxNmpPg0TX3c8fvvXSTmFcRplrsgGpAAAAaAGeG3RCfwAAC+4Umnc7cDtBNOiU01SlZEUVWssABwXvjTimZlVFWnwse4DbljBskhLLuBGgtkSrf+AGZyMafKIKAcBU34o8cjYpYY7ufNTo1JzEAYLNkWuOPbbEYUOHlM0syExdMBQQAAAAcAGeHWpCfwAAC/Sen3ieUL9lzwhAIF1g5HTpPzNdAcEWrfzgUhB75fAAJ07+zmlf5zhVU7IQBwH3O0UaUQLrrrRVvarkDAbyF3yyPfX3Nviof4nOO6sAVx1v2eYEoylwYcOrZ36ChPh4Kl6Tv0KAJeAAAADYQZoCSahBbJlMCG///oywAAADAIwGtKfNAFbraLRMzljEVTJsWk6kmio8ajrKsXGSbc3G5ubdCChgHJsZM3VfdqM0hVihWz6Y0Y/KnRLeN8tImkWVpm04uIvacTf7rCRzX0VvtbF5RfgJjpQE8z1MVt0AfAEX+NgbjE5OU6/neRDxVYA330ai3BfolRZ6XyaglrLNV6rdmcr16/+0QWX8H+mMX4qxMNixkLilv2a4qN05odcF2GJ39ixJf9MIXtpTFD4aKN3BlrHcHNggmYgyyUC+xMGB/b5hAAAAlkGeIEUVLCv/AAAYjeAkGUCLmMPnHmJwAExlZLBdErnweDIUXzP+OdDWTE5S+x88tzfl5UtjXdvs/6qQSfB9kyPc/PHgsKDMrWlqmXloCMXMEdsYglH/Bv+m/QYz/Uwy4XuxBp4swOJAmeFBc3JFC/NXubQA9aUEIH4srY0V7GtIhVjR07OwkQSLmhLVv6HUx8otcUhMwQAAAFwBnl90Qn8AAAvuFJp3O3A7PH4OmenhxHJlBBqADuDZw3gzPDmmttz3isJsAp4NOL6QqV+jFxycOWiGT2YsGSFi95DcbHb0JL0PQasxy0lcJPQHIeIf+rKOnFDbgQAAAFgBnkFqQn8AAAv0np94nlC/ZfEXQOqrbz1WRT4KzTrcmIVPgAmTmokYQf2FsK48Cmb4YE2DWEYyZ+as2mea6U9i146qxrZFfWy2yDSRIGz3lb/D5gMQdHLAAAAAyEGaRUmoQWyZTAhv//6MsAAAAwCMHMyBE3Y8QgBMDMYjz4Cp8BKnEnEz3jKUSp9whgTY49BcC18yE/GuVTC++18PaUsFM7hWrcC/Y21c4J8lhM7hIcCsY8GWi19Zo46ZH/nFr5QeeD/JWYDdUEJE+BZDevG+s6J21OSw2n0bigHkOfnrJzxU8/xeU7jWF0y/uzzkdPtUdl19rFLF+6Ysv3rd4zU3Hle/NetmcTUhEca6Ta7R7MTbtUVppS26Z2h2QuGMGVVHejHAAAAAa0GeY0UVLCv/AAAYjeAkGUCLmMPnHDmMG/o2CZ7kVskMnDyXc+8jbJg1jFYljrwhc+jXABCnSfHU+CVoEzo9HrD0OhKhI+jPRSQIv6l8cPNBZsDWPtZ4mP+p6aeQOToDn+Fiksov8Xb+qwWVAAAAfwGehGpCfwAAC/Sen3ieUL9lp2WuYxUVKVLtgA43YSzmpIUICTfWNdW+E3EnEof86/ROhzVwsoiKobX6cYsGH+Su047JD0+zvLSi3WT2Bz/zK5oe/yNxLIiiT5dVPymz7jIWBg+eDJTw9GYEkbN8iPp78rlh5JIaK7u9M196JWAAAADjQZqJSahBbJlMCG///oywAAADAIxn1zHZH+AAKu0fPbOckjAcK6RDxzij3gbf8IbbnXJj9smcr21gj/dq6JjhGGS9OxqXxMqT4QFssRlESWgDI4GdzRxSJJhrfSGoujwb2gtYRnPvtFPS8mjoSf+y31ScuRo1eHthoGsJoXQweznEgCJkVqyvxYApk3Troep/o8DvZ6HcLh/po6ZqPy5eYoeBukX8xZIcFdvBZ/bzNHf2sEGCsrC/9qrP3aUoQWkmbCW6t3X61J7jWovLeip1wuiCcZLBM1Z8eoFB0Wpof/HtAdMAAACDQZ6nRRUsK/8AABiN4CQZQIuYw+cbitntygYXQHGLDU/JlAktfEJ+pQAe+nlCck/q1JoE+StFT54ViaLTPg5+3VgF00Q55EmZ+EHvOo9Kn5c+oWAUfLdmXaLdOylPvajq24itroOuhbRJB2UROmgk21h2vxHzPClvoC23iEQYVCIzBUEAAABwAZ7GdEJ/AAAL7hSadztwPfH8NWHgbETSD50X3zrJa4bwlfoYAJHWur2w7gCL11EU7+wHUckKEkoS2KZTti2vrvI6b5lBjq4niHuuK9OcR4IMLCQi5neYwESDhHfghvutdyAGPCvlsX93LNpM1ddvBAAAAGMBnshqQn8AAAv0np94nlDAZ8r/s/ioECmuGnkIAB/ugdCQkWwkmsbYs55MJ99SaL6uYt73On5z3Xh+/mwdghkSrPRypke9cNxhhhrmH3Qsz3vDlMQNGrNxAJUQFOe1nfsBOmEAAAEYQZrNSahBbJlMCG///oywAAADAIxL40eAru7ArS/H/0+J7SFg9pbfZGiwWtx4eWv7DEAUCKxIqSOrod9DgFVDa9pzKswXYerwzoD5otEVu4OPDg3uIB+TozbKZLQ9yXnIhH1MSEE6umzGGGEXHN3BOGGsolPbke4+M9XaJDkmxUvqXymQ7f9BoKQDWDTQIdiN7ngt/UMmYBwUEY4aNoSoOIpCMupQkprJMUFEIELAOgjnm7fVfz7B8KF+S91NIXVHSIw+gcA2lcZOsBrB5rcVsZEVi4S5pq9wzaAJ6jQMxydrEQmHyWp0rNz9gpcwXS6YtyGDYb+cq2o5vNhKdTJPCQZhPD5eBd3VMBK/eBSVGarAWzgcExyzgQAAAItBnutFFSwr/wAAGI3gJBlAi5jD5xynDSNXHhJkBGiO1ypbN6fHu0emKqYSe/9FwBEgFko0DMlZWRJYhJWnpBcoNU9cxzkybvD46l01T6hv/Ku7+7jVg+0HpLtNeutseri5faYBYZ3F0+dT3EwZKHgOFx1SHMky67xvYZo+rQmQzi/jUFbevMYPqYiYAAAAfQGfCnRCfwAAC+4Umnc7cD4ArqVRKOqIeqeqnWNF7mlXl1H2QSN//G4AiPylPeu29gKfyLwtGSnxQAU/aiBrNwbvzBbh/IdIkvyp7D2fhO2vRcH+VKooiw+FbBjzt1XjYyL6adkNqw/rCDlJeoYSI2mxDhGuGH2ukzDgjCmhAAAAegGfDGpCfwAAC/Sen3ieUMCB9rD6URqgaqgA43WggUR8CH6Q0KAz0+/z7Je4jC72BIIfuO+a5mXrsLSPpFQHP9VjhWaE52RAwad/kcDETecyCU3a13aC9/8n9rBIxxLcYOKlH9yW3HqsZkeiK8kOVDAbzICc3SfPAKmAAAAAx0GbEUmoQWyZTAhv//6MsAAAAwCM/3wI5Vyh/PiNgp6hkc+x2IM9TUvIqXyLGwlN3JuTnB+Yh/RHyhlUK6WulKdzVfy0zALKQ8xNLSOD4bSw/AYeNX+k+fw4HYXJBrx/FI1qGsjbxHSTrPjENaBfmoOLz2fkFv0MXCEqBKHotTFC0B1u+sn6zkaPITnTS/KCiB5VnfyxfZmtiEDA57eU0rz8nz2YWAPtHu/T/fOo/7qWeqvS4wOABV2KlACZvIJkco6+9GFRcoEAAACDQZ8vRRUsK/8AABiN4CQZQIuYw+cdVirb26JNzDLjE3JWs96xeFa9wUAAP5zuyGbB2kLlBIajN+s5H1RbStYMMoGV/Ge5tL3nwNbM2pepoyro66YPjV1mRW5yse/zvbm8iDGXbqzaIoEYR0VpdXiWDW2VHs9gTwAlruKk9Y6LGz6UFxEAAABYAZ9OdEJ/AAAL7hSadztwPiNQu7EwisrMJwV2aeaMAAm/DP3+Hy+Y1emDl/7rjGEtED5E9AjZLJv9owy7YZEIf9TIgBBk+x4nueiS42Wnq7SpQwyTe/BvQAAAAF0Bn1BqQn8AAAv0np94nlC3nfpP2CsPYfVw3aRRkcw4qAAB+yiscxD/vDEj4PpEPRe44Y51GDjPfGXAQJLRoCi50+MhdE0SkfhYvrnDijg28Fp6TgdOeEgidoJ4NmAAAACuQZtVSahBbJlMCG///oywAAADAIwON62Pcct2VYXHSjgVdppKZXC97q7L4pt7Ggh/PANF621r75dGBmiDlbzXi1JLYjPG0CWgXXsTLl/vv01i4R80c4NQ3Ha07dsjSr+eahAtUGGAsR3MvmY8J7CKg1+LZd7X+BuGFiA8HcXlGzdvUaRfDtxA1OEywqzztQcKiVu4RNRduPR134n2vsVhVd3D81ZambUiatxP6oCdAAAAX0Gfc0UVLCv/AAAYjeAkGUCLmMPnA0LUkCINTOSxNIzLk2BQIcnUABc7zNkf7xIIr2SiXRM86rKxcDuOasxmiSt2ZJXzZNJzDEY6PdKMDxBPuVsgi67S/xI3ttkNoLiAAAAAVAGfknRCfwAAC+4Umnc7cDGq+HNYThcZOQs2roBSpkci5Y47HwAtuHSuGL3Nf7ezRp5KTu742lv2NGItKMYPoHaSJSmIQpbc26kyObVcj9JfQHUHpQAAAD0Bn5RqQn8AAAv0np94nlC3neNYxkTcFiKiWdoAPMGFhPGNkbnEsEC7atxWbjRmqoAxtFajsPWnmn/2ZEi4AAAA5UGbmUmoQWyZTAhv//6MsAAAAwA3j+bwANvLdYihJSDAVc+dGokVsO8bzna7WoUQiet4u4x0GGv1FfznYMPf3CxhNiA+v0Tq0MVFcdkJd1pl6aN1zxlIj6cwKUzd2YteRgDzg3Au2+lg9CVDpQXiqXzMPRrHSJUhRfdTcgQJ9Qm2LHrGL3xAghecf8Ax5tvRperkbHgjWV1puMFqjzoUq32VsHldTvez/oPaYBM0vPwurSh4Rt8S0v5kdqQQhCPI9bMWpGfsE/wSoMEliqmQJW33TcrZPSRrjoh7TlYF0lNMhzlQu8sAAACMQZ+3RRUsK/8AABiN4CQZQIuYw+cDQtSge5PuniM9M1AACb2wOn9JZ7tdreEKy8axCilYnqin9dnWhCAo8Mr+i8wlXukouXOWhEC7FF5JQ3mEKkx1naPYk69UXfkpGZoo+z8jByfaXF+r7ZAKpdMevPXttlu+qwuaE74In10w+t+FlGRxcmMG8bAsUkEAAABTAZ/WdEJ/AAAL7hSadztwMar+7mAAcEurDh5HrYYXZa7iyS2yEAO9VBVoy56D1J4sGipezoYTd/L5JUdy0LeQaHhbw+KeMpqR6nBNFzYA/TrjyHkAAABnAZ/YakJ/AAAL9J6feJ5Qt53/5DfvgAE7c9yDkSZFdc+tqhSCd47eeEvm+e8fb2cZrwdtq/AsBiDtYtQiflGcUL3cjv+w96EZizVznEvwsic0Oc1gYiJQrSmAg/GXWx2OtpittDACRwAAAPFBm91JqEFsmUwIb//+jLAAAAMAPQIpYATV48lXjFDFgB898I68xh/JbjJKpU8rOL0cTg3YSHX3qO66YXYFRUrp0e4OCLgjQT122VofUWK4kdBv/VRk/cJQawGAS165qcN9FnvyLt8px45n1vBQreQ0AUNDZaIcf+Kb1Ab4O9UoPBz/jI5s/ToEcvhjg6ph5A8YF/JG2wEgSEkGhXTG85NCtZZOCzGB6Nsug1u94Hk1PM/hEJCtS4fFHP2kRZ2jYxjjPKlBU2bra4N/oxmQcwu5yKg13U+kfRZ0ESVTcr+VVfjaUg5ttpKe5BYkkSAedtZUAAAArEGf+0UVLCv/AAAYjeAkGUCLmMPnHOERbfTqlJ5thxqa/ACVHrNiTpWcM9Pe3qVRJ08JErsoS97Stl6Lp576uiMyAqdSn31T35Za0pNWpWT9VKytWL2cAGOyAX4MeDAv5bBqcK8XnFRxFKNFadMNiLejhBtkQ5rAlA8a4hukPkZp0EUug1aCUlo8fjVg4sLv6mbok7Vu5t7np0okBAaLkXzjlgYelLKB1l5AK+AAAACLAZ4adEJ/AAAL7hSadztwS3RZcv6QDXbQArKbCC+yA2GRKo9D39lOKCUlDjDLdcbdvEUkoTHPu22YawY4sQ1bglRdk2ECKgSRxzMp1910uheUZZxrAisA3qZYbCgJgudMejhMuu7C+zAs8K8UQTk43Ty2PVWZDXUrAMioFU8SagW00IYENZ22wDArYQAAAHIBnhxqQn8AAAv0np94nlDIW0ps/67Nbuwtd5FADgqEURduhWUGLBzsGPZjreAYXmNrMYfw56xGgE1shedVADHuvvWEnTI+f4V5wfgso6k63bwOL8p/xhiVh51Tq+gLB47/EYjGbFbC4BUhiar3uvUeAu4AAAD5QZoBSahBbJlMCG///oywAAADAD1et259WVuaz66h65oAsEml57DPU5fLe0wsrWGT8Q9Swxyrx2UAKDhqc7tgJyl375u06D7qVy42215BBi7SiqQ7XRAaT3ixyUnl8x+5ZfXO/rbP7ErROnnYjGRJLCCLLuTdIm9QuAWcfX3jsuymMU5AsvzYP/tmf5CAq8q4qMQeHwydP0aVwCOPsAY/9NjI+ZZl04Hw999mopp3QLc4PmCX0cew9yb+RI8JB4Lf6uInPUaTp1Zw9NNXoARgwzJZsyovvsAr4CVP/ZR1nGyXZ3HJ3gwSP0QpkBOawobWUmHFL7Zzmx2AAAAApEGeP0UVLCv/AAAYjeAkGUCLmMPnHIIBkH8CY6Fkrgf3DACJjDpci1XxD3bI+YNIKWz4CBzz4/+s/JR4bK5YPSW94InRxXL3MxNOaGiSsAG1sBfDwSqKGtDsSRN22Hi4uDJC3sqtPnegar+aYlA9zoAr9amsnglxsx2TPA4R6N6v8d2TLSCZ7IyjVdKZmAptDZwihtzrONyXNlFclpIzlxIzwIuBAAAAgQGeXnRCfwAAC+4Umnc7cD4jUL6OsZ6fORFbmsiYANpFOg9tUpJ5FQPnAO/gVpNSkd79WQVmyLVKNEg+Od+OA+957Ft/iuQKmR60eE5YpeoUMKp6GE7iyRyk+GvMPqwChYQGRD7hp5w7WoHQyNcKd5Ax1lRcM4z8zBH+dSrSVwCggQAAAHUBnkBqQn8AAAv0np94nlDAtP6AKn+zoglDXKmeToManI95xMS4TA6JxAIp+74ty0MRJlEWHP0nKvYEQxdrdBXuWNWv1U3sdj121Aq726Bbm8OzmkLnwPalqTjz5b1RGgGWC+f2qzel2eMXkEIDktDEyysgCDkAAAENQZpFSahBbJlMCG///oywAAADADqa0+DiuQAA43oysLJVkRP1iYwHZ8MPLSDj5F3EVY+VvIh8Fnrv97wDiaGs4uchQNZsjn/xL+PLHP39q05KAFqjlk/yITDsEPw9pxcWKRkFTvgeg93zzx4sPlZrNRgDaewOR1lqPO/SyY4Vr74ugz90jU06bTCSjyE0u8M9vtAJW2g5xxF6W0a1PRz5dA9hk9+nzipMca36anU9h1i8rVQmP5EON/Ae/w+JHV/CY97bKwyu75cGSgyeSw7nG8gXc3M73H9Y2IDALRtuF+/pKu7l9xKG70qybG1Y3k2XPqqmLXzDRrrLkSOVbPwNiQDgZ5VGencnPSXUu4wAAAC/QZ5jRRUsK/8AABiN4CQZQIuYw+cDQtSx8/v/2eAFp5Kh2d+2pFijwVTfuN5hF1AkpTOmmfMQ4E61IKzzTMSSkLpRn1ZfFmSie6RZ1D5EC61PZqIfB6TxOMgFKKnwCcENkfL0fWtSmloWCMpQuYwGRPQ0J0Urw6BNQWSO+AgqsFZcmIWAW5uNEJQhY+sVeMLDmaBgW5kUq1rtmGz087YqmYgcLxKHhSBOg323oaauYEQg3DpAMVVDH/HnnztHhhQAAAB0AZ6CdEJ/AAAL7hSadztwO9a3yQRsKxlkmlAAWtjU7Ci6FYu/C9sSsUFzITSRZ4l9ilP9Aa6NWCyCO0Y+0Js82Cr2tdyVcYX7KbD29kZcvLqOROlJ39aoGHdsP72pLP0ho71sWK60ZKn3qHOpgdv2kcfwoIEAAAB6AZ6EakJ/AAAL9J6feJ5QvjMmMwdYYAV/Ab83ClZgs5RDPeS0sIMLjocNmcx/E//looAYjEp521RNIp6p+tEbEk4NrkpEhgkvfIJItn4pMotusMIRF+DxYd2n62bCdunhOQhaebHPG3dnHTCGxJOnObfx6XE6SWAMCDgAAAEfQZqHSahBbJlMFEw3//6MsAAAAwA6nrdufUG3QFfK5/AGjUdeasyro4cqmFR0yNY9Fp9NKP/nLfyI/GazuSi8I1gLnIeDg7x9UhBYn8McJAfnl3jEldHFx91O+EuqKLrN440t2FHLFDeWVHiU7i7S7gw92r7XvpOXf6SpS69ZwJIvkgnVBvryQzKB4Db+AgrqpwoXUaUAn/V0vh2vFmGARF3HJlpEv9091xpW5MWDkfIUWB2r81wCFsJNKeHRc6M052qOFPS2JHUr2k3FHYRihEkehJu3VycmB/SybyKaKNA2ZiXRQrep5qp/mZPNc3YsU9RazzwTKnb3WEBWf+rUxY9zlk1b1pl6YwqRq02eK9Y9XR9Ei2vMsiEKBOSxBiAAAACIAZ6makJ/AAAmx8g8RokXeG7Bpo/77FdW74AoNYGY0jmdQS28xXVe9quZAOT3akmxUyJsKfxkKZEOO4g7KE7CYqX8ae9QgX7Fu56GBb8Vkga1LNzWzcNYLThqg9qfoBZDUqOgeevjQqTrObyf+HB99rNzNPlitCJNPVnoRriQTdzUqUpnlZDDBwAAAW9BmqtJ4QpSZTAhv/6MsAAAAwA1C93SfwAc+ISEjUfj+utAp2AUphyadscLsrrS2O0PvdjH/b1YWvXrAVjuXdZgelrmNzfs98HDms5hEq6gDc1F5kKzfQbHAn9Bl9MIeHlJfYZCR+sW5ScE8PhjhqGmxPxcdqhb9Gv7IZi5oFfuc7DsWC2vNXaa1mAz7aCgJZYs5lDhMRO5Lu1dIdhxldrhHPI1U81dmZxKoo9LJ/bpgY4WVB3ss11gYMa3sEphPu1mtFV9NVhWhpdRFWRmFVBmeOe/WCd90iBlPxcVmC394mM0+wMuIfbI7ql5oWs2fFFA5Kq5lABOGgLtSg38fJab/GDlJNeA97djaAMI2oXyJFgqtK0bCq1iaf5carmmZ4/zAfTxpMF+sFcTbsgw2ec0fBJOg1x+q/+Zh/CV1sJiOCfYZ6Nb1lceCKAUMlxXSpjrsc3PYfv+tLjibXXmC7WTRXSz+O3JmllPjh2wVYuLAAAAlkGeyUU0TCv/AAAYi+cT+wgi4GEatC07bsSTCIpC/BvejDJbpaF6YWAFu9uO1EI4P3dkgvfJZT45USWl9YQI6OC1DwYp80Z20ZmoKeUOX5hvAd4DztClDQDZB0RXDHMIQg6oz0LJJIHYAgIBNTRBf7WHWAep1e2XwVmNm7anhR9zhoQwhKl0MtXpDqq0PGEfsHv2bNg9IQAAAF4Bnuh0Qn8AAAvuFJp3O3A4pEOTDdSHB0mjy5IPXz6qb4ABdFOohmV4ElBYBF7F+8rUo0vVJTVCfSAPKPbCWSxyCmBCraGVrNtrO0QyoJki2dFUx+HVh0qwuFf5wOmBAAAAdQGe6mpCfwAAC/Sen3ieULeeCO7ukNYAXs61faFP/znI7IgBI4lmraaue974tXN4+VyhQgm03qvM3a2CQ669pxEJOwPqZJGRuLHhNbByrUNKSAw2r2x7j0gqgsH8QVCqdjaG42gwzs7bIaeJEYB6UHB+vpoGpAAAAPhBmu9JqEFomUwIb//+jLAAAAMANRdnXSfwAc+c2etjBjYGLQ7YcVixv0pvVGK5ceheOvRe3FMQwFh9E1f2dnFfcaD82dLYgBicIyjpst53AlS77IUEczGk0KdiQfM4aXQKWjM413wox47nVj/rJyiVQAPQ5zXRUaR1tDVW6YWGDxJZEYNvUBj4TykNn+iTBAj9EEesH1iRZWjw+izvBaxQFp5d4esHYRUjesSDxW5ETFdZadaEXiX/UYy4bswbV5fSZdWr2SJLTwvCoXMDnPZXjxAHOprlyMa7NpGc9aljfff7HMzbbbKuYuuH0XF2/ZebRrFO7/U8XQAAAIVBnw1FESwr/wAAGI3gJBlAi5jD5wNC1MUnmPsPsnE7spIw2gIA4xzrzkX8mH51mjqFPm6amJhsv/kQAIggnd0JG3L3YYood8H+rVfMaY6C9KytELOsG5CHjqLSWArr4gDR307RatNxEme1W2Z8jcjl8y/ZI0242x506hdEqzVRO/UwroFtAAAAgwGfLHRCfwAAC+4Umnc7cDGrEdLCX8e94os5NnnmgR2gBrcFaXUbuLUsd6JEozZXHEHZW9tmHtBP4xmYbN3pCpeneWCdKn5y+SJumT7lr62oYpbpRpEwJ+BRX8IGgRQrT+tdRh6v2kqb3c8qurXw0zLwmXn3IYcNjs7zTwv0zpYUQHzBAAAAXQGfLmpCfwAAC/Sen3ieULeeCO5yAE8zV9OahBf7X5bHeCv9vgAjTqUaZYaS2weQl/lNYZpgfIF6HGkpTrkfGZ4Rpp5JBjqGalBHWIjFkQfC7VlX7z6CMw0DNMAMCQAAAPtBmzNJqEFsmUwIb//+jLAAAAMANSkc+ncAbFIUmDw0vsgsLP8FK1f1u+8Srnox/4rU5GJOtMjhdhXT7s3WS8E6ltGPoExgTU0H6SINhDXYz1ZyVuWHtNZFIXipmd2tlh41V0RfOCAZqNtW5snnjcLNzQ0PGaNfAmp2ipwW0w70v+wmabaGzisvWNUmtL37RnsSsut64tTs7+8Hy4IFJ5F5dMWPB3eRzfGoIFKzzN88BmqWbAUp/OtmnFJ9dvKeXKcLCqpdSk73dOIxa8wE0llkG0cdUQKzLiVm0RBVfig0Gs1yt8twm4kETS+crydxVbzLFZB8vePyF58NJAAAAIlBn1FFFSwr/wAAGI3gJBlAi5jD5wNC1MUno3+LQA2t3qXUhB5Hyp2u+5b2cV1o2S59x4fO8CDiKv8bQgTUnNA6b2Tg1KwTtvAGU/LGwGF7enaMcxJE/9r065vA46tM24rssYiVV0+nZEJUL1W9y6nLcLpWvEhYxJuzd2/DQFpoIZAyNmIH8SAMuAAAAF4Bn3B0Qn8AAAvuFJp3O3AxqxHSk9C9FlMT7VRHwDCAAD7/vNBUdkvfMUX437SuWptNxMWJuXi7sem1cPsb86CjJTfcCOqC/bcQbx6KClo7A+nBcD9vCtQRYmaKvythAAAAfQGfcmpCfwAAC/Sen3ieULeeCO65u9/DhHKxLxpj97PQAtgvRcgA5U9So1kiagKFnEpXVyjUXbXDrBvfNoz6GPM8+42Mu72cmwU4wjNovqwjkOGdmoIvO04RVplwUuoAe+pU/etNkOy4eGcwzLn9MEE/kKHLRq5mduyIMiHzAAAA40Gbd0moQWyZTAhv//6MsAAAAwA1F3ufTuAM+ZTBPn6A6KzLiMn4srmtg+z2LHENdJ6IXf7wd4Pbp209NAm/zCsTRTtSBuStBhWCLyOoMBff46DDxYV7lSy3uYRHqV0ADgk3SGrLkL0GSFUZSVDGTqMhQly2ODaCKMMXyndyaqX+1hWZ4u5igXhb6USm7fnbKlk6vd3+nXW24ENE2CZ45lnUCzoRGmh8QqIPv10r1HnA2CXMw3DVx6O74WJW/4uVvSWxk5XPm/dWoSoaAu9AQCkIZIU/oItuelk9WoC+S89yOG/BAAAAW0GflUUVLCv/AAAYjeAkGUCLmMPnA0LUxSb1nSBzwQ5x6uQj1Xa9LHwgAGxWqkRV/Y9Up2wWb/BWXv+PJP6HtiGJNBb/86QN3H0Qwz20yl8rExGazXRKzp/yAYEAAACDAZ+0dEJ/AAAL7hSadztwMasR0uYg2C60DlLnMgfJZF5MIAN1rtWA322BDH61hI1DMYV7mDBbtouQmYwEkkx3LPf5JNt7vbUDO6wihVPjQM53IsMIxQYSqLNiCdhNQ9kCVG4DA/G4uI4xVJPddlwn3Ac+pbrjcktbiJQlovpfvaHgXsEAAAA6AZ+2akJ/AAAL9J6feJ5Qt54I7utfQ7trczUPCtu751/4gBoBpsPvlQxKhZnziNp2+UNC6cZCBIDAgQAAAMVBm7tJqEFsmUwIb//+jLAAAAMANSdfiDADnxAbBYphiMtaUCw6JRMzCtV1GGozZ/mqe/pSbwVAjg3YVnESBrrqyI6fPlC5GoGcu82rxystEX9mLAaCLrdVzyuZK0nFZOcXei0iVsgtKSq42Xy3StmFYhd8H4AkeVRS9SzMipYPRR9ju9GRAr5CnRW79PWrP+TwA9K3bDJ9MAyCmOGnRBVZU8H0wCiGnsTeIM6bVaRUC+AzgIzg0gL3gtPGBzSH1Nx5Mzj11QAAAExBn9lFFSwr/wAAGI3gJBlAi5jD5xdhiOvpn7nkPsHbwAWHvGxDPEbavutn+iS/VFkoX57KHEUQCGfdeWQvUDujYtcTp42+8tmkgPmBAAAAUgGf+HRCfwAAC+4Umnc7cDGrEdLmJaVGAC3i87zqQJYVsvxFvZpHFPyokcfK6TPUg5v2w1ZB8GtyvLoWwZkcwMi1CAeleQoZMsYIY1hdUiJuBqQAAABFAZ/6akJ/AAAL9J6feJ5Qvmo/3N9FojKV6LEqqLea2oQKgADbMmfH2xmIYqu1v65WNxynOWMuVeqPjg4XzMeHUDZ5TgpIAAAAmUGb/0moQWyZTAhv//6MsAAAAwA1Bv+4BHNQr0b+h9XPVDcuMVqNdy848A6puTRmjHwnnJhDfmMfKc8Bvp9Qf6Z6Ui5/oKNHfWh08jHWtHuWVAsvK97IaLyWdxaA3Te3jhY7bywcBDKogKapxYRws+F20pzNFnKvP34qX52OapbUGt4hCfo5exrJwazaZcmYjkNvx/p8E1krKwAAADhBnh1FFSwr/wAAGI3gJBlAi5jD5wNC1MUm1r0Y6eHPys34dgkAGmEoz5qJQ5PucztjsDSaYAC9gAAAADsBnjx0Qn8AAAvuFJp3O3AxqxHS5h+4BuitR8zOCkbVl//9i+AIj/PKXtN8RvqKC/x4LZDpl6fUKSgYEAAAACUBnj5qQn8AAAv0np94nlC3ngju7lOLX4Fjo7tkIySZOMLYADphAAAAtkGaI0moQWyZTAhv//6MsAAAAwA1DydgE1MASH81hR00e9GZgJIbirbaQZXsin9IlfY3jws0RMh9uiF7o80W4m25bQaHI5F+7q7QpI623UeiQe/HSzXfZ2+s09TBmDEvb1VAbso+enOgBl+8ofoCtyT/LzQfuVZGkKshveBGLgfNgPJE8QsWRm2uqkJWQGGo95wrpGpNgykquJhJIg0K2lmD0OZhuOZPNh7sYCtphwtsOdesAQb1AAAALkGeQUUVLCv/AAAYjeAkGUCLmMPnF9cdgfo3hYeU1ugnuyPdhcamQDo3OdtICdkAAAAoAZ5gdEJ/AAAL7hSadztwO2PA535r8IheABIi2ClHxttq16RoOpgMWAAAACABnmJqQn8AAAv0np94nlC3ngjrq/GUhE5ToPv83IehDwAAAHxBmmdJqEFsmUwIb//+jLAAAAMANUrbWO4BF+fDkSfxfAWafOnjh5x8tiELIknZeOo2hd91P7jrF+ZyJyvqfbb3qfGTASDaJo9xEbIHdcf2JikwXIgnJn2//KlIbzQCBegz7c/qOvmF4TDzzUNaSLbGhmbKPdQ3P9tLMuIPAAAAKkGehUUVLCv/AAAYjeAkGUCLmMPnA0LUxSbNS1ujaGorA55NBWQFmXATsAAAAB4BnqR0Qn8AAAvuFJp3O3AxqxHSUbjytzeg5PyYAm4AAAAgAZ6makJ/AAAL9J6feJ5Qt54I7qey2M6MOOlk2EJAxYEAAACCQZqrSahBbJlMCG///oywAAADADUlXdKIAKl6f+QQ4wG+wZ05cMR32uVWOjoVKOLmaRy1GPYnooDsXsIaOA3SwLbUA7+OpPyes2O+VIN9nOVAx5ly3W7jmRCvXamcvQbeo2++LTjFPgLLq8iLeibMrJ98oVPypxgVOMtqVOHsfbgkDgAAACpBnslFFSwr/wAAGI3gJBlAi5jD5xzhEW30z0PSIHOICdwB+vMmbbuQBU0AAAAgAZ7odEJ/AAAL7hSadztwMasR0pPcctiX8/bTHSbECJkAAAAiAZ7qakJ/AAAL9J6feJ5QwGoW3N8almKiz9U32bvcO8ATcAAAAFdBmu9JqEFsmUwIb//+jLAAAAMANSVfjCIAPauGq2J8buv7JxIa8qeQAynJ1TUiFZRsV5XBjHyBRg2JsQVgaW0E80JAQFhgHvP9aCWgz70zCe8I4kTSG9EAAAAnQZ8NRRUsK/8AABiN4CQZQIuYw+ccggGQft4cNKvgNUe6WMU5oC7gAAAAHgGfLHRCfwAAC+4Umnc7cD4jUL6LehnTtr/a+3ABFwAAAB4Bny5qQn8AAAv0np94nlDAahbc3us2UsScsFnAGfEAAAAcQZszSahBbJlMCG///oywAAADAALJ9orhTCLJwAAAACFBn1FFFSwr/wAAGI3gJBlAi5jD5wNC1MUdRWiPdhdYAxYAAAAaAZ9wdEJ/AAAL7hSadztwMasRzMfcn/UnAi8AAAAZAZ9yakJ/AAAL9J6feJ5Qt54I66vuQxEDwgAAABtBm3dJqEFsmUwIb//+jLAAAAMAG02rae7Al4EAAAAhQZ+VRRUsK/8AABiN4CQZQIuYw+cDQtTFHUcpNueBAPyAAAAAGQGftHRCfwAAC+4Umnc7cDGrEczH3J/gCykAAAAYAZ+2akJ/AAAL9J6feJ5Qt54I6wqO4E3BAAAAF0Gbu0moQWyZTAhv//6MsAAAAwAAAwNDAAAAH0Gf2UUVLCv/AAAYjeAkGUCLmMPnA0LUxRwTx5JoC7kAAAAYAZ/4dEJ/AAAL7hSadztwMasRy4UdwNWAAAAAGAGf+mpCfwAAC/Sen3ieULeeCOsKjuBNwAAAABdBm/9JqEFsmUwIb//+jLAAAAMAAAMDQwAAAB9Bnh1FFSwr/wAAGI3gJBlAi5jD5wNC1MUcE8eSaAu4AAAAGAGePHRCfwAAC+4Umnc7cDGrEcuFHcDVgAAAABgBnj5qQn8AAAv0np94nlC3ngjrCo7gTcEAAAAaQZojSahBbJlMCG///oywAAADABguE6e7ArcAAAAhQZ5BRRUsK/8AABiN4CQZQIuYw+cDQtTFHR24uaqkgB3RAAAAGQGeYHRCfwAAC+4Umnc7cDGrEcyci05YAm4AAAAYAZ5iakJ/AAAL9J6feJ5Qt54I6wqO4E3AAAAAG0GaZ0moQWyZTAhv//6MsAAAAwADabVtPdiXgQAAACBBnoVFFSwr/wAAGI3gJBlAi5jD5wNC1MUcF0TRHCQDegAAABkBnqR0Qn8AAAvuFJp3O3AxqxHLiJeFYB0wAAAAGAGepmpCfwAAC/Sen3ieULeeCOsKjuBNwQAAB/xliIQAEP/+906/AptUwioDklcK9sqkJlm5UmsB8qrX+Cp3EUExW9ZFhylZs0CaBSVXRE3MvvJXy7UAScWBbTbUOPn+nR1BFS89AZB9Jeyag9l91+Kufdm2oQoH16mkvUgxZlN3j+/Qo3eSNYJJ7MUxKvGW2cvPfTPoagjchPFcoUpsmMZUmiTr8EjqfjrYCBMpZC4EkKuv7Bue8hmogJeQTLsizeLcaMHL4SzXoncwfjNVaD0RiV+S/p4BYic15uck5sCGObccBLPIqo4FIUGP8pjxTTlUSoWYbv2z/86ltaDVJw/R+PhFFcOrzO3z/DZqHwlHrce882UG1IePr0k59UNYpU4pjouOJgr140zXVF/QRigAAAMAASnmH5BxueSYuvv8RFsW7KQAAHACUGAyERDlDlEOFOKaR8jxajdLs+i1PVNURNb8pH++PQP0X2DSggTFM2ZQ3m1z74ejh3JvO+A1xxUxqFbbxyh5gsoIbmgq5oQWfxa/wo7lIYxQoHAt0kM6iRfs8/qvdUxZbhDNZyekLYwjigSEL6Lqczt2Cglctt6QfONg+zsQ4K9puMmNZyqx0V6mEcscROTBM7XEIu9hbX28Ih5VO+23qOU8nSej0GJS7ltWvIIhebfPkGapbbfV8aqsy+XeWbKUuxJDeUi7i2W/QumxQrzXopm323ICe6sHeGNYRYAXf2JoND6SDyYjXLwkNP84RyKLLOy5/jGIoGHnTAkpfbI8zRnbb0mwJyngqounUHDNs6pr1O/ibFIEOvCYxJRvOSJ2/Adr171ZXbKIqA9NM9RbLdpWh8DoVx6dG0P163ANEMJFYQGVinoY5EL2T91lwZDL+j/3HBYxZDesQWJaGW8xcQpjRyVGvDubFRyRX4n+9sQDU43jDbbSz3FNhGniTxV5d/q2bXPDev3F6l9+LmR8xw8V5H990XqVGlEnh5T4e3+sfkhvOZws37e1yNrjviDTaVfDaH5cP4ZlbVDtDnS6KUc82EwxDgdFYv5GVkwCy7mwl2k5d7H8M1aNvwra87AU9r/+sQ56etXhi3vxsKJ0m6X4ZOwRUOtCfqMB+U3ofAy1U/MudDLxYxUJ4HKGVwCZgyBp+QgzfGe2jfi2fzu0sEv7kyIfBewovDgjlxeH/2W+2w9pLHoAmq1yKsi46RkrTuU03j/UHIIqgqrSQjcvjh0tl9IAxQU5nn8iAbA3DvcNFY9P4gKLNfzDyHi2hlt7RTxBrrWeiwrVvLmYImj5wZ3uIY6TaKK/jJ3RwG9HNdPsdfWHufLpKpRhdDbcDzXeosj+hTfpQwaaldyFM21oUl2AxdF5Ks4iiZmk8nKKHjVuyZS+2FfFRIwqIAuWaNPE5Oygb584rHlHMYSOLMrF1IawhB98hBUaIeYsTxSD7D3ywELvic+W6V5g5e8kxPI1IoO5fBShfETzPx7HLUWghsb5683SdqTNmWFBlk0PkT+tTWBfSsGDGlurFcmJxnnsKUHaQYV1RSXbH5jPj74gyVyp8VIXbykNpfH5146jDgKMmwvrmb8PjhcpzwIi//cM5YlSQ/05gCn50pPkeh6ue3K2dziaPUilMAhVxQKZL/nAPpDMKAu6wtQ+nb/z3WulmtVJvA/QILbwwMz5ed3w3BIgo0kCVmIhKvvZxWCfEfE4qer0+f8ScgCaAeQx46w+gn5AHulv16/wWLXVUrij632KKmwtacBDzX3kupZougLAcZzUWjmBR9ggTiAGOjF2iCLXJFk+6kgAAxA4U/Tchaxf3gfhzOVoK68SfCL/fpw+731S9gqzn0AAtLewy5vwE+0Eh8tKPdO085/9tu2kR6Wo42FMbuvTLmfS4SbOsPcJNVeRAZpMDcOxptjvtTmYTicGg5EoZZzVuzxyZaFFZ8v50Q37T5f9TBZXkgGT6Zc2eiiEzdWY7tHl+UVfB6ma0SJuvpmZ5+v67i55iX6GdkzwVrHhW4VVD7G/m/OrjsodHQuiZXlpR/lj7QjwhrOc4TxHgV3MMkjrtAUhdpiJy6zJy4KAICN7yDynj/SiEX3wGIswoGBxsSnnPlQ5/qiHzJW39twwFbPMDfx/wKEf/A4+l1B5g/ZRrd6pXE3/Xcyhbxhz8VWfnahCOeP9GIhv542RuH2n/UItVfFbj38iUSvK/hQsIr8iJoY3HFapipynW3w4WiZ5tTFIsC2gJ6hQ7DEYbt/BNSzYZz/6LtkAmXtqzSIP+uPA33w/mq/H/c3fyI90l8jSGKBYUksGXWaK/guRZOo0tQptFKiAuFj4phAqsAxaa6ObDsdrqxnDNmWPQiFQSaTVglHYgQ42lRqkRr78lhpQgiZJWgi6hr3rlcyrYAWo+DpkY0m1b7MFyOHn++6y/uSWr4TFKx01saMZJ3QcVr/kjBUF4Er+Yfl8X9TvEUqVw58NOpIUXfx8X2WWKRmmRv/cqUOA7lJIJffxm9RtYNvwrRdNuDQub2TVEbW465H+nvdPbkg4BQsZFwAABUmlcXQpKNTdX3MOgvRNfA1jqXa9I0L8kSXvqSbKYOpxnzaJPGBlmfVbUSZal+BzqKN/YtYdHm8YCPPVOYqGqHsupizrYmX30QP7kVERm98h8rodp6pg5/tRDW8XZCpKsgOJsyPXex7VuNwjJjCEJJ6/2Wi8AAcpt3njEZTTxr0KRf91oLimlu00OlQeeRio4DJ/QzZvt0DVCelyr32pLrawABLAAAADAAADAPGAAAAAk0GaJGxDf/6MzzDJRAIBoySBzFSfiABZDhleBPxsA5pm0xH7EeID/g2ZH5D6O35XodUvSV4d1LHAquLyBYJ96rcRI2CAhKxRJRHwySVqbOwu6r4D/7ZgQyseyisKT8TJqahY1wZT2vjfTnM0WXiu9WQ7PZaxL2WGy+zwamrxORyvIwwYyKwgMvkWzjgDEKx488KeUwAAACtBnkJ4hX8PeP7l6PnOpPTLCeoc0nmnjXaugAJhu2eMIHlGqocitipatAPXAAAAMAGeYXRCfxS2uMk/guwccABNbanAYLyr3K5D9GSQfMPPF+vOAALVPBy12+dPSVAHHAAAACEBnmNqQn8VATeuGNLkYLYChxQxtzPRzAAI6z6Ikx3A7oEAAACwQZpoSahBaJlMCG///ozSdk6H7zQljqWzCoheABauyRwDZC8oRdzG0wy/KkgPtqbTyCh0nA1tzcr/vMVEXP+cQqlHfn52Exja3PZo9hZAQHacf5fIVez+cil9II0E8AAAAwDSXZvxCKFeGgfATXy+N7+/tdbraLtfo0pZWt3vu1qVdV2Jut0QClpCCNNZ/DFwOKb9DsSGJLFcGho7BOIIOb+nRvvBR6HqGeZJjNZkVYAAAAA7QZ6GRREsK/8PfK0AiMpeEknDavyqADP6LBYmpuouPVeYxONjtTyyNn6gAVCyW38r8Z5u7vKlRDlmApMAAAAwAZ6ldEJ/FKUGgVQObefvKNex5bZTELPGiAEreLMzrmCTn4ADzXLpWcopt1kVAFpBAAAAKAGep2pCfxKJXCOICpbrlNstcgM8pxNPfwYAX2h9b2ifEiOgjbk2EfAAAACuQZqsSahBbJlMCG///ozPgxy5fTDAXhXqS0ZgBa8xKml1V0mp/P7bMaaCM3YGFFsl9ynsdtjX0x4jTHqVmVeMNyTUP1gNkEjjtgN38b9TpMEI8RiIAAADABBk/Ns1wLaZn+G+R36Cs9E6nhuUzdBg4zmc8uihnZj3n3u2qZts9ioJfdFh5+HUkD7eW1wtlUG+W3H0kuj13MnjtJ7mzRuIr9mDOUnBgn5kOQtkAB/gAAAAMkGeykUVLCv/D3kAgVC887wNuei0GRuZDvPJ2rOcHusyKO3D7m4AA+hBO4ig//rSGQE7AAAAMwGe6XRCfxIdBQHvyx5eRfDSL7QAmafR5GXdDZzVny1VN6td9C+q+JqIAEuVnsVVCgCLgAAAADkBnutqQn8VF0ZfWs6I3aoVkQlBxqTd+EUEl4kCVGxtoQA4Kgt4mtdLyH/oAQ3RyM/qqPAZk4HkLiEAAADvQZrwSahBbJlMCG///ozPa4ZjQCAoZ6vbXN3Rcv1sYFikEh0vn1j6IocNpDWbbUnj2J9KitjPfRTWoFDqqggS1PoX83N6X5KnmXFDyxo1bz4l3la8RrEUoTGiIRMKcIhR5nmJ4UPje5eCm+KyMKe2mK9aAAADAABbM5ixyQ1c+K7SsZrNAFxVoXbsywTFg8z2Ci1DwY79wMrqr/4VxQpMZTDzL/MgRbt/mth3imA5f8NFpq9bKcFAVHNussFPe7apm5lyQ7LVebkA5yHUo47OeASf/K5LC/APSJMmd+qNmoy18XRlof5LTLI7tdIgCpgAAAA1QZ8ORRUsK/8PgoziNdnIIACy2JUHblBrFmfCEGpH+4MZjrLpP8AQUf5l4RB+DIZbUBZqFDEAAAA+AZ8tdEJ/FKYFVQ9ks0Ug9SBQk+cACXld1DZdQT5rKAP2//bB4b+h/x6sQlBAVzcRGawAL57OB6QkmoXGEV8AAABOAZ8vakJ/FNKS8ZTuPXjgmRWBs/UGzoARRbuyNRz3NzBKnMer/03eymcDCO7dcsyJs9OIY3xzAgYDQD3EFh/D8ADTFwWgsg0z/sH6AFJBAAAA6EGbNEmoQWyZTAhv//6M01ahuRw4UugBcQ5+twudiJ+DzBIfNsHtCYAu6rHiYDlQ7z61+szuKbSya4t5v0DO6aROuIQCdmq7OdF2oiypURgBdjFvbSZ8yO5CjcmsD1/21pAA9v0wWGPVrIqAstzSV8V2jRA9fqrfnKm9axlszI2yw/jG3QnPDfI60zy0Z5LqWW0gaT80adp51lNIwt4Doz+5d13veKKECOs9w2B/eXd6PmJR3GbpVmCaYJNLaivjiHtL8/8lD17rxkUN3M2xzPCiBbDpaWoBl7Ro3xZzlBFSHr4n0jRsnzEAAABeQZ9SRRUsK/8PW+gkxgEFnqqAFocpx2oXATf0P1wM5wUbeiixNDOfxlOYh4f2cH9xAxZ/u2FjJDWt0oZYAJ1FLduN2Gzkh7DNfvnLcaXVmAPIAiFsuYkWh3xR5awFxAAAAF4Bn3F0Qn8VFzB0Y4jqPeI1VsipjKjDQAFe0ThxB1qi03/2VvRKgkMVJh0yS+VOvCK3VUB1cuHCQDC6q18We6Lpn5+iXBfQD9jODfWEsJ9A9cGWkeVWgAifSdv5hgFXAAAAZwGfc2pCfxPzyjaoBqwAm/EQNUncS2CcM9GfjI/+n2ukTyQJqhJ1Oqm2ycjzisgaea88ERFJkjLsO+j6M9ixOxtyv3scjsXxFrunXSM7boGXnku7MCtIn4Qn4ehgAYaVRknad0wqAh8AAAEdQZt4SahBbJlMCG///ozTM3+lhAAKt4sAR/AwAj3mKuinD4FnLLvlxoPBfgaw3++SjTv5jyeGj/Aw/uiuo90HGj/2bG6e0p8OHIJI2IQnOIUGHk4VGXp/qkdWknkdpVGya+Jc+Muy8RACxjygx2ubg39rcFMPdjxZhVjL4w8tLVgF6sL4oiqW6J8c3OCi1ElgbSeHcqUpTrZ6IoIp39IByM+boE97qbdCiTiMeSwW6VPMHzx/0pCMFEUJHgoGAuKzhnqs/V925K6N3tsWPbe8+gyyEHQ5Cn6CqxMNlkCo6nwbCBRe2YRqisFyLiqqE2icfvt3qFt1pmwBuJVuK3bXNRV2jx39PJcCmKiBBRUQ3kOwq2Or3fXx3rAozPmAAAAAhkGflkUVLCv/D2i81StddIAA4LZL75bSjagy5sertt85EmtcpnnmKT7Vz3UeTsV5MOoXAc5Ui+ws8kwGWA9/vBkqjX7832O4dvpwxU6R72zSkPruO0Sik4NYBCsQ5QEFmRO6wa/5/+CrfXKb++P5U7AweirGzB4RdbfQwjgAa+kRZVhraAakAAAATQGftXRCfxUFatnOCA5/jiEkfbgAJ0axM73AgcBH/DBvJjIqCoZ7KSjKrimjKW8WwDWhCMdXnVauAW1gFzV+PWTzw/iIAsdwu0MEMJuBAAAAfgGft2pCfxLYy7UuVdMbV5IlXlcTHXj9oZwAt64t4wwESezZVAFj1QwDQ3+1b0uLx9nynz9xmjZ2BOQLSUvPtDeARYFayad/kx6oG6QeewO2jrwKSDBJ6TY0cL9OKG5f8CW84DnghnC6iwe909VNu+OTdoy5W3DSxUxiYAACpwAAATVBm7xJqEFsmUwIb//+jMamX8ebQU1kR3EENdHJ7GnBQATtmxaNh6RvpNuyKW387ca+l6iSf3/3bJXn6f9bWKsPJuurpVdqrYi9L0ZoGv7QsI6Vf495cfYxWQueH2yFTwVzKD6pjx7mZLLfgcvRkf70hitCjxYZgNhWlYIeNfv/ZWeavzTAxXYLLzTeExheC8WIgoJmuv1RRKJNRvHnY6fvjclIx0wOw9CXHXGLMQDiBCgpoIG9ESVK0cT7upVvybdbyxBaTlv8SITwY5qvzOtl5v2cAtVpl3ZYyA1Hx9auhwsEKg+/R+asq2mCXaQITTTArLytOkKbR81yEeSUEVxE5wU0Vgv6eu3BwyzI3tO4DHSghIHxnymJxrRTnWOB6hViu9o6AS88EuM///tVSds7bRAAGFEAAAC9QZ/aRRUsK/8N8PerH9kMAFomgpjHBijJrW22okWy328tMsAAkKvAemJ7AtR2w4KZJKq4nsT9dacMY2E0uIzaVuM+HshWxSVRfSY1iaoJdoS5ip9YdIYjBK5Lw7FLVeFH4ThJOBL7VabUn6iMA5SVBN5Q4RLSY3xH7aF9JmHv/FDCowyQUgdRxO5Ot0wM2T2Zi9VNkw2Uujvx1UR8c/1zwyZwn5buH1dzc2oVUwLAUgpd+1d0PklerAexSAJOAAAAuQGf+XRCfxMaEcc/7/oAVHuFAPMiQPnn2Kkd15O2iP6On6fJvasPdhJUh3gYk3bzziQluRDUGV15jFs+48RJZ8YA+9rUoiSUehIB6nwUAUUYUZca61ebO7lH1Wf/tvjQHw7B4QD5MAYC5J/ek8rx8ta/F35n3MEjlV4bLZJzvo6Rqc+GMVkj18fLOKcMfIImgdhjt87yuzNOk6k6MXOifBm7M1zOUz0uWUfNhsFxg28W86EfD6QAAAj4AAAAxQGf+2pCfxMUBOyUV8OAE7ToIK2AXdQT4cSyUUE4tBd9Aa3hDziZrdj1yrzSChnIV2+XAH/vUFV0ZboIqrEyP2s0VVaTEQezhEcAef2OGpvnj8SqKkQWehnUB3EcjiGfci9v+kB6Yqx0j+OhKynpJ6n3aSo25aGRTudJ7HXvntQzte/Jc+h37N7UfhTLimBxLnGV7YJ3uyl+hDU//PXHfxYLdoGfojYPeyoa2sYrhJDHF7ETZLj07ROnR3gqM1QeQcp+cAD/AAAA90Gb4EmoQWyZTAhv//6MsAk+ZcwytZ2TZ5/+Qz9GfNFoin2DH7E0HaZHdWwEoErgoRcmACQYwTco5NDEG5gYkW/xN7bWOckQt4//DqZgfyo+OUJ9ropCojt/u1y071XbeXDRbjnpEDRefOIYwJHTSvP0yUMcN8w+LP/YURZx0TBctGCtebaC6a8JQSDUo5nJMi1EQnybJb/a9YsFpyIoRypcFGSFgkTNTFBlVOXKD7ea5vmb2jLkE47yWDq43m9YoxtS6zL3Slx36MysgHv++TdEgl6p3LxHvrXctFfkkCla1f/Rjr94HwoIFy/kj4uUthP9o/wANSAAAACEQZ4eRRUsK/8IVgH/3NAwlgplh+As36ri0E2jRqoP/EO9dzItgVR3LRNqADOo7H7RnjAdDSKVSOGr/U7QeKpz93mRPtUay3oOVy4+NrsHqMcbv2j6HNiQisrtx6FzZD8RI75Fq+SOBXuJRBIMo2GeSNZMtsDpuG3oN0k3oTu/NPBZAKmAAAAAvAGePXRCfwvepyoUvOw+VgYA1IUcgQMln9KBQA2yyKeE+uODfD1gySg06vqDlZAdmnVM9o/WpGp1QfUFsRWsrnELz7QQxR+Jj9OG5sPoLsRQNsDYAQGz4/7BpjbeWX0cYrKuDu/KvrikMrBjgZDU08F7LFVoHyb7t+P8js27d02uFmhmDD784ba3PFFWFS+EWRrzfuSMtEbO4GJUEo3xRd5T8XjB+cZNMGdZ0vPWmAZdVgyZLUvxotWOgBSRAAAAwgGeP2pCfwvwpfNMk4fmwPPokFm7I6y8jpKTgAQp2cZz/qHQFYcmZ4nGQKzntTaxG7l1VavuxriqKyePXx6wZkmnK98Ba7fYEefkh0UOZ/k2uTxkEFsXnSroUatSOADcJ/HT5o2vwlEwjtvLns04Riesjzy6RcrraEGdFWH322zhyTqVLPXXjsEdDQkYimx5zEmyVS3I5JVB0psJvNbSCSIdh8/8xp6CMIsqYlAxMZrLB4kqmWAwJkpZtTTW1DWQAEPAAAABO0GaJEmoQWyZTAhn//44QAq8gDzW6TQz53tegJ/7eE4SMnXeRuj1mABHap5xU8KGv0uzMf8qOfbt0aDBhle2OxufV2Y7gu+Jx7uMVt44krEnuQvAhpPuqoe7RknOjGyT7zU0jIbDnk/maa6O2ga0TYm1Ftb5atdDYoW+LoTXqhAx4bcZIPASRZChL+u43iJ66VzvInbtdBzZqyt9zL3Omnngv4Ho9XQu/faQhkvWOWuawDS6k3D7e3Qs6Fp/9//fK/kFMdmrc2yLLKJ40Ol0oLADVtJGC+DZk+pIucVC0OKdAlKbB/KnnggOOPQegvSUGaVROSkWzPM9ENvSdHmC4GKKW5t9Silc1lsNzVYJTBLybr9CAeIiOD3VsCzVO3t2W6h7cS3dhLhSNRp6YtYdvoWp7BN1KN8DRAQMWQAAAMNBnkJFFSwr/whWA2NIVJ9R+mcMsYABOIM0x/A2hJQpoJkIWioKL6BxvYTFqEhqv+GzQQ03dJrzT3CNuiPWvz0mtq6gyrtyyHxQJ08UwnWzELMC/k63P8JTNhb23/09M8wbkOmHHKgcPG0INziQoniylcnCrRM1J1uFa9YjSs1exSC60mRA+MnOtfMcpMRFnUSe/II9btsbNMEbKIZtS2acNy+BG0eAyIg9i4BqriaXeTpM3lVEZKLY8tEOvhAXgZ1IDWkAAACvAZ5hdEJ/C96mQbByMzc5z2HUXmtVf8wxS1k/SjXOBoAmaLb/CMU4nQALFnQxEoK5hLrK9NwTQOBlm3+lv248dRgnkXUSl+1dS6sEOsR4iNXSlAt0F86Mn1XsUiKLWzDrxjtpeHYczWmQ/B/eFmW17Fu+RWp/uvUz96+CAezNwcnWotWR3v4IKTbkzYEqXXrwJdGj+IUJ1h28D4bHh/WcYYQbZvbw9n+21UJ4VcRWwAAAALsBnmNqQn8L8KV/nmGCMeD/dj7OP1sJRxc0kzACH533iDGuNkkFMCogrEq6naw+3hDI/ZqpZjU4R5GxzxxF5Xoj1HcKDHBwTWGoigZ/K6qytQuDh3VVct+EFwy+hWljJyhHPWJ5Q1jMt41x545WR0eqc8JC4VsNSNBGCE1ryC3Ya3GP4S3pwSafQZ8d6uUiPaHHE7MQ0qOf7KtrGg4CD4mqbId6UgICxJF5JA8LdbDy8TUUavB6egDREgNTAAABAEGaaEmoQWyZTAhf//3xABpt/2suCIjayi5vhcCU4AX+tKb/zClTCwidqoSwqgyJt9RqI9sKEkCvmHnBLDUe+8JUtAVS0I8XLpy7NCyLaNBY3vC5Gb1ofO/29GlnIIF7kAOJiw2Us9pMibfbbs/aauRqXjlIIzklX5jBQ+uSNSq5tcUfTdZjikK6iDMLT/5k6b459HV8rG8+OrWabeJTqB0h79azTKIRq/0nxqtDEN7ako36ju9/5fPMZQxtLtaESre9ba7TB/p7ilz6TQqHN+acHIw4aLdw38s6iDSkeamGtlDNaz3oLw3kjdzxcP0GOdcC2j3peGw7Be6Y592GCTgAAAEAQZ6GRRUsK/8IVgNjRy3RAXdmbZrizk4m3jtzPypByfp869g7vzr20AJV3FLz0k0cSfQHPkjueDmQCf0jwx4w5moHDXR7GfTnRqJ2xAbcAh0+IxG0dOJqlXD3V7/KVZunUdU5tFifIfHlr++/C5M9vVngMJauCoVKDqPmLil7hBKwbarwfnCAkJq2sCzu1yB9Gbs0XZcnusO1MftH8Qxpdlf0GzzjdV6Xa0LWYxQMTTcR/VlBunoHwVgVn0SXo18Zydc+BeWz3P7lRjnHkIiWvOoQVe2Ft0ZHESXQSFmtXmpaZqr3WbJEDvjb0d9xa3IeBt8GOa1OkvCegTXA34B9wQAAALoBnqV0Qn8L3qZBdhbpHfv9DMYOupFEkOtOdeysCKG2xW4Oh8+OfdOR7+EVkGbyD6qmLrgda8wTbNydjLCnwI/aIUS00ooaOVkFq1OLQ5BlAWyRB3HrCAp5TSCHWAFDAwj/G79DgRLQ9/0JKoclirPPYHZ8YnOmDcvG0L4CAZsd12r7GOB3+N6H+Q0CrHRa4NVJcpZ8vorm39mUNlogJX8efXdu0sjJEnxcjaRDISSPtLmJ7mbs48AACtkAAADIAZ6nakJ/C/ClgLjGPMLx8Bki9UbjtRL12QlE7ie4bTeFtHEtmSMJPWGRdIAAAlqnNmloUMaQyDDFvPYnBsJyghDBUW8eY+P/vs+91pr13mAKGa3gqVl9eqDjaeHAIUTJyIoTe6ZY+rdsP/MhO2HvBEGNqtMvKzKSiZMAlj1bSfe2YcPxaQSksfRHwItMkCdNkDxzTIsAXaXUPFcuQRsZEeHIMU6f0ac1LrdM/wkss7dvTv/FCEy7cWpTPRIxdYmZ8qT9+cFoC7gAAAFAQZqsSahBbJlMCG///oywAQhDAaUMxttQAQbh4vl26LSLa+WblRVzLpkX4Qy8q/1McU6MIIfBp2jhf6vR1p9148GnNj8IjYXaYTH/GmBUbJcK5isj/VObjpb9WxlJ7jXM8GP4kQjph49SCA0pRKxpicq0d1svtZWhhmZ7mTv2q86JVYbIthVDPveAmJnWrNgnmkTB1zmnKkyL4OA0K3icYq+BQdjY6DW4g/waAdyX+knrYpSCXfIjxFk8PoG87dePU752SlSEXLnWf4XDWczs84CnizOAsgMkU2e6b0ahV+R+g53YVbMkmxzLGxzGa3pAOHLHlMECCQnEOnoWXqButhaCa4IYN/ADOCeT6fHLjQdzMbLLQhIcIvGAqUTRVtJ9jzE6f0r78zSlux2m2nzbBmeCKiLRyIVQrhXzOJgAMqAAAADrQZ7KRRUsK/8IVgNcyI2YnIARVOrc8cK9EDc0rfON/3HBPgmgCemDm7tBt2QvyuGnO+3JByJbdZGTa3srg8L/anrjGygXpsjpYl5IyNNtEXkf8DnjjKHgi6Lsx/5YdSjgKiHQ3iNSztfBrthoguEAgp5pQ1Da6NEsKb20N82Zs5IpiIVYodZWBbN5WVRvv1EFMQims8kXHvXHTayGEQHS2d2Pv97wOIJQCuAKRSP65265gSVdPfHgmvA/JMK0b37NvOh2l3sBRQsUNqTzFBCfOVAuLvqJcONqbRoXUArbvP0Nhucc6MAeOqgIOQAAAH8Bnul0Qn8L3qYCC8zwLbEgy14f5iz4bX3ToATE600X1RI20ifuNPvjom0VxZ/XVDKGxjf7utpfKby1rxa6Od+ziDFh0vs7zlATedbjpHRaWjEYH2+wuqoGKApJvPUgZozaYLfiWg7yAv1bykLA0Gu/xZZzfr/PTgvnLPlLAAG9AAAAqwGe62pCfwvwpWEkKyrJdQv1CnAerGXepxFJABNW0YLQTqyeholSnYzJNDErti6MR1/f0M7BgG3SWr5C2ZjO/tPQQ9OV41FNjSs4DjRXjjVVRrFENvzlOpFFbt8NTYY3gYp6vRTxtpsDycaB3s7e4NElS/ZSpv79Nb01DGQAX2+lgiRvv3HG5v39yyzfxVtLYQ8D/6O9Zt4yAUGUcFeFfdHz/9rEygjYMPYu4QAAAOZBmvBJqEFsmUwIb//+jLABCem9Nd8cv7t3xqfZpwAZbOZWjyde1TZukT4QDgBY36Leqi0NaL4Xz9XLYFUbMvt8jSDMwtYeq89Ps5AWmanBC++N5Di0lEi7j62ADH92wrMErl2h9QOhg3X/D8HVEBW6cbsMP43M/MX1/f3JMZEa3cOoXMTEyK9Csr+f8E2DmDBkwkKo3pF2+Ob0Ym+GuS6wc5KWZVmVG89doVeC+2Ftne4C8y7JA/7ri605TeHB/J80h73XMiDRBFWvja+tIZQIzyMeEhAXdlbDcHsibvERzKrYDW8EHAAAAMNBnw5FFSwr/whWA1zLrXGfChiLpZIQAZztM02ldHJUjXmwzqvMUy5S/Le38Tuf5///3a1xl33HGZcjwm8doq1jKBrje4xnURBxGDJ3PjqnjJCfa7VXkN043HU0Xurgk5t34cz7x29mKEQsOl75c/36tMp5IobgQQgvu/YJaub47ee6dYrNsGZ8OJpwrNH+hfzEFf8XP+bfV4j+HBvOmDhXwoI5v0o66LRGawkywt3YUaSMVHCQtukLFznAsC+O9MTQBx0AAACLAZ8tdEJ/C96mAkmKSOB6Y7ql9Ber4eCCXN0bzIzvBDMq5yEgFayCKGso/MC2K6kjMd39+PgBZCXsjIgBdzsaClyZr8H3svgkvpGElbIWtZ5uxtH2LeW0zJNaBFnqzvLQJJ3GqW8dZwUr5XeVo8M7HRqMnJhGaGQwSuU+k8PfTHMtNnw8wRjDsgAGPQAAAK0Bny9qQn8L8KVVgXgNSHN38fuACR1RmiyNdGB/CeJC2F+uOAsubeG7mTZMK3IVSNC3hdqlns2QCYEDFLR0RvlcL1gQwjwVE7AMW6521jJFBhE+ZbL2cznwZfp60POGlaw+YEJrMm6fs0v0M9sL1boUwr8/guX/iBeo+1X8n84RmXg6ZdLyb462EMFUkgN3QRymzaNjST79enOjpDa9JRe3D2CSFsIFlEd2qAANaQAAAP1BmzRJqEFsmUwIb//+jLAAdINSwAmr0ud8torI0bmOvfZieh9jVyLqZlry+GX0BrwNSV8vIzHhOsJCgIyHB2wq4CVxCReXMbiNgkHxT3PdXaMZoso/Op9MsxlE93796V4owiyyOLLUUy2QSl9mjpgTD+Jb2UcxY/sUf3SVWDsf7U9EeEVyOjpRKD+fu37rzj5Xrie3x5oIRfnhSuNVkSb/rDmh/e9fVAWly3qLt4uWeOEamnnzada4Q78VgQfdmSmquefgoqh1IH2DmCs7ceEn1pRaYa9ZvqI109ab91pq/HFKnIhK9NVM0/Nb6BIgsbwp4B7dIZd4NdyBABNxAAAArEGfUkUVLCv/CFYDWrCWTrWDzb3OegBZIxqfRYuF4EwEYIJCQ7v8mDMikrCPNjBwOcC7pOOsIqN87uYxjzmBNNOSruYwNOZdAhSTT7ay9LH/NKgjy44NmATh4f4JGXd71o8ENohDdu6g/83Lq0MLEu0GexwaaLpkAg0GoZRIOYMsqiSwfQZsWJNGwcwGi7k6BUOeTzu5yq1b4l0OyIOHdP5XdJLC6ZIq3+JABJwAAACfAZ9xdEJ/C96l67WMrZmZO19wAWuZ4K3vMkYgcicDMAEqS1eoP/VtPUqdpxmoUqb+QEsW4A1NF2h2Ym0ACEkCwPeqTv+XlGcmP2FyJzIjN9cp3C5vwnX4WFsYR1b4FbGBmZdl9lstMlgIbDxjTHCi4rxR68gxFlRoH43f23XQPiDjeBPLSSGqSZqyvO9Y0qWbcqcUeTToXzlLbRzOZAgYAAAAtgGfc2pCfwvwpVZPUs2C4wo3gCJi/PCz+Y9z4oBrT8TYCkvaLpSvw+5X+LUL6ByFKAd/S9l6gQz1Bae3IO0D7gFhy2stqf/nw8WkWOcJM838J0xQEerCCl2/LXYoImsSROmh+Kl7PftLKUJI3u1ZPoo5YbaGnI6k1zyJMcfiUhvLnc6vPU74bPPc00p3l4dn0pBTkS9/M5hiqZACE24zFTTuOhzgAKfWRthHHLUSMp4WiBnH3Ac1AAAA7UGbeEmoQWyZTAhn//44QAHG9SOQf+mkZD/tpoXz7voAD/l4PwGn3H+MlnArqjjKFDSa48rBv3xlr3K1pcWHn4P4QVos9C4vy90b49s8WJIuQFoK5+OzDIenM6bhv2F9qNR2rEUnm3dEzzURpkiBPCWGnUuSjApaLJqVojmCmXCGMBUmsHt80zrtc4oXSl6cLd+kPRGyfF1tjLwL3asrA1xDp/PzAVCHZ8Nb5YzogYqo0dtVjK9RNvMvsBfNgwy+IXcX+L5yRiccA0pE4uF6OObHzd405hf1XYWWKQN3vVfaEoHFXjHzI9haQ6A3oAAAANtBn5ZFFSwr/whWA1qwCelY6j7WthM1ouYHufgAE41gvTN/d4IucV2syHSOk9rXofho8WKD7j/3PHMvOxCR7U1RkX52jEuS3CGBEnD+M2nG6gXd8inGYR6y0RhpSwDoeKJcgAM30bib3llD5AynpIljc2oyAfMI4E65VKWE7risjCfjwk7eHKQDikh//0eqFujzaVcwMdSrEp1H9/F4LzOo2h/LFw1AhXAsooRC9OsiG+VhCs4mVfC1ZzkESckuvAujiKhk8jsqFgKxlhO12LEEDBwvBTy4YkbwBJwAAACnAZ+1dEJ/C96l7JRavxBD5h99avl51J+MKww1f37nj3q+nQlS4ATH6o/COONOaYTXnxHkX4ax26ka8eZvpahrTGUM4EBZpbukPsz2s+iPGKeYDz4fdKjSr2WRSEzRFg5gam/Ade1WWWwNZ5Fb0ql7e6c3MbfJImUs83amV8IbC6+13GHgv7EvQD6oJ22EOX0HLOvQsm9w39fc+briqAxhli68CEgAEnEAAAC4AZ+3akJ/C/ClVYGpsGJXkI/gCrT/QT8oYiToDmheeLPwh9eF0ggAkce3bVjOxKDDR/avlmdZv3ZMlK6gec85x8o07t8qkSgajYH6ve1PAGhsp1/K/5nlgyKJdwFsIp/bX//aOTbAf1pOPMEfxA9i8v2o6ywh0Gs1B9kPDNBpWHKlVnReAo/au+QVSVegT3JWvgxFSXUWEjRaAIoIltRW/ytmiZwCty4dVStMusBOX+OCIruBGQAELQAAAPhBm7xJqEFsmUwIV//94QAGT9G/zBnXS1HCg/Ce9EBNgTBpyABEqQepMCgUvqD/7jXBwC7NrzglNJcqznpsQUNQz/3HLqZzwrmmGw+4iLKof9Ie+vFYCWBhlvOK/bxG+t0Ocn54bEMXtbe2+m+3Q+r7f/3fR7QFwFzI5ingicpUwDcOAUFyqQd81WoX6Vwujnk6zzV/04yVMHjdmKcvqRLJbClCgrHqc7t2nzSHi82314CV3aDoz5fS5km3TioEQNufEsQEEWyh4XWX7dummNtNfeVMldAwtDwqIkkxds5WembAZTJDEkhKahOJtesTQr2FJYxrbM4BeQAAAPBBn9pFFSwr/whWA1qIBi2tUGN7b8isANtJJYKNCJoyvAmZyo64H15r+NUrbpDOuwUrQONeuNMSsg91L+YzjehPU6PqcVYl7mCAMBajsdztopYngkdEjEYSzr8miORd/631LVBmpj7eGUn2KKMKK9VE6bKTwvZ0F2fyNgYDQpRj8cFFwwuV6TluXvTTLIEcknbScloJRVhYt/NFKS4f4aOqdt92we+ou0XvDwCV8fwYwxNxWW6BJ+nlvenCTtmpauxFkoo5BW/zyVx5aMH+tzReFqrQj5rU8ttxR/Nt/1in/yb8/mC2Lc1gHRj3Y9eYGzAAAAC5AZ/5dEJ/C96l67YWcurmQ3h2dQAbRLzYBtSA/rk7XmT6rAs3NQMhWLDXFB0k98DMyiLqlMssOCFtV7kAk1xi0jkIB51eSGKjd1ao7CKx+W1FwA4CMaga4+4y2ZqIw5LWHiWg6hFc3NMuzr/pvJvzF0UFgRLKFNvenLD6AhHl+YFTaGH2zy1qdJ9j3hT5E9uEBmGt6oifhskciAETtsTk7T3/bUiqGK31ALQ2EC2z+IDk/CMjOWHAJmAAAAC0AZ/7akJ/C/ClVdYRTrKACl+j1XWoxB2yLWHyUF/4gJm1tG2P1ClMVR9TBCVRdRnePUwd6rI3QFv0PE7qPDD/8gLivwCSMSCca0I5d210Bd0c9gss3B8Gk1NFYeSe7spC0VwubSZjyk89V/ZFbVsAYRik+QmYKrFMkaJyYdrG9f0XRMRswo1Vh3PDUjLAgJacPcOEU5+KwbG8sw5UUe9Ccbn37WjjM0OOAQ/kMEroZm4OWGBBAAABD0Gb4EmoQWyZTAhn//44QACTdE2brWCne5cIJT+buj+1b7jwdB8fcNgDSzuNHy6X0dfDYLgWLmRwfrrE2DvT2m/c5UqxcmJM6GjvaXOLCZiHUkpmqIgfaPEowo5rmom3H5qlUaAGqAHRWV4nW/kthMQcz/rrsoiJKemaz9Hb7sl98jqgdmjTpdKslfbL2DNu5islonl8NCCOPXzFn+YAu6EWcuytoRbRd6F/+wO1dUsKOvi+imb3Cu5+TqS46iThUojEIsE1V1US7fBVXLddkuNs/qI9l8yBPuS+ca9uRyr5MSUcJDBp6ciqb8MOAPunxOSaQ29U5JNoFJYCPGtsQeseuwokRa0DNnyq30AUG/AAAACiQZ4eRRUsK/8IVgNZiqtDakZeE4KDLmQIGZtFYfDpdlE+z88+57jWoS+e/ACONhKp7WjQmhsVED7MvqrGHlF4Q88mmWlagzzi/y1zaWmLmMU41K7pnQey5jlee7v9yaNkkSLS+riw4pm/Cv6t4z+YRYgK2A1XCSCbRvTOEFKjOe4qjCWOAFYLe2qHtJg9C/RJ+nr6qYZeOQNQDFgLfu9qAEPAAAAAnwGePXRCfwvepeF3UGTGp8QE3sHQsehCt0VACT1/7aEGnCbCCExXSykGBn4z326KTcu4J68oMF/TahrS8vtrW/BRhAVad4n353F/oKku/pyPqtf18eumbPHlmQr/6Q937+LPfkNfI8Uj0mco9Ag6tzR6xp4n8rKpoD2p/oOx32GAkc+uFhT70qZct5n8adhItu76WnwZpINGLHysygA3oQAAAJEBnj9qQn8L8KVPANT2WBiOXhOwcOD7PBh78Cg6mYs1AiBmIAVvQu1IPmoxdTQj5b1fMlTnzMmfX+XgRerJAinspi+9EmbyDyKVZoWh7CQNONHuNNJWxwfRRsD89Z0BuYX3j2gRIHKbuPrQosz/NcwhyINk8dYdX2lAiqT4uGeujMIB+G/H1HYnqURf/ZwiAAb8AAABCEGaI0moQWyZTAhn//44QAA3TvQiLxSBYAjcle4ykuXdaagX2uKG2T4Cjd5B1bqe9VNaKNhskNi7mpix2Cb2azPvWy6rr3NW7LE/UBHe+PcmERj/RaGSP5ABmDbv++Y49F5xUlSI0BhPDS9sMDlfs1CY2pMeycPYZxgmngUM5UW/ngmeMu+pJwldXphxJ5R5WacgbM0tzACHjTgHP1x6AZFu2bSjSIV0VqDGfE23AWmiRFv85QhLei7HNhqZrXIN2iNoGgyaRsuQJJ1oryHr5p/qDAh1tc6Fy1db2b8/RsPbBaRHkte2oRDtoSFm/6kA5YwTrtcbDLDbxgJ7n9K0HmdNcnS9KWqBIwAAAKNBnkFFFSwn/wv4YXeBIFsV70THh6z40M67+MLwfLUyr4YYdulbOwY2ZkvU5OgA/bmjR2IrGUKYZrD/GQ1u6qeoUNbSnzuW6cfZ/99IzhqnLuG/FB8ngIN9xMBYHkfGVHEmqrB2NuarmQLu5gV3TPGjewa9BLUeBqbTqM5eakXHCwiOTRapsUf0yLAmKCP5HvzE8Jn4LfRYn1SrR2uHQcAoAATdAAAAqgGeYmpCfwvwpU8BwmKfBRTJGusXuvHhVSEOnG+RNACN6sQcWCccd6pZY57n0G2iDMBR3gAcF5u1qsOpyLq5FeRyrFP94QqxJ03V1B6aJ6F1sOf6p330dNsnzVlMPD9j6DUKVQzxOk8bxQnUX4zpsFDKFX+YElAva+uJwcuop13/t/j7mkx6Uf7bvZ4I2ReJ/iVCWGoUx4d8w8Mq1GfxQx6n4llornzjjQS8AAAA5kGaZ0moQWyZTAhX//3hAADY7/tJ/qRtIRcBZHzYdLrF2LntZOhRNb+wIYcgExtg8bzQT2YeiIIu6ofRFT+w7Td+A7zduGzr5PDIUiYAuiF/XWWkaQpciQsC5zuJmBPS/FG3ShIWXEamMXtd8LiSye+OgA7HuHaHQGfC6aiIdE1t5h0w+XV3343DhM/mZapktvdG3ZTs7BRtKeQRcA6OFGdRf9QgvSnGiK9cqmOGEZ8UnazuQa9pUednrBEUmuBkIVijzt7aOcZERUzoL5u9w7rFMdGCGqlmRXOYXFVT5AID+CdymUlfAAAAuEGehUUVLCv/CFYDWTTevNu9/ZDOEkhcRdNYbm36DH/GJMRhACu/P7b7xwXTdpDaL5tl1+6NiuMfqB07JuNMorYlYri1Tqzt5qbQRxIoLxNl43SptNwfRd+YToLGtXmJUv09KKH/8GMMFepTZrhn88+RI7Bev7DozPqMdTB6y6NF69Y6hBRGHE8u44SEZrgaIc7sxiMHAoBsNiqBqkcYdS661FLFRQTdDd9RpHqqO/6fUPb8pS4eDKgAAAB3AZ6kdEJ/C96l3gSYqCRWt09RFVuS/CJ0oVdILV+SVxwtbWZKM99jB56DRFADhVvSUuSxzhAprTMz0lADqf7+kbxyYmV/FAbiiLfxiPPHPwGHCdWQMr0rM+anx4h4joN92wcI/2cBwgdfSyT1OYCrUz9+CRIeAZkAAACIAZ6makJ/C/ClTwFeK13Owrm9xV8z2ta+HbI1fWL3Dao93/nb5QAASlVaxZvh8JKmlb/TWPD/GeZvL2sJhPdsEK5DSr9qfhvJH3g1Ry/l82+gJH966ozygkvBdh+s8rJJDMS9Fdw9B3f0+qY8txMaOudtImuYuEA9Tv5y+9pvc2PKT+UXBdl44QAAAQJBmqtJqEFsmUwIb//+jLAABeN65GMgzAAA2MGAadTwGp8so9WxcPn2Vjvtsgu8Kn0IEgrah2Nc8yvP4nuotkcKM7P4M3/QFLXWH9Rm7Xgo3myjtNrJp6/lwlEcjX/Be5F9RbbSG0cI+ggjMv0oURsJ0Lao3yXSErkVX8FvgbyToEpj12q6eGepCJZI2oFtITRicVN60n5A8m3Tg7gubdxPr5AZS1op1fx+CC2P5o4GZjTdF1zpNYyH6B3H4rop0V5gw+1TMqmBEZjiKCVynpid3++bWHsA+XaNDZm4ubGYikHNUqZz5om2AjAwj/+dwxIALWacSPWzYXeIaCz0tuuMpoAAAAC+QZ7JRRUsK/8IVgNZOK/WFxpSABwYMh30mK05ZAWMbUWfXPIk6RzX/DuaO3p47z1ejqH9CiyoCGRlBOJg42OV/Rvggf4FOlXzJ3HVAKpdXbgbJPy/rGkwW5jNhRakITrWbV3RTBSy9o7HxPKy0LHlRtQxwBEVT0rWPUstroRRPs17UeLHZdVuvyCEjuQLU5FFUxPtRl08G9Axd3/UIz2cSyZaTIGAiOdHY/IDI48sfD6Nh0mPxKSvzF/XV8BXwAAAAKoBnuh0Qn8L3qXc0F/1fIjABHQDi6qLlWisOyxeB+7EAukpCgHcu+MvVHF/Iu87ZL3ijb+C5Y8lk82JrVoeeylkcxXWUEMEa38NW4TkLjY3sX0RQ/g/i89l7hPRRudR3o9zynb6aqeTKMD/6WvAFhXDvgkeJKaAAiZR2MbSOi2zISM0zLsNF9tKkPNqXCwUe8E5CQnk+XPT0Gt8jROxGxt9RU2FKcLhFaDpgQAAAJ8BnupqQn8L8KVPGfAjL7xc87Ta4ANtaDy+GpdghJZylSlVZ5AFSSM4dJGSeT2UDy3BJ2nigjoUN8+ze767xSaN/iS6FMGMdZY5/Ci0lLva7q3Zcn7ZUNPDV3YtWP4QjaJ8IVeQrtWzT/ihCM1zHYiMwhcXV4PfVrZ+aoMRL+DJa3DS/8T75Ahume1B2loE653tyuyWC/40XNMJGdQQD0gAAADfQZrvSahBbJlMCGf//jhAABau6Hr74AD8pEhRe4vl9uLryru3gMHDa+W7C8myyqLxNCCQKnbhNS8z8fjF8onsbZrpjjoc7NDPTYkNLbprFdrspomrERQQtYVNZaXOnPr514NweXPI7BQJ7OTd6ZJpSUhWIquTXCZwWeUrtlIBe5rQQY1o1N1u1pESC0Uhi4Gqc6sZnHPTNEliLScE487kELKZ33fzrDGkz/6KVS1SpoELLEHSIbwGUT6kvw80v0ks7ys3ByZa5rcQ340oPTy1PcdpnOXbT4Q3AJ3gmrCygQAAAK9Bnw1FFSwr/whWA1k7kGUA1e5JOwy9xB5oKFKe0yHaepWukhQ4S+iP87zFES8WohSAYQXh9ymnazpII7CBOk2dGn+cxx/mMAqeayemarokJUXK1fCS08whPBZqijPOARV7ULCx9ZK9K0OzyN1BPYSZuk3m6GgtvTGZhazLiIU1oz8Y+2FSs+qIq16RhThW4h6JkY43ZJ9+i6XIpSGeNCaUNY4Tr/1hAxzoz9/gAHHAAAAAigGfLHRCfwvepd5UK+zEAmFKzJz/VWdB9NpCC0Lw7Kf0aeusJDSTjGHmRmDC/++q+LsFOztC6mu09oo2dHueO9kVVXwLVzEUuPYmLRJuuXnUkn8UjjRXFrL99CMJfo5o79ju9BCspU3Xy1PL24drTea0a6dtxrGZEy5/9py2ruN+4r0Kt1na/uKGfQAAAH0Bny5qQn8L8KVPKV4xs/d35kKqaSpNcDgVTaQkPmFMXvVOsDctnUMDvNHzFFXSrgtpLfd+KDt1oAAjAQB1u/oNKZPyQlgCyytV6io2p/g2qUmo8k2wchrlE6G/8cRdW2RyhomqqokekvBZdkFzICcrDkizx0W5+/9RkyAj4QAAASFBmzNJqEFsmUwIV//94QAAUjk+HV3NCVPswgQB+56Uk/VbeU+NWNyUSJPpcp5elTnJ/FzrN2YyBO9gXLlseUFTdPHA6HKz/8MEKW4o8AEAH9j3NPgjNdYk8kE4FdxIdeFBM8L4XcTPPKe1YTRAUpwmzzV5K3xZQopSxIlWb9sofrO/rZSMaps9NZghOPw5J11AvJhJXtRsMFPlxXaIBF23bwJYc9N8DZ/cX+yeoLfkHAVtvnhKI/wn7CpKeWa6iQMx2yTHVTndDT8ystjTHo7axclULPEXO+OPX+hWVUVm0/cZIEv0r5C/5k9DqvblS0Je0fFF4maXzu0Kl+iexUKmJL/OlycemdwxPU7PkDjp7B7mwZ0FS0PwvgDL/QSOook5AAAAkEGfUUUVLCv/CFYDWTi9TA0aB6x25kc/0GHRyjSrpd9IABCyyJOqUB1pNv3a2OyuZ7Dx7M0m2jIOsnrX8t7/VqZLeL399nSrbTGGBA3nY3wCfLhMtNj/Gonve+NdUbeWVuVTPZXU+eK1puh1lOXCDRFxu4WB4KYYMfoKbJDDhVktmb2Rut+laSacLL3NfcDAgQAAAG0Bn3B0Qn8L3qXeMoWfV2zMDml24ACzwFfgj1Q5J6v3hR3vpTUNqfDfTzvV6Nmt5FVwIOxtZUERcciBDeawjPHnORu+e/1uMP6pLWM59rCM4to9u4dAe4l/k+zZxXEVW5LlOufzQEcmjFuG6z3QAAAAbAGfcmpCfwvwpU8Z8FYgsun44YPgwzg8gMa+ZM9e5Emt4gABMDssUFa7UtOMHAX2it8ls2bmv2vhnqPD7oIFIW2l0FNsRkEOI0qW41C4e/Bm8cqTEPVqGk2SZTU6fmrQVoAkX4+zHJke5mlNwAAAAO9Bm3dJqEFsmUwIX//98QAAE0yY1He8QO6THVDALdu18W16fRVoRxIKPe3kCpc34Mm7+AY1KyATHhWWtpsy7wycg6TBN7UnOAMF8ZXtyONBaGTpOAlSZW2QP/j5uhY9enlNRuc67YRnbbHkDD5HILIpqplq+13poii5c4NN/XB2ET/iLnQ4IfWVtfLpBHOKMjfN0dfXbrCRpA1OhJDDFDR7NgQ6ipBFEbYxTC89E2g+Rn7r4Ql9hyBMrtLC9RMIC1czJCMn/II9nYaLrWjuibKNE6ECbhombfqP8eCi1zIWKh/+cNM0eyWLOESEH5wi4QAAAJhBn5VFFSwr/whWA1k4vUwOVuqu9P4uAERVvEkRKB/fnbl/CbCE4AEOEtU8zjJfFmhhLEQgnkkj3tPr+sF4ePwpe+Jb7wP9ecCelh8WnE+g7begzLoJTSKaxH/dVrC7ummCtIHYiQA5tZy4/IGSZehGH4/hmTZAgUEmbATkdg9Hf6xnyP52BDAewz1L6UNs+fzgauoBUnQCDgAAAKUBn7R0Qn8L3qXeMoWfhjdfGAdczwhMHdb1b/MkkKtz6AhyspjYAK4bbroi3rU2c7ki32x/xzwdTmo+tlN+du2wl3kMbBIgyMjJ3i4/AhXYyfEoDiq3zo9vgi8wePuC7RCkmkeI9iycviD2CaBNj4dDYxxvvXROni07/4FppQ6q+7Mu0SdhIDBXd3s2zwS7stRhwRTzPebgNv99CvB1e3E2uBXAi4AAAACpAZ+2akJ/C/ClTxnwVisr9J7pcX3ASqViv7hFChiv4jnZsAFh6C3XJCTEHMUwIXbJcnPW7p5MNM4SebZa2U3FAA/QHcYLYZr78UpNdbGVzL4QPGoAexbTj374n4/08GlOm3DYZlQhb4VSokIkizpHGOx1H/ZDi1EvCS/jUeQbgeaLCQqjHyIJ6f2IG+kCyjk0439RAjJWOMToQIOaFa4+eWXwQdfgQIwCgwAAAQtBm7tJqEFsmUwIX//98QAAE26JEhQ4xfi5Ioy6wgihABtBVxgiUiYx4RnrtqTYUJbDXVJppkxWH3WBXMoJ4Yo2dx/FVPXJhrdHjryrU3Ni+X8dqjj1dEm2mQVBR0JJXaWqWsqN8/VmH4IosGuvL/AIyZsfXd7/tJf4xo19uARnT65vVnmycaMOz8rr0HoPIsfkG2qiqjAwAZdQO14MuuwGDA9oddQq1YPau6Kaffhiaq8mk/PEJv/emIJFiv5REqz6XlS/dWS9Om3kZsD+qctHKA2G0qVOdarZR6keN2kZbvMsgp7oW67VUoIhAOatTaYzUwUvujUCCRgO1ffWBFzJls2O27oQYd2ErKkAAACuQZ/ZRRUsK/8IVgNZOL1MDfuMc0YkVD3VGMusUymX6eAkigBZ0xdWaGl10P68eyuYkpVwutCR0OjMR7K3UymRx0emjrT/BLEY0d9Z4cq2005onb7f01pK0dQw7WEEx6lJxKQm+7rZraeXQqE4kj2H1GmeS6anwcVlj9KGnuYCsFig2Vc0cH8aFLTez89kbQ+fhH5TMEAWic6JaWiX1eZrf1FfyE4Xvdg478A4AJeBAAAAggGf+HRCfwvepd4yhZ90yyngAJZ7LBMNkEDor1QAXQAvWuJ3NWDfCYLLbQ3oBhuv3hfLVtzYKXJcks4gGrPOexRtol6naU8cOzvW/IxOicJ4OLZyGKib+fRKI+Bhm37E4vjwIUCpVnOp9EH6s0GeULZkLbOWC6RaVe26/IIzIugACNgAAACvAZ/6akJ/C/ClTxnwQqt2EDiPhqTeABO18EuAkznD28YT7fEdxoqJ2VoalzP5Fd7fn0EFbmsff/BcT84MFNN4YpIy3bHsJ2uPusdnx4oNfj3pV+lo893b+NLl6KICK1KGLSb73V721e+qwPbIY8N+UC01UY0GE8ngfc82xli3cp9eD3KRwfXsAhj+9CMYRQ6YkQ9N2Jz3ZEef6RuzpBbZnwNfEI04laCydySiZYbXpgAAAQ9Bm/9JqEFsmUwIX//98QAACHcQcDigcADgx7admP1WCC/LMP6qm7az3V6FeKt3PgEFcbCwijG40C6hVn+2JldC1JGlo2dsVZN9i8L8lFl6Kb26kWTM2KW31PfNPSBQesTmY9E5r4IQH1WZY0KiDrk9sBBB7bWrenkfi4jEpUPti0Fgw7JsmV21wdwucXxaMMCO57ST1rrnL9WfK2i3Hv2abmXQnIa/KOT4tOID5CGqngCvg4lwmdqqHYpfZdcRhJk4v7f6PGwFKHYr+KwZobW8E4A9VGZPTbRzj9fIGJS9ZZQ5hKj34Oes1sFkG4Abk+jp8L/EyTOjMGpzR4qV2EPg59CbJ+mbjdWNCAi3N1mBAAAAu0GeHUUVLCv/CFYDWTi9S1rnDFA0AoF2qS602UZx9pJL8gOl5fBAFGEwrrRkYH4lkUO8R4mD7hNb9tx1Fk6uL/tKKqNhlErzExJNJD4W09T3xMT3FRzZ1Wcjh229hdMz7roVk9jgXTL1wQeSQSvfICV49LGqKtMRhZG6GgTHpv5fRsfsXD9FN5jVeAlqKXwlnuz8YI/ISzDS3eubmraqO0rmSFg8DpaQcs7fS65jhPS8fWUKn6tqJOUQWUAAAAC2AZ48dEJ/C96l3jKFcMR1ROsrCl/618ALcEU8VCl9lZCUIAR37NclK4nLb8S9WOjmA5LVGnoGS5RLHjO3y1WBqY8nlGwDMhobaCc3PPeEyGj0OxFTM1OFR6/zz97MjUY/hPxHFQbUorujRlSmPrKMrcUFN+jZdQkwwgjHWcsLbQvjR8/4tuAmr/3mubCaAcPu7V1+tenFuqioGFR/iAKRk3l0x2m9vukg0UaF2H0tT/b/Ua0AAdMAAACuAZ4+akJ/C/ClTxnwREG2+QALyU2aq4+0b6HS1z2NgpCLfvxNPpBAkbJRq/K7y/E0FlEH8rBbb9tyYbf+IxGQSZ9cMsuEo4rcsw2vVRha/FxIBIlB82tfmoRbziMpNzsRehZBSc1urUkmFUiZJaqe0H2z13QGyPI5iLZaYRcQxiPvo6EOhSdX23NafTHjOEwRgTYwDpaWJx5zbQDmabF2+7ZPHnjALPtRJX4pqh+RAAABMEGaI0moQWyZTAhX//3hAAANj6N3u5n/nW1Soy+vcv0xRoLH6gCfPoWwL9jGm76OZ1g67fjOCUU6q4o2Pq5zEEYsYuc5FYFtSDfm2zbzRNRSBrUm36eryNki6+PcXv+LeOl0xr/vfYCSzOIZUj8rLZ/ZJYn8XBrFt9BIg16N2NNyIptMmwvXViWP01irhjAR80CPEKaEcI0jpGndMduYz9QsXbDbZ+ngoUl/NtXka26j2SPyzsraxQWeAD8WC6Ap548JEA3NDtVhqJk4ZZAIMur/1J4EtJlWwTev1A/LtseSNKctQoJz2EnMK6A3rVapYtrt8/nYjbv2w8pKuNRoycyv/NC+K2RhYrEM1frQUfBtWUR+eDG8i6PIitpPniTQzgwqEiFg4fJo9M+9l1bABlQAAACgQZ5BRRUsK/8IVgNZOL1LWqHlEZvFtn/Qjt2qfpS6PNAPkSQnhfR5hFjDeL9gBnRKGYAWDlidOje2/heAEyrmV5Ua+siVxtLh/dxR7u2h27TPyqM+ye1rKCGnc4m2po1+e3VqPw+D+86xvAlC+tim/kwodrdaS8/gECZY7xtuu+58SmxxY/hDaIsPdXW+eD0dp5+s/yrhisRPbw5tCQgKSQAAAKcBnmB0Qn8L3qXeMoVz2AqAOI/obBbn5i9EpGp4PoX6lci/TpEoMJruCYjgGZzDg4Of+kJ3V1fv6kCJrSckHt59QCGkma17EXxVr6INUlosX5W+i0zdP57Q+mLYPBtHJXz72hzx1BHyd6Z8GkCOGrtKhQsypcQ6lxm/oXNY0tCBxilVy6fgFP8ow0/JkA5AUcVtqtaIHF44GV88gdJQuMxMHtfmXUABLwAAAIgBnmJqQn8L8KVPGfA7Tsnex5firv1sJOeG2gAuoC3fIva+054AhwP983nPyeGtIDUK5BT+YdPcrFzo1AkahbP9cceClYiq1c08+2TTiDHZCVPqjQJrSdQh+rQpr08wWrYttoXISb5BPFO0o/7YSVLcvDqnKHZQRucVOtMFSndRHiWIG6rp1gLKAAAAwEGaZUmoQWyZTBRML//98QAAAwLDkT2rGwVcbiVmdislyemAB9zGky2IaQJQtPAQTgJz3wTGwn7cs0zFD/4LVyPgIWMauydtFqS4nT9fmTyuaZl4BWFy4Tys2r76xEbwQKKgPhCBqchkdG5jLqaPi+Ae3TbzjRFMrQ0ahylRPtkCw+9nJ2FpO86mi9Sj2wANlZ5pYf2dzbgV3mJgozb0AGNj1Ly0Zr2FQyc0YZMXZIygLeY5Tw17SaijbLU+40RxoQAAAJABnoRqQn8L+GF3jSNF013cQyRrYL9YeCoA0/OMfmygPAsCX8buocZybUDVzOtmy9/00wAS1WgLqqt5Y4tgyQZfV/aMl4pJ5kP78wOfle5ls3F/ImjQ1TMZkh5Gl9Rs4LU8wL+/81nuOb1E8AcRSwBNlcSqJAhlJjG5VC58PWr6fPQfslsefl8NgB5bU9UwqYAAAADBQZqJSeEKUmUwIX/98QAAAwLDD7dfLcHAp46PKPL7JWd07MPLKC3tjv/QYGdZ1tM/7/aJ76dLejuiHcUttVUce/K5Ab44C9/IgXxXYeHnVroN7PeVNGcHJOmLyC//gna5ifZLKIaxlTZ6bc1wDLjkvWmV/iT5QTmVs1+v8jZ8fNhb3rLV6ejmo9MKv5TDb55mPCQiPJ0+Sz7pyOVbhq+Ww1I/LpaZuLJTKy77yN6btQHWjSoH7x2KxR9L1s9t3pxTcQAAALNBnqdFNEwr/whTIxowOIGCaWS8LcIRMzeldXa2F27eyAOVFzvSizNL5yN2b+irYUqarr69JxywkTv+muNhYuNBtx3wF6mS0724lzuxRCe4wuhABkeaRoVMoBqmQSPQUgi2HtJ+CyKFadbE613c0NdtHvOUTuXAABJIPT1ZWLdIMq5Xzu8LuLXcWZszxe3mUGT7+KNVFrGLfFwnJQdDqTZTssvMOHBS3ld89dbqyMVHJNBZQQAAAIABnsZ0Qn8L3qXeMoVc242eqIoZO16yonFuSv/nuKXSvsKyPtatsx2qUbQALa5FKzKZhRa1G5Fkyxz2xasYHtU72XuaN2zj7mCjwviiNZNLo9ihW0qB42B1ViPNv9Og94Gr4muP/aPtMH/z2eGsAsigtIKAhD7poGNAboCTeCgsoAAAAHkBnshqQn8L8KVPGfA7Tsm7HKAAN1zP4jz9cdUUY9xs94LOhx4ocATKD3BhIO10Xjw5NHJB72bN5bwehrsEzIg0LqAKH1CHSK0f6tAG0z5QePZ6slJsc2T+aTuuSGiG4m0OesZiJYY7GVMPGWPj3cpmRFkxsM3iFoFBAAAAwUGazUmoQWiZTAhf//3xAAADAxOpuBeXqAAugrZCYWQGAbaw/RJJ/xP/wc7pLpxlk/PUcliDv4rV9N/nTnpa22n8Sp07lhx2K9EyAD0RghOIESUZR2kkTpdNNmvEkdiMQcdISbP1uIuWaZYQpvloH6YSZ5JBfuM6JZYGSzGxD9XsEkYpIBYRG48ZynfsliC+f+TK8D2mghfTktoxbLS6H9eFhXFMHzcCbaqCOIFLtp6IpELZFbhbkFREZMmZd4osdKUAAAC6QZ7rRREsK/8IVgNZOL1LBNR2fV6osDLd+WABdRsRAVwa6kDkJaK83rtLRx5fWpse53uG4dVGxchE7DtdM4B+jgrI2D24Ww5qaLaVtJfoLRWtJXZc8/cheKGuVr1+6cY2ppr9QgjkoGWZJ/cujGh25S7njXK/eb/SlprqhwNYK9aSJ6S1d08bUpZUJ6Me9SmAe8FQoUQuxwf2AERs+VkdEu5ecioRGCivy9WB/Zc2sgOHqyfICkfEZQQ8AAAAqQGfCnRCfwvepd4yhVzblK9JIGHLvABbOypqUv+SbKYBYbIwiO/PEV1ZrwjzJq2/JgYBatLhj2/ZBtl0ztDrsvHZlabJr/gBWypYkQYRzlKpzpWNZpUoqIrVXnRIa008m+ob7Fpvu2+fPmudn5uxP4IxFEs9TTK2DNJ4clnYlS7QF1WmhPNcnLNsde4caVakDjhFkehkmQ11uguU2ljexQsqrijOs/m8JuEAAADDAZ8MakJ/C/ClTxnwO06rp9kCymCvADddpP+9WTcrpLXwtd/k6UkYtXest6BYqeTMzZ04IlJvD3fXQQH8JJ9+ivO8wro5CXFAvdK/lGGh3ThP6VaoQ/OmCsvCE5Pyr7i2UTWNmF3uYpTqUmedMgvGH06X1/XJkPD6KO8JJUJ/4fYeA6iPThqFijbHm7n0+dXT+x4vjUhQOtPtc5fAjHiFhz4FCFPsn4xLqLK5Ebm9HiTypnVmzdgaEqePCIA3Dy/+8ATcAAAA30GbEUmoQWyZTAhf//3xAAADAxPpuvq713REC/rp7zAFFtNuXAX1OYcn9Wv+SACYs78JZq+8QqM8rOQqFlb4X/ZmXgK6edRK40a3Knx29KHg/HNNUBtpIdXpCX61fOQBIqAKcqzVlXWHFZYPDPBXT73B023se9TM/7z+k77M6O7O58q2gbyEBmYfY4C0Y4gdwIheqKjdEZo7HbL6zKr9y/RTMKc6Y6u1bV8kbiPryImw1OZ+HB4lPXSnOcntBjbrniswQJ+Gt6Xq0fuDw5/+7D6J2cW5uikM5jfEl5Uf9VEAAACIQZ8vRRUsK/8IVgNZOL1LBPMxAESDJ+Wgul8fwiCtyRBOz3qIbW9AffGNBlP6qss4xOj/cHnS5sP21jiH8AxZ8GC6Wt/vfMCyVG3S7f9t08iaMq4delxDHtN2/ZQLqH3MZkyWI7KZTVpryFO/OkPv5iQrtNnu7rEeEjnp806nvMLWrIfHq6om4QAAAIgBn050Qn8L3qXeMoVdNaJVAg9J4ARf3csdhxEfEVegSKkodple2xcVdxHgoVLvNa9kHbBYKzvc5DeRbYO0KnRavEJTUwHOu/PqafHMv6atuzVEcN0TVe7X7U/HgZ8uwGmz1w4ntIuotND04aA023qzmHt401MAh4Ly+mSUFXt2GHakUYllYA1JAAAAjAGfUGpCfwvwpU8Z8DtvoP2FUwIFIsKaU+fIHyV/jXGGq/jASfeL+9aPhXtYDnnJq+PlLS61QMAOKeYIWp7EA59gg6ltI3W9R+1lv2ivL+5GZjx8ruRryqYStFiqZZtJSi9K734PCBoViCrAwEJ3QghBscKUEGsShTbiKhCrIY3LvUw0mecSVuO/TBFxAAABFEGbVUmoQWyZTAhX//3hAAADAaff1+yOMtLhJSTfKXyC0UkDTpyBGAGxLg+sT6XBXRlt5Sj64rTnCyGYhH0flybUSnYbWFQWGCyCX2hRIavEtm5QpSbxW6UWBcZXXCVB5GpmPhpIelhGcC77Dm6qq4D5zOcd2H1WNFglyODtUjhfXfHxgi3b74UJPfkwt82KjQAe2114aRzqiwCPPtt/8AVpoagMhBYf92K7GgWbSg6ERT8GRNbh+dNmaO5WmjN0f6bswL/irEDQSS3tYGm7e6T9cb4khBAAZKi6mhESQfXRmBJxbe2LQXFex2YS0yGSp+HG5IuN4XX1+W5U2wClXRUeDS7DyPllznkuYsmNqxEda4WeMAAAAJFBn3NFFSwr/whWA1k4vUrg4mS2dMF0ag3ETFbYruBCAFvnoLMFcU7gjgjZnfuS6jyEtlxF5aRVTVUeMOBL/pqQqA+PYBmQrdieYDNdIZHGxb0RG5Koq4s4ymAqIkDGbA1hcEXIAD3dlgiDTTOr1eABhEwCtxSY32gQjgL0xsrLLm+3s/ZZG8V+KSCF17QfgC7gAAAAhgGfknRCfwvepd4yhVQ1fnQI0jU5ZUrosj+u1weJXswhmtjWHkli+hclZm+uG471gA/cq1gb1ufUSA6HkQRJSBHL4TUaQ5m7Z/8KrzDMGWp3q/CTzq2dzLUXx3ZFpbTdc2D8JNaelFbLwLttaBMGsew4sYmkD9uDCBC2r7GuEWpX+UXj1OMrAAAAogGflGpCfwvwpU8Z8De8nAGbLgsnrK8u54jR9NGZEFby97KgS/yarDi0aKUqddD/DYAAWpoVHXl/rJ0yK8J6aPWQHBH9rfl6dJUOFie52AXaZwfvdWIaQ3FV5UdG+lnz2XtdsTFgznrgJZgELW/qhQ0qwZB3ElKRs8zmhaef+zzNrSpoTJRy3A/k0x9ny+b/3QLjm5rYGL5Gp1RO2Ojil/C2gAAAANlBm5lJqEFsmUwIX//98QAAAwBp9TcUFNaLcAJln9oeSf3yXpjTaPK+oq6M4aKVC0NUr0EtJ0TUL62vpXKvYQbu1XA9eQhI8KiE1J8mCkWzhtlQ0cUuBhKiGhLwTCXBQ0gsndKdsreXJjUC7Vg8PhY7oFRiYde54R/vysKS2cG1iqrzaOnpn9977z9LuSkLh4W7j9NgZocmCgh1elUCZrU8GKLtOrO7ZQAef0i6tszB3zrRGJnYYQRsFA2c8wXiRHRJTf6941NMBi1Lt5vGgPmfraNmJw7LcyygAAAAmkGft0UVLCv/CFYDWTi9StbBBsLBP9igQAt42H7VmPBQJoPqSjDQkrI35ik/mOGL1cKIZjPORr1xvZEWUTxIT/mW05kpxHnF+ZBjdRKGdH7KBftxYrVAzrvM9N5r+zHhZ1Oj+wmylAnmaeGRwPYiAHdnxVzElWxiE1TwgRGouccF4VAPTEngM0ikpP25W/uf5KFtFSsmOwOAFlEAAAByAZ/WdEJ/C96l3jKFUaa5f2IEjuG8FR4TB2d4C4tN//ERRVa4ZWAAFnaHNyRfIP9dSORe4UifWH/cBMt4f4tCLzTwO07/IoyGptplaTXYbovQdDolifw8BMziLb6mRBMJHV/9kQ9eRGhJQ6L71TVfFBKxAAAAowGf2GpCfwvwpU8Z8Day0tlJr5S/3roASyIP3OqZhBFuCvlUElwOhyWG6U2PP9G3brmgRenmFJAUucKExK8k1AD0SnZ9CwEejeU7ZNe3v6JuSxNV71KPvIDSD6WHA94gNZb2fsAvmODugv2esh4UX6N01pQhPWuRj8EqMcDQkeEwpmm1d3w97wubx+DaAZVqY6xv4CvUdkeZTCmDV+jo3w+z6ssAAAD3QZvdSahBbJlMCFf//eEAAAMAp+sZT2o338Aaf+me8Id+1EY8FMwfPwGNhcbEbsI15GzebGGfNsHualSlI2ndBUDnzERiAXROV4g2QVg0rsb4YWvezMpbRplveg/JHplL4tcNOUrZPsa+DNV587umx9rIeqWsdlwdYCj+gd0TwXBXty+KstbQfXechn26PPzkKyu9SJb8O3+cFBfwO1slTkw6wfAqTFKu2CTpGadLKV3SwHjaGz95D1eznkAoxnIu5W3jIQMWn80EWxPm3WXKhe67nn7raBiTo6/hMMjeb9cu0JcdtkCdqSx300rF1xmsfnhv9q6RGwAAALxBn/tFFSwr/whWA1k4vUrXGmYgDmDotq0OyYZy/Oc1l/76m1WjKDaY7zF06XbTwn/UinebJSDlresA6VewyN9u1lUBI96nGwgXYybd3nzYoEmRFMu3RVhj3+EZ6HJa/qgEERpDfiRlB4MtXk1pBz81nnvX3egKJXaHCcmVZQleYjI9LOmXFF+6cYft4jk5b/YInTzAlK4/Y5evbvpOH4OFw/Hb7/k9Nhd2kGBJB+dFKeDBmK3krCWg5MOXgAAAAKQBnhp0Qn8L3qXeMoVRxZ0LYJwPc3gBDnJ/3WJZXhW8qgs74ZW1N7g6ZMFLM8GMWKl5ADOd2N4Ug24810SW/e10L0c56FTYcxSxnGQ8Cr5pm5FB3576m1YtOSYmcOutkB0RPZVqk/ayqFPZidm8NBn730RYItsqgUIyFbAWH5zS8OMAnI9PXhlszYHWC+mFgAimHkv+RMYRFmTPNeZ6xDXSq/BxwQAAAKABnhxqQn8L8KVPGfA2u4+5gBYHQ+iIvh2ph3qZuXh9DtxDgYacP9n4qsTwZk2gd8nZsOHHsGCKZtYU9o3zowWcb2nBYsN+SBA3Z6KMaM2few0ISEfle2H2hpk05ZhyV90p2/vfX10VWiixEHUuZAfKBeNwo1pfwBH14hoVRxIO+VPHFtHQqEv8bKxDyPOfV1dxwk/uAHflCWAUfniG9hgwAAAA1EGaAEmoQWyZTAhv//6MsAAACqcy5eG45fxU+/Xr0GM0sAEsWX3rnPpx+3SQYk5UTAnnCjAwAVVsfvN+5nXzaDKjOChIQ3XF/SCGDI9wvr4X7PfLPWA4eYYTM45DPGzQ0PJgWgdPY2y0h50ak4sJdcXITLP1QGSjdtBaWd88kej7WZFdDPDrY2CYSm5UvVdJNGISiYvwLns6SvL15a8u847OaizxdvmmrGZu3b8fJbHX01G+W4as5F22oIdiaT8G7ydMosBfz31GwBTJyCvE/j8G2H5AAAAAjEGePkUVLCv/CFYDWTi9StZuMDHPXZ/LlwRKfj3q5prELElAl31fm+pz0HIfnRg1WAAlXV5S72kX1UP27hoSTJBG1YIRn3NFdP7Giylhb0KwWDo6YKcP8n9acDBhQNLA6qKn8WELbHWder2vH/iUWOP2H1ftEg6rRmVq6qOi6GNP+pxb2O7bp+/RLp2BAAAAcQGeX2pCfwvwpU8Z8DY+d0jh2SdlNVtmy6oIVRnc1cnTdFF8ZzMSxpYm+G7JaAHKs29RuhgWn+o2s6HTZY4TwWYPJb0mlxi50FmNpK4sEsBqlmiu/UbNyDFM7qEHzh1bFspTjgrT4RCIQJAjjR5e3cFBAAAA0UGaREmoQWyZTAhv//6MsAAAAwPl2foSRAAe9yQQGTARhF295BS000hrWMD2Hy5zQOYqUwyXDCgVrObH/T40GXw9lf4KCmhNu6+TGdn1cpDaYqobjbPlcuPF4+11vS4lH3wNon7IBqcHipDW0+FcZs5CewxjKRPYx0zJNDebqXNi3bUmOWVxvzGGJ568sBqfAl4f9OdzH4Tc9BTn3TmpKAOmSfbdZbhp1jDyLamcWli+EHCE31x0d03zEqVL8NL6jTXkfnVSbEUJgmGXpZ7YGpQ9AAAAwEGeYkUVLCv/CFYDWTi9StJpeX0F37qQsjL2NFwcT9MCaeRACNSynEz8I2Hxv9fmb9KwYJ4jsPeQwqZi6u8qxlkGNbGRKISu5woCU37a8leWQpg8FHZYCVxvTDBsr17cqZHDTXsrSwHOREa6mWruMVuPM1DrB1/lsq1oFkcSfGLOmnZZvbG2MOExa9lDrsUBeUUhY+wxJWycPLFGVMvEIIXA/ltgOio+eAvYSA8f0bbRC8zmshNLyRBWydL0PSyyoQAAAHABnoF0Qn8L3qXeMoVQmtTycwIvP/QyGlkMqXABO3gKxwDAW6rcNrzLTXrHYOZfZtjehK5N0E7RMdP+kQKSzbkaGJhWqKIc6LwJJdA5OXkI1/a9GrLeMGYMKulHWbKnoqWulk72oUw6bKbJDicfMO6AAAAAYwGeg2pCfwvwpU8Z8DY+NhJSSBsj8q3zZ31Tkwd5zkh9oXK3IkYUlZUBhqUJGTaqXEALpV4MftXdilZPaP9gJCvSVYkx/hgxDHJqedtjEkUpMgp5TtJvXa5iPU4uYN8+z6RgQQAAARJBmohJqEFsmUwIb//+jLAAAARHjf4PKeLAAvr0tX2WfoHvBhbKtDVy0EaZP0FEaAn+KM5lhQ1k7xKUy13e27NgFXSXxuIRHTdSzMt89v/3R0soVOHQwY7Ax3O5T+ToU1RlMX7NXSn2RsqCW0LxEjH4s5YfoerunoO3Kjo/i7B0LYPI4p4sd0OcgL2ngI8TWweIn5E4YnxQL4uJyT6XrHuLY8O3WN8BQskR25YlO7ohTQ3QgDD17neFuui/NDfOucsab15oipYkWXqnsGdF4ztIrSe+LuWKYaCrUNHqv5KKtpkAd/9eHn3WpA8jyAdf3oaMleNOHTwTWUD97N8XMIC7XKBsWQg2YAP+9JW51T8/pD8gAAAA4EGepkUVLCv/CFYDWTi9StKhRRUGZDKFIATTI/emcDH1NpY6FhJdTRlhOJq5vi4/Ol3s5fOnpU2+Go0yOJks4VVisVKyuskWV8jC8rToylBUUcu4hK5o2yuEeoC9CgvdzDJpLamPn6YN9vKnt9kYtkELWUWAHMDaRNYqR/Pj7S2IIoV0Iff0oX7wkDzbrv5ZBxc8EosSHI7J1d1arSD12jX19mXaIhDgzeOmyu64sD7ilhnkRnK+Wct5ePitYjTqGHUMXCX/VV1PGE3R2bgeaAGhJ1UlBLwbXXIwBjog3CLhAAAAgwGexXRCfwvepd4yhVCfePqXa5BG/caGW99UDtIMpG9euXwi6nvDjjAN6DJ9uoQAcGhQNYGqfRrySU2AQwA5EP7o+rcFVr+3IWjoZeOq4+po+DK3x+HQHse8u/cJGIbJiHFVb4EpC+YK3UTfgfDxtPhPM6kQOzEtWV6PvH7mJSROjRpHAAAAvQGex2pCfwvwpU8Z8DZENG3sCylhwAC6i+Bbt7jywnVUZU6DrQj/shsStTYt1mt5EFeBBjZ4y/aphWVjVa84jLyJ2HM773Ap76LPj7ev6pKYKcb6AQrg6qJw+85GHB01kqxo0iYkuANLtS6jcGiPHxqlD8ojunQm8LiApZ8NIW7b+M+pQaBqlZDwmh2zNvmIAO8DTB0yjltZ4tZGJ55HnB/x18CGq9CPAoq95FmuZBHim2enB1ZpGarYlJplQAAAASNBmsxJqEFsmUwIb//+jLAAAARH4nVcw8u8dcjPR28WaVNYnZNWvbSVwrJIAH8Qjivzi9QQBJbbv1jmecBK9hERj2mcW5fPXY+53vGffs/UHZHRm4IQzyznc63WlM9Xsu5puieljejw4YxicJrBipb/yeRxR4/e7CCWmq/Be8q0EMLPJWQbNyex8RpRuhVmxeOF72keI7OuzHIw2lNfOnCvB/p2kpC3YOssfE60eRT9qnJysCU4CpKlss51lwRHNKANWVg/V6EW53EIWbxhgLWvLCPyqzu1nBkjgng8JltQRJs6yGQhTOCqhq6UMk+JAgTkdv3A07MpWfett2dJt7zOy9CV3snNISMh7vPyXd/jGNfSCVZp7C+KX0p5EgaJatdLOaAAAADLQZ7qRRUsK/8IVgNZOL1K0rzzITYS3LAESBFVS/3zWhANoCLgL06WfD1W5yajctJabjpTV1BRXf/UEh0vGPRVsL60Slv6Cp1L8C4X6wyUADmtJ8tZv3TZkQ3qyOviACGiUHnhvjJ6Kr8wWoWVS/eRQf2l2DTpq4DUKtDX4UYx0fDOoF8pyJzE90JKbyy1GRp/S+YijS2ln2YA7wnDfk+03L3kdBN+Rhn7Qut+rnSAUzRCjnoG3DXJknm45D2N0lle2g2QVb1LTe5fsV8AAAC4AZ8JdEJ/C96l3jKFULX5sG9AuLrgAIyL4JZX0gjJ+N0782LFVMt8L1/gv/tsE7oQ/D6TNDgFrKeRREbjVwot60lzGgdtrJcgXKxetqjPYO0R7q9E4H7a//YDglmoiaD08ZxQUjtIcfJIiA9RaAY3jSF/zdvURsGsA68+mlhusGiBP80D0uNvlyixc4b/AFrX1TfUapSHEltbjnqCNdRkwVOUmKG2Xfjm0iqyW7CppenPkLoOtlgdcAAAAIsBnwtqQn8L8KVPGfA2SnTZgBYHTxlTLN1dX/RQCsvPxq1cTumbQEjOmz0sT5fQg1SRI0uF07wtI+Hf9WNd8u8o0Z6LP5wLG5oghuLXDcvxCGW7NynMIQbmk2U8M5rvMJl3ZowioEb9DncN5uRq4i25tvu+xc3e3CSzKBNOJTPV7bNxGp5RfjDdWMWBAAAA/EGbEEmoQWyZTAhv//6MsAAAAwGC5oECl/SMfU5E7YVWVSrQuGAlo3AnROWCgciXDjGQ+IG/6ZGaheNsIu5TFbyBqzVysb1Q2laCPYWoBjktUzQUJ38hnkSzDQSjHhl2edx1ZxampsmLOy91SpzxJgLWqgp6cd9JhBe9dTJTxaEg2fLrJ1v7cSuVgD35vNY3lfhl2soAKioKTq64l4VX4/gh21LveJNebudtHWkgR4ENrwM+JkMdleF2aBTacRpQzH7KY4EhdjnEKTLqltby7i4fiF5h91Dy7rvScE5TspvxSffjfg3z3OSmcUTJPKq5kt/y+/rtawCPUJctgAAAAIpBny5FFSwr/whWA1k4vUrSapShy6hG1Snl3IO86lQAP5uL3iF4IxO8Sy2nLvGYtiwbD4kcJtVsJWYPHUF+uk2cLO//lJIQzHhNvkeIPE0svBwZFNoRuhl8JWCtdv7JJhcUA53KhdHIBjdiuj3qQJ93vJPQUTF9BzjOGXKHnChdrAOs+V+a1AYtJZUAAABuAZ9NdEJ/C96l3jKFUJqYxzzNC2BKjUPJc0mR6N13iyoW8CNcLxU6537kesZRyPcqVEFrXz8qABCfOeBeGY7pa5QMol5IKtFWLkz9x7DJK4nBtN1f1daiQhd3Nk2YceuVNmEYQi2A1/s3/H6wGPEAAACQAZ9PakJ/C/ClTxnwNhgZ7eVPkny1z11EBMeBZlvk3Q/5CQVi7tEjoMqoeuSE8O8pTWNoJbhKhVRKyS+YIUOgSmOS6SD0Pu2sJV1talZA1x+dl2bcTCr2nKRJframR/DPp+tY0bGbkFH2i1/rfLjzCj7CfxAKVGuitcn5hiWA8ppTavEC+xOt8JXyaSCXdgN7AAABDEGbVEmoQWyZTAhv//6MsAAAAwGC4TKIeFi7vGynJVeAKAQu6cyFX8WLkM9Hn1aCv3GI/hA28eEYJ5/0UXH0cOSrR3nKNEskMjtW0JOGVCqqFlc5LqFvrcpzWIimm2IkBlntd+N2AuY2jEQhZ+pNRUvlj6ZC4eGxzCbq+K0th+pHdrWxAoEqPd/NJl3y6jC4y/2XB431W2juJ/EZpKXuwntVXbZh25WbgNCeDPj9xVWrzRTFmLJ0IbOKG2ZWR7tH9M59XgXCVrgFYjYYngUVsdegRavUo57gLfsqOoX7iLg9YlIbpHZGHIlKtmxKWbVOelt88z+cuIuLJOWbSTZc2sp8uB814dEyPukMXtEAAACLQZ9yRRUsK/8IVgNZOL1K0OexL86a8AFvBcs/tMcgbUunTCkKc+wCI3hTRDNCS4xVTGhQi1m62xp30m6veI0H11/Q7m7iUKdzoAhw2wezHxxeDvx1enDOSt3pkApCoDS/NUYfrTA5bXoGhNSPmEc9JBJwtK+kVIuEAdODoMoUY5l4o0RFOvrPkqbPgAAAAFcBn5F0Qn8L3qXeMoVQOeIpcwBA/Q0G4qFLaXXfPKbEgBMa9qoi1IW7APoIcOO+xs3Zyd4s+2TQOr5wZdiuvin0OqS9mX2+sWE/KHYv24TjZhQae4JHgUEAAAB2AZ+TakJ/C/ClTxnwNgjFmzCx9Z8jbt6BaVFQkACdi7wNIe9nWu9gS2HldnhXaOYMAObWljV6gb72Jw62iMuB5teXpCgH4OVP8vnWE5Ba7nkSbn7zJ+docCd2cUcBVx3UKcHxbnR4+70lQ4MnllfPL3eS7sA2YQAAAMdBm5hJqEFsmUwIb//+jLAAAAMAkA9yAEI3wFHxMClXi/7tRYDH8ix23GDrha1c3p2roM5XFwoh3M7jycY3gwOrs1/Pnb2lVpZZ4afc4DFt7/wbNuQuHdZ3kVq2GQ0neMoELUcg9cA9ub+mxMEhKfRSmKr1WJQ1mX8dg1nnMqHZ/gXEywlKtN6LDlAF/xnOcdvlbS0m0T6ajgWJY0xolDaVoN0Sc5OfAakDfLgB9/s3InCmjHUzMFD0IdgQXpC3ZnINnie3lz3BAAAAfkGftkUVLCv/CFYDWTi9StBYfoRHvjAOhVcn6SilWv4MmvoDIs0Zq5vhIAhxSLtVuMrw9aWXpQRoCL9wZQDPcmPNReWDs+yvBzyHf3PczSZQVYSJgCIe84rZel9IMaBM/bApjsnutrL60Rp9MqlDdfki8hN0ySgpZILW8pzUgAAAAFUBn9V0Qn8L3qXeMoVQFZcmd4LG708uM1ArJHEz9dMHwgBV2dO+mWEwqBf7Hmjphx2XbTcizRTuJMnomoAaqNIrFhRcyWbf39jFw/MCZ+Wve+g1HbZ9AAAAcAGf12pCfwvwpU8Z8DYIv0i1WpVy1PDrBOom76Zw2lhxO4CVk9OSkfEb5ABNMAWI2NV0quP9mqu1DR7rBPQPBPncHNMzqjLoJ1yE1nZKt9++tft5JQ1ZAJ/eahLhqNTi6iXNgirdgJElRsn5q7jdQ9MAAADNQZvcSahBbJlMCG///oywAAADAIzxv6Y3F9wDV9QymIrotlYJXvJNk7+A9SOZl35PXWU0wnGmbwd9HzD3A8kGCc4Hn7QQb+FLLrr9/Z9adpbPyBQ+ZzCbCDDbRaWSYoly23yxkXiEXP+XtLqL8wL8liX7KviJkRH3lH/zBeE0FabxNytr8HgXbvFnef3UhMyJlbOn4C5iCIkgTkFWNm1ak9ujyXzYCfnD5kxywSMD3pnGTKxcTQpoRKJvy7DpEH/7NTYsmM/TEX8mE9aTgQAAAJlBn/pFFSwr/whWA1k4vUrQVnC+Loywf2mDoNAB3p8qhwE8Nrxya06dOK/BrhvjMiJTVYAqI7QvX6ez6s7MgXB4BrVFGXstnvo8D9NNNtx9XeNk7IxUcFuPHyTF/tHQScidIG+WZi2T/W/Fab7DhoccceDTLZoUB+yKkabSyzWC+C/ixiNzwqjcAwjZdsqoZkKm6eBPVA6sAk4AAACkAZ4ZdEJ/C96l3jKFUBWRjZAj4RuACVFgD5b7tTnF8NHTbgZOmj4PxXNOfjMsZTducmBKabb7SaFCPll00nv676Q5/6Ztu9oAACi+zyZ2bvkwKdHESdkNsV2j19VAXjfkRfUEyiPxXLD9t8o5r1kKwfgpCgfK3O16uT3bvET8MJ0s4icc9Z3EvpysHfc7XExRRjYlVDcgitmi813MAFJsOvR1U4AAAACBAZ4bakJ/C/ClTxnwNgjGJGv3+1hM+1BKbrWjACwApjFd9JEDSRQST8IcjOf/hkgg8ZJl5VDzwN4l7RAUUhlwKoqyKfSzzejI6N9X8zaM8EfHTdJc39Yt69IbXA+TAEY1Or0pbpdDS0d91YixrnYjRXdlup/IBJ/sdRkv/60m0q+5AAAApkGaH0moQWyZTAhv//6MsAAAAwCP5Se0GAKAX9p/TzkH43TZI8ujcfSVfVINyLNvtz5vgoFQi8Y0Oz26mSmvILFGkicyb0Z3Ejr7N9nhE2afo9Xt6WiAY/1EFxGp3tiwaryBvXCAQBfmLILS2p9qH+7LqehaY8h0nXSmaq0KrKWXrcT6OmtrqmZdHF2BX3IFT/AQnrZUjqJAd6vqJuZLTWBE7Na4tJwAAAB0QZ49RRUsK/8IVgNZOL1K0Fimz7AW+rJJkGOiabu8iAAllzdVqq6r+1vtu3/wiQyE5pp2LwUmRpXzj0LCMjhqkkufUTWWd7y24Jw/1enYDcKHK/mFCcVDCEwc/Y6/GEQ0ByHv3UcQsvKx/hbAD/6ZWYRAJuAAAABvAZ5eakJ/C/ClTxnwNgkG8fQuADdc4/bHUqyP/FXocbDsjc4GvfyuqIy/OReuQxp3E39fL4UBOlhfoUTN2lV6lkJAL4oGCUQcT9XY2yxtR1R2/FGaWRa5wbj9RoYPor0P8Pc4A74u1inpMMzV5mpBAAAA9kGaQ0moQWyZTAhv//6MsAAAAwCQJAOoA/44+9sM4c7gTsx3paO/sJYREkOKK5Ux/m1xRJ44sJChpP4W0uIiOJM9uZo4aPxG1Welppdi065Dg0R+pmdI6iiXR15AdmW4WY3+qYsc+kvZNNooje05WV3x5KxruEzeNQKACP+BcnjMUmboh0Heo5cDUGaTXlH9gFMuIRUXXpiSkzytYOnlOBg+9nrwiK+WQ3FdzB00307qoFZITaMNe0GXVGYq668vYnmg0sa1qGKLxPOXpR1MDdMUcc2/0BaxncVu9xOIoG32TOG9MfqmJx0+F4jlR4jCQ0T51huTcAAAAHBBnmFFFSwr/whWA1k4vUrQWLky9t6oJ2xtMD+gAD/mLx5xIfka1Q+5DmkCNLlDYD102qd+nC+UgHXAikSiMBgE8DM/8CCTV3z653r41BTxoKpTw00eR2JZB7k/C1QLl5PGr6nv6oqPDtwVbHvwtR/hAAAALwGegHRCfwvepd4yhVAWHgsa1znnPvgueuGkuxw2UtOOjyoQWQaMSuBjv4XpIF5BAAAARgGegmpCfwvwpU8Z8DYIx2nMAUGsU4B2sqr5MhbqOMtJS/xFStxB7CrsYxGHRuTVwfXfie/yaaZP0++za5D36ikrP6GnAuIAAADOQZqHSahBbJlMCG///oywAAADAJAjWCIN/d+cEyLxABfyWJsLxi+eGvFwecBcxv1ifCXB31n+4UoL0zC+HkCfbCSVghSB7+UC0qhy4oLSaQRFxhfIyiscKnHlxwXQm8mdhCXTezjrTySKcTECzzmYsJFhxIdt8ScDF6dodwU9L+9U7cbxVvq6X5929ROxFWmGok1fUyJMUcAydSoHOz32MCXScdCrKy/eIWK7I6ooQoCh8opfM5L3CRzGiZsHS5PyVfcy0THCIm8KUCMO+vUAAABiQZ6lRRUsK/8IVgNZOL1K0FZBSsrlpaLUE3Wxqob38QAkcvwfFFQYsaygK9TcRa7fD40alGJUHQodYzJFO+TCp0de9cQIAo5sy5GOIIh+DZSRx3FKo0iaG4vEE7n1y187GLAAAAA5AZ7EdEJ/C96l3jKFUBWNoxgcK66wwXpVlk693HoccCkeF69iABDZcXjGEOxNs3TMhJQtwzexIAj5AAAARQGexmpCfwvwpU8Z8DYIKeCHwtrLACNLEC0Inq2hFIHUrb2/MNJfcmjIJo062Ays9Is+IEwTgIddLcVTOgA2YYfg/V/RmQAAAOtBmstJqEFsmUwIb//+jLAAAAMAiPG952E89iQAfz0ZU5d6iZHhhSUFEFz8clGyybdzJlwf5JFr+n4O5PO+W9Tokq8SmnJ0a/mzHfTdrDrC9DV1RwUg4xGFfOv5SyEingYiWzMTlX0zR4wSx5eXz48C6qp3QcoPilNJ81XB/GbsgFw04Y2WwrSRTLOarSthYbyWjzjaVgtDuer1mZkMw/9eagCws+rP9PRgmYpYmlBSs5iU32bDD2tTXexlXpxC0DpO1gS1j3+zSKZk0oOQsi67xqn4b3lhIvDivpGSwIz4sfrPVObILgmay2XhAAAAlUGe6UUVLCv/CFYDWTi9StBT95PVBnADRrQAml1q908FtvpxwmURVjfRiNrKCBsOrV4oQCo06WJzBHH7NT/zPPPm2W5Kd1eUzM1tKosxglkwpZ5/qEQ8r6eZN1G+i/Ss63isaDujF4wYQ5ZYFcDAri30rAOoL/ou17VrhRvv/F42/vtU8A8bzvZ00bLgQ3KqM+IYwCXgAAAAYgGfCHRCfwvepd4yhVAVD4QYTLk/3q91ABbwOjHZyWGUPrl/xBy7e7YGeDfPkOaTIfCI3b5Jg+0W/uUA/qk/i7+2PcQQoxdGKCMwmkv3ihMm+as3ecIJLrOw/VTsVXu4JgIvAAAAbAGfCmpCfwvwpU8Z8DYIfODn7qfmYQABEHOOvPZpGsKZxR77or4DA1LG5ywxR94X5LWBvx64pUdc0MFX0Hs+gMmPLjC9XROYHfLQ2fAGzIu9SCiHzIv6mb46vMBAL7GrKiPVBwdM+tc+MiANWAAAAMJBmw9JqEFsmUwIb//+jLAAAAMAiPxOef6nh7HyVaT0QAASfmEvbqT7+A8v9o0Yp5gFVu3FiSalFMav9HA587kjZwcZaqPjm9wbMS5MHt5Bj3lGifsVtPtCFzCsilGGirKaZgizwnuWC+p/IEkFvS0fgEbp08wSXLLSS+IaIFnitwZgyOhZJGDqgTmGnK1SXxjgaYIpdeA5J6H1rty7VWnuAsCxhSLW/KEwYFqNCXVezaBai+bbj0+v8iYvMHZrbRuldwAAAFpBny1FFSwr/whWA1k4vUrQVAFVZWQAhGTSY5bvBglRNobBXjWBU/KW+fDPVVjf+80ByfC2uj08dDd3w/A7swSXG/nJbo5Gt/cf7x05k9hVFvAVj/8O5hWA7oAAAABSAZ9MdEJ/C96l3jKFUBT9pTuQewAOUAsJ/Qu2w/+yS1NADV5poKjMQymYYkuzqcJ5yInFt2GgxvYQcBHeH2110Jc1LkyIJnBNPXZiHks4hqCDgQAAACsBn05qQn8L8KVPGfA2A6TP0hR6ucw4AIbsJ/HSjkiU4kkrgJw/OZqTgFbBAAAAmUGbU0moQWyZTAhv//6MsAAAAwA2T06AAaN6fYf6wmmn1RO0rMNLw5m5+hHWqJ/FvPqy4XuH26sSPBa/MkxuoTw7qZaYYI3WN2uXxvMqB3kVzZZuqObh1kUqrxzfJo5Xyke5AyzOotmvAXW4M6ZOXG+/fujDkaxcme2uU0eKHfY7bjVMNvBCVFGhjH/Wvs4IAkmfembQ936MZQAAACRBn3FFFSwr/whWA1k4vUrQILp6RE68s92PjPl54XaZpiHng3sAAAAZAZ+QdEJ/C96l3jKFUAeX1FpKpPkg/sAYsAAAABwBn5JqQn8L8KVPGfA2A2byxbn97yU6jRIm4GzAAAAAs0Gbl0moQWyZTAhv//6MsAAAAwA2VV6ftXOWvz9sKAJcvBEpsRqU1/EKCg5i9TLnuo2lkI2I+TmyP3tlLymUNy7iXN2x58CYiGC25mdQadEqlwQu/sy9aGx+t/Emoec5zWrbKUT30Y5PYX1dKnpC0CZPebdylAEV8aExSEDiafGwpERIvs5pJZVovdfWJ6beg+/vUcOaUMgTy0d6k2pNvjmAAU1DK8gdPkhYbgd2rSL0be6BAAAAVEGftUUVLCv/CFYDWTi9StAi2ZsABxu0rlQJibrFM4aOx7OxZmq+FmTqV3slc8Wm6jgStGgv11TT2JeElZIr2v1Fe2xE0vlEuw/DoPeCpkL4nSA3oAAAAEMBn9R0Qn8L3qXeMoVQCLEo+ygAiDpeOW+jRW6D+ZdmDxmmEwhSdoz/VnOX61pOX1HAERocDBr41SPv7YW/5QV4gknAAAAARAGf1mpCfwvwpU8Z8DYDmyTkADYFiOLLtZaTHebQBD+xwSJhtk04VDtxOz/TVFDcW1w/Ab0leSrjsV/Yqm14qQoHlAypAAAAlUGb20moQWyZTAhv//6MsAAAAwA1RwewD+gDh0pXgJHs2X7h5E6r8aXbBYd/xyTwC3FJFYT6EynQ5a6sf/MRlpZHeYf6D8C2kdiIcycaYy5UK9ziQxBoAxKSx72uylvSY3BEm6dR7CGJW7Ecqgww1E/PQCjONPiGa3LyGl7xEh1e0tCpXLXKwqqDGhG+yjRU8cHftsJNAAAAIEGf+UUVLCv/CFYDWTi9StAftzrLIylV+PVRwGrsQQFtAAAAKgGeGHRCfwvepd4yhVAJdhfQAfl5ME3sfykTtUg3ZgHeJn79alYSGPgS8AAAABsBnhpqQn8L8KVPGfA2AjG31w/yzajcgqpk3oAAAACNQZofSahBbJlMCG///oywAAADADU7H2Q2AOKXK3NQyf00fSsSgbLdF48+sf1sfLcZt/RSIlLUGETtkrQGRD2L54Xu0XuA2yn8AKlTIkveUN9bsZJpqhlunr3XgORorHwGagtav+tJqmnakseSlZRekc/u1+wbK+TR0en8F2pHLyvRMjTsuYgIS0h+g5vRAAAAIUGePUUVLCv/CFYDWTi9StAfxHbkx3TUWM9CAtnQiIAxYAAAABcBnlx0Qn8L3qXeMoVQBWNk/0Xs5+mpgAAAAB0Bnl5qQn8L8KVPGfA2AzS4TTEN3Ud9xrWxOcwCDwAAAJ5BmkNJqEFsmUwIb//+jLAAAAMANShBXdN8AOsWUrIaYkrJxMsdXmD/nmIsk+PJAcxdWPRb+5GoF0G+3ia8n9w6tpMeSWnikGa/erKyDG0dFHTYR0eW3aGQ4p+h3vWoi021hW3yDCeIU19cAFFXjGjXW8fOeRdw6sptVSFdnTxgSl8ILroaqapiG07mpAMV6S3nnTcar2xltwpUxarScAAAAC1BnmFFFSwr/whWA1k4vUrQH8RlCRACBNp/2jKSmT0vX+Ch3nSGg1oZWbitngUAAAAdAZ6AdEJ/C96l3jKFUAe6lCqZyXxWUvwjOnHoYYsAAAA+AZ6CakJ/C/ClTxnwNgNRSKjuzVDwACt8v70ziHfcp0F038dNqwxfArbDOTff8LE2LOK/jWz5tY+wv124BdwAAABbQZqHSahBbJlMCG///oywAAADADGet259Mar7xXA9QAfeySO+ErDu4od2AOYHC/sYTZXQo8OjbD/Qip/j55pgcyCps8qb/Vqr7tq65xRgloOvBrckevIyzDMesQAAADpBnqVFFSwr/whWA1k4vUrQHaYr4uTVABnVJQFvtbMWYIDAIXD9oqGfgQCIPSOZcKnBgcFJ4gcYHkXAAAAAMQGexHRCfwvepd4yhVAHaDKRiVAAP+ryeZAH2yPSfIobltP+sTabQ305feAK+bFORvUAAAAyAZ7GakJ/C/ClTxnwNgLb74z6gBn+Xxo+VYRf/pq2DyR8q7LKP60dEIkPugaVcuJtgVsAAAAkQZrLSahBbJlMCG///oywAAADACu+5nqdiKR9mTqMQHb7zw7gAAAAH0Ge6UUVLCv/CFYDWTi9StAaWMQ22tXx+kwgTbLAbMAAAAAbAZ8IdEJ/C96l3jKFUAaViInTIKJMtrAigJWBAAAAFAGfCmpCfwvwpU8Z8DYCMbVAF0ADAAAAF0GbD0moQWyZTAhv//6MsAAAAwAAAwNDAAAAF0GfLUUVLCv/CFYDWTi9StAVnl0ANEADAAAAFAGfTHRCfwvepd4yhVAFY2T/PIANAAAAFAGfTmpCfwvwpU8Z8DYCMbVAF0ADAAAAF0GbU0moQWyZTAhv//6MsAAAAwAAAwNDAAAAF0GfcUUVLCv/CFYDWTi9StAVnl0ANEADAAAAFAGfkHRCfwvepd4yhVAFY2T/PIAMAAAAFAGfkmpCfwvwpU8Z8DYCMbVAF0ADAAAAFkGbl0moQWyZTAhn//44QAAAAwAADKkAAAAXQZ+1RRUsK/8IVgNZOL1K0BWeXQA0QAMAAAAUAZ/UdEJ/C96l3jKFUAVjZP88gAwAAAAUAZ/WakJ/C/ClTxnwNgIxtUAXQAMAAAAXQZvbSahBbJlMCF///fEAAAMAAAMAHpEAAAAXQZ/5RRUsK/8IVgNZOL1K0BWeXQA0QAMAAAAUAZ4YdEJ/C96l3jKFUAVjZP88gAwAAAAUAZ4aakJ/C/ClTxnwNgIxtUAXQAMAAAAYQZodSahBbJlMFEwn//yEAAADAAADAMCBAAAAFQGePGpCfwv4YXeNI0UAVnun5ATltAAAOWltb292AAAAbG12aGQAAAAAAAAAAAAAAAAAAAPoAACYmwABAAABAAAAAAAAAAAAAAAAAQAAAAAAAAAAAAAAAAAAAAEAAAAAAAAAAAAAAAAAAEAAAAAAAAAAAAAAAAAAAAAAAAAAAAAAAAAAAAAAAAACAAA4k3RyYWsAAABcdGtoZAAAAAMAAAAAAAAAAAAAAAEAAAAAAACYmwAAAAAAAAAAAAAAAAAAAAAAAQAAAAAAAAAAAAAAAAAAAAEAAAAAAAAAAAAAAAAAAEAAAAACYAAAAZAAAAAAACRlZHRzAAAAHGVsc3QAAAAAAAAAAQAAmJsAAAQAAAEAAAAAOAttZGlhAAAAIG1kaGQAAAAAAAAAAAAAAAAAADwAAAkoAFXEAAAAAAAtaGRscgAAAAAAAAAAdmlkZQAAAAAAAAAAAAAAAFZpZGVvSGFuZGxlcgAAADe2bWluZgAAABR2bWhkAAAAAQAAAAAAAAAAAAAAJGRpbmYAAAAcZHJlZgAAAAAAAAABAAAADHVybCAAAAABAAA3dnN0YmwAAACWc3RzZAAAAAAAAAABAAAAhmF2YzEAAAAAAAAAAQAAAAAAAAAAAAAAAAAAAAACYAGQAEgAAABIAAAAAAAAAAEAAAAAAAAAAAAAAAAAAAAAAAAAAAAAAAAAAAAAAAAAAAAY//8AAAAwYXZjQwFkAB7/4QAYZ2QAHqzZQJgzoQAAAwABAAADADwPFi2WAQAFaOvnLIsAAAAYc3R0cwAAAAAAAAABAAAElAAAAgAAAAAkc3RzcwAAAAAAAAAFAAAAAQAAAPsAAAH1AAAC7wAAA7cAACQIY3R0cwAAAAAAAAR/AAAAAQAABAAAAAABAAAIAAAAAAIAAAIAAAAAAQAABgAAAAABAAACAAAAAAEAAAgAAAAAAgAAAgAAAAABAAAKAAAAAAEAAAQAAAAAAQAAAAAAAAABAAACAAAAAAEAAAYAAAAAAQAAAgAAAAABAAAIAAAAAAIAAAIAAAAAAQAABAAAAAABAAAKAAAAAAEAAAQAAAAAAQAAAAAAAAABAAACAAAAAAEAAAgAAAAAAgAAAgAAAAABAAAKAAAAAAEAAAQAAAAAAQAAAAAAAAABAAACAAAAAAEAAAoAAAAAAQAABAAAAAABAAAAAAAAAAEAAAIAAAAAAQAACgAAAAABAAAEAAAAAAEAAAAAAAAAAQAAAgAAAAABAAAIAAAAAAIAAAIAAAAAAQAACgAAAAABAAAEAAAAAAEAAAAAAAAAAQAAAgAAAAABAAAKAAAAAAEAAAQAAAAAAQAAAAAAAAABAAACAAAAAAEAAAoAAAAAAQAABAAAAAABAAAAAAAAAAEAAAIAAAAAAQAABAAAAAABAAAKAAAAAAEAAAQAAAAAAQAAAAAAAAABAAACAAAAAAEAAAoAAAAAAQAABAAAAAABAAAAAAAAAAEAAAIAAAAAAQAABgAAAAABAAACAAAAAAEAAAoAAAAAAQAABAAAAAABAAAAAAAAAAEAAAIAAAAAAQAACgAAAAABAAAEAAAAAAEAAAAAAAAAAQAAAgAAAAABAAAIAAAAAAIAAAIAAAAAAQAACgAAAAABAAAEAAAAAAEAAAAAAAAAAQAAAgAAAAABAAAKAAAAAAEAAAQAAAAAAQAAAAAAAAABAAACAAAAAAEAAAoAAAAAAQAABAAAAAABAAAAAAAAAAEAAAIAAAAAAQAACgAAAAABAAAEAAAAAAEAAAAAAAAAAQAAAgAAAAABAAAKAAAAAAEAAAQAAAAAAQAAAAAAAAABAAACAAAAAAEAAAoAAAAAAQAABAAAAAABAAAAAAAAAAEAAAIAAAAAAQAACgAAAAABAAAEAAAAAAEAAAAAAAAAAQAAAgAAAAABAAAKAAAAAAEAAAQAAAAAAQAAAAAAAAABAAACAAAAAAEAAAoAAAAAAQAABAAAAAABAAAAAAAAAAEAAAIAAAAAAQAACgAAAAABAAAEAAAAAAEAAAAAAAAAAQAAAgAAAAABAAAKAAAAAAEAAAQAAAAAAQAAAAAAAAABAAACAAAAAAEAAAoAAAAAAQAABAAAAAABAAAAAAAAAAEAAAIAAAAAAQAACgAAAAABAAAEAAAAAAEAAAAAAAAAAQAAAgAAAAABAAAKAAAAAAEAAAQAAAAAAQAAAAAAAAABAAACAAAAAAEAAAoAAAAAAQAABAAAAAABAAAAAAAAAAEAAAIAAAAAAQAACgAAAAABAAAEAAAAAAEAAAAAAAAAAQAAAgAAAAABAAAKAAAAAAEAAAQAAAAAAQAAAAAAAAABAAACAAAAAAEAAAoAAAAAAQAABAAAAAABAAAAAAAAAAEAAAIAAAAAAQAACgAAAAABAAAEAAAAAAEAAAAAAAAAAQAAAgAAAAABAAAKAAAAAAEAAAQAAAAAAQAAAAAAAAABAAACAAAAAAEAAAoAAAAAAQAABAAAAAABAAAAAAAAAAEAAAIAAAAAAQAACgAAAAABAAAEAAAAAAEAAAAAAAAAAQAAAgAAAAABAAAKAAAAAAEAAAQAAAAAAQAAAAAAAAABAAACAAAAAAEAAAoAAAAAAQAABAAAAAABAAAAAAAAAAEAAAIAAAAAAQAACgAAAAABAAAEAAAAAAEAAAAAAAAAAQAAAgAAAAABAAAKAAAAAAEAAAQAAAAAAQAAAAAAAAABAAACAAAAAAEAAAoAAAAAAQAABAAAAAABAAAAAAAAAAEAAAIAAAAAAQAACgAAAAABAAAEAAAAAAEAAAAAAAAAAQAAAgAAAAABAAAKAAAAAAEAAAQAAAAAAQAAAAAAAAABAAACAAAAAAEAAAoAAAAAAQAABAAAAAABAAAAAAAAAAEAAAIAAAAAAQAACgAAAAABAAAEAAAAAAEAAAAAAAAAAQAAAgAAAAABAAAKAAAAAAEAAAQAAAAAAQAAAAAAAAABAAACAAAAAAEAAAoAAAAAAQAABAAAAAABAAAAAAAAAAEAAAIAAAAAAQAACgAAAAABAAAEAAAAAAEAAAAAAAAAAQAAAgAAAAABAAAKAAAAAAEAAAQAAAAAAQAAAAAAAAABAAACAAAAAAEAAAoAAAAAAQAABAAAAAABAAAAAAAAAAEAAAIAAAAAAQAACgAAAAABAAAEAAAAAAEAAAAAAAAAAQAAAgAAAAABAAAKAAAAAAEAAAQAAAAAAQAAAAAAAAABAAACAAAAAAEAAAoAAAAAAQAABAAAAAABAAAAAAAAAAEAAAIAAAAAAQAACgAAAAABAAAEAAAAAAEAAAAAAAAAAQAAAgAAAAABAAAKAAAAAAEAAAQAAAAAAQAAAAAAAAABAAACAAAAAAEAAAoAAAAAAQAABAAAAAABAAAAAAAAAAEAAAIAAAAAAQAACgAAAAABAAAEAAAAAAEAAAAAAAAAAQAAAgAAAAABAAAIAAAAAAIAAAIAAAAAAQAABAAAAAABAAAKAAAAAAEAAAQAAAAAAQAAAAAAAAABAAACAAAAAAEAAAoAAAAAAQAABAAAAAABAAAAAAAAAAEAAAIAAAAAAQAACAAAAAACAAACAAAAAAEAAAoAAAAAAQAABAAAAAABAAAAAAAAAAEAAAIAAAAAAQAACAAAAAACAAACAAAAAAEAAAgAAAAAAgAAAgAAAAABAAAIAAAAAAIAAAIAAAAAAQAACgAAAAABAAAEAAAAAAEAAAAAAAAAAQAAAgAAAAABAAAGAAAAAAEAAAIAAAAAAQAACAAAAAACAAACAAAAAAEAAAoAAAAAAQAABAAAAAABAAAAAAAAAAEAAAIAAAAAAQAACgAAAAABAAAEAAAAAAEAAAAAAAAAAQAAAgAAAAABAAAKAAAAAAEAAAQAAAAAAQAAAAAAAAABAAACAAAAAAEAAAoAAAAAAQAABAAAAAABAAAAAAAAAAEAAAIAAAAAAQAACgAAAAABAAAEAAAAAAEAAAAAAAAAAQAAAgAAAAABAAAKAAAAAAEAAAQAAAAAAQAAAAAAAAABAAACAAAAAAEAAAoAAAAAAQAABAAAAAABAAAAAAAAAAEAAAIAAAAAAQAACgAAAAABAAAEAAAAAAEAAAAAAAAAAQAAAgAAAAABAAAKAAAAAAEAAAQAAAAAAQAAAAAAAAABAAACAAAAAAEAAAoAAAAAAQAABAAAAAABAAAAAAAAAAEAAAIAAAAAAQAACgAAAAABAAAEAAAAAAEAAAAAAAAAAQAAAgAAAAABAAAKAAAAAAEAAAQAAAAAAQAAAAAAAAABAAACAAAAAAEAAAoAAAAAAQAABAAAAAABAAAAAAAAAAEAAAIAAAAAAQAACgAAAAABAAAEAAAAAAEAAAAAAAAAAQAAAgAAAAABAAAKAAAAAAEAAAQAAAAAAQAAAAAAAAABAAACAAAAAAEAAAoAAAAAAQAABAAAAAABAAAAAAAAAAEAAAIAAAAAAQAACgAAAAABAAAEAAAAAAEAAAAAAAAAAQAAAgAAAAABAAAKAAAAAAEAAAQAAAAAAQAAAAAAAAABAAACAAAAAAEAAAoAAAAAAQAABAAAAAABAAAAAAAAAAEAAAIAAAAAAQAACgAAAAABAAAEAAAAAAEAAAAAAAAAAQAAAgAAAAABAAAKAAAAAAEAAAQAAAAAAQAAAAAAAAABAAACAAAAAAEAAAoAAAAAAQAABAAAAAABAAAAAAAAAAEAAAIAAAAAAQAACgAAAAABAAAEAAAAAAEAAAAAAAAAAQAAAgAAAAABAAAKAAAAAAEAAAQAAAAAAQAAAAAAAAABAAACAAAAAAEAAAoAAAAAAQAABAAAAAABAAAAAAAAAAEAAAIAAAAAAQAACgAAAAABAAAEAAAAAAEAAAAAAAAAAQAAAgAAAAABAAAKAAAAAAEAAAQAAAAAAQAAAAAAAAABAAACAAAAAAEAAAoAAAAAAQAABAAAAAABAAAAAAAAAAEAAAIAAAAAAQAACgAAAAABAAAEAAAAAAEAAAAAAAAAAQAAAgAAAAABAAAIAAAAAAIAAAIAAAAAAQAACgAAAAABAAAEAAAAAAEAAAAAAAAAAQAAAgAAAAABAAAKAAAAAAEAAAQAAAAAAQAAAAAAAAABAAACAAAAAAEAAAoAAAAAAQAABAAAAAABAAAAAAAAAAEAAAIAAAAAAQAACgAAAAABAAAEAAAAAAEAAAAAAAAAAQAAAgAAAAABAAAKAAAAAAEAAAQAAAAAAQAAAAAAAAABAAACAAAAAAEAAAgAAAAAAgAAAgAAAAABAAAKAAAAAAEAAAQAAAAAAQAAAAAAAAABAAACAAAAAAEAAAYAAAAAAQAAAgAAAAABAAAKAAAAAAEAAAQAAAAAAQAAAAAAAAABAAACAAAAAAEAAAoAAAAAAQAABAAAAAABAAAAAAAAAAEAAAIAAAAAAQAACgAAAAABAAAEAAAAAAEAAAAAAAAAAQAAAgAAAAABAAAKAAAAAAEAAAQAAAAAAQAAAAAAAAABAAACAAAAAAEAAAoAAAAAAQAABAAAAAABAAAAAAAAAAEAAAIAAAAAAQAACgAAAAABAAAEAAAAAAEAAAAAAAAAAQAAAgAAAAABAAAKAAAAAAEAAAQAAAAAAQAAAAAAAAABAAACAAAAAAEAAAoAAAAAAQAABAAAAAABAAAAAAAAAAEAAAIAAAAAAQAACgAAAAABAAAEAAAAAAEAAAAAAAAAAQAAAgAAAAABAAAKAAAAAAEAAAQAAAAAAQAAAAAAAAABAAACAAAAAAEAAAoAAAAAAQAABAAAAAABAAAAAAAAAAEAAAIAAAAAAQAACgAAAAABAAAEAAAAAAEAAAAAAAAAAQAAAgAAAAABAAAKAAAAAAEAAAQAAAAAAQAAAAAAAAABAAACAAAAAAEAAAoAAAAAAQAABAAAAAABAAAAAAAAAAEAAAIAAAAAAQAACgAAAAABAAAEAAAAAAEAAAAAAAAAAQAAAgAAAAABAAAKAAAAAAEAAAQAAAAAAQAAAAAAAAABAAACAAAAAAEAAAoAAAAAAQAABAAAAAABAAAAAAAAAAEAAAIAAAAAAQAABAAAAAABAAAKAAAAAAEAAAQAAAAAAQAAAAAAAAABAAACAAAAAAEAAAoAAAAAAQAABAAAAAABAAAAAAAAAAEAAAIAAAAAAQAABgAAAAABAAACAAAAAAEAAAoAAAAAAQAABAAAAAABAAAAAAAAAAEAAAIAAAAAAQAACgAAAAABAAAEAAAAAAEAAAAAAAAAAQAAAgAAAAABAAAKAAAAAAEAAAQAAAAAAQAAAAAAAAABAAACAAAAAAEAAAoAAAAAAQAABAAAAAABAAAAAAAAAAEAAAIAAAAAAQAACgAAAAABAAAEAAAAAAEAAAAAAAAAAQAAAgAAAAABAAAKAAAAAAEAAAQAAAAAAQAAAAAAAAABAAACAAAAAAEAAAoAAAAAAQAABAAAAAABAAAAAAAAAAEAAAIAAAAAAQAACgAAAAABAAAEAAAAAAEAAAAAAAAAAQAAAgAAAAABAAAKAAAAAAEAAAQAAAAAAQAAAAAAAAABAAACAAAAAAEAAAoAAAAAAQAABAAAAAABAAAAAAAAAAEAAAIAAAAAAQAACgAAAAABAAAEAAAAAAEAAAAAAAAAAQAAAgAAAAABAAAKAAAAAAEAAAQAAAAAAQAAAAAAAAABAAACAAAAAAEAAAoAAAAAAQAABAAAAAABAAAAAAAAAAEAAAIAAAAAAQAACgAAAAABAAAEAAAAAAEAAAAAAAAAAQAAAgAAAAABAAAKAAAAAAEAAAQAAAAAAQAAAAAAAAABAAACAAAAAAEAAAoAAAAAAQAABAAAAAABAAAAAAAAAAEAAAIAAAAAAQAACgAAAAABAAAEAAAAAAEAAAAAAAAAAQAAAgAAAAABAAAKAAAAAAEAAAQAAAAAAQAAAAAAAAABAAACAAAAAAEAAAoAAAAAAQAABAAAAAABAAAAAAAAAAEAAAIAAAAAAQAACgAAAAABAAAEAAAAAAEAAAAAAAAAAQAAAgAAAAABAAAKAAAAAAEAAAQAAAAAAQAAAAAAAAABAAACAAAAAAEAAAoAAAAAAQAABAAAAAABAAAAAAAAAAEAAAIAAAAAAQAACAAAAAACAAACAAAAAAEAAAoAAAAAAQAABAAAAAABAAAAAAAAAAEAAAIAAAAAAQAABgAAAAABAAACAAAAAAEAAAYAAAAAAQAAAgAAAAABAAAKAAAAAAEAAAQAAAAAAQAAAAAAAAABAAACAAAAAAEAAAoAAAAAAQAABAAAAAABAAAAAAAAAAEAAAIAAAAAAQAACgAAAAABAAAEAAAAAAEAAAAAAAAAAQAAAgAAAAABAAAKAAAAAAEAAAQAAAAAAQAAAAAAAAABAAACAAAAAAEAAAoAAAAAAQAABAAAAAABAAAAAAAAAAEAAAIAAAAAAQAACgAAAAABAAAEAAAAAAEAAAAAAAAAAQAAAgAAAAABAAAKAAAAAAEAAAQAAAAAAQAAAAAAAAABAAACAAAAAAEAAAoAAAAAAQAABAAAAAABAAAAAAAAAAEAAAIAAAAAAQAACgAAAAABAAAEAAAAAAEAAAAAAAAAAQAAAgAAAAABAAAKAAAAAAEAAAQAAAAAAQAAAAAAAAABAAACAAAAAAEAAAoAAAAAAQAABAAAAAABAAAAAAAAAAEAAAIAAAAAAQAACgAAAAABAAAEAAAAAAEAAAAAAAAAAQAAAgAAAAABAAAEAAAAAAEAAAoAAAAAAQAABAAAAAABAAAAAAAAAAEAAAIAAAAAAQAACgAAAAABAAAEAAAAAAEAAAAAAAAAAQAAAgAAAAABAAAKAAAAAAEAAAQAAAAAAQAAAAAAAAABAAACAAAAAAEAAAoAAAAAAQAABAAAAAABAAAAAAAAAAEAAAIAAAAAAQAACgAAAAABAAAEAAAAAAEAAAAAAAAAAQAAAgAAAAABAAAKAAAAAAEAAAQAAAAAAQAAAAAAAAABAAACAAAAAAEAAAoAAAAAAQAABAAAAAABAAAAAAAAAAEAAAIAAAAAAQAACgAAAAABAAAEAAAAAAEAAAAAAAAAAQAAAgAAAAABAAAIAAAAAAIAAAIAAAAAAQAACgAAAAABAAAEAAAAAAEAAAAAAAAAAQAAAgAAAAABAAAGAAAAAAEAAAIAAAAAAQAACgAAAAABAAAEAAAAAAEAAAAAAAAAAQAAAgAAAAABAAAKAAAAAAEAAAQAAAAAAQAAAAAAAAABAAACAAAAAAEAAAoAAAAAAQAABAAAAAABAAAAAAAAAAEAAAIAAAAAAQAACgAAAAABAAAEAAAAAAEAAAAAAAAAAQAAAgAAAAABAAAKAAAAAAEAAAQAAAAAAQAAAAAAAAABAAACAAAAAAEAAAYAAAAAAQAAAgAAAAABAAAKAAAAAAEAAAQAAAAAAQAAAAAAAAABAAACAAAAAAEAAAoAAAAAAQAABAAAAAABAAAAAAAAAAEAAAIAAAAAAQAACgAAAAABAAAEAAAAAAEAAAAAAAAAAQAAAgAAAAABAAAEAAAAAAEAAAoAAAAAAQAABAAAAAABAAAAAAAAAAEAAAIAAAAAAQAACgAAAAABAAAEAAAAAAEAAAAAAAAAAQAAAgAAAAABAAAKAAAAAAEAAAQAAAAAAQAAAAAAAAABAAACAAAAAAEAAAgAAAAAAgAAAgAAAAABAAAEAAAAAAEAAAoAAAAAAQAABAAAAAABAAAAAAAAAAEAAAIAAAAAAQAACgAAAAABAAAEAAAAAAEAAAAAAAAAAQAAAgAAAAABAAAGAAAAAAEAAAIAAAAAAQAACgAAAAABAAAEAAAAAAEAAAAAAAAAAQAAAgAAAAABAAAKAAAAAAEAAAQAAAAAAQAAAAAAAAABAAACAAAAAAEAAAoAAAAAAQAABAAAAAABAAAAAAAAAAEAAAIAAAAAAQAACgAAAAABAAAEAAAAAAEAAAAAAAAAAQAAAgAAAAABAAAKAAAAAAEAAAQAAAAAAQAAAAAAAAABAAACAAAAAAEAAAoAAAAAAQAABAAAAAABAAAAAAAAAAEAAAIAAAAAAQAACgAAAAABAAAEAAAAAAEAAAAAAAAAAQAAAgAAAAABAAAKAAAAAAEAAAQAAAAAAQAAAAAAAAABAAACAAAAAAEAAAoAAAAAAQAABAAAAAABAAAAAAAAAAEAAAIAAAAAAQAACgAAAAABAAAEAAAAAAEAAAAAAAAAAQAAAgAAAAABAAAKAAAAAAEAAAQAAAAAAQAAAAAAAAABAAACAAAAAAEAAAoAAAAAAQAABAAAAAABAAAAAAAAAAEAAAIAAAAAAQAACgAAAAABAAAEAAAAAAEAAAAAAAAAAQAAAgAAAAABAAAKAAAAAAEAAAQAAAAAAQAAAAAAAAABAAACAAAAAAEAAAoAAAAAAQAABAAAAAABAAAAAAAAAAEAAAIAAAAAAQAACgAAAAABAAAEAAAAAAEAAAAAAAAAAQAAAgAAAAABAAAKAAAAAAEAAAQAAAAAAQAAAAAAAAABAAACAAAAAAEAAAoAAAAAAQAABAAAAAABAAAAAAAAAAEAAAIAAAAAAQAACgAAAAABAAAEAAAAAAEAAAAAAAAAAQAAAgAAAAABAAAKAAAAAAEAAAQAAAAAAQAAAAAAAAABAAACAAAAAAEAAAoAAAAAAQAABAAAAAABAAAAAAAAAAEAAAIAAAAAAQAACgAAAAABAAAEAAAAAAEAAAAAAAAAAQAAAgAAAAABAAAIAAAAAAIAAAIAAAAAAQAACgAAAAABAAAEAAAAAAEAAAAAAAAAAQAAAgAAAAABAAAKAAAAAAEAAAQAAAAAAQAAAAAAAAABAAACAAAAAAEAAAoAAAAAAQAABAAAAAABAAAAAAAAAAEAAAIAAAAAAQAACgAAAAABAAAEAAAAAAEAAAAAAAAAAQAAAgAAAAABAAAKAAAAAAEAAAQAAAAAAQAAAAAAAAABAAACAAAAAAEAAAoAAAAAAQAABAAAAAABAAAAAAAAAAEAAAIAAAAAAQAACgAAAAABAAAEAAAAAAEAAAAAAAAAAQAAAgAAAAABAAAKAAAAAAEAAAQAAAAAAQAAAAAAAAABAAACAAAAAAEAAAYAAAAAAQAAAgAAAAABAAAKAAAAAAEAAAQAAAAAAQAAAAAAAAABAAACAAAAAAEAAAoAAAAAAQAABAAAAAABAAAAAAAAAAEAAAIAAAAAAQAACgAAAAABAAAEAAAAAAEAAAAAAAAAAQAAAgAAAAABAAAKAAAAAAEAAAQAAAAAAQAAAAAAAAABAAACAAAAAAEAAAoAAAAAAQAABAAAAAABAAAAAAAAAAEAAAIAAAAAAQAACgAAAAABAAAEAAAAAAEAAAAAAAAAAQAAAgAAAAABAAAKAAAAAAEAAAQAAAAAAQAAAAAAAAABAAACAAAAAAEAAAoAAAAAAQAABAAAAAABAAAAAAAAAAEAAAIAAAAAAQAACgAAAAABAAAEAAAAAAEAAAAAAAAAAQAAAgAAAAABAAAKAAAAAAEAAAQAAAAAAQAAAAAAAAABAAACAAAAAAEAAAoAAAAAAQAABAAAAAABAAAAAAAAAAEAAAIAAAAAAQAACgAAAAABAAAEAAAAAAEAAAAAAAAAAQAAAgAAAAABAAAKAAAAAAEAAAQAAAAAAQAAAAAAAAABAAACAAAAAAEAAAoAAAAAAQAABAAAAAABAAAAAAAAAAEAAAIAAAAAAQAACgAAAAABAAAEAAAAAAEAAAAAAAAAAQAAAgAAAAABAAAKAAAAAAEAAAQAAAAAAQAAAAAAAAABAAACAAAAAAEAAAQAAAAAAQAACgAAAAABAAAEAAAAAAEAAAAAAAAAAQAAAgAAAAABAAAKAAAAAAEAAAQAAAAAAQAAAAAAAAABAAACAAAAAAEAAAoAAAAAAQAABAAAAAABAAAAAAAAAAEAAAIAAAAAAQAACgAAAAABAAAEAAAAAAEAAAAAAAAAAQAAAgAAAAABAAAKAAAAAAEAAAQAAAAAAQAAAAAAAAABAAACAAAAAAEAAAoAAAAAAQAABAAAAAABAAAAAAAAAAEAAAIAAAAAAQAACgAAAAABAAAEAAAAAAEAAAAAAAAAAQAAAgAAAAABAAAKAAAAAAEAAAQAAAAAAQAAAAAAAAABAAACAAAAAAEAAAoAAAAAAQAABAAAAAABAAAAAAAAAAEAAAIAAAAAAQAACgAAAAABAAAEAAAAAAEAAAAAAAAAAQAAAgAAAAABAAAKAAAAAAEAAAQAAAAAAQAAAAAAAAABAAACAAAAAAEAAAoAAAAAAQAABAAAAAABAAAAAAAAAAEAAAIAAAAAAQAACgAAAAABAAAEAAAAAAEAAAAAAAAAAQAAAgAAAAABAAAKAAAAAAEAAAQAAAAAAQAAAAAAAAABAAACAAAAAAEAAAoAAAAAAQAABAAAAAABAAAAAAAAAAEAAAIAAAAAAQAACgAAAAABAAAEAAAAAAEAAAAAAAAAAQAAAgAAAAABAAAIAAAAAAIAAAIAAAAAAQAACgAAAAABAAAEAAAAAAEAAAAAAAAAAQAAAgAAAAABAAAKAAAAAAEAAAQAAAAAAQAAAAAAAAABAAACAAAAAAEAAAoAAAAAAQAABAAAAAABAAAAAAAAAAEAAAIAAAAAAQAACgAAAAABAAAEAAAAAAEAAAAAAAAAAQAAAgAAAAABAAAKAAAAAAEAAAQAAAAAAQAAAAAAAAABAAACAAAAAAEAAAoAAAAAAQAABAAAAAABAAAAAAAAAAEAAAIAAAAAAQAACgAAAAABAAAEAAAAAAEAAAAAAAAAAQAAAgAAAAABAAAKAAAAAAEAAAQAAAAAAQAAAAAAAAABAAACAAAAAAEAAAYAAAAAAQAAAgAAAAABAAAKAAAAAAEAAAQAAAAAAQAAAAAAAAABAAACAAAAAAEAAAoAAAAAAQAABAAAAAABAAAAAAAAAAEAAAIAAAAAAQAACgAAAAABAAAEAAAAAAEAAAAAAAAAAQAAAgAAAAABAAAKAAAAAAEAAAQAAAAAAQAAAAAAAAABAAACAAAAAAEAAAoAAAAAAQAABAAAAAABAAAAAAAAAAEAAAIAAAAAAQAACgAAAAABAAAEAAAAAAEAAAAAAAAAAQAAAgAAAAABAAAIAAAAAAIAAAIAAAAAAQAACgAAAAABAAAEAAAAAAEAAAAAAAAAAQAAAgAAAAABAAAKAAAAAAEAAAQAAAAAAQAAAAAAAAABAAACAAAAAAEAAAoAAAAAAQAABAAAAAABAAAAAAAAAAEAAAIAAAAAAQAACgAAAAABAAAEAAAAAAEAAAAAAAAAAQAAAgAAAAABAAAKAAAAAAEAAAQAAAAAAQAAAAAAAAABAAACAAAAAAEAAAoAAAAAAQAABAAAAAABAAAAAAAAAAEAAAIAAAAAAQAACgAAAAABAAAEAAAAAAEAAAAAAAAAAQAAAgAAAAABAAAIAAAAAAIAAAIAAAAAAQAACgAAAAABAAAEAAAAAAEAAAAAAAAAAQAAAgAAAAABAAAKAAAAAAEAAAQAAAAAAQAAAAAAAAABAAACAAAAAAEAAAoAAAAAAQAABAAAAAABAAAAAAAAAAEAAAIAAAAAAQAACgAAAAABAAAEAAAAAAEAAAAAAAAAAQAAAgAAAAABAAAKAAAAAAEAAAQAAAAAAQAAAAAAAAABAAACAAAAAAEAAAoAAAAAAQAABAAAAAABAAAAAAAAAAEAAAIAAAAAAQAACgAAAAABAAAEAAAAAAEAAAAAAAAAAQAAAgAAAAABAAAKAAAAAAEAAAQAAAAAAQAAAAAAAAABAAACAAAAAAEAAAoAAAAAAQAABAAAAAABAAAAAAAAAAEAAAIAAAAAAQAACgAAAAABAAAEAAAAAAEAAAAAAAAAAQAAAgAAAAABAAAKAAAAAAEAAAQAAAAAAQAAAAAAAAABAAACAAAAAAEAAAoAAAAAAQAABAAAAAABAAAAAAAAAAEAAAIAAAAAAQAACgAAAAABAAAEAAAAAAEAAAAAAAAAAQAAAgAAAAABAAAKAAAAAAEAAAQAAAAAAQAAAAAAAAABAAACAAAAAAEAAAoAAAAAAQAABAAAAAABAAAAAAAAAAEAAAIAAAAAAQAABgAAAAABAAACAAAAABxzdHNjAAAAAAAAAAEAAAABAAAElAAAAAEAABJkc3RzegAAAAAAAAAAAAAElAAACOYAAACtAAAAOQAAADkAAACWAAAAQQAAALcAAAA5AAAAPwAAAL0AAABgAAAAUwAAAEwAAADSAAAAVAAAANQAAABaAAAATQAAAMkAAAEnAAAAzAAAAJ4AAACYAAABUAAAAJgAAACiAAABeAAAAPwAAACiAAAAvQAAAacAAAEcAAAAxgAAANcAAAFDAAAA3QAAAMUAAADMAAABXAAAAOMAAADsAAABfQAAAPoAAADKAAAA2AAAAYAAAAC+AAAAyQAAAM0AAAEKAAAA4QAAAKAAAADXAAABFgAAAVUAAADwAAAAvgAAAMQAAAFfAAAA4AAAAKgAAADgAAABSQAAANYAAAFnAAABCAAAAOkAAAESAAABtQAAARIAAAENAAABIgAAASsAAAD1AAABBwAAAUgAAAEXAAAAzAAAAMkAAAFLAAAAvAAAANMAAADIAAABRgAAANMAAADAAAAA3gAAAS8AAADwAAAAwQAAAOAAAAEKAAAA/AAAAL8AAADLAAABOwAAAPgAAADVAAAAxAAAAPMAAADfAAAAuQAAAJYAAAD6AAAArwAAAI4AAACOAAABDwAAANsAAACsAAAA2AAAAUgAAADdAAAAxwAAANsAAAEaAAAA+AAAALUAAACyAAAAzgAAALkAAACcAAAAkgAAAPYAAADLAAAAswAAAKkAAAD5AAAAxwAAALIAAAC4AAABDAAAAJ0AAADSAAAA0gAAAT0AAAC4AAAAowAAAIsAAADgAAAAsAAAAJgAAABzAAAA3gAAAJwAAAB5AAAAjwAAANwAAACkAAAAlwAAAJoAAADfAAAArAAAAKIAAADBAAABEQAAANIAAAChAAAAkAAAANQAAAD1AAAAsgAAALsAAAD3AAAAtwAAAJQAAACLAAABCAAAAK8AAACJAAAAogAAAQoAAAC7AAAAkgAAAJwAAAD1AAAA0wAAAJEAAACxAAABBQAAANQAAACFAAAArgAAAK0AAAC3AAAAkwAAAJcAAACwAAAAlwAAAIEAAAB3AAAA2QAAAJMAAACFAAAAbQAAANMAAACvAAAAgQAAAIQAAADuAAAAjwAAAGMAAAB4AAAAtwAAAKcAAACjAAAAcAAAAPcAAACTAAAAWQAAAIgAAADFAAAAagAAAHIAAABOAAAAxgAAAHUAAABjAAAAUwAAAPkAAAByAAAAmwAAAHcAAAD/AAAAmQAAAI8AAAB3AAAAqgAAAFkAAABWAAAAUQAAAH0AAABBAAAAOgAAACsAAABJAAAAMwAAACoAAAAmAAAAGwAAAC0AAAAmAAAAJgAAABsAAAAtAAAAJgAAACYAAAAbAAAAJgAAACAAAAc3AAAARgAAAC0AAAAhAAAAHQAAACUAAAAjAAAAGwAAABYAAASFAAAANwAAADEAAAEhAAAAagAAAGkAAABHAAABJAAAAGkAAABTAAABGgAAAJ0AAACLAAAA+gAAAMAAAADFAAABNwAAAOkAAADRAAAApwAAAR4AAADqAAABNgAAAOEAAADKAAABTwAAAOsAAADeAAAApgAAASwAAADFAAAAxQAAAM4AAAEYAAAAwAAAALcAAACsAAAA+wAAAK4AAADDAAAAywAAAPgAAADMAAAA/wAAALAAAAFBAAAAywAAANYAAADkAAABRQAAAMgAAADJAAAAsgAAAS0AAADiAAAA4QAAAM8AAAFXAAAA8AAAALEAAADGAAABUQAAARgAAADSAAAA0AAAAWwAAADjAAAAygAAAPIAAAGAAAAA+wAAAMoAAACfAAABaAAAAN4AAACcAAAA4QAAAUwAAADfAAAAwwAAAMEAAAEvAAAAyQAAANgAAACtAAABGAAAALkAAAC8AAAAngAAAVMAAADWAAAArQAAALoAAAEoAAAA6QAAAK8AAADJAAAA6gAAAMMAAACvAAAAcwAAASgAAADQAAAAnQAAAM8AAAELAAAA9wAAAMcAAADVAAAAyAAAAOQAAADOAAAAmAAAAL0AAACzAAAAiAAAAJIAAADKAAAAjQAAALMAAACSAAAA+wAAAMEAAACFAAAAmgAAAOgAAACHAAAAcgAAAHEAAADlAAAAvAAAAKkAAACeAAABAQAAAIsAAABgAAAAdwAAANUAAACZAAAAgAAAAGwAAAD6AAAAagAAAFwAAADiAAAAagAAAGwAAAB7AAABAgAAAMMAAACxAAAAmgAAAOYAAAClAAAAfAAAAHsAAAEbAAAA2AAAAGsAAACoAAAA2wAAALQAAACLAAAAigAAAJsAAABpAAAARwAAAOUAAACMAAAAdQAAAHEAAAEEAAAAagAAARkAAABQAAAAXAAAAG4AAAEgAAAAuQAAAIgAAACEAAAAtgAAAG8AAABwAAAATQAAADcAAAAzAAAAIwAAACEAAAAeAAAALAAAACAAAAAgAAAAIgAAACwAAAAgAAAAIQAAACMAAAAsAAAAIQAAACAAAAAbAAAALAAAACAAAAAgAAAAGwAAACwAAAAgAAAAIAAABbUAAAB3AAAAQgAAAFIAAAEfAAAAdQAAAGgAAABtAAAAvwAAAGUAAABOAAAAVwAAARIAAABrAAAAVwAAAFsAAAEeAAAAsAAAAIwAAAC8AAAA4gAAAMMAAAC5AAAAyAAAASwAAADVAAAA0wAAAMoAAAEwAAABBQAAAN0AAAD3AAAKJgAAAVYAAADPAAAAzwAAAMQAAADUAAAAyAAAAOcAAACpAAAA3QAAAKoAAAEyAAAApwAAAJUAAAC2AAABWAAAALwAAADNAAAArAAAAR0AAACxAAAAzQAAAJsAAADuAAAApgAAAJYAAACfAAABIAAAAI0AAACoAAAAlQAAAREAAADwAAAAwAAAAMwAAAEQAAAA2QAAAKcAAADJAAAA2QAAALwAAADhAAAAxwAAAMkAAACuAAAAvwAAAI8AAAEdAAAAxgAAAIAAAACpAAABOAAAAJUAAACUAAAAjwAAAPEAAACkAAAAugAAAHwAAADaAAAAlwAAAIEAAAB0AAAA4gAAAIgAAACAAAAAogAAAO0AAACfAAAAkAAAAI8AAAE/AAAArQAAAHYAAACrAAABBwAAAOQAAACxAAAApQAAAOEAAAC/AAAArgAAALMAAACuAAAAqQAAALwAAACjAAAA7wAAALcAAACOAAAAigAAAQYAAADNAAAAjAAAAIIAAAEPAAAAogAAAI8AAABwAAABHAAAAHAAAAB6AAABLAAAAMgAAACVAAAAhgAAAOYAAABtAAAA6wAAAGkAAAEDAAAAsAAAAJUAAACqAAAA/gAAAH8AAABkAAAAfAAAAO4AAACxAAAAjQAAAHYAAAEHAAAAeQAAADkAAAA/AAABBAAAAGgAAABTAAAAXgAAAQoAAAC7AAAAVwAAAGgAAAEfAAAAsAAAAIMAAACwAAABIwAAAGcAAAByAAAAPwAAALwAAAByAAAASgAAAG0AAAEAAAAAbwAAAGwAAACGAAABEwAAAGgAAAB8AAAAnAAAASgAAACdAAAAdAAAAJMAAACuAAAAkQAAAHQAAACPAAAATAAAADUAAAAqAAAANAAAAB4AAAAeAAAAIwAAAB4AAAAdAAAAGwAAACEAAAAdAAAAHQAAABsAAAAhAAAAHQAAAB0AAAAbAAAAIQAAAB0AAAAdAAAEYAAAAEQAAAAkAAAAMgAAATsAAAB3AAAAcAAAAFcAAAFhAAAAmQAAAJUAAAEgAAAA2QAAAKMAAAC6AAABGAAAAHwAAADoAAAAxAAAAIgAAACJAAABMgAAALYAAAC0AAAArgAAAV4AAADaAAAA9gAAAPgAAAD2AAABDAAAAO8AAADjAAAA+QAAAO0AAACuAAAAngAAASkAAACaAAAA0QAAALYAAACCAAAAnQAAAO0AAACkAAAAfwAAALkAAADvAAAAuwAAALwAAACZAAAAuwAAAPUAAACbAAAAgQAAAI0AAAElAAAAzgAAAMsAAADRAAABFgAAAMsAAADGAAAApQAAAKwAAADCAAAApgAACNsAAADyAAAAzQAAAKAAAAC+AAAA0gAAALIAAAC5AAAAngAAANkAAACfAAABWwAAANAAAAChAAAAzwAAAOUAAADDAAAAuQAAAMIAAADmAAAAlgAAAKgAAAC0AAAA5gAAAJQAAABVAAAAmAAAAQ8AAACRAAAAmQAAAJwAAADHAAAAnQAAAIAAAACBAAABLAAAALAAAACfAAAAzAAAAOoAAAC8AAAAsgAAAJcAAAC8AAAAeQAAAJUAAAB9AAAA6gAAAJAAAACGAAAAegAAANEAAACtAAAAkAAAAIwAAAEIAAAAugAAAKsAAACRAAABBwAAAMMAAAC3AAAAiAAAAR4AAACuAAAAgwAAAI4AAAEzAAAA4wAAAJwAAACUAAABFQAAANUAAACzAAAAmgAAARcAAACwAAAArQAAAHwAAAEGAAAArgAAAKoAAACrAAABNQAAAKsAAACTAAAAfwAAARAAAADAAAAAlgAAAG8AAADeAAAAiAAAAGwAAAB0AAAA3AAAAJoAAABgAAAAXAAAAMwAAABvAAAAgwAAAOcAAACHAAAAdAAAAGcAAAEcAAAAjwAAAIEAAAB+AAAAywAAAIcAAABcAAAAYQAAALIAAABjAAAAWAAAAEEAAADpAAAAkAAAAFcAAABrAAAA9QAAALAAAACPAAAAdgAAAP0AAACoAAAAhQAAAHkAAAERAAAAwwAAAHgAAAB+AAABIwAAAIwAAAFzAAAAmgAAAGIAAAB5AAAA/AAAAIkAAACHAAAAYQAAAP8AAACNAAAAYgAAAIEAAADnAAAAXwAAAIcAAAA+AAAAyQAAAFAAAABWAAAASQAAAJ0AAAA8AAAAPwAAACkAAAC6AAAAMgAAACwAAAAkAAAAgAAAAC4AAAAiAAAAJAAAAIYAAAAuAAAAJAAAACYAAABbAAAAKwAAACIAAAAiAAAAIAAAACUAAAAeAAAAHQAAAB8AAAAlAAAAHQAAABwAAAAbAAAAIwAAABwAAAAcAAAAGwAAACMAAAAcAAAAHAAAAB4AAAAlAAAAHQAAABwAAAAfAAAAJAAAAB0AAAAcAAAIAAAAAJcAAAAvAAAANAAAACUAAAC0AAAAPwAAADQAAAAsAAAAsgAAADYAAAA3AAAAPQAAAPMAAAA5AAAAQgAAAFIAAADsAAAAYgAAAGIAAABrAAABIQAAAIoAAABRAAAAggAAATkAAADBAAAAvQAAAMkAAAD7AAAAiAAAAMAAAADGAAABPwAAAMcAAACzAAAAvwAAAQQAAAEEAAAAvgAAAMwAAAFEAAAA7wAAAIMAAACvAAAA6gAAAMcAAACPAAAAsQAAAQEAAACwAAAAowAAALoAAADxAAAA3wAAAKsAAAC8AAAA/AAAAPQAAAC9AAAAuAAAARMAAACmAAAAowAAAJUAAAEMAAAApwAAAK4AAADqAAAAvAAAAHsAAACMAAABBgAAAMIAAACuAAAAowAAAOMAAACzAAAAjgAAAIEAAAElAAAAlAAAAHEAAABwAAAA8wAAAJwAAACpAAAArQAAAQ8AAACyAAAAhgAAALMAAAETAAAAvwAAALoAAACyAAABNAAAAKQAAACrAAAAjAAAAMQAAACUAAAAxQAAALcAAACEAAAAfQAAAMUAAAC+AAAArQAAAMcAAADjAAAAjAAAAIwAAACQAAABGAAAAJUAAACKAAAApgAAAN0AAACeAAAAdgAAAKcAAAD7AAAAwAAAAKgAAACkAAAA2AAAAJAAAAB1AAAA1QAAAMQAAAB0AAAAZwAAARYAAADkAAAAhwAAAMEAAAEnAAAAzwAAALwAAACPAAABAAAAAI4AAAByAAAAlAAAARAAAACPAAAAWwAAAHoAAADLAAAAggAAAFkAAAB0AAAA0QAAAJ0AAACoAAAAhQAAAKoAAAB4AAAAcwAAAPoAAAB0AAAAMwAAAEoAAADSAAAAZgAAAD0AAABJAAAA7wAAAJkAAABmAAAAcAAAAMYAAABeAAAAVgAAAC8AAACdAAAAKAAAAB0AAAAgAAAAtwAAAFgAAABHAAAASAAAAJkAAAAkAAAALgAAAB8AAACRAAAAJQAAABsAAAAhAAAAogAAADEAAAAhAAAAQgAAAF8AAAA+AAAANQAAADYAAAAoAAAAIwAAAB8AAAAYAAAAGwAAABsAAAAYAAAAGAAAABsAAAAbAAAAGAAAABgAAAAaAAAAGwAAABgAAAAYAAAAGwAAABsAAAAYAAAAGAAAABwAAAAZAAAAFHN0Y28AAAAAAAAAAQAAADAAAABidWR0YQAAAFptZXRhAAAAAAAAACFoZGxyAAAAAAAAAABtZGlyYXBwbAAAAAAAAAAAAAAAAC1pbHN0AAAAJal0b28AAAAdZGF0YQAAAAEAAAAATGF2ZjU4LjI5LjEwMA==\" type=\"video/mp4\">\n",
              "  Your browser does not support the video tag.\n",
              "  </video>"
            ],
            "text/plain": [
              "<IPython.core.display.HTML object>"
            ]
          },
          "execution_count": 80,
          "metadata": {},
          "output_type": "execute_result"
        }
      ],
      "source": [
        "def create_policy_eval_video(policy, filename, num_episodes=5, fps=30):\n",
        "  filename = filename + \".mp4\"\n",
        "  with imageio.get_writer(filename, fps=fps) as video:\n",
        "    for _ in range(num_episodes):\n",
        "      time_step = eval_env.reset()\n",
        "      video.append_data(eval_py_env.render())\n",
        "      while not time_step.is_last():\n",
        "        action_step = policy.action(time_step)\n",
        "        time_step = eval_env.step(action_step.action)\n",
        "        video.append_data(eval_py_env.render())\n",
        "  return embed_mp4(filename)\n",
        "\n",
        "create_policy_eval_video(agent.policy, \"trained-agent\")"
      ]
    },
    {
      "cell_type": "markdown",
      "metadata": {
        "id": "povaAOcZygLw"
      },
      "source": [
        "For fun, compare the trained agent (above) to an agent moving randomly. (It does not do as well.)"
      ]
    },
    {
      "cell_type": "code",
      "execution_count": 81,
      "metadata": {
        "id": "pJZIdC37yNH4"
      },
      "outputs": [],
      "source": [
        "# create_policy_eval_video(random_policy, \"random-agent\")"
      ]
    }
  ],
  "metadata": {
    "colab": {
      "collapsed_sections": [],
      "name": "DDQN + fNIRS - LunarLander - 20220410.ipynb",
      "provenance": []
    },
    "interpreter": {
      "hash": "749dcd1921d1e0edd697867eb20c511ad6f420d89a5cfbdb435c41360f4231df"
    },
    "kernelspec": {
      "display_name": "Python 3.9.9 64-bit ('RLenv': venv)",
      "language": "python",
      "name": "python3"
    },
    "language_info": {
      "codemirror_mode": {
        "name": "ipython",
        "version": 3
      },
      "file_extension": ".py",
      "mimetype": "text/x-python",
      "name": "python",
      "nbconvert_exporter": "python",
      "pygments_lexer": "ipython3",
      "version": "3.9.9"
    },
    "pycharm": {
      "stem_cell": {
        "cell_type": "raw",
        "metadata": {
          "collapsed": false
        },
        "source": []
      }
    }
  },
  "nbformat": 4,
  "nbformat_minor": 0
}
